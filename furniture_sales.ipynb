{
    "metadata": {
        "kernelspec": {
            "name": "SQL",
            "display_name": "SQL",
            "language": "sql"
        },
        "language_info": {
            "name": "sql",
            "version": ""
        }
    },
    "nbformat_minor": 2,
    "nbformat": 4,
    "cells": [
        {
            "cell_type": "code",
            "source": [
                "SELECT \n",
                "    YEAR(order_date) AS Year,\n",
                "    MONTH(order_date) AS Month,\n",
                "    round(SUM(total_sales),2) AS TotalSales\n",
                "FROM \n",
                "    [dbo].[Sales]\n",
                "WHERE \n",
                "    category = 'Furniture'\n",
                "GROUP BY \n",
                "    YEAR(order_date), MONTH(order_date)\n",
                "ORDER BY \n",
                "    YEAR(order_date), MONTH(order_date);"
            ],
            "metadata": {
                "azdata_cell_guid": "40ec2970-32cd-4a41-97a2-793af3d74786",
                "language": "sql"
            },
            "outputs": [
                {
                    "output_type": "display_data",
                    "data": {
                        "text/html": "(48 rows affected)"
                    },
                    "metadata": {}
                },
                {
                    "output_type": "display_data",
                    "data": {
                        "text/html": "Total execution time: 00:00:00.033"
                    },
                    "metadata": {}
                },
                {
                    "output_type": "execute_result",
                    "execution_count": 2,
                    "data": {
                        "application/vnd.dataresource+json": {
                            "schema": {
                                "fields": [
                                    {
                                        "name": "Year"
                                    },
                                    {
                                        "name": "Month"
                                    },
                                    {
                                        "name": "TotalSales"
                                    }
                                ]
                            },
                            "data": [
                                {
                                    "Year": "2014",
                                    "Month": "1",
                                    "TotalSales": "6242.52"
                                },
                                {
                                    "Year": "2014",
                                    "Month": "2",
                                    "TotalSales": "1839.66"
                                },
                                {
                                    "Year": "2014",
                                    "Month": "3",
                                    "TotalSales": "14573.96"
                                },
                                {
                                    "Year": "2014",
                                    "Month": "4",
                                    "TotalSales": "7944.84"
                                },
                                {
                                    "Year": "2014",
                                    "Month": "5",
                                    "TotalSales": "6912.79"
                                },
                                {
                                    "Year": "2014",
                                    "Month": "6",
                                    "TotalSales": "13206.13"
                                },
                                {
                                    "Year": "2014",
                                    "Month": "7",
                                    "TotalSales": "10821.05"
                                },
                                {
                                    "Year": "2014",
                                    "Month": "8",
                                    "TotalSales": "7320.35"
                                },
                                {
                                    "Year": "2014",
                                    "Month": "9",
                                    "TotalSales": "23816.48"
                                },
                                {
                                    "Year": "2014",
                                    "Month": "10",
                                    "TotalSales": "12304.25"
                                },
                                {
                                    "Year": "2014",
                                    "Month": "11",
                                    "TotalSales": "21564.87"
                                },
                                {
                                    "Year": "2014",
                                    "Month": "12",
                                    "TotalSales": "30645.97"
                                },
                                {
                                    "Year": "2015",
                                    "Month": "1",
                                    "TotalSales": "11739.94"
                                },
                                {
                                    "Year": "2015",
                                    "Month": "2",
                                    "TotalSales": "3134.37"
                                },
                                {
                                    "Year": "2015",
                                    "Month": "3",
                                    "TotalSales": "12499.78"
                                },
                                {
                                    "Year": "2015",
                                    "Month": "4",
                                    "TotalSales": "10475.7"
                                },
                                {
                                    "Year": "2015",
                                    "Month": "5",
                                    "TotalSales": "9374.95"
                                },
                                {
                                    "Year": "2015",
                                    "Month": "6",
                                    "TotalSales": "7714.18"
                                },
                                {
                                    "Year": "2015",
                                    "Month": "7",
                                    "TotalSales": "13674.42"
                                },
                                {
                                    "Year": "2015",
                                    "Month": "8",
                                    "TotalSales": "9638.59"
                                },
                                {
                                    "Year": "2015",
                                    "Month": "9",
                                    "TotalSales": "26273.02"
                                },
                                {
                                    "Year": "2015",
                                    "Month": "10",
                                    "TotalSales": "12026.62"
                                },
                                {
                                    "Year": "2015",
                                    "Month": "11",
                                    "TotalSales": "30880.83"
                                },
                                {
                                    "Year": "2015",
                                    "Month": "12",
                                    "TotalSales": "23085.82"
                                },
                                {
                                    "Year": "2016",
                                    "Month": "1",
                                    "TotalSales": "7622.74"
                                },
                                {
                                    "Year": "2016",
                                    "Month": "2",
                                    "TotalSales": "3925.55"
                                },
                                {
                                    "Year": "2016",
                                    "Month": "3",
                                    "TotalSales": "12801.09"
                                },
                                {
                                    "Year": "2016",
                                    "Month": "4",
                                    "TotalSales": "13212.09"
                                },
                                {
                                    "Year": "2016",
                                    "Month": "5",
                                    "TotalSales": "15119.84"
                                },
                                {
                                    "Year": "2016",
                                    "Month": "6",
                                    "TotalSales": "13070.57"
                                },
                                {
                                    "Year": "2016",
                                    "Month": "7",
                                    "TotalSales": "13068.52"
                                },
                                {
                                    "Year": "2016",
                                    "Month": "8",
                                    "TotalSales": "12483.23"
                                },
                                {
                                    "Year": "2016",
                                    "Month": "9",
                                    "TotalSales": "27262.88"
                                },
                                {
                                    "Year": "2016",
                                    "Month": "10",
                                    "TotalSales": "11872.58"
                                },
                                {
                                    "Year": "2016",
                                    "Month": "11",
                                    "TotalSales": "31783.63"
                                },
                                {
                                    "Year": "2016",
                                    "Month": "12",
                                    "TotalSales": "36678.71"
                                },
                                {
                                    "Year": "2017",
                                    "Month": "1",
                                    "TotalSales": "5964.03"
                                },
                                {
                                    "Year": "2017",
                                    "Month": "2",
                                    "TotalSales": "6866.34"
                                },
                                {
                                    "Year": "2017",
                                    "Month": "3",
                                    "TotalSales": "10893.44"
                                },
                                {
                                    "Year": "2017",
                                    "Month": "4",
                                    "TotalSales": "9065.96"
                                },
                                {
                                    "Year": "2017",
                                    "Month": "5",
                                    "TotalSales": "16957.56"
                                },
                                {
                                    "Year": "2017",
                                    "Month": "6",
                                    "TotalSales": "19008.59"
                                },
                                {
                                    "Year": "2017",
                                    "Month": "7",
                                    "TotalSales": "11813.02"
                                },
                                {
                                    "Year": "2017",
                                    "Month": "8",
                                    "TotalSales": "15441.87"
                                },
                                {
                                    "Year": "2017",
                                    "Month": "9",
                                    "TotalSales": "29028.21"
                                },
                                {
                                    "Year": "2017",
                                    "Month": "10",
                                    "TotalSales": "21884.07"
                                },
                                {
                                    "Year": "2017",
                                    "Month": "11",
                                    "TotalSales": "37056.71"
                                },
                                {
                                    "Year": "2017",
                                    "Month": "12",
                                    "TotalSales": "31407.47"
                                }
                            ]
                        },
                        "text/html": "<table><tr><th>Year</th><th>Month</th><th>TotalSales</th></tr><tr><td>2014</td><td>1</td><td>6242.52</td></tr><tr><td>2014</td><td>2</td><td>1839.66</td></tr><tr><td>2014</td><td>3</td><td>14573.96</td></tr><tr><td>2014</td><td>4</td><td>7944.84</td></tr><tr><td>2014</td><td>5</td><td>6912.79</td></tr><tr><td>2014</td><td>6</td><td>13206.13</td></tr><tr><td>2014</td><td>7</td><td>10821.05</td></tr><tr><td>2014</td><td>8</td><td>7320.35</td></tr><tr><td>2014</td><td>9</td><td>23816.48</td></tr><tr><td>2014</td><td>10</td><td>12304.25</td></tr><tr><td>2014</td><td>11</td><td>21564.87</td></tr><tr><td>2014</td><td>12</td><td>30645.97</td></tr><tr><td>2015</td><td>1</td><td>11739.94</td></tr><tr><td>2015</td><td>2</td><td>3134.37</td></tr><tr><td>2015</td><td>3</td><td>12499.78</td></tr><tr><td>2015</td><td>4</td><td>10475.7</td></tr><tr><td>2015</td><td>5</td><td>9374.95</td></tr><tr><td>2015</td><td>6</td><td>7714.18</td></tr><tr><td>2015</td><td>7</td><td>13674.42</td></tr><tr><td>2015</td><td>8</td><td>9638.59</td></tr><tr><td>2015</td><td>9</td><td>26273.02</td></tr><tr><td>2015</td><td>10</td><td>12026.62</td></tr><tr><td>2015</td><td>11</td><td>30880.83</td></tr><tr><td>2015</td><td>12</td><td>23085.82</td></tr><tr><td>2016</td><td>1</td><td>7622.74</td></tr><tr><td>2016</td><td>2</td><td>3925.55</td></tr><tr><td>2016</td><td>3</td><td>12801.09</td></tr><tr><td>2016</td><td>4</td><td>13212.09</td></tr><tr><td>2016</td><td>5</td><td>15119.84</td></tr><tr><td>2016</td><td>6</td><td>13070.57</td></tr><tr><td>2016</td><td>7</td><td>13068.52</td></tr><tr><td>2016</td><td>8</td><td>12483.23</td></tr><tr><td>2016</td><td>9</td><td>27262.88</td></tr><tr><td>2016</td><td>10</td><td>11872.58</td></tr><tr><td>2016</td><td>11</td><td>31783.63</td></tr><tr><td>2016</td><td>12</td><td>36678.71</td></tr><tr><td>2017</td><td>1</td><td>5964.03</td></tr><tr><td>2017</td><td>2</td><td>6866.34</td></tr><tr><td>2017</td><td>3</td><td>10893.44</td></tr><tr><td>2017</td><td>4</td><td>9065.96</td></tr><tr><td>2017</td><td>5</td><td>16957.56</td></tr><tr><td>2017</td><td>6</td><td>19008.59</td></tr><tr><td>2017</td><td>7</td><td>11813.02</td></tr><tr><td>2017</td><td>8</td><td>15441.87</td></tr><tr><td>2017</td><td>9</td><td>29028.21</td></tr><tr><td>2017</td><td>10</td><td>21884.07</td></tr><tr><td>2017</td><td>11</td><td>37056.71</td></tr><tr><td>2017</td><td>12</td><td>31407.47</td></tr></table>"
                    },
                    "metadata": {
                        "azdata_chartOptions": {
                            "type": "line",
                            "dataDirection": "vertical",
                            "columnsAsLabels": true,
                            "labelFirstColumn": false,
                            "legendPosition": "none",
                            "yAxisLabel": "Toal Sales",
                            "xAxisLabel": "Order Date",
                            "dataType": "number"
                        }
                    }
                }
            ],
            "execution_count": 2
        },
        {
            "cell_type": "code",
            "source": [
                "WITH SalesByMonth AS (\r\n",
                "    SELECT \r\n",
                "        YEAR(order_date) AS Year,\r\n",
                "        MONTH(order_date) AS Month,\r\n",
                "        DATEFROMPARTS(YEAR(order_date), MONTH(order_date), 1) AS SalesMonth,\r\n",
                "        SUM(total_sales) AS TotalSales\r\n",
                "    FROM \r\n",
                "        [dbo].[Sales]\r\n",
                "    WHERE \r\n",
                "        category = 'Furniture'\r\n",
                "    GROUP BY \r\n",
                "        YEAR(order_date), MONTH(order_date)\r\n",
                ")\r\n",
                "SELECT \r\n",
                "    SalesMonth,\r\n",
                "    SUM(TotalSales) OVER (\r\n",
                "        ORDER BY SalesMonth \r\n",
                "        ROWS BETWEEN 11 PRECEDING AND CURRENT ROW\r\n",
                "    ) AS Rolling12MonthSales\r\n",
                "FROM \r\n",
                "    SalesByMonth\r\n",
                "ORDER BY \r\n",
                "    SalesMonth;"
            ],
            "metadata": {
                "azdata_cell_guid": "3d2c36ec-b646-4946-b5b1-6d1ec603360f",
                "language": "sql"
            },
            "outputs": [
                {
                    "output_type": "display_data",
                    "data": {
                        "text/html": "(48 rows affected)"
                    },
                    "metadata": {}
                },
                {
                    "output_type": "display_data",
                    "data": {
                        "text/html": "Total execution time: 00:00:00.012"
                    },
                    "metadata": {}
                },
                {
                    "output_type": "execute_result",
                    "execution_count": 3,
                    "data": {
                        "application/vnd.dataresource+json": {
                            "schema": {
                                "fields": [
                                    {
                                        "name": "SalesMonth"
                                    },
                                    {
                                        "name": "Rolling12MonthSales"
                                    }
                                ]
                            },
                            "data": [
                                {
                                    "SalesMonth": "2014-01-01",
                                    "Rolling12MonthSales": "6242.525"
                                },
                                {
                                    "SalesMonth": "2014-02-01",
                                    "Rolling12MonthSales": "8082.183"
                                },
                                {
                                    "SalesMonth": "2014-03-01",
                                    "Rolling12MonthSales": "22656.139"
                                },
                                {
                                    "SalesMonth": "2014-04-01",
                                    "Rolling12MonthSales": "30600.976000000002"
                                },
                                {
                                    "SalesMonth": "2014-05-01",
                                    "Rolling12MonthSales": "37513.763000000006"
                                },
                                {
                                    "SalesMonth": "2014-06-01",
                                    "Rolling12MonthSales": "50719.888600000006"
                                },
                                {
                                    "SalesMonth": "2014-07-01",
                                    "Rolling12MonthSales": "61540.939600000005"
                                },
                                {
                                    "SalesMonth": "2014-08-01",
                                    "Rolling12MonthSales": "68861.2861"
                                },
                                {
                                    "SalesMonth": "2014-09-01",
                                    "Rolling12MonthSales": "92677.7669"
                                },
                                {
                                    "SalesMonth": "2014-10-01",
                                    "Rolling12MonthSales": "104982.0139"
                                },
                                {
                                    "SalesMonth": "2014-11-01",
                                    "Rolling12MonthSales": "126546.8866"
                                },
                                {
                                    "SalesMonth": "2014-12-01",
                                    "Rolling12MonthSales": "157192.8531"
                                },
                                {
                                    "SalesMonth": "2015-01-01",
                                    "Rolling12MonthSales": "162690.2697"
                                },
                                {
                                    "SalesMonth": "2015-02-01",
                                    "Rolling12MonthSales": "163984.98570000002"
                                },
                                {
                                    "SalesMonth": "2015-03-01",
                                    "Rolling12MonthSales": "161910.8127"
                                },
                                {
                                    "SalesMonth": "2015-04-01",
                                    "Rolling12MonthSales": "164441.6742"
                                },
                                {
                                    "SalesMonth": "2015-05-01",
                                    "Rolling12MonthSales": "166903.8377"
                                },
                                {
                                    "SalesMonth": "2015-06-01",
                                    "Rolling12MonthSales": "161411.8911"
                                },
                                {
                                    "SalesMonth": "2015-07-01",
                                    "Rolling12MonthSales": "164265.2601"
                                },
                                {
                                    "SalesMonth": "2015-08-01",
                                    "Rolling12MonthSales": "166583.5058"
                                },
                                {
                                    "SalesMonth": "2015-09-01",
                                    "Rolling12MonthSales": "169040.048"
                                },
                                {
                                    "SalesMonth": "2015-10-01",
                                    "Rolling12MonthSales": "168762.42449999996"
                                },
                                {
                                    "SalesMonth": "2015-11-01",
                                    "Rolling12MonthSales": "178078.38429999995"
                                },
                                {
                                    "SalesMonth": "2015-12-01",
                                    "Rolling12MonthSales": "170518.2369999999"
                                },
                                {
                                    "SalesMonth": "2016-01-01",
                                    "Rolling12MonthSales": "166401.03839999993"
                                },
                                {
                                    "SalesMonth": "2016-02-01",
                                    "Rolling12MonthSales": "167192.2153999999"
                                },
                                {
                                    "SalesMonth": "2016-03-01",
                                    "Rolling12MonthSales": "167493.5243999999"
                                },
                                {
                                    "SalesMonth": "2016-04-01",
                                    "Rolling12MonthSales": "170229.91589999993"
                                },
                                {
                                    "SalesMonth": "2016-05-01",
                                    "Rolling12MonthSales": "175974.80039999995"
                                },
                                {
                                    "SalesMonth": "2016-06-01",
                                    "Rolling12MonthSales": "181331.19339999993"
                                },
                                {
                                    "SalesMonth": "2016-07-01",
                                    "Rolling12MonthSales": "180725.2923999999"
                                },
                                {
                                    "SalesMonth": "2016-08-01",
                                    "Rolling12MonthSales": "183569.93249999988"
                                },
                                {
                                    "SalesMonth": "2016-09-01",
                                    "Rolling12MonthSales": "184559.79039999988"
                                },
                                {
                                    "SalesMonth": "2016-10-01",
                                    "Rolling12MonthSales": "184405.74389999988"
                                },
                                {
                                    "SalesMonth": "2016-11-01",
                                    "Rolling12MonthSales": "185308.54019999993"
                                },
                                {
                                    "SalesMonth": "2016-12-01",
                                    "Rolling12MonthSales": "198901.436"
                                },
                                {
                                    "SalesMonth": "2017-01-01",
                                    "Rolling12MonthSales": "197242.72499999998"
                                },
                                {
                                    "SalesMonth": "2017-02-01",
                                    "Rolling12MonthSales": "200183.51139999996"
                                },
                                {
                                    "SalesMonth": "2017-03-01",
                                    "Rolling12MonthSales": "198275.8641999999"
                                },
                                {
                                    "SalesMonth": "2017-04-01",
                                    "Rolling12MonthSales": "194129.73229999992"
                                },
                                {
                                    "SalesMonth": "2017-05-01",
                                    "Rolling12MonthSales": "195967.45549999987"
                                },
                                {
                                    "SalesMonth": "2017-06-01",
                                    "Rolling12MonthSales": "201905.47019999987"
                                },
                                {
                                    "SalesMonth": "2017-07-01",
                                    "Rolling12MonthSales": "200649.9731999999"
                                },
                                {
                                    "SalesMonth": "2017-08-01",
                                    "Rolling12MonthSales": "203608.61489999987"
                                },
                                {
                                    "SalesMonth": "2017-09-01",
                                    "Rolling12MonthSales": "205373.9399999999"
                                },
                                {
                                    "SalesMonth": "2017-10-01",
                                    "Rolling12MonthSales": "215385.43119999988"
                                },
                                {
                                    "SalesMonth": "2017-11-01",
                                    "Rolling12MonthSales": "220658.51739999984"
                                },
                                {
                                    "SalesMonth": "2017-12-01",
                                    "Rolling12MonthSales": "215387.26919999975"
                                }
                            ]
                        },
                        "text/html": "<table><tr><th>SalesMonth</th><th>Rolling12MonthSales</th></tr><tr><td>2014-01-01</td><td>6242.525</td></tr><tr><td>2014-02-01</td><td>8082.183</td></tr><tr><td>2014-03-01</td><td>22656.139</td></tr><tr><td>2014-04-01</td><td>30600.976000000002</td></tr><tr><td>2014-05-01</td><td>37513.763000000006</td></tr><tr><td>2014-06-01</td><td>50719.888600000006</td></tr><tr><td>2014-07-01</td><td>61540.939600000005</td></tr><tr><td>2014-08-01</td><td>68861.2861</td></tr><tr><td>2014-09-01</td><td>92677.7669</td></tr><tr><td>2014-10-01</td><td>104982.0139</td></tr><tr><td>2014-11-01</td><td>126546.8866</td></tr><tr><td>2014-12-01</td><td>157192.8531</td></tr><tr><td>2015-01-01</td><td>162690.2697</td></tr><tr><td>2015-02-01</td><td>163984.98570000002</td></tr><tr><td>2015-03-01</td><td>161910.8127</td></tr><tr><td>2015-04-01</td><td>164441.6742</td></tr><tr><td>2015-05-01</td><td>166903.8377</td></tr><tr><td>2015-06-01</td><td>161411.8911</td></tr><tr><td>2015-07-01</td><td>164265.2601</td></tr><tr><td>2015-08-01</td><td>166583.5058</td></tr><tr><td>2015-09-01</td><td>169040.048</td></tr><tr><td>2015-10-01</td><td>168762.42449999996</td></tr><tr><td>2015-11-01</td><td>178078.38429999995</td></tr><tr><td>2015-12-01</td><td>170518.2369999999</td></tr><tr><td>2016-01-01</td><td>166401.03839999993</td></tr><tr><td>2016-02-01</td><td>167192.2153999999</td></tr><tr><td>2016-03-01</td><td>167493.5243999999</td></tr><tr><td>2016-04-01</td><td>170229.91589999993</td></tr><tr><td>2016-05-01</td><td>175974.80039999995</td></tr><tr><td>2016-06-01</td><td>181331.19339999993</td></tr><tr><td>2016-07-01</td><td>180725.2923999999</td></tr><tr><td>2016-08-01</td><td>183569.93249999988</td></tr><tr><td>2016-09-01</td><td>184559.79039999988</td></tr><tr><td>2016-10-01</td><td>184405.74389999988</td></tr><tr><td>2016-11-01</td><td>185308.54019999993</td></tr><tr><td>2016-12-01</td><td>198901.436</td></tr><tr><td>2017-01-01</td><td>197242.72499999998</td></tr><tr><td>2017-02-01</td><td>200183.51139999996</td></tr><tr><td>2017-03-01</td><td>198275.8641999999</td></tr><tr><td>2017-04-01</td><td>194129.73229999992</td></tr><tr><td>2017-05-01</td><td>195967.45549999987</td></tr><tr><td>2017-06-01</td><td>201905.47019999987</td></tr><tr><td>2017-07-01</td><td>200649.9731999999</td></tr><tr><td>2017-08-01</td><td>203608.61489999987</td></tr><tr><td>2017-09-01</td><td>205373.9399999999</td></tr><tr><td>2017-10-01</td><td>215385.43119999988</td></tr><tr><td>2017-11-01</td><td>220658.51739999984</td></tr><tr><td>2017-12-01</td><td>215387.26919999975</td></tr></table>"
                    },
                    "metadata": {
                        "azdata_chartOptions": {
                            "type": "line",
                            "dataDirection": "vertical",
                            "columnsAsLabels": true,
                            "labelFirstColumn": false,
                            "legendPosition": "none",
                            "yAxisLabel": "Total Sales",
                            "xAxisLabel": "Year/Month",
                            "dataType": "number"
                        }
                    }
                }
            ],
            "execution_count": 3
        },
        {
            "cell_type": "code",
            "source": [
                "WITH MonthlySales AS (\r\n",
                "    SELECT \r\n",
                "        CONCAT(YEAR(order_date), '-', RIGHT('00' + CAST(MONTH(order_date) AS VARCHAR(2)), 2)) AS YearMonth,\r\n",
                "        sub_category,\r\n",
                "        SUM(total_sales) AS TotalSales\r\n",
                "    FROM \r\n",
                "        [dbo].[Sales]\r\n",
                "    WHERE \r\n",
                "        category = 'Furniture'\r\n",
                "    GROUP BY \r\n",
                "        YEAR(order_date), MONTH(order_date), sub_category\r\n",
                "),\r\n",
                "SalesWithPreviousMonth AS (\r\n",
                "    SELECT \r\n",
                "        ms.YearMonth,\r\n",
                "        ms.sub_category,\r\n",
                "        ms.TotalSales,\r\n",
                "        LAG(ms.TotalSales, 1) OVER (PARTITION BY ms.sub_category ORDER BY ms.YearMonth) AS PreviousMonthSales\r\n",
                "    FROM \r\n",
                "        MonthlySales ms\r\n",
                ")\r\n",
                "SELECT \r\n",
                "    YearMonth,\r\n",
                "    sub_category,\r\n",
                "    TotalSales,\r\n",
                "    PreviousMonthSales,\r\n",
                "    CASE \r\n",
                "        WHEN PreviousMonthSales IS NOT NULL AND PreviousMonthSales > 0 THEN \r\n",
                "            ((TotalSales - PreviousMonthSales) / PreviousMonthSales) * 100 \r\n",
                "        ELSE NULL \r\n",
                "    END AS MonthlyGrowthRate\r\n",
                "FROM \r\n",
                "    SalesWithPreviousMonth\r\n",
                "ORDER BY \r\n",
                "    sub_category, YearMonth;"
            ],
            "metadata": {
                "azdata_cell_guid": "0b95b227-438c-4d3b-a304-71879a940faf",
                "language": "sql"
            },
            "outputs": [
                {
                    "output_type": "display_data",
                    "data": {
                        "text/html": "(190 rows affected)"
                    },
                    "metadata": {}
                },
                {
                    "output_type": "display_data",
                    "data": {
                        "text/html": "Total execution time: 00:00:00.032"
                    },
                    "metadata": {}
                },
                {
                    "output_type": "execute_result",
                    "execution_count": 5,
                    "data": {
                        "application/vnd.dataresource+json": {
                            "schema": {
                                "fields": [
                                    {
                                        "name": "YearMonth"
                                    },
                                    {
                                        "name": "sub_category"
                                    },
                                    {
                                        "name": "TotalSales"
                                    },
                                    {
                                        "name": "PreviousMonthSales"
                                    },
                                    {
                                        "name": "MonthlyGrowthRate"
                                    }
                                ]
                            },
                            "data": [
                                {
                                    "YearMonth": "2014-01",
                                    "sub_category": "Bookcases",
                                    "TotalSales": "1010.0550000000001",
                                    "PreviousMonthSales": "NULL",
                                    "MonthlyGrowthRate": "NULL"
                                },
                                {
                                    "YearMonth": "2014-03",
                                    "sub_category": "Bookcases",
                                    "TotalSales": "1706.446",
                                    "PreviousMonthSales": "1010.0550000000001",
                                    "MonthlyGrowthRate": "68.94584948344395"
                                },
                                {
                                    "YearMonth": "2014-04",
                                    "sub_category": "Bookcases",
                                    "TotalSales": "308.499",
                                    "PreviousMonthSales": "1706.446",
                                    "MonthlyGrowthRate": "-81.9215492315608"
                                },
                                {
                                    "YearMonth": "2014-05",
                                    "sub_category": "Bookcases",
                                    "TotalSales": "640.631",
                                    "PreviousMonthSales": "308.499",
                                    "MonthlyGrowthRate": "107.66064071520489"
                                },
                                {
                                    "YearMonth": "2014-06",
                                    "sub_category": "Bookcases",
                                    "TotalSales": "759.5735999999999",
                                    "PreviousMonthSales": "640.631",
                                    "MonthlyGrowthRate": "18.56647586520165"
                                },
                                {
                                    "YearMonth": "2014-07",
                                    "sub_category": "Bookcases",
                                    "TotalSales": "1487.673",
                                    "PreviousMonthSales": "759.5735999999999",
                                    "MonthlyGrowthRate": "95.85633307950673"
                                },
                                {
                                    "YearMonth": "2014-08",
                                    "sub_category": "Bookcases",
                                    "TotalSales": "794.2760000000001",
                                    "PreviousMonthSales": "1487.673",
                                    "MonthlyGrowthRate": "-46.6095035669801"
                                },
                                {
                                    "YearMonth": "2014-09",
                                    "sub_category": "Bookcases",
                                    "TotalSales": "2394.4698",
                                    "PreviousMonthSales": "794.2760000000001",
                                    "MonthlyGrowthRate": "201.46571217058047"
                                },
                                {
                                    "YearMonth": "2014-10",
                                    "sub_category": "Bookcases",
                                    "TotalSales": "616.998",
                                    "PreviousMonthSales": "2394.4698",
                                    "MonthlyGrowthRate": "-74.23237494997849"
                                },
                                {
                                    "YearMonth": "2014-11",
                                    "sub_category": "Bookcases",
                                    "TotalSales": "7263.713700000001",
                                    "PreviousMonthSales": "616.998",
                                    "MonthlyGrowthRate": "1077.2669765542191"
                                },
                                {
                                    "YearMonth": "2014-12",
                                    "sub_category": "Bookcases",
                                    "TotalSales": "3054.3424999999997",
                                    "PreviousMonthSales": "7263.713700000001",
                                    "MonthlyGrowthRate": "-57.950676112138076"
                                },
                                {
                                    "YearMonth": "2015-01",
                                    "sub_category": "Bookcases",
                                    "TotalSales": "1804.8476",
                                    "PreviousMonthSales": "3054.3424999999997",
                                    "MonthlyGrowthRate": "-40.90880115769596"
                                },
                                {
                                    "YearMonth": "2015-02",
                                    "sub_category": "Bookcases",
                                    "TotalSales": "283.92",
                                    "PreviousMonthSales": "1804.8476",
                                    "MonthlyGrowthRate": "-84.26903191161404"
                                },
                                {
                                    "YearMonth": "2015-03",
                                    "sub_category": "Bookcases",
                                    "TotalSales": "2625.422",
                                    "PreviousMonthSales": "283.92",
                                    "MonthlyGrowthRate": "824.7048464356157"
                                },
                                {
                                    "YearMonth": "2015-04",
                                    "sub_category": "Bookcases",
                                    "TotalSales": "875.71",
                                    "PreviousMonthSales": "2625.422",
                                    "MonthlyGrowthRate": "-66.64498126396443"
                                },
                                {
                                    "YearMonth": "2015-05",
                                    "sub_category": "Bookcases",
                                    "TotalSales": "1916.8174999999999",
                                    "PreviousMonthSales": "875.71",
                                    "MonthlyGrowthRate": "118.88724577771177"
                                },
                                {
                                    "YearMonth": "2015-06",
                                    "sub_category": "Bookcases",
                                    "TotalSales": "482.94",
                                    "PreviousMonthSales": "1916.8174999999999",
                                    "MonthlyGrowthRate": "-74.8051131628337"
                                },
                                {
                                    "YearMonth": "2015-07",
                                    "sub_category": "Bookcases",
                                    "TotalSales": "2860.384",
                                    "PreviousMonthSales": "482.94",
                                    "MonthlyGrowthRate": "492.28558413053383"
                                },
                                {
                                    "YearMonth": "2015-08",
                                    "sub_category": "Bookcases",
                                    "TotalSales": "3804.9642000000003",
                                    "PreviousMonthSales": "2860.384",
                                    "MonthlyGrowthRate": "33.02284588362962"
                                },
                                {
                                    "YearMonth": "2015-09",
                                    "sub_category": "Bookcases",
                                    "TotalSales": "10685.208999999999",
                                    "PreviousMonthSales": "3804.9642000000003",
                                    "MonthlyGrowthRate": "180.82285242000432"
                                },
                                {
                                    "YearMonth": "2015-10",
                                    "sub_category": "Bookcases",
                                    "TotalSales": "2173.7709999999997",
                                    "PreviousMonthSales": "10685.208999999999",
                                    "MonthlyGrowthRate": "-79.65626128604502"
                                },
                                {
                                    "YearMonth": "2015-11",
                                    "sub_category": "Bookcases",
                                    "TotalSales": "8377.345",
                                    "PreviousMonthSales": "2173.7709999999997",
                                    "MonthlyGrowthRate": "285.3830509285477"
                                },
                                {
                                    "YearMonth": "2015-12",
                                    "sub_category": "Bookcases",
                                    "TotalSales": "2652.2421999999997",
                                    "PreviousMonthSales": "8377.345",
                                    "MonthlyGrowthRate": "-68.34030113359304"
                                },
                                {
                                    "YearMonth": "2016-01",
                                    "sub_category": "Bookcases",
                                    "TotalSales": "2239.536",
                                    "PreviousMonthSales": "2652.2421999999997",
                                    "MonthlyGrowthRate": "-15.560652794077393"
                                },
                                {
                                    "YearMonth": "2016-02",
                                    "sub_category": "Bookcases",
                                    "TotalSales": "239.98",
                                    "PreviousMonthSales": "2239.536",
                                    "MonthlyGrowthRate": "-89.28438748026377"
                                },
                                {
                                    "YearMonth": "2016-03",
                                    "sub_category": "Bookcases",
                                    "TotalSales": "1091.855",
                                    "PreviousMonthSales": "239.98",
                                    "MonthlyGrowthRate": "354.97749812484375"
                                },
                                {
                                    "YearMonth": "2016-04",
                                    "sub_category": "Bookcases",
                                    "TotalSales": "1557.768",
                                    "PreviousMonthSales": "1091.855",
                                    "MonthlyGrowthRate": "42.67169175394169"
                                },
                                {
                                    "YearMonth": "2016-06",
                                    "sub_category": "Bookcases",
                                    "TotalSales": "2596.0429999999997",
                                    "PreviousMonthSales": "1557.768",
                                    "MonthlyGrowthRate": "66.6514525911432"
                                },
                                {
                                    "YearMonth": "2016-07",
                                    "sub_category": "Bookcases",
                                    "TotalSales": "2540.651",
                                    "PreviousMonthSales": "2596.0429999999997",
                                    "MonthlyGrowthRate": "-2.1337088792442898"
                                },
                                {
                                    "YearMonth": "2016-08",
                                    "sub_category": "Bookcases",
                                    "TotalSales": "562.2128",
                                    "PreviousMonthSales": "2540.651",
                                    "MonthlyGrowthRate": "-77.87130936126213"
                                },
                                {
                                    "YearMonth": "2016-09",
                                    "sub_category": "Bookcases",
                                    "TotalSales": "6656.9959",
                                    "PreviousMonthSales": "562.2128",
                                    "MonthlyGrowthRate": "1084.070497861308"
                                },
                                {
                                    "YearMonth": "2016-10",
                                    "sub_category": "Bookcases",
                                    "TotalSales": "1376.448",
                                    "PreviousMonthSales": "6656.9959",
                                    "MonthlyGrowthRate": "-79.32328604859137"
                                },
                                {
                                    "YearMonth": "2016-11",
                                    "sub_category": "Bookcases",
                                    "TotalSales": "5797.274800000001",
                                    "PreviousMonthSales": "1376.448",
                                    "MonthlyGrowthRate": "321.1764483656484"
                                },
                                {
                                    "YearMonth": "2016-12",
                                    "sub_category": "Bookcases",
                                    "TotalSales": "1616.7020000000002",
                                    "PreviousMonthSales": "5797.274800000001",
                                    "MonthlyGrowthRate": "-72.11272441320187"
                                },
                                {
                                    "YearMonth": "2017-01",
                                    "sub_category": "Bookcases",
                                    "TotalSales": "297.92",
                                    "PreviousMonthSales": "1616.7020000000002",
                                    "MonthlyGrowthRate": "-81.57236151127418"
                                },
                                {
                                    "YearMonth": "2017-02",
                                    "sub_category": "Bookcases",
                                    "TotalSales": "1125.7234",
                                    "PreviousMonthSales": "297.92",
                                    "MonthlyGrowthRate": "277.86096938775506"
                                },
                                {
                                    "YearMonth": "2017-03",
                                    "sub_category": "Bookcases",
                                    "TotalSales": "1928.1928",
                                    "PreviousMonthSales": "1125.7234",
                                    "MonthlyGrowthRate": "71.28477563849165"
                                },
                                {
                                    "YearMonth": "2017-04",
                                    "sub_category": "Bookcases",
                                    "TotalSales": "1978.5035999999998",
                                    "PreviousMonthSales": "1928.1928",
                                    "MonthlyGrowthRate": "2.6092204057602406"
                                },
                                {
                                    "YearMonth": "2017-05",
                                    "sub_category": "Bookcases",
                                    "TotalSales": "3732.1331999999998",
                                    "PreviousMonthSales": "1978.5035999999998",
                                    "MonthlyGrowthRate": "88.63413743598952"
                                },
                                {
                                    "YearMonth": "2017-06",
                                    "sub_category": "Bookcases",
                                    "TotalSales": "5309.0727",
                                    "PreviousMonthSales": "3732.1331999999998",
                                    "MonthlyGrowthRate": "42.253033734165754"
                                },
                                {
                                    "YearMonth": "2017-07",
                                    "sub_category": "Bookcases",
                                    "TotalSales": "1700.275",
                                    "PreviousMonthSales": "5309.0727",
                                    "MonthlyGrowthRate": "-67.97416241823171"
                                },
                                {
                                    "YearMonth": "2017-08",
                                    "sub_category": "Bookcases",
                                    "TotalSales": "460.092",
                                    "PreviousMonthSales": "1700.275",
                                    "MonthlyGrowthRate": "-72.94014203584713"
                                },
                                {
                                    "YearMonth": "2017-09",
                                    "sub_category": "Bookcases",
                                    "TotalSales": "3635.856",
                                    "PreviousMonthSales": "460.092",
                                    "MonthlyGrowthRate": "690.2454291750346"
                                },
                                {
                                    "YearMonth": "2017-10",
                                    "sub_category": "Bookcases",
                                    "TotalSales": "4079.7262",
                                    "PreviousMonthSales": "3635.856",
                                    "MonthlyGrowthRate": "12.208134755611878"
                                },
                                {
                                    "YearMonth": "2017-11",
                                    "sub_category": "Bookcases",
                                    "TotalSales": "2122.687",
                                    "PreviousMonthSales": "4079.7262",
                                    "MonthlyGrowthRate": "-47.96986621308068"
                                },
                                {
                                    "YearMonth": "2017-12",
                                    "sub_category": "Bookcases",
                                    "TotalSales": "3654.0978",
                                    "PreviousMonthSales": "2122.687",
                                    "MonthlyGrowthRate": "72.14491820979731"
                                },
                                {
                                    "YearMonth": "2014-01",
                                    "sub_category": "Chairs",
                                    "TotalSales": "4187.700000000001",
                                    "PreviousMonthSales": "NULL",
                                    "MonthlyGrowthRate": "NULL"
                                },
                                {
                                    "YearMonth": "2014-02",
                                    "sub_category": "Chairs",
                                    "TotalSales": "190.45800000000003",
                                    "PreviousMonthSales": "4187.700000000001",
                                    "MonthlyGrowthRate": "-95.45196647324306"
                                },
                                {
                                    "YearMonth": "2014-03",
                                    "sub_category": "Chairs",
                                    "TotalSales": "5713.142",
                                    "PreviousMonthSales": "190.45800000000003",
                                    "MonthlyGrowthRate": "2899.6860200149113"
                                },
                                {
                                    "YearMonth": "2014-04",
                                    "sub_category": "Chairs",
                                    "TotalSales": "3210.6659999999997",
                                    "PreviousMonthSales": "5713.142",
                                    "MonthlyGrowthRate": "-43.802096989712496"
                                },
                                {
                                    "YearMonth": "2014-05",
                                    "sub_category": "Chairs",
                                    "TotalSales": "3675.109",
                                    "PreviousMonthSales": "3210.6659999999997",
                                    "MonthlyGrowthRate": "14.465628003660308"
                                },
                                {
                                    "YearMonth": "2014-06",
                                    "sub_category": "Chairs",
                                    "TotalSales": "6456.001",
                                    "PreviousMonthSales": "3675.109",
                                    "MonthlyGrowthRate": "75.66828630116822"
                                },
                                {
                                    "YearMonth": "2014-07",
                                    "sub_category": "Chairs",
                                    "TotalSales": "6364.9400000000005",
                                    "PreviousMonthSales": "6456.001",
                                    "MonthlyGrowthRate": "-1.4104861507921032"
                                },
                                {
                                    "YearMonth": "2014-08",
                                    "sub_category": "Chairs",
                                    "TotalSales": "2590.242",
                                    "PreviousMonthSales": "6364.9400000000005",
                                    "MonthlyGrowthRate": "-59.30453389976967"
                                },
                                {
                                    "YearMonth": "2014-09",
                                    "sub_category": "Chairs",
                                    "TotalSales": "13849.184999999998",
                                    "PreviousMonthSales": "2590.242",
                                    "MonthlyGrowthRate": "434.6676102078492"
                                },
                                {
                                    "YearMonth": "2014-10",
                                    "sub_category": "Chairs",
                                    "TotalSales": "6486.6050000000005",
                                    "PreviousMonthSales": "13849.184999999998",
                                    "MonthlyGrowthRate": "-53.16255072049365"
                                },
                                {
                                    "YearMonth": "2014-11",
                                    "sub_category": "Chairs",
                                    "TotalSales": "7282.554000000001",
                                    "PreviousMonthSales": "6486.6050000000005",
                                    "MonthlyGrowthRate": "12.27065622155196"
                                },
                                {
                                    "YearMonth": "2014-12",
                                    "sub_category": "Chairs",
                                    "TotalSales": "17234.974000000002",
                                    "PreviousMonthSales": "7282.554000000001",
                                    "MonthlyGrowthRate": "136.66112190860517"
                                },
                                {
                                    "YearMonth": "2015-01",
                                    "sub_category": "Chairs",
                                    "TotalSales": "3246.794",
                                    "PreviousMonthSales": "17234.974000000002",
                                    "MonthlyGrowthRate": "-81.1615961822745"
                                },
                                {
                                    "YearMonth": "2015-02",
                                    "sub_category": "Chairs",
                                    "TotalSales": "2114.886",
                                    "PreviousMonthSales": "3246.794",
                                    "MonthlyGrowthRate": "-34.8623288080488"
                                },
                                {
                                    "YearMonth": "2015-03",
                                    "sub_category": "Chairs",
                                    "TotalSales": "4085.2329999999997",
                                    "PreviousMonthSales": "2114.886",
                                    "MonthlyGrowthRate": "93.16563635108463"
                                },
                                {
                                    "YearMonth": "2015-04",
                                    "sub_category": "Chairs",
                                    "TotalSales": "4271.621",
                                    "PreviousMonthSales": "4085.2329999999997",
                                    "MonthlyGrowthRate": "4.562481503502992"
                                },
                                {
                                    "YearMonth": "2015-05",
                                    "sub_category": "Chairs",
                                    "TotalSales": "5681.933",
                                    "PreviousMonthSales": "4271.621",
                                    "MonthlyGrowthRate": "33.01585042305953"
                                },
                                {
                                    "YearMonth": "2015-06",
                                    "sub_category": "Chairs",
                                    "TotalSales": "3937.888",
                                    "PreviousMonthSales": "5681.933",
                                    "MonthlyGrowthRate": "-30.6945717240946"
                                },
                                {
                                    "YearMonth": "2015-07",
                                    "sub_category": "Chairs",
                                    "TotalSales": "7313.560999999999",
                                    "PreviousMonthSales": "3937.888",
                                    "MonthlyGrowthRate": "85.72293066740342"
                                },
                                {
                                    "YearMonth": "2015-08",
                                    "sub_category": "Chairs",
                                    "TotalSales": "1439.0140000000001",
                                    "PreviousMonthSales": "7313.560999999999",
                                    "MonthlyGrowthRate": "-80.3240309337681"
                                },
                                {
                                    "YearMonth": "2015-09",
                                    "sub_category": "Chairs",
                                    "TotalSales": "9519.923999999999",
                                    "PreviousMonthSales": "1439.0140000000001",
                                    "MonthlyGrowthRate": "561.5588173568846"
                                },
                                {
                                    "YearMonth": "2015-10",
                                    "sub_category": "Chairs",
                                    "TotalSales": "7103.532",
                                    "PreviousMonthSales": "9519.923999999999",
                                    "MonthlyGrowthRate": "-25.382471540739182"
                                },
                                {
                                    "YearMonth": "2015-11",
                                    "sub_category": "Chairs",
                                    "TotalSales": "12743.158",
                                    "PreviousMonthSales": "7103.532",
                                    "MonthlyGrowthRate": "79.3918574590781"
                                },
                                {
                                    "YearMonth": "2015-12",
                                    "sub_category": "Chairs",
                                    "TotalSales": "10276.984999999999",
                                    "PreviousMonthSales": "12743.158",
                                    "MonthlyGrowthRate": "-19.352918640732547"
                                },
                                {
                                    "YearMonth": "2016-01",
                                    "sub_category": "Chairs",
                                    "TotalSales": "1602.2240000000002",
                                    "PreviousMonthSales": "10276.984999999999",
                                    "MonthlyGrowthRate": "-84.40959094520426"
                                },
                                {
                                    "YearMonth": "2016-02",
                                    "sub_category": "Chairs",
                                    "TotalSales": "1725.464",
                                    "PreviousMonthSales": "1602.2240000000002",
                                    "MonthlyGrowthRate": "7.691808386342968"
                                },
                                {
                                    "YearMonth": "2016-03",
                                    "sub_category": "Chairs",
                                    "TotalSales": "6021.038",
                                    "PreviousMonthSales": "1725.464",
                                    "MonthlyGrowthRate": "248.95181817760323"
                                },
                                {
                                    "YearMonth": "2016-04",
                                    "sub_category": "Chairs",
                                    "TotalSales": "8945.012",
                                    "PreviousMonthSales": "6021.038",
                                    "MonthlyGrowthRate": "48.56262325532577"
                                },
                                {
                                    "YearMonth": "2016-05",
                                    "sub_category": "Chairs",
                                    "TotalSales": "7399.477",
                                    "PreviousMonthSales": "8945.012",
                                    "MonthlyGrowthRate": "-17.278176932574276"
                                },
                                {
                                    "YearMonth": "2016-06",
                                    "sub_category": "Chairs",
                                    "TotalSales": "2634.7599999999998",
                                    "PreviousMonthSales": "7399.477",
                                    "MonthlyGrowthRate": "-64.39261855939279"
                                },
                                {
                                    "YearMonth": "2016-07",
                                    "sub_category": "Chairs",
                                    "TotalSales": "5368.102",
                                    "PreviousMonthSales": "2634.7599999999998",
                                    "MonthlyGrowthRate": "103.74159316218557"
                                },
                                {
                                    "YearMonth": "2016-08",
                                    "sub_category": "Chairs",
                                    "TotalSales": "4891.534",
                                    "PreviousMonthSales": "5368.102",
                                    "MonthlyGrowthRate": "-8.877774677157777"
                                },
                                {
                                    "YearMonth": "2016-09",
                                    "sub_category": "Chairs",
                                    "TotalSales": "11296.44",
                                    "PreviousMonthSales": "4891.534",
                                    "MonthlyGrowthRate": "130.93859717626418"
                                },
                                {
                                    "YearMonth": "2016-10",
                                    "sub_category": "Chairs",
                                    "TotalSales": "5910.879",
                                    "PreviousMonthSales": "11296.44",
                                    "MonthlyGrowthRate": "-47.674851546150826"
                                },
                                {
                                    "YearMonth": "2016-11",
                                    "sub_category": "Chairs",
                                    "TotalSales": "13173.082999999999",
                                    "PreviousMonthSales": "5910.879",
                                    "MonthlyGrowthRate": "122.86165898506802"
                                },
                                {
                                    "YearMonth": "2016-12",
                                    "sub_category": "Chairs",
                                    "TotalSales": "14950.632000000003",
                                    "PreviousMonthSales": "13173.082999999999",
                                    "MonthlyGrowthRate": "13.493796402861841"
                                },
                                {
                                    "YearMonth": "2017-01",
                                    "sub_category": "Chairs",
                                    "TotalSales": "2248.4510000000005",
                                    "PreviousMonthSales": "14950.632000000003",
                                    "MonthlyGrowthRate": "-84.96082974953835"
                                },
                                {
                                    "YearMonth": "2017-02",
                                    "sub_category": "Chairs",
                                    "TotalSales": "3552.132",
                                    "PreviousMonthSales": "2248.4510000000005",
                                    "MonthlyGrowthRate": "57.9812946779805"
                                },
                                {
                                    "YearMonth": "2017-03",
                                    "sub_category": "Chairs",
                                    "TotalSales": "5524.914",
                                    "PreviousMonthSales": "3552.132",
                                    "MonthlyGrowthRate": "55.53796987274121"
                                },
                                {
                                    "YearMonth": "2017-04",
                                    "sub_category": "Chairs",
                                    "TotalSales": "2099.286",
                                    "PreviousMonthSales": "5524.914",
                                    "MonthlyGrowthRate": "-62.003281861038914"
                                },
                                {
                                    "YearMonth": "2017-05",
                                    "sub_category": "Chairs",
                                    "TotalSales": "9137.311",
                                    "PreviousMonthSales": "2099.286",
                                    "MonthlyGrowthRate": "335.25803535106695"
                                },
                                {
                                    "YearMonth": "2017-06",
                                    "sub_category": "Chairs",
                                    "TotalSales": "8494.718",
                                    "PreviousMonthSales": "9137.311",
                                    "MonthlyGrowthRate": "-7.032626994966012"
                                },
                                {
                                    "YearMonth": "2017-07",
                                    "sub_category": "Chairs",
                                    "TotalSales": "3969.748",
                                    "PreviousMonthSales": "8494.718",
                                    "MonthlyGrowthRate": "-53.26804256480322"
                                },
                                {
                                    "YearMonth": "2017-08",
                                    "sub_category": "Chairs",
                                    "TotalSales": "9419.014000000001",
                                    "PreviousMonthSales": "3969.748",
                                    "MonthlyGrowthRate": "137.2698216612239"
                                },
                                {
                                    "YearMonth": "2017-09",
                                    "sub_category": "Chairs",
                                    "TotalSales": "16911.669",
                                    "PreviousMonthSales": "9419.014000000001",
                                    "MonthlyGrowthRate": "79.54818837725477"
                                },
                                {
                                    "YearMonth": "2017-10",
                                    "sub_category": "Chairs",
                                    "TotalSales": "4669.434000000001",
                                    "PreviousMonthSales": "16911.669",
                                    "MonthlyGrowthRate": "-72.38927748645033"
                                },
                                {
                                    "YearMonth": "2017-11",
                                    "sub_category": "Chairs",
                                    "TotalSales": "14561.218000000004",
                                    "PreviousMonthSales": "4669.434000000001",
                                    "MonthlyGrowthRate": "211.84117818133848"
                                },
                                {
                                    "YearMonth": "2017-12",
                                    "sub_category": "Chairs",
                                    "TotalSales": "14966.457999999997",
                                    "PreviousMonthSales": "14561.218000000004",
                                    "MonthlyGrowthRate": "2.783008948839255"
                                },
                                {
                                    "YearMonth": "2014-01",
                                    "sub_category": "Furnishings",
                                    "TotalSales": "711.77",
                                    "PreviousMonthSales": "NULL",
                                    "MonthlyGrowthRate": "NULL"
                                },
                                {
                                    "YearMonth": "2014-02",
                                    "sub_category": "Furnishings",
                                    "TotalSales": "392.98",
                                    "PreviousMonthSales": "711.77",
                                    "MonthlyGrowthRate": "-44.78834454950334"
                                },
                                {
                                    "YearMonth": "2014-03",
                                    "sub_category": "Furnishings",
                                    "TotalSales": "480.12800000000004",
                                    "PreviousMonthSales": "392.98",
                                    "MonthlyGrowthRate": "22.176192172629655"
                                },
                                {
                                    "YearMonth": "2014-04",
                                    "sub_category": "Furnishings",
                                    "TotalSales": "984.0460000000002",
                                    "PreviousMonthSales": "480.12800000000004",
                                    "MonthlyGrowthRate": "104.95492868568384"
                                },
                                {
                                    "YearMonth": "2014-05",
                                    "sub_category": "Furnishings",
                                    "TotalSales": "780.166",
                                    "PreviousMonthSales": "984.0460000000002",
                                    "MonthlyGrowthRate": "-20.718543645317403"
                                },
                                {
                                    "YearMonth": "2014-06",
                                    "sub_category": "Furnishings",
                                    "TotalSales": "432.75",
                                    "PreviousMonthSales": "780.166",
                                    "MonthlyGrowthRate": "-44.53103570265816"
                                },
                                {
                                    "YearMonth": "2014-07",
                                    "sub_category": "Furnishings",
                                    "TotalSales": "902.622",
                                    "PreviousMonthSales": "432.75",
                                    "MonthlyGrowthRate": "108.57816291161177"
                                },
                                {
                                    "YearMonth": "2014-08",
                                    "sub_category": "Furnishings",
                                    "TotalSales": "997.758",
                                    "PreviousMonthSales": "902.622",
                                    "MonthlyGrowthRate": "10.539960249140847"
                                },
                                {
                                    "YearMonth": "2014-09",
                                    "sub_category": "Furnishings",
                                    "TotalSales": "2960.956",
                                    "PreviousMonthSales": "997.758",
                                    "MonthlyGrowthRate": "196.7609380230477"
                                },
                                {
                                    "YearMonth": "2014-10",
                                    "sub_category": "Furnishings",
                                    "TotalSales": "621.812",
                                    "PreviousMonthSales": "2960.956",
                                    "MonthlyGrowthRate": "-78.99962039287311"
                                },
                                {
                                    "YearMonth": "2014-11",
                                    "sub_category": "Furnishings",
                                    "TotalSales": "2483.762",
                                    "PreviousMonthSales": "621.812",
                                    "MonthlyGrowthRate": "299.439380391501"
                                },
                                {
                                    "YearMonth": "2014-12",
                                    "sub_category": "Furnishings",
                                    "TotalSales": "2077.4840000000004",
                                    "PreviousMonthSales": "2483.762",
                                    "MonthlyGrowthRate": "-16.357364352945243"
                                },
                                {
                                    "YearMonth": "2015-01",
                                    "sub_category": "Furnishings",
                                    "TotalSales": "1270.114",
                                    "PreviousMonthSales": "2077.4840000000004",
                                    "MonthlyGrowthRate": "-38.86287451551975"
                                },
                                {
                                    "YearMonth": "2015-02",
                                    "sub_category": "Furnishings",
                                    "TotalSales": "206.10399999999998",
                                    "PreviousMonthSales": "1270.114",
                                    "MonthlyGrowthRate": "-83.77279519791136"
                                },
                                {
                                    "YearMonth": "2015-03",
                                    "sub_category": "Furnishings",
                                    "TotalSales": "1435.958",
                                    "PreviousMonthSales": "206.10399999999998",
                                    "MonthlyGrowthRate": "596.715250553119"
                                },
                                {
                                    "YearMonth": "2015-04",
                                    "sub_category": "Furnishings",
                                    "TotalSales": "2993.1879999999996",
                                    "PreviousMonthSales": "1435.958",
                                    "MonthlyGrowthRate": "108.44537235768729"
                                },
                                {
                                    "YearMonth": "2015-05",
                                    "sub_category": "Furnishings",
                                    "TotalSales": "1532.1939999999997",
                                    "PreviousMonthSales": "2993.1879999999996",
                                    "MonthlyGrowthRate": "-48.81063267659766"
                                },
                                {
                                    "YearMonth": "2015-06",
                                    "sub_category": "Furnishings",
                                    "TotalSales": "2496.9260000000004",
                                    "PreviousMonthSales": "1532.1939999999997",
                                    "MonthlyGrowthRate": "62.964089403822285"
                                },
                                {
                                    "YearMonth": "2015-07",
                                    "sub_category": "Furnishings",
                                    "TotalSales": "1458.112",
                                    "PreviousMonthSales": "2496.9260000000004",
                                    "MonthlyGrowthRate": "-41.603715929106436"
                                },
                                {
                                    "YearMonth": "2015-08",
                                    "sub_category": "Furnishings",
                                    "TotalSales": "800.252",
                                    "PreviousMonthSales": "1458.112",
                                    "MonthlyGrowthRate": "-45.11724750910767"
                                },
                                {
                                    "YearMonth": "2015-09",
                                    "sub_category": "Furnishings",
                                    "TotalSales": "2199.624",
                                    "PreviousMonthSales": "800.252",
                                    "MonthlyGrowthRate": "174.86641707862023"
                                },
                                {
                                    "YearMonth": "2015-10",
                                    "sub_category": "Furnishings",
                                    "TotalSales": "616.7600000000001",
                                    "PreviousMonthSales": "2199.624",
                                    "MonthlyGrowthRate": "-71.96066236775012"
                                },
                                {
                                    "YearMonth": "2015-11",
                                    "sub_category": "Furnishings",
                                    "TotalSales": "3549.878",
                                    "PreviousMonthSales": "616.7600000000001",
                                    "MonthlyGrowthRate": "475.5687787794279"
                                },
                                {
                                    "YearMonth": "2015-12",
                                    "sub_category": "Furnishings",
                                    "TotalSales": "2530.6020000000003",
                                    "PreviousMonthSales": "3549.878",
                                    "MonthlyGrowthRate": "-28.71298675616457"
                                },
                                {
                                    "YearMonth": "2016-01",
                                    "sub_category": "Furnishings",
                                    "TotalSales": "1066.5140000000001",
                                    "PreviousMonthSales": "2530.6020000000003",
                                    "MonthlyGrowthRate": "-57.85532454333001"
                                },
                                {
                                    "YearMonth": "2016-02",
                                    "sub_category": "Furnishings",
                                    "TotalSales": "851.9480000000001",
                                    "PreviousMonthSales": "1066.5140000000001",
                                    "MonthlyGrowthRate": "-20.118441952004382"
                                },
                                {
                                    "YearMonth": "2016-03",
                                    "sub_category": "Furnishings",
                                    "TotalSales": "2279.726",
                                    "PreviousMonthSales": "851.9480000000001",
                                    "MonthlyGrowthRate": "167.5898059505979"
                                },
                                {
                                    "YearMonth": "2016-04",
                                    "sub_category": "Furnishings",
                                    "TotalSales": "887.584",
                                    "PreviousMonthSales": "2279.726",
                                    "MonthlyGrowthRate": "-61.0661983062877"
                                },
                                {
                                    "YearMonth": "2016-05",
                                    "sub_category": "Furnishings",
                                    "TotalSales": "2844.2079999999996",
                                    "PreviousMonthSales": "887.584",
                                    "MonthlyGrowthRate": "220.44381151530445"
                                },
                                {
                                    "YearMonth": "2016-06",
                                    "sub_category": "Furnishings",
                                    "TotalSales": "1537.424",
                                    "PreviousMonthSales": "2844.2079999999996",
                                    "MonthlyGrowthRate": "-45.945444215050365"
                                },
                                {
                                    "YearMonth": "2016-07",
                                    "sub_category": "Furnishings",
                                    "TotalSales": "1866.5580000000002",
                                    "PreviousMonthSales": "1537.424",
                                    "MonthlyGrowthRate": "21.408147654778396"
                                },
                                {
                                    "YearMonth": "2016-08",
                                    "sub_category": "Furnishings",
                                    "TotalSales": "810.5540000000001",
                                    "PreviousMonthSales": "1866.5580000000002",
                                    "MonthlyGrowthRate": "-56.57493632665045"
                                },
                                {
                                    "YearMonth": "2016-09",
                                    "sub_category": "Furnishings",
                                    "TotalSales": "3661.826",
                                    "PreviousMonthSales": "810.5540000000001",
                                    "MonthlyGrowthRate": "351.76829674518905"
                                },
                                {
                                    "YearMonth": "2016-10",
                                    "sub_category": "Furnishings",
                                    "TotalSales": "2484.4819999999995",
                                    "PreviousMonthSales": "3661.826",
                                    "MonthlyGrowthRate": "-32.15182807703044"
                                },
                                {
                                    "YearMonth": "2016-11",
                                    "sub_category": "Furnishings",
                                    "TotalSales": "4034.778000000001",
                                    "PreviousMonthSales": "2484.4819999999995",
                                    "MonthlyGrowthRate": "62.39916409134789"
                                },
                                {
                                    "YearMonth": "2016-12",
                                    "sub_category": "Furnishings",
                                    "TotalSales": "5548.522000000002",
                                    "PreviousMonthSales": "4034.778000000001",
                                    "MonthlyGrowthRate": "37.51740492289787"
                                },
                                {
                                    "YearMonth": "2017-01",
                                    "sub_category": "Furnishings",
                                    "TotalSales": "931.224",
                                    "PreviousMonthSales": "5548.522000000002",
                                    "MonthlyGrowthRate": "-83.21671969580368"
                                },
                                {
                                    "YearMonth": "2017-02",
                                    "sub_category": "Furnishings",
                                    "TotalSales": "864.642",
                                    "PreviousMonthSales": "931.224",
                                    "MonthlyGrowthRate": "-7.149944589056982"
                                },
                                {
                                    "YearMonth": "2017-03",
                                    "sub_category": "Furnishings",
                                    "TotalSales": "963.234",
                                    "PreviousMonthSales": "864.642",
                                    "MonthlyGrowthRate": "11.402638317361403"
                                },
                                {
                                    "YearMonth": "2017-04",
                                    "sub_category": "Furnishings",
                                    "TotalSales": "2673.5440000000003",
                                    "PreviousMonthSales": "963.234",
                                    "MonthlyGrowthRate": "177.55913931609558"
                                },
                                {
                                    "YearMonth": "2017-05",
                                    "sub_category": "Furnishings",
                                    "TotalSales": "1736.86",
                                    "PreviousMonthSales": "2673.5440000000003",
                                    "MonthlyGrowthRate": "-35.035293976833756"
                                },
                                {
                                    "YearMonth": "2017-06",
                                    "sub_category": "Furnishings",
                                    "TotalSales": "1456.374",
                                    "PreviousMonthSales": "1736.86",
                                    "MonthlyGrowthRate": "-16.149027555473662"
                                },
                                {
                                    "YearMonth": "2017-07",
                                    "sub_category": "Furnishings",
                                    "TotalSales": "3381.7599999999998",
                                    "PreviousMonthSales": "1456.374",
                                    "MonthlyGrowthRate": "132.20409043281464"
                                },
                                {
                                    "YearMonth": "2017-08",
                                    "sub_category": "Furnishings",
                                    "TotalSales": "1425.0300000000002",
                                    "PreviousMonthSales": "3381.7599999999998",
                                    "MonthlyGrowthRate": "-57.86129116199847"
                                },
                                {
                                    "YearMonth": "2017-09",
                                    "sub_category": "Furnishings",
                                    "TotalSales": "2982.504",
                                    "PreviousMonthSales": "1425.0300000000002",
                                    "MonthlyGrowthRate": "109.29412012378683"
                                },
                                {
                                    "YearMonth": "2017-10",
                                    "sub_category": "Furnishings",
                                    "TotalSales": "1724.1320000000003",
                                    "PreviousMonthSales": "2982.504",
                                    "MonthlyGrowthRate": "-42.191795886946"
                                },
                                {
                                    "YearMonth": "2017-11",
                                    "sub_category": "Furnishings",
                                    "TotalSales": "6714.122",
                                    "PreviousMonthSales": "1724.1320000000003",
                                    "MonthlyGrowthRate": "289.4204156062296"
                                },
                                {
                                    "YearMonth": "2017-12",
                                    "sub_category": "Furnishings",
                                    "TotalSales": "4061.6679999999997",
                                    "PreviousMonthSales": "6714.122",
                                    "MonthlyGrowthRate": "-39.50559730669178"
                                },
                                {
                                    "YearMonth": "2014-01",
                                    "sub_category": "Tables",
                                    "TotalSales": "333",
                                    "PreviousMonthSales": "NULL",
                                    "MonthlyGrowthRate": "NULL"
                                },
                                {
                                    "YearMonth": "2014-02",
                                    "sub_category": "Tables",
                                    "TotalSales": "1256.22",
                                    "PreviousMonthSales": "333",
                                    "MonthlyGrowthRate": "277.2432432432432"
                                },
                                {
                                    "YearMonth": "2014-03",
                                    "sub_category": "Tables",
                                    "TotalSales": "6674.240000000001",
                                    "PreviousMonthSales": "1256.22",
                                    "MonthlyGrowthRate": "431.29547372275556"
                                },
                                {
                                    "YearMonth": "2014-04",
                                    "sub_category": "Tables",
                                    "TotalSales": "3441.626",
                                    "PreviousMonthSales": "6674.240000000001",
                                    "MonthlyGrowthRate": "-48.43418876156686"
                                },
                                {
                                    "YearMonth": "2014-05",
                                    "sub_category": "Tables",
                                    "TotalSales": "1816.8809999999999",
                                    "PreviousMonthSales": "3441.626",
                                    "MonthlyGrowthRate": "-47.2086449835049"
                                },
                                {
                                    "YearMonth": "2014-06",
                                    "sub_category": "Tables",
                                    "TotalSales": "5557.8009999999995",
                                    "PreviousMonthSales": "1816.8809999999999",
                                    "MonthlyGrowthRate": "205.89790965946582"
                                },
                                {
                                    "YearMonth": "2014-07",
                                    "sub_category": "Tables",
                                    "TotalSales": "2065.816",
                                    "PreviousMonthSales": "5557.8009999999995",
                                    "MonthlyGrowthRate": "-62.83033523510467"
                                },
                                {
                                    "YearMonth": "2014-08",
                                    "sub_category": "Tables",
                                    "TotalSales": "2938.0705000000003",
                                    "PreviousMonthSales": "2065.816",
                                    "MonthlyGrowthRate": "42.22324253466914"
                                },
                                {
                                    "YearMonth": "2014-09",
                                    "sub_category": "Tables",
                                    "TotalSales": "4611.870000000001",
                                    "PreviousMonthSales": "2938.0705000000003",
                                    "MonthlyGrowthRate": "56.9693443366999"
                                },
                                {
                                    "YearMonth": "2014-10",
                                    "sub_category": "Tables",
                                    "TotalSales": "4578.832",
                                    "PreviousMonthSales": "4611.870000000001",
                                    "MonthlyGrowthRate": "-0.7163688482112561"
                                },
                                {
                                    "YearMonth": "2014-11",
                                    "sub_category": "Tables",
                                    "TotalSales": "4534.842999999999",
                                    "PreviousMonthSales": "4578.832",
                                    "MonthlyGrowthRate": "-0.960703515656425"
                                },
                                {
                                    "YearMonth": "2014-12",
                                    "sub_category": "Tables",
                                    "TotalSales": "8279.166",
                                    "PreviousMonthSales": "4534.842999999999",
                                    "MonthlyGrowthRate": "82.56786398117865"
                                },
                                {
                                    "YearMonth": "2015-01",
                                    "sub_category": "Tables",
                                    "TotalSales": "5418.186000000001",
                                    "PreviousMonthSales": "8279.166",
                                    "MonthlyGrowthRate": "-34.556379229502085"
                                },
                                {
                                    "YearMonth": "2015-02",
                                    "sub_category": "Tables",
                                    "TotalSales": "529.464",
                                    "PreviousMonthSales": "5418.186000000001",
                                    "MonthlyGrowthRate": "-90.22802096495026"
                                },
                                {
                                    "YearMonth": "2015-03",
                                    "sub_category": "Tables",
                                    "TotalSales": "4353.17",
                                    "PreviousMonthSales": "529.464",
                                    "MonthlyGrowthRate": "722.1843222579815"
                                },
                                {
                                    "YearMonth": "2015-04",
                                    "sub_category": "Tables",
                                    "TotalSales": "2335.1794999999997",
                                    "PreviousMonthSales": "4353.17",
                                    "MonthlyGrowthRate": "-46.356804351771245"
                                },
                                {
                                    "YearMonth": "2015-05",
                                    "sub_category": "Tables",
                                    "TotalSales": "244.006",
                                    "PreviousMonthSales": "2335.1794999999997",
                                    "MonthlyGrowthRate": "-89.55086750290504"
                                },
                                {
                                    "YearMonth": "2015-06",
                                    "sub_category": "Tables",
                                    "TotalSales": "796.425",
                                    "PreviousMonthSales": "244.006",
                                    "MonthlyGrowthRate": "226.3956624017442"
                                },
                                {
                                    "YearMonth": "2015-07",
                                    "sub_category": "Tables",
                                    "TotalSales": "2042.3629999999998",
                                    "PreviousMonthSales": "796.425",
                                    "MonthlyGrowthRate": "156.44134727061555"
                                },
                                {
                                    "YearMonth": "2015-08",
                                    "sub_category": "Tables",
                                    "TotalSales": "3594.3619999999996",
                                    "PreviousMonthSales": "2042.3629999999998",
                                    "MonthlyGrowthRate": "75.99036018572603"
                                },
                                {
                                    "YearMonth": "2015-09",
                                    "sub_category": "Tables",
                                    "TotalSales": "3868.266",
                                    "PreviousMonthSales": "3594.3619999999996",
                                    "MonthlyGrowthRate": "7.620378804360843"
                                },
                                {
                                    "YearMonth": "2015-10",
                                    "sub_category": "Tables",
                                    "TotalSales": "2132.5605",
                                    "PreviousMonthSales": "3868.266",
                                    "MonthlyGrowthRate": "-44.8703760289494"
                                },
                                {
                                    "YearMonth": "2015-11",
                                    "sub_category": "Tables",
                                    "TotalSales": "6210.4515",
                                    "PreviousMonthSales": "2132.5605",
                                    "MonthlyGrowthRate": "191.22041320750338"
                                },
                                {
                                    "YearMonth": "2015-12",
                                    "sub_category": "Tables",
                                    "TotalSales": "7625.989999999999",
                                    "PreviousMonthSales": "6210.4515",
                                    "MonthlyGrowthRate": "22.792843644298628"
                                },
                                {
                                    "YearMonth": "2016-01",
                                    "sub_category": "Tables",
                                    "TotalSales": "2714.4689999999996",
                                    "PreviousMonthSales": "7625.989999999999",
                                    "MonthlyGrowthRate": "-64.40502806848684"
                                },
                                {
                                    "YearMonth": "2016-02",
                                    "sub_category": "Tables",
                                    "TotalSales": "1108.159",
                                    "PreviousMonthSales": "2714.4689999999996",
                                    "MonthlyGrowthRate": "-59.17584617838699"
                                },
                                {
                                    "YearMonth": "2016-03",
                                    "sub_category": "Tables",
                                    "TotalSales": "3408.4729999999995",
                                    "PreviousMonthSales": "1108.159",
                                    "MonthlyGrowthRate": "207.57977871406533"
                                },
                                {
                                    "YearMonth": "2016-04",
                                    "sub_category": "Tables",
                                    "TotalSales": "1821.726",
                                    "PreviousMonthSales": "3408.4729999999995",
                                    "MonthlyGrowthRate": "-46.55301655609417"
                                },
                                {
                                    "YearMonth": "2016-05",
                                    "sub_category": "Tables",
                                    "TotalSales": "4876.15",
                                    "PreviousMonthSales": "1821.726",
                                    "MonthlyGrowthRate": "167.66648771549615"
                                },
                                {
                                    "YearMonth": "2016-06",
                                    "sub_category": "Tables",
                                    "TotalSales": "6302.345",
                                    "PreviousMonthSales": "4876.15",
                                    "MonthlyGrowthRate": "29.24838243286201"
                                },
                                {
                                    "YearMonth": "2016-07",
                                    "sub_category": "Tables",
                                    "TotalSales": "3293.208",
                                    "PreviousMonthSales": "6302.345",
                                    "MonthlyGrowthRate": "-47.746307128537076"
                                },
                                {
                                    "YearMonth": "2016-08",
                                    "sub_category": "Tables",
                                    "TotalSales": "6218.931500000001",
                                    "PreviousMonthSales": "3293.208",
                                    "MonthlyGrowthRate": "88.8411390959818"
                                },
                                {
                                    "YearMonth": "2016-09",
                                    "sub_category": "Tables",
                                    "TotalSales": "5647.619",
                                    "PreviousMonthSales": "6218.931500000001",
                                    "MonthlyGrowthRate": "-9.18666655196316"
                                },
                                {
                                    "YearMonth": "2016-10",
                                    "sub_category": "Tables",
                                    "TotalSales": "2100.768",
                                    "PreviousMonthSales": "5647.619",
                                    "MonthlyGrowthRate": "-62.80258990558676"
                                },
                                {
                                    "YearMonth": "2016-11",
                                    "sub_category": "Tables",
                                    "TotalSales": "8778.493",
                                    "PreviousMonthSales": "2100.768",
                                    "MonthlyGrowthRate": "317.87065492239026"
                                },
                                {
                                    "YearMonth": "2016-12",
                                    "sub_category": "Tables",
                                    "TotalSales": "14562.858999999999",
                                    "PreviousMonthSales": "8778.493",
                                    "MonthlyGrowthRate": "65.892471521023"
                                },
                                {
                                    "YearMonth": "2017-01",
                                    "sub_category": "Tables",
                                    "TotalSales": "2486.437",
                                    "PreviousMonthSales": "14562.858999999999",
                                    "MonthlyGrowthRate": "-82.92617541651677"
                                },
                                {
                                    "YearMonth": "2017-02",
                                    "sub_category": "Tables",
                                    "TotalSales": "1323.8400000000001",
                                    "PreviousMonthSales": "2486.437",
                                    "MonthlyGrowthRate": "-46.75754905513391"
                                },
                                {
                                    "YearMonth": "2017-03",
                                    "sub_category": "Tables",
                                    "TotalSales": "2477.104",
                                    "PreviousMonthSales": "1323.8400000000001",
                                    "MonthlyGrowthRate": "87.11505922165817"
                                },
                                {
                                    "YearMonth": "2017-04",
                                    "sub_category": "Tables",
                                    "TotalSales": "2314.6245",
                                    "PreviousMonthSales": "2477.104",
                                    "MonthlyGrowthRate": "-6.559252255860066"
                                },
                                {
                                    "YearMonth": "2017-05",
                                    "sub_category": "Tables",
                                    "TotalSales": "2351.254",
                                    "PreviousMonthSales": "2314.6245",
                                    "MonthlyGrowthRate": "1.5825245088350186"
                                },
                                {
                                    "YearMonth": "2017-06",
                                    "sub_category": "Tables",
                                    "TotalSales": "3748.422",
                                    "PreviousMonthSales": "2351.254",
                                    "MonthlyGrowthRate": "59.422248723447154"
                                },
                                {
                                    "YearMonth": "2017-07",
                                    "sub_category": "Tables",
                                    "TotalSales": "2761.239",
                                    "PreviousMonthSales": "3748.422",
                                    "MonthlyGrowthRate": "-26.33596217288235"
                                },
                                {
                                    "YearMonth": "2017-08",
                                    "sub_category": "Tables",
                                    "TotalSales": "4137.738",
                                    "PreviousMonthSales": "2761.239",
                                    "MonthlyGrowthRate": "49.85077351145628"
                                },
                                {
                                    "YearMonth": "2017-09",
                                    "sub_category": "Tables",
                                    "TotalSales": "5498.177",
                                    "PreviousMonthSales": "4137.738",
                                    "MonthlyGrowthRate": "32.87880962980255"
                                },
                                {
                                    "YearMonth": "2017-10",
                                    "sub_category": "Tables",
                                    "TotalSales": "11410.776000000002",
                                    "PreviousMonthSales": "5498.177",
                                    "MonthlyGrowthRate": "107.53744377454568"
                                },
                                {
                                    "YearMonth": "2017-11",
                                    "sub_category": "Tables",
                                    "TotalSales": "13658.687999999998",
                                    "PreviousMonthSales": "11410.776000000002",
                                    "MonthlyGrowthRate": "19.699904721642035"
                                },
                                {
                                    "YearMonth": "2017-12",
                                    "sub_category": "Tables",
                                    "TotalSales": "8725.243000000002",
                                    "PreviousMonthSales": "13658.687999999998",
                                    "MonthlyGrowthRate": "-36.11946476850483"
                                }
                            ]
                        },
                        "text/html": "<table><tr><th>YearMonth</th><th>sub_category</th><th>TotalSales</th><th>PreviousMonthSales</th><th>MonthlyGrowthRate</th></tr><tr><td>2014-01</td><td>Bookcases</td><td>1010.0550000000001</td><td>NULL</td><td>NULL</td></tr><tr><td>2014-03</td><td>Bookcases</td><td>1706.446</td><td>1010.0550000000001</td><td>68.94584948344395</td></tr><tr><td>2014-04</td><td>Bookcases</td><td>308.499</td><td>1706.446</td><td>-81.9215492315608</td></tr><tr><td>2014-05</td><td>Bookcases</td><td>640.631</td><td>308.499</td><td>107.66064071520489</td></tr><tr><td>2014-06</td><td>Bookcases</td><td>759.5735999999999</td><td>640.631</td><td>18.56647586520165</td></tr><tr><td>2014-07</td><td>Bookcases</td><td>1487.673</td><td>759.5735999999999</td><td>95.85633307950673</td></tr><tr><td>2014-08</td><td>Bookcases</td><td>794.2760000000001</td><td>1487.673</td><td>-46.6095035669801</td></tr><tr><td>2014-09</td><td>Bookcases</td><td>2394.4698</td><td>794.2760000000001</td><td>201.46571217058047</td></tr><tr><td>2014-10</td><td>Bookcases</td><td>616.998</td><td>2394.4698</td><td>-74.23237494997849</td></tr><tr><td>2014-11</td><td>Bookcases</td><td>7263.713700000001</td><td>616.998</td><td>1077.2669765542191</td></tr><tr><td>2014-12</td><td>Bookcases</td><td>3054.3424999999997</td><td>7263.713700000001</td><td>-57.950676112138076</td></tr><tr><td>2015-01</td><td>Bookcases</td><td>1804.8476</td><td>3054.3424999999997</td><td>-40.90880115769596</td></tr><tr><td>2015-02</td><td>Bookcases</td><td>283.92</td><td>1804.8476</td><td>-84.26903191161404</td></tr><tr><td>2015-03</td><td>Bookcases</td><td>2625.422</td><td>283.92</td><td>824.7048464356157</td></tr><tr><td>2015-04</td><td>Bookcases</td><td>875.71</td><td>2625.422</td><td>-66.64498126396443</td></tr><tr><td>2015-05</td><td>Bookcases</td><td>1916.8174999999999</td><td>875.71</td><td>118.88724577771177</td></tr><tr><td>2015-06</td><td>Bookcases</td><td>482.94</td><td>1916.8174999999999</td><td>-74.8051131628337</td></tr><tr><td>2015-07</td><td>Bookcases</td><td>2860.384</td><td>482.94</td><td>492.28558413053383</td></tr><tr><td>2015-08</td><td>Bookcases</td><td>3804.9642000000003</td><td>2860.384</td><td>33.02284588362962</td></tr><tr><td>2015-09</td><td>Bookcases</td><td>10685.208999999999</td><td>3804.9642000000003</td><td>180.82285242000432</td></tr><tr><td>2015-10</td><td>Bookcases</td><td>2173.7709999999997</td><td>10685.208999999999</td><td>-79.65626128604502</td></tr><tr><td>2015-11</td><td>Bookcases</td><td>8377.345</td><td>2173.7709999999997</td><td>285.3830509285477</td></tr><tr><td>2015-12</td><td>Bookcases</td><td>2652.2421999999997</td><td>8377.345</td><td>-68.34030113359304</td></tr><tr><td>2016-01</td><td>Bookcases</td><td>2239.536</td><td>2652.2421999999997</td><td>-15.560652794077393</td></tr><tr><td>2016-02</td><td>Bookcases</td><td>239.98</td><td>2239.536</td><td>-89.28438748026377</td></tr><tr><td>2016-03</td><td>Bookcases</td><td>1091.855</td><td>239.98</td><td>354.97749812484375</td></tr><tr><td>2016-04</td><td>Bookcases</td><td>1557.768</td><td>1091.855</td><td>42.67169175394169</td></tr><tr><td>2016-06</td><td>Bookcases</td><td>2596.0429999999997</td><td>1557.768</td><td>66.6514525911432</td></tr><tr><td>2016-07</td><td>Bookcases</td><td>2540.651</td><td>2596.0429999999997</td><td>-2.1337088792442898</td></tr><tr><td>2016-08</td><td>Bookcases</td><td>562.2128</td><td>2540.651</td><td>-77.87130936126213</td></tr><tr><td>2016-09</td><td>Bookcases</td><td>6656.9959</td><td>562.2128</td><td>1084.070497861308</td></tr><tr><td>2016-10</td><td>Bookcases</td><td>1376.448</td><td>6656.9959</td><td>-79.32328604859137</td></tr><tr><td>2016-11</td><td>Bookcases</td><td>5797.274800000001</td><td>1376.448</td><td>321.1764483656484</td></tr><tr><td>2016-12</td><td>Bookcases</td><td>1616.7020000000002</td><td>5797.274800000001</td><td>-72.11272441320187</td></tr><tr><td>2017-01</td><td>Bookcases</td><td>297.92</td><td>1616.7020000000002</td><td>-81.57236151127418</td></tr><tr><td>2017-02</td><td>Bookcases</td><td>1125.7234</td><td>297.92</td><td>277.86096938775506</td></tr><tr><td>2017-03</td><td>Bookcases</td><td>1928.1928</td><td>1125.7234</td><td>71.28477563849165</td></tr><tr><td>2017-04</td><td>Bookcases</td><td>1978.5035999999998</td><td>1928.1928</td><td>2.6092204057602406</td></tr><tr><td>2017-05</td><td>Bookcases</td><td>3732.1331999999998</td><td>1978.5035999999998</td><td>88.63413743598952</td></tr><tr><td>2017-06</td><td>Bookcases</td><td>5309.0727</td><td>3732.1331999999998</td><td>42.253033734165754</td></tr><tr><td>2017-07</td><td>Bookcases</td><td>1700.275</td><td>5309.0727</td><td>-67.97416241823171</td></tr><tr><td>2017-08</td><td>Bookcases</td><td>460.092</td><td>1700.275</td><td>-72.94014203584713</td></tr><tr><td>2017-09</td><td>Bookcases</td><td>3635.856</td><td>460.092</td><td>690.2454291750346</td></tr><tr><td>2017-10</td><td>Bookcases</td><td>4079.7262</td><td>3635.856</td><td>12.208134755611878</td></tr><tr><td>2017-11</td><td>Bookcases</td><td>2122.687</td><td>4079.7262</td><td>-47.96986621308068</td></tr><tr><td>2017-12</td><td>Bookcases</td><td>3654.0978</td><td>2122.687</td><td>72.14491820979731</td></tr><tr><td>2014-01</td><td>Chairs</td><td>4187.700000000001</td><td>NULL</td><td>NULL</td></tr><tr><td>2014-02</td><td>Chairs</td><td>190.45800000000003</td><td>4187.700000000001</td><td>-95.45196647324306</td></tr><tr><td>2014-03</td><td>Chairs</td><td>5713.142</td><td>190.45800000000003</td><td>2899.6860200149113</td></tr><tr><td>2014-04</td><td>Chairs</td><td>3210.6659999999997</td><td>5713.142</td><td>-43.802096989712496</td></tr><tr><td>2014-05</td><td>Chairs</td><td>3675.109</td><td>3210.6659999999997</td><td>14.465628003660308</td></tr><tr><td>2014-06</td><td>Chairs</td><td>6456.001</td><td>3675.109</td><td>75.66828630116822</td></tr><tr><td>2014-07</td><td>Chairs</td><td>6364.9400000000005</td><td>6456.001</td><td>-1.4104861507921032</td></tr><tr><td>2014-08</td><td>Chairs</td><td>2590.242</td><td>6364.9400000000005</td><td>-59.30453389976967</td></tr><tr><td>2014-09</td><td>Chairs</td><td>13849.184999999998</td><td>2590.242</td><td>434.6676102078492</td></tr><tr><td>2014-10</td><td>Chairs</td><td>6486.6050000000005</td><td>13849.184999999998</td><td>-53.16255072049365</td></tr><tr><td>2014-11</td><td>Chairs</td><td>7282.554000000001</td><td>6486.6050000000005</td><td>12.27065622155196</td></tr><tr><td>2014-12</td><td>Chairs</td><td>17234.974000000002</td><td>7282.554000000001</td><td>136.66112190860517</td></tr><tr><td>2015-01</td><td>Chairs</td><td>3246.794</td><td>17234.974000000002</td><td>-81.1615961822745</td></tr><tr><td>2015-02</td><td>Chairs</td><td>2114.886</td><td>3246.794</td><td>-34.8623288080488</td></tr><tr><td>2015-03</td><td>Chairs</td><td>4085.2329999999997</td><td>2114.886</td><td>93.16563635108463</td></tr><tr><td>2015-04</td><td>Chairs</td><td>4271.621</td><td>4085.2329999999997</td><td>4.562481503502992</td></tr><tr><td>2015-05</td><td>Chairs</td><td>5681.933</td><td>4271.621</td><td>33.01585042305953</td></tr><tr><td>2015-06</td><td>Chairs</td><td>3937.888</td><td>5681.933</td><td>-30.6945717240946</td></tr><tr><td>2015-07</td><td>Chairs</td><td>7313.560999999999</td><td>3937.888</td><td>85.72293066740342</td></tr><tr><td>2015-08</td><td>Chairs</td><td>1439.0140000000001</td><td>7313.560999999999</td><td>-80.3240309337681</td></tr><tr><td>2015-09</td><td>Chairs</td><td>9519.923999999999</td><td>1439.0140000000001</td><td>561.5588173568846</td></tr><tr><td>2015-10</td><td>Chairs</td><td>7103.532</td><td>9519.923999999999</td><td>-25.382471540739182</td></tr><tr><td>2015-11</td><td>Chairs</td><td>12743.158</td><td>7103.532</td><td>79.3918574590781</td></tr><tr><td>2015-12</td><td>Chairs</td><td>10276.984999999999</td><td>12743.158</td><td>-19.352918640732547</td></tr><tr><td>2016-01</td><td>Chairs</td><td>1602.2240000000002</td><td>10276.984999999999</td><td>-84.40959094520426</td></tr><tr><td>2016-02</td><td>Chairs</td><td>1725.464</td><td>1602.2240000000002</td><td>7.691808386342968</td></tr><tr><td>2016-03</td><td>Chairs</td><td>6021.038</td><td>1725.464</td><td>248.95181817760323</td></tr><tr><td>2016-04</td><td>Chairs</td><td>8945.012</td><td>6021.038</td><td>48.56262325532577</td></tr><tr><td>2016-05</td><td>Chairs</td><td>7399.477</td><td>8945.012</td><td>-17.278176932574276</td></tr><tr><td>2016-06</td><td>Chairs</td><td>2634.7599999999998</td><td>7399.477</td><td>-64.39261855939279</td></tr><tr><td>2016-07</td><td>Chairs</td><td>5368.102</td><td>2634.7599999999998</td><td>103.74159316218557</td></tr><tr><td>2016-08</td><td>Chairs</td><td>4891.534</td><td>5368.102</td><td>-8.877774677157777</td></tr><tr><td>2016-09</td><td>Chairs</td><td>11296.44</td><td>4891.534</td><td>130.93859717626418</td></tr><tr><td>2016-10</td><td>Chairs</td><td>5910.879</td><td>11296.44</td><td>-47.674851546150826</td></tr><tr><td>2016-11</td><td>Chairs</td><td>13173.082999999999</td><td>5910.879</td><td>122.86165898506802</td></tr><tr><td>2016-12</td><td>Chairs</td><td>14950.632000000003</td><td>13173.082999999999</td><td>13.493796402861841</td></tr><tr><td>2017-01</td><td>Chairs</td><td>2248.4510000000005</td><td>14950.632000000003</td><td>-84.96082974953835</td></tr><tr><td>2017-02</td><td>Chairs</td><td>3552.132</td><td>2248.4510000000005</td><td>57.9812946779805</td></tr><tr><td>2017-03</td><td>Chairs</td><td>5524.914</td><td>3552.132</td><td>55.53796987274121</td></tr><tr><td>2017-04</td><td>Chairs</td><td>2099.286</td><td>5524.914</td><td>-62.003281861038914</td></tr><tr><td>2017-05</td><td>Chairs</td><td>9137.311</td><td>2099.286</td><td>335.25803535106695</td></tr><tr><td>2017-06</td><td>Chairs</td><td>8494.718</td><td>9137.311</td><td>-7.032626994966012</td></tr><tr><td>2017-07</td><td>Chairs</td><td>3969.748</td><td>8494.718</td><td>-53.26804256480322</td></tr><tr><td>2017-08</td><td>Chairs</td><td>9419.014000000001</td><td>3969.748</td><td>137.2698216612239</td></tr><tr><td>2017-09</td><td>Chairs</td><td>16911.669</td><td>9419.014000000001</td><td>79.54818837725477</td></tr><tr><td>2017-10</td><td>Chairs</td><td>4669.434000000001</td><td>16911.669</td><td>-72.38927748645033</td></tr><tr><td>2017-11</td><td>Chairs</td><td>14561.218000000004</td><td>4669.434000000001</td><td>211.84117818133848</td></tr><tr><td>2017-12</td><td>Chairs</td><td>14966.457999999997</td><td>14561.218000000004</td><td>2.783008948839255</td></tr><tr><td>2014-01</td><td>Furnishings</td><td>711.77</td><td>NULL</td><td>NULL</td></tr><tr><td>2014-02</td><td>Furnishings</td><td>392.98</td><td>711.77</td><td>-44.78834454950334</td></tr><tr><td>2014-03</td><td>Furnishings</td><td>480.12800000000004</td><td>392.98</td><td>22.176192172629655</td></tr><tr><td>2014-04</td><td>Furnishings</td><td>984.0460000000002</td><td>480.12800000000004</td><td>104.95492868568384</td></tr><tr><td>2014-05</td><td>Furnishings</td><td>780.166</td><td>984.0460000000002</td><td>-20.718543645317403</td></tr><tr><td>2014-06</td><td>Furnishings</td><td>432.75</td><td>780.166</td><td>-44.53103570265816</td></tr><tr><td>2014-07</td><td>Furnishings</td><td>902.622</td><td>432.75</td><td>108.57816291161177</td></tr><tr><td>2014-08</td><td>Furnishings</td><td>997.758</td><td>902.622</td><td>10.539960249140847</td></tr><tr><td>2014-09</td><td>Furnishings</td><td>2960.956</td><td>997.758</td><td>196.7609380230477</td></tr><tr><td>2014-10</td><td>Furnishings</td><td>621.812</td><td>2960.956</td><td>-78.99962039287311</td></tr><tr><td>2014-11</td><td>Furnishings</td><td>2483.762</td><td>621.812</td><td>299.439380391501</td></tr><tr><td>2014-12</td><td>Furnishings</td><td>2077.4840000000004</td><td>2483.762</td><td>-16.357364352945243</td></tr><tr><td>2015-01</td><td>Furnishings</td><td>1270.114</td><td>2077.4840000000004</td><td>-38.86287451551975</td></tr><tr><td>2015-02</td><td>Furnishings</td><td>206.10399999999998</td><td>1270.114</td><td>-83.77279519791136</td></tr><tr><td>2015-03</td><td>Furnishings</td><td>1435.958</td><td>206.10399999999998</td><td>596.715250553119</td></tr><tr><td>2015-04</td><td>Furnishings</td><td>2993.1879999999996</td><td>1435.958</td><td>108.44537235768729</td></tr><tr><td>2015-05</td><td>Furnishings</td><td>1532.1939999999997</td><td>2993.1879999999996</td><td>-48.81063267659766</td></tr><tr><td>2015-06</td><td>Furnishings</td><td>2496.9260000000004</td><td>1532.1939999999997</td><td>62.964089403822285</td></tr><tr><td>2015-07</td><td>Furnishings</td><td>1458.112</td><td>2496.9260000000004</td><td>-41.603715929106436</td></tr><tr><td>2015-08</td><td>Furnishings</td><td>800.252</td><td>1458.112</td><td>-45.11724750910767</td></tr><tr><td>2015-09</td><td>Furnishings</td><td>2199.624</td><td>800.252</td><td>174.86641707862023</td></tr><tr><td>2015-10</td><td>Furnishings</td><td>616.7600000000001</td><td>2199.624</td><td>-71.96066236775012</td></tr><tr><td>2015-11</td><td>Furnishings</td><td>3549.878</td><td>616.7600000000001</td><td>475.5687787794279</td></tr><tr><td>2015-12</td><td>Furnishings</td><td>2530.6020000000003</td><td>3549.878</td><td>-28.71298675616457</td></tr><tr><td>2016-01</td><td>Furnishings</td><td>1066.5140000000001</td><td>2530.6020000000003</td><td>-57.85532454333001</td></tr><tr><td>2016-02</td><td>Furnishings</td><td>851.9480000000001</td><td>1066.5140000000001</td><td>-20.118441952004382</td></tr><tr><td>2016-03</td><td>Furnishings</td><td>2279.726</td><td>851.9480000000001</td><td>167.5898059505979</td></tr><tr><td>2016-04</td><td>Furnishings</td><td>887.584</td><td>2279.726</td><td>-61.0661983062877</td></tr><tr><td>2016-05</td><td>Furnishings</td><td>2844.2079999999996</td><td>887.584</td><td>220.44381151530445</td></tr><tr><td>2016-06</td><td>Furnishings</td><td>1537.424</td><td>2844.2079999999996</td><td>-45.945444215050365</td></tr><tr><td>2016-07</td><td>Furnishings</td><td>1866.5580000000002</td><td>1537.424</td><td>21.408147654778396</td></tr><tr><td>2016-08</td><td>Furnishings</td><td>810.5540000000001</td><td>1866.5580000000002</td><td>-56.57493632665045</td></tr><tr><td>2016-09</td><td>Furnishings</td><td>3661.826</td><td>810.5540000000001</td><td>351.76829674518905</td></tr><tr><td>2016-10</td><td>Furnishings</td><td>2484.4819999999995</td><td>3661.826</td><td>-32.15182807703044</td></tr><tr><td>2016-11</td><td>Furnishings</td><td>4034.778000000001</td><td>2484.4819999999995</td><td>62.39916409134789</td></tr><tr><td>2016-12</td><td>Furnishings</td><td>5548.522000000002</td><td>4034.778000000001</td><td>37.51740492289787</td></tr><tr><td>2017-01</td><td>Furnishings</td><td>931.224</td><td>5548.522000000002</td><td>-83.21671969580368</td></tr><tr><td>2017-02</td><td>Furnishings</td><td>864.642</td><td>931.224</td><td>-7.149944589056982</td></tr><tr><td>2017-03</td><td>Furnishings</td><td>963.234</td><td>864.642</td><td>11.402638317361403</td></tr><tr><td>2017-04</td><td>Furnishings</td><td>2673.5440000000003</td><td>963.234</td><td>177.55913931609558</td></tr><tr><td>2017-05</td><td>Furnishings</td><td>1736.86</td><td>2673.5440000000003</td><td>-35.035293976833756</td></tr><tr><td>2017-06</td><td>Furnishings</td><td>1456.374</td><td>1736.86</td><td>-16.149027555473662</td></tr><tr><td>2017-07</td><td>Furnishings</td><td>3381.7599999999998</td><td>1456.374</td><td>132.20409043281464</td></tr><tr><td>2017-08</td><td>Furnishings</td><td>1425.0300000000002</td><td>3381.7599999999998</td><td>-57.86129116199847</td></tr><tr><td>2017-09</td><td>Furnishings</td><td>2982.504</td><td>1425.0300000000002</td><td>109.29412012378683</td></tr><tr><td>2017-10</td><td>Furnishings</td><td>1724.1320000000003</td><td>2982.504</td><td>-42.191795886946</td></tr><tr><td>2017-11</td><td>Furnishings</td><td>6714.122</td><td>1724.1320000000003</td><td>289.4204156062296</td></tr><tr><td>2017-12</td><td>Furnishings</td><td>4061.6679999999997</td><td>6714.122</td><td>-39.50559730669178</td></tr><tr><td>2014-01</td><td>Tables</td><td>333</td><td>NULL</td><td>NULL</td></tr><tr><td>2014-02</td><td>Tables</td><td>1256.22</td><td>333</td><td>277.2432432432432</td></tr><tr><td>2014-03</td><td>Tables</td><td>6674.240000000001</td><td>1256.22</td><td>431.29547372275556</td></tr><tr><td>2014-04</td><td>Tables</td><td>3441.626</td><td>6674.240000000001</td><td>-48.43418876156686</td></tr><tr><td>2014-05</td><td>Tables</td><td>1816.8809999999999</td><td>3441.626</td><td>-47.2086449835049</td></tr><tr><td>2014-06</td><td>Tables</td><td>5557.8009999999995</td><td>1816.8809999999999</td><td>205.89790965946582</td></tr><tr><td>2014-07</td><td>Tables</td><td>2065.816</td><td>5557.8009999999995</td><td>-62.83033523510467</td></tr><tr><td>2014-08</td><td>Tables</td><td>2938.0705000000003</td><td>2065.816</td><td>42.22324253466914</td></tr><tr><td>2014-09</td><td>Tables</td><td>4611.870000000001</td><td>2938.0705000000003</td><td>56.9693443366999</td></tr><tr><td>2014-10</td><td>Tables</td><td>4578.832</td><td>4611.870000000001</td><td>-0.7163688482112561</td></tr><tr><td>2014-11</td><td>Tables</td><td>4534.842999999999</td><td>4578.832</td><td>-0.960703515656425</td></tr><tr><td>2014-12</td><td>Tables</td><td>8279.166</td><td>4534.842999999999</td><td>82.56786398117865</td></tr><tr><td>2015-01</td><td>Tables</td><td>5418.186000000001</td><td>8279.166</td><td>-34.556379229502085</td></tr><tr><td>2015-02</td><td>Tables</td><td>529.464</td><td>5418.186000000001</td><td>-90.22802096495026</td></tr><tr><td>2015-03</td><td>Tables</td><td>4353.17</td><td>529.464</td><td>722.1843222579815</td></tr><tr><td>2015-04</td><td>Tables</td><td>2335.1794999999997</td><td>4353.17</td><td>-46.356804351771245</td></tr><tr><td>2015-05</td><td>Tables</td><td>244.006</td><td>2335.1794999999997</td><td>-89.55086750290504</td></tr><tr><td>2015-06</td><td>Tables</td><td>796.425</td><td>244.006</td><td>226.3956624017442</td></tr><tr><td>2015-07</td><td>Tables</td><td>2042.3629999999998</td><td>796.425</td><td>156.44134727061555</td></tr><tr><td>2015-08</td><td>Tables</td><td>3594.3619999999996</td><td>2042.3629999999998</td><td>75.99036018572603</td></tr><tr><td>2015-09</td><td>Tables</td><td>3868.266</td><td>3594.3619999999996</td><td>7.620378804360843</td></tr><tr><td>2015-10</td><td>Tables</td><td>2132.5605</td><td>3868.266</td><td>-44.8703760289494</td></tr><tr><td>2015-11</td><td>Tables</td><td>6210.4515</td><td>2132.5605</td><td>191.22041320750338</td></tr><tr><td>2015-12</td><td>Tables</td><td>7625.989999999999</td><td>6210.4515</td><td>22.792843644298628</td></tr><tr><td>2016-01</td><td>Tables</td><td>2714.4689999999996</td><td>7625.989999999999</td><td>-64.40502806848684</td></tr><tr><td>2016-02</td><td>Tables</td><td>1108.159</td><td>2714.4689999999996</td><td>-59.17584617838699</td></tr><tr><td>2016-03</td><td>Tables</td><td>3408.4729999999995</td><td>1108.159</td><td>207.57977871406533</td></tr><tr><td>2016-04</td><td>Tables</td><td>1821.726</td><td>3408.4729999999995</td><td>-46.55301655609417</td></tr><tr><td>2016-05</td><td>Tables</td><td>4876.15</td><td>1821.726</td><td>167.66648771549615</td></tr><tr><td>2016-06</td><td>Tables</td><td>6302.345</td><td>4876.15</td><td>29.24838243286201</td></tr><tr><td>2016-07</td><td>Tables</td><td>3293.208</td><td>6302.345</td><td>-47.746307128537076</td></tr><tr><td>2016-08</td><td>Tables</td><td>6218.931500000001</td><td>3293.208</td><td>88.8411390959818</td></tr><tr><td>2016-09</td><td>Tables</td><td>5647.619</td><td>6218.931500000001</td><td>-9.18666655196316</td></tr><tr><td>2016-10</td><td>Tables</td><td>2100.768</td><td>5647.619</td><td>-62.80258990558676</td></tr><tr><td>2016-11</td><td>Tables</td><td>8778.493</td><td>2100.768</td><td>317.87065492239026</td></tr><tr><td>2016-12</td><td>Tables</td><td>14562.858999999999</td><td>8778.493</td><td>65.892471521023</td></tr><tr><td>2017-01</td><td>Tables</td><td>2486.437</td><td>14562.858999999999</td><td>-82.92617541651677</td></tr><tr><td>2017-02</td><td>Tables</td><td>1323.8400000000001</td><td>2486.437</td><td>-46.75754905513391</td></tr><tr><td>2017-03</td><td>Tables</td><td>2477.104</td><td>1323.8400000000001</td><td>87.11505922165817</td></tr><tr><td>2017-04</td><td>Tables</td><td>2314.6245</td><td>2477.104</td><td>-6.559252255860066</td></tr><tr><td>2017-05</td><td>Tables</td><td>2351.254</td><td>2314.6245</td><td>1.5825245088350186</td></tr><tr><td>2017-06</td><td>Tables</td><td>3748.422</td><td>2351.254</td><td>59.422248723447154</td></tr><tr><td>2017-07</td><td>Tables</td><td>2761.239</td><td>3748.422</td><td>-26.33596217288235</td></tr><tr><td>2017-08</td><td>Tables</td><td>4137.738</td><td>2761.239</td><td>49.85077351145628</td></tr><tr><td>2017-09</td><td>Tables</td><td>5498.177</td><td>4137.738</td><td>32.87880962980255</td></tr><tr><td>2017-10</td><td>Tables</td><td>11410.776000000002</td><td>5498.177</td><td>107.53744377454568</td></tr><tr><td>2017-11</td><td>Tables</td><td>13658.687999999998</td><td>11410.776000000002</td><td>19.699904721642035</td></tr><tr><td>2017-12</td><td>Tables</td><td>8725.243000000002</td><td>13658.687999999998</td><td>-36.11946476850483</td></tr></table>"
                    },
                    "metadata": {
                        "azdata_chartOptions": {
                            "type": "line",
                            "dataDirection": "vertical",
                            "columnsAsLabels": true,
                            "labelFirstColumn": false,
                            "legendPosition": "top",
                            "dataType": "number"
                        }
                    }
                }
            ],
            "execution_count": 5
        },
        {
            "cell_type": "markdown",
            "source": [
                "## Project 9: Profitability Analysis by Region\n",
                "\n",
                "### Objective: Analyze profitability across different regions to optimize regional sales strategies."
            ],
            "metadata": {
                "azdata_cell_guid": "9dc48cf2-f8aa-4fdc-ac64-43e95fac4288"
            },
            "attachments": {}
        },
        {
            "cell_type": "code",
            "source": [
                "-- 1. Calculate the total profit and profit margin for each region.\r\n",
                "\r\n",
                "SELECT \r\n",
                "    region,\r\n",
                "    SUM(profit) AS total_profit,\r\n",
                "    (SUM(profit) / SUM(CAST(total_sales AS FLOAT))) * 100 AS profit_margin\r\n",
                "FROM \r\n",
                "    Sales\r\n",
                "GROUP BY \r\n",
                "    region;\r\n",
                ""
            ],
            "metadata": {
                "azdata_cell_guid": "b4cad605-1615-4224-a994-00d49ae759b3",
                "language": "sql",
                "tags": []
            },
            "outputs": [
                {
                    "output_type": "display_data",
                    "data": {
                        "text/html": "(4 rows affected)"
                    },
                    "metadata": {}
                },
                {
                    "output_type": "display_data",
                    "data": {
                        "text/html": "Total execution time: 00:00:00.010"
                    },
                    "metadata": {}
                },
                {
                    "output_type": "execute_result",
                    "metadata": {
                        "azdata_chartOptions": {
                            "type": "bar",
                            "dataDirection": "vertical",
                            "columnsAsLabels": true,
                            "labelFirstColumn": false,
                            "legendPosition": "top",
                            "yAxisLabel": "Percent or Profit",
                            "xAxisLabel": "Region"
                        }
                    },
                    "execution_count": 5,
                    "data": {
                        "application/vnd.dataresource+json": {
                            "schema": {
                                "fields": [
                                    {
                                        "name": "region"
                                    },
                                    {
                                        "name": "total_profit"
                                    },
                                    {
                                        "name": "profit_margin"
                                    }
                                ]
                            },
                            "data": [
                                {
                                    "region": "East",
                                    "total_profit": "3046.1657999999993",
                                    "profit_margin": "1.4624553228853567"
                                },
                                {
                                    "region": "South",
                                    "total_profit": "6771.206099999996",
                                    "profit_margin": "5.772618983517321"
                                },
                                {
                                    "region": "West",
                                    "total_profit": "11504.95029999999",
                                    "profit_margin": "4.55438238807615"
                                },
                                {
                                    "region": "Central",
                                    "total_profit": "-2871.0494000000003",
                                    "profit_margin": "-1.7528077613759032"
                                }
                            ]
                        },
                        "text/html": [
                            "<table>",
                            "<tr><th>region</th><th>total_profit</th><th>profit_margin</th></tr>",
                            "<tr><td>East</td><td>3046.1657999999993</td><td>1.4624553228853567</td></tr>",
                            "<tr><td>South</td><td>6771.206099999996</td><td>5.772618983517321</td></tr>",
                            "<tr><td>West</td><td>11504.95029999999</td><td>4.55438238807615</td></tr>",
                            "<tr><td>Central</td><td>-2871.0494000000003</td><td>-1.7528077613759032</td></tr>",
                            "</table>"
                        ]
                    }
                }
            ],
            "execution_count": 5
        },
        {
            "cell_type": "code",
            "source": [
                "-- 2. Rank regions by profitability and total sales volume\r\n",
                "\r\n",
                "WITH RegionProfitSales AS (\r\n",
                "    SELECT \r\n",
                "        region,\r\n",
                "        SUM(profit) AS total_profit,\r\n",
                "        SUM(CAST(total_sales AS FLOAT)) AS total_sales\r\n",
                "    FROM \r\n",
                "        Sales\r\n",
                "    GROUP BY \r\n",
                "        region\r\n",
                ")\r\n",
                "SELECT \r\n",
                "    region,\r\n",
                "    total_profit,\r\n",
                "    RANK() OVER (ORDER BY total_profit DESC) AS profitability_rank,\r\n",
                "    total_sales,\r\n",
                "    RANK() OVER (ORDER BY total_sales DESC) AS sales_volume_rank\r\n",
                "FROM \r\n",
                "    RegionProfitSales\r\n",
                "ORDER BY sales_volume_rank;"
            ],
            "metadata": {
                "language": "sql",
                "azdata_cell_guid": "6f4b4824-781e-4eb0-a541-5c0e1ceef963"
            },
            "outputs": [
                {
                    "output_type": "display_data",
                    "data": {
                        "text/html": "(4 rows affected)"
                    },
                    "metadata": {}
                },
                {
                    "output_type": "display_data",
                    "data": {
                        "text/html": "Total execution time: 00:00:00.018"
                    },
                    "metadata": {}
                },
                {
                    "output_type": "execute_result",
                    "metadata": {
                        "azdata_chartOptions": {
                            "type": "bar",
                            "dataDirection": "vertical",
                            "columnsAsLabels": true,
                            "labelFirstColumn": false,
                            "legendPosition": "top"
                        }
                    },
                    "execution_count": 9,
                    "data": {
                        "application/vnd.dataresource+json": {
                            "schema": {
                                "fields": [
                                    {
                                        "name": "region"
                                    },
                                    {
                                        "name": "total_profit"
                                    },
                                    {
                                        "name": "profitability_rank"
                                    },
                                    {
                                        "name": "total_sales"
                                    },
                                    {
                                        "name": "sales_volume_rank"
                                    }
                                ]
                            },
                            "data": [
                                {
                                    "region": "West",
                                    "total_profit": "11504.95029999999",
                                    "profitability_rank": "1",
                                    "total_sales": "252612.74350000022",
                                    "sales_volume_rank": "1"
                                },
                                {
                                    "region": "East",
                                    "total_profit": "3046.1657999999993",
                                    "profitability_rank": "3",
                                    "total_sales": "208291.20400000017",
                                    "sales_volume_rank": "2"
                                },
                                {
                                    "region": "Central",
                                    "total_profit": "-2871.0494000000003",
                                    "profitability_rank": "4",
                                    "total_sales": "163797.16379999995",
                                    "sales_volume_rank": "3"
                                },
                                {
                                    "region": "South",
                                    "total_profit": "6771.206099999996",
                                    "profitability_rank": "2",
                                    "total_sales": "117298.68400000002",
                                    "sales_volume_rank": "4"
                                }
                            ]
                        },
                        "text/html": [
                            "<table>",
                            "<tr><th>region</th><th>total_profit</th><th>profitability_rank</th><th>total_sales</th><th>sales_volume_rank</th></tr>",
                            "<tr><td>West</td><td>11504.95029999999</td><td>1</td><td>252612.74350000022</td><td>1</td></tr>",
                            "<tr><td>East</td><td>3046.1657999999993</td><td>3</td><td>208291.20400000017</td><td>2</td></tr>",
                            "<tr><td>Central</td><td>-2871.0494000000003</td><td>4</td><td>163797.16379999995</td><td>3</td></tr>",
                            "<tr><td>South</td><td>6771.206099999996</td><td>2</td><td>117298.68400000002</td><td>4</td></tr>",
                            "</table>"
                        ]
                    }
                }
            ],
            "execution_count": 9
        },
        {
            "cell_type": "code",
            "source": [
                "--  3. Identify regions with declining sales and provide insights on potential causes.\r\n",
                "-- Identifying Declining Sales: We can compare the total sales year-over-year (from 2014 to 2017) for each region. \r\n",
                "-- If the sales decrease across consecutive years, that region can be flagged as having declining sales.\r\n",
                "WITH YearlySales AS (\r\n",
                "    SELECT \r\n",
                "        region,\r\n",
                "        YEAR(order_date) AS order_year,\r\n",
                "        SUM(CAST(total_sales AS FLOAT)) AS total_sales\r\n",
                "    FROM \r\n",
                "        Sales\r\n",
                "    GROUP BY \r\n",
                "        region, YEAR(order_date)\r\n",
                ")\r\n",
                "SELECT \r\n",
                "    region,\r\n",
                "    order_year,\r\n",
                "    total_sales,\r\n",
                "    LAG(total_sales, 1) OVER (PARTITION BY region ORDER BY order_year) AS previous_year_sales,\r\n",
                "    (total_sales - LAG(total_sales, 1) OVER (PARTITION BY region ORDER BY order_year)) AS sales_change\r\n",
                "FROM \r\n",
                "    YearlySales\r\n",
                "ORDER BY \r\n",
                "    region, order_year;\r\n",
                ""
            ],
            "metadata": {
                "language": "sql",
                "azdata_cell_guid": "59116da6-79c6-4352-9b72-ea012a32b2d9",
                "tags": []
            },
            "outputs": [
                {
                    "output_type": "display_data",
                    "data": {
                        "text/html": "(16 rows affected)"
                    },
                    "metadata": {}
                },
                {
                    "output_type": "display_data",
                    "data": {
                        "text/html": "Total execution time: 00:00:00.019"
                    },
                    "metadata": {}
                },
                {
                    "output_type": "execute_result",
                    "metadata": {
                        "azdata_chartOptions": {
                            "type": "line",
                            "dataDirection": "vertical",
                            "columnsAsLabels": true,
                            "labelFirstColumn": false,
                            "legendPosition": "top",
                            "dataType": "number"
                        }
                    },
                    "execution_count": 11,
                    "data": {
                        "application/vnd.dataresource+json": {
                            "schema": {
                                "fields": [
                                    {
                                        "name": "region"
                                    },
                                    {
                                        "name": "order_year"
                                    },
                                    {
                                        "name": "total_sales"
                                    },
                                    {
                                        "name": "previous_year_sales"
                                    },
                                    {
                                        "name": "sales_change"
                                    }
                                ]
                            },
                            "data": [
                                {
                                    "region": "Central",
                                    "order_year": "2014",
                                    "total_sales": "32909.663600000014",
                                    "previous_year_sales": "NULL",
                                    "sales_change": "NULL"
                                },
                                {
                                    "region": "Central",
                                    "order_year": "2015",
                                    "total_sales": "35592.04699999999",
                                    "previous_year_sales": "32909.663600000014",
                                    "sales_change": "2682.383399999977"
                                },
                                {
                                    "region": "Central",
                                    "order_year": "2016",
                                    "total_sales": "50773.182",
                                    "previous_year_sales": "35592.04699999999",
                                    "sales_change": "15181.13500000001"
                                },
                                {
                                    "region": "Central",
                                    "order_year": "2017",
                                    "total_sales": "44522.27119999998",
                                    "previous_year_sales": "50773.182",
                                    "sales_change": "-6250.91080000002"
                                },
                                {
                                    "region": "East",
                                    "order_year": "2014",
                                    "total_sales": "47232.73900000003",
                                    "previous_year_sales": "NULL",
                                    "sales_change": "NULL"
                                },
                                {
                                    "region": "East",
                                    "order_year": "2015",
                                    "total_sales": "53817.43199999998",
                                    "previous_year_sales": "47232.73900000003",
                                    "sales_change": "6584.692999999948"
                                },
                                {
                                    "region": "East",
                                    "order_year": "2016",
                                    "total_sales": "46387.171999999984",
                                    "previous_year_sales": "53817.43199999998",
                                    "sales_change": "-7430.259999999995"
                                },
                                {
                                    "region": "East",
                                    "order_year": "2017",
                                    "total_sales": "60853.86100000003",
                                    "previous_year_sales": "46387.171999999984",
                                    "sales_change": "14466.68900000005"
                                },
                                {
                                    "region": "South",
                                    "order_year": "2014",
                                    "total_sales": "26968.002499999988",
                                    "previous_year_sales": "NULL",
                                    "sales_change": "NULL"
                                },
                                {
                                    "region": "South",
                                    "order_year": "2015",
                                    "total_sales": "24103.814499999993",
                                    "previous_year_sales": "26968.002499999988",
                                    "sales_change": "-2864.1879999999946"
                                },
                                {
                                    "region": "South",
                                    "order_year": "2016",
                                    "total_sales": "27921.441499999983",
                                    "previous_year_sales": "24103.814499999993",
                                    "sales_change": "3817.6269999999895"
                                },
                                {
                                    "region": "South",
                                    "order_year": "2017",
                                    "total_sales": "38305.42549999999",
                                    "previous_year_sales": "27921.441499999983",
                                    "sales_change": "10383.984000000008"
                                },
                                {
                                    "region": "West",
                                    "order_year": "2014",
                                    "total_sales": "50082.44799999998",
                                    "previous_year_sales": "NULL",
                                    "sales_change": "NULL"
                                },
                                {
                                    "region": "West",
                                    "order_year": "2015",
                                    "total_sales": "57004.94349999999",
                                    "previous_year_sales": "50082.44799999998",
                                    "sales_change": "6922.4955000000045"
                                },
                                {
                                    "region": "West",
                                    "order_year": "2016",
                                    "total_sales": "73819.64049999994",
                                    "previous_year_sales": "57004.94349999999",
                                    "sales_change": "16814.69699999995"
                                },
                                {
                                    "region": "West",
                                    "order_year": "2017",
                                    "total_sales": "71705.71149999999",
                                    "previous_year_sales": "73819.64049999994",
                                    "sales_change": "-2113.9289999999455"
                                }
                            ]
                        },
                        "text/html": [
                            "<table>",
                            "<tr><th>region</th><th>order_year</th><th>total_sales</th><th>previous_year_sales</th><th>sales_change</th></tr>",
                            "<tr><td>Central</td><td>2014</td><td>32909.663600000014</td><td>NULL</td><td>NULL</td></tr>",
                            "<tr><td>Central</td><td>2015</td><td>35592.04699999999</td><td>32909.663600000014</td><td>2682.383399999977</td></tr>",
                            "<tr><td>Central</td><td>2016</td><td>50773.182</td><td>35592.04699999999</td><td>15181.13500000001</td></tr>",
                            "<tr><td>Central</td><td>2017</td><td>44522.27119999998</td><td>50773.182</td><td>-6250.91080000002</td></tr>",
                            "<tr><td>East</td><td>2014</td><td>47232.73900000003</td><td>NULL</td><td>NULL</td></tr>",
                            "<tr><td>East</td><td>2015</td><td>53817.43199999998</td><td>47232.73900000003</td><td>6584.692999999948</td></tr>",
                            "<tr><td>East</td><td>2016</td><td>46387.171999999984</td><td>53817.43199999998</td><td>-7430.259999999995</td></tr>",
                            "<tr><td>East</td><td>2017</td><td>60853.86100000003</td><td>46387.171999999984</td><td>14466.68900000005</td></tr>",
                            "<tr><td>South</td><td>2014</td><td>26968.002499999988</td><td>NULL</td><td>NULL</td></tr>",
                            "<tr><td>South</td><td>2015</td><td>24103.814499999993</td><td>26968.002499999988</td><td>-2864.1879999999946</td></tr>",
                            "<tr><td>South</td><td>2016</td><td>27921.441499999983</td><td>24103.814499999993</td><td>3817.6269999999895</td></tr>",
                            "<tr><td>South</td><td>2017</td><td>38305.42549999999</td><td>27921.441499999983</td><td>10383.984000000008</td></tr>",
                            "<tr><td>West</td><td>2014</td><td>50082.44799999998</td><td>NULL</td><td>NULL</td></tr>",
                            "<tr><td>West</td><td>2015</td><td>57004.94349999999</td><td>50082.44799999998</td><td>6922.4955000000045</td></tr>",
                            "<tr><td>West</td><td>2016</td><td>73819.64049999994</td><td>57004.94349999999</td><td>16814.69699999995</td></tr>",
                            "<tr><td>West</td><td>2017</td><td>71705.71149999999</td><td>73819.64049999994</td><td>-2113.9289999999455</td></tr>",
                            "</table>"
                        ]
                    }
                }
            ],
            "execution_count": 11
        },
        {
            "cell_type": "code",
            "source": [
                "WITH YearlySalesDetails AS (\r\n",
                "    SELECT \r\n",
                "        region,\r\n",
                "        YEAR(order_date) AS order_year,\r\n",
                "        ship_mode,\r\n",
                "        SUM(CAST(total_sales AS FLOAT)) AS total_sales\r\n",
                "    FROM \r\n",
                "        Sales\r\n",
                "    GROUP BY \r\n",
                "        region, YEAR(order_date), ship_mode\r\n",
                ")\r\n",
                "SELECT \r\n",
                "    region,\r\n",
                "    order_year,\r\n",
                "    ship_mode,\r\n",
                "    total_sales,\r\n",
                "    LAG(total_sales, 1) OVER (PARTITION BY region, ship_mode ORDER BY order_year) AS previous_year_sales,\r\n",
                "    (total_sales - LAG(total_sales, 1) OVER (PARTITION BY region, ship_mode ORDER BY order_year)) AS sales_change\r\n",
                "FROM \r\n",
                "    YearlySalesDetails\r\n",
                "ORDER BY \r\n",
                "    region, order_year, ship_mode;\r\n",
                ""
            ],
            "metadata": {
                "language": "sql",
                "azdata_cell_guid": "18e84aef-847c-4427-8c26-30ec6aa5fe2c"
            },
            "outputs": [
                {
                    "output_type": "display_data",
                    "data": {
                        "text/html": "(64 rows affected)"
                    },
                    "metadata": {}
                },
                {
                    "output_type": "display_data",
                    "data": {
                        "text/html": "Total execution time: 00:00:00.036"
                    },
                    "metadata": {}
                },
                {
                    "output_type": "execute_result",
                    "metadata": {
                        "azdata_chartOptions": {
                            "type": "line",
                            "dataDirection": "vertical",
                            "columnsAsLabels": true,
                            "labelFirstColumn": false,
                            "legendPosition": "top",
                            "dataType": "number"
                        }
                    },
                    "execution_count": 12,
                    "data": {
                        "application/vnd.dataresource+json": {
                            "schema": {
                                "fields": [
                                    {
                                        "name": "region"
                                    },
                                    {
                                        "name": "order_year"
                                    },
                                    {
                                        "name": "ship_mode"
                                    },
                                    {
                                        "name": "total_sales"
                                    },
                                    {
                                        "name": "previous_year_sales"
                                    },
                                    {
                                        "name": "sales_change"
                                    }
                                ]
                            },
                            "data": [
                                {
                                    "region": "Central",
                                    "order_year": "2014",
                                    "ship_mode": "First Class",
                                    "total_sales": "5492.114",
                                    "previous_year_sales": "NULL",
                                    "sales_change": "NULL"
                                },
                                {
                                    "region": "Central",
                                    "order_year": "2014",
                                    "ship_mode": "Same Day",
                                    "total_sales": "25.16",
                                    "previous_year_sales": "NULL",
                                    "sales_change": "NULL"
                                },
                                {
                                    "region": "Central",
                                    "order_year": "2014",
                                    "ship_mode": "Second Class",
                                    "total_sales": "6984.8",
                                    "previous_year_sales": "NULL",
                                    "sales_change": "NULL"
                                },
                                {
                                    "region": "Central",
                                    "order_year": "2014",
                                    "ship_mode": "Standard Class",
                                    "total_sales": "20407.589600000003",
                                    "previous_year_sales": "NULL",
                                    "sales_change": "NULL"
                                },
                                {
                                    "region": "Central",
                                    "order_year": "2015",
                                    "ship_mode": "First Class",
                                    "total_sales": "3291.055",
                                    "previous_year_sales": "5492.114",
                                    "sales_change": "-2201.0589999999997"
                                },
                                {
                                    "region": "Central",
                                    "order_year": "2015",
                                    "ship_mode": "Same Day",
                                    "total_sales": "3858.2040000000006",
                                    "previous_year_sales": "25.16",
                                    "sales_change": "3833.044000000001"
                                },
                                {
                                    "region": "Central",
                                    "order_year": "2015",
                                    "ship_mode": "Second Class",
                                    "total_sales": "5048.044400000001",
                                    "previous_year_sales": "6984.8",
                                    "sales_change": "-1936.7555999999995"
                                },
                                {
                                    "region": "Central",
                                    "order_year": "2015",
                                    "ship_mode": "Standard Class",
                                    "total_sales": "23394.743599999987",
                                    "previous_year_sales": "20407.589600000003",
                                    "sales_change": "2987.153999999984"
                                },
                                {
                                    "region": "Central",
                                    "order_year": "2016",
                                    "ship_mode": "First Class",
                                    "total_sales": "4057.5588000000002",
                                    "previous_year_sales": "3291.055",
                                    "sales_change": "766.5038000000004"
                                },
                                {
                                    "region": "Central",
                                    "order_year": "2016",
                                    "ship_mode": "Same Day",
                                    "total_sales": "2514.702",
                                    "previous_year_sales": "3858.2040000000006",
                                    "sales_change": "-1343.5020000000004"
                                },
                                {
                                    "region": "Central",
                                    "order_year": "2016",
                                    "ship_mode": "Second Class",
                                    "total_sales": "12716.092599999996",
                                    "previous_year_sales": "5048.044400000001",
                                    "sales_change": "7668.048199999996"
                                },
                                {
                                    "region": "Central",
                                    "order_year": "2016",
                                    "ship_mode": "Standard Class",
                                    "total_sales": "31484.8286",
                                    "previous_year_sales": "23394.743599999987",
                                    "sales_change": "8090.085000000014"
                                },
                                {
                                    "region": "Central",
                                    "order_year": "2017",
                                    "ship_mode": "First Class",
                                    "total_sales": "8197.097600000001",
                                    "previous_year_sales": "4057.5588000000002",
                                    "sales_change": "4139.5388"
                                },
                                {
                                    "region": "Central",
                                    "order_year": "2017",
                                    "ship_mode": "Same Day",
                                    "total_sales": "2444.2200000000003",
                                    "previous_year_sales": "2514.702",
                                    "sales_change": "-70.48199999999997"
                                },
                                {
                                    "region": "Central",
                                    "order_year": "2017",
                                    "ship_mode": "Second Class",
                                    "total_sales": "6438.1864",
                                    "previous_year_sales": "12716.092599999996",
                                    "sales_change": "-6277.906199999997"
                                },
                                {
                                    "region": "Central",
                                    "order_year": "2017",
                                    "ship_mode": "Standard Class",
                                    "total_sales": "27442.767199999995",
                                    "previous_year_sales": "31484.8286",
                                    "sales_change": "-4042.061400000006"
                                },
                                {
                                    "region": "East",
                                    "order_year": "2014",
                                    "ship_mode": "First Class",
                                    "total_sales": "6036.494",
                                    "previous_year_sales": "NULL",
                                    "sales_change": "NULL"
                                },
                                {
                                    "region": "East",
                                    "order_year": "2014",
                                    "ship_mode": "Same Day",
                                    "total_sales": "1989.913",
                                    "previous_year_sales": "NULL",
                                    "sales_change": "NULL"
                                },
                                {
                                    "region": "East",
                                    "order_year": "2014",
                                    "ship_mode": "Second Class",
                                    "total_sales": "15014.774999999998",
                                    "previous_year_sales": "NULL",
                                    "sales_change": "NULL"
                                },
                                {
                                    "region": "East",
                                    "order_year": "2014",
                                    "ship_mode": "Standard Class",
                                    "total_sales": "24191.557",
                                    "previous_year_sales": "NULL",
                                    "sales_change": "NULL"
                                },
                                {
                                    "region": "East",
                                    "order_year": "2015",
                                    "ship_mode": "First Class",
                                    "total_sales": "8574.156999999997",
                                    "previous_year_sales": "6036.494",
                                    "sales_change": "2537.6629999999977"
                                },
                                {
                                    "region": "East",
                                    "order_year": "2015",
                                    "ship_mode": "Same Day",
                                    "total_sales": "2349.955",
                                    "previous_year_sales": "1989.913",
                                    "sales_change": "360.0419999999999"
                                },
                                {
                                    "region": "East",
                                    "order_year": "2015",
                                    "ship_mode": "Second Class",
                                    "total_sales": "7132.327999999999",
                                    "previous_year_sales": "15014.774999999998",
                                    "sales_change": "-7882.446999999999"
                                },
                                {
                                    "region": "East",
                                    "order_year": "2015",
                                    "ship_mode": "Standard Class",
                                    "total_sales": "35760.991999999984",
                                    "previous_year_sales": "24191.557",
                                    "sales_change": "11569.434999999983"
                                },
                                {
                                    "region": "East",
                                    "order_year": "2016",
                                    "ship_mode": "First Class",
                                    "total_sales": "5448.398999999999",
                                    "previous_year_sales": "8574.156999999997",
                                    "sales_change": "-3125.757999999998"
                                },
                                {
                                    "region": "East",
                                    "order_year": "2016",
                                    "ship_mode": "Same Day",
                                    "total_sales": "4247.044999999999",
                                    "previous_year_sales": "2349.955",
                                    "sales_change": "1897.0899999999992"
                                },
                                {
                                    "region": "East",
                                    "order_year": "2016",
                                    "ship_mode": "Second Class",
                                    "total_sales": "7744.7699999999995",
                                    "previous_year_sales": "7132.327999999999",
                                    "sales_change": "612.4420000000009"
                                },
                                {
                                    "region": "East",
                                    "order_year": "2016",
                                    "ship_mode": "Standard Class",
                                    "total_sales": "28946.957999999984",
                                    "previous_year_sales": "35760.991999999984",
                                    "sales_change": "-6814.034"
                                },
                                {
                                    "region": "East",
                                    "order_year": "2017",
                                    "ship_mode": "First Class",
                                    "total_sales": "9351.594",
                                    "previous_year_sales": "5448.398999999999",
                                    "sales_change": "3903.1949999999997"
                                },
                                {
                                    "region": "East",
                                    "order_year": "2017",
                                    "ship_mode": "Same Day",
                                    "total_sales": "4265.658",
                                    "previous_year_sales": "4247.044999999999",
                                    "sales_change": "18.613000000001193"
                                },
                                {
                                    "region": "East",
                                    "order_year": "2017",
                                    "ship_mode": "Second Class",
                                    "total_sales": "14144.064",
                                    "previous_year_sales": "7744.7699999999995",
                                    "sales_change": "6399.294000000001"
                                },
                                {
                                    "region": "East",
                                    "order_year": "2017",
                                    "ship_mode": "Standard Class",
                                    "total_sales": "33092.545",
                                    "previous_year_sales": "28946.957999999984",
                                    "sales_change": "4145.587000000014"
                                },
                                {
                                    "region": "South",
                                    "order_year": "2014",
                                    "ship_mode": "First Class",
                                    "total_sales": "4558.918000000001",
                                    "previous_year_sales": "NULL",
                                    "sales_change": "NULL"
                                },
                                {
                                    "region": "South",
                                    "order_year": "2014",
                                    "ship_mode": "Same Day",
                                    "total_sales": "1405.276",
                                    "previous_year_sales": "NULL",
                                    "sales_change": "NULL"
                                },
                                {
                                    "region": "South",
                                    "order_year": "2014",
                                    "ship_mode": "Second Class",
                                    "total_sales": "6382.5165",
                                    "previous_year_sales": "NULL",
                                    "sales_change": "NULL"
                                },
                                {
                                    "region": "South",
                                    "order_year": "2014",
                                    "ship_mode": "Standard Class",
                                    "total_sales": "14621.291999999996",
                                    "previous_year_sales": "NULL",
                                    "sales_change": "NULL"
                                },
                                {
                                    "region": "South",
                                    "order_year": "2015",
                                    "ship_mode": "First Class",
                                    "total_sales": "4164.120000000001",
                                    "previous_year_sales": "4558.918000000001",
                                    "sales_change": "-394.7979999999998"
                                },
                                {
                                    "region": "South",
                                    "order_year": "2015",
                                    "ship_mode": "Same Day",
                                    "total_sales": "71.68",
                                    "previous_year_sales": "1405.276",
                                    "sales_change": "-1333.596"
                                },
                                {
                                    "region": "South",
                                    "order_year": "2015",
                                    "ship_mode": "Second Class",
                                    "total_sales": "6752.691999999999",
                                    "previous_year_sales": "6382.5165",
                                    "sales_change": "370.1754999999994"
                                },
                                {
                                    "region": "South",
                                    "order_year": "2015",
                                    "ship_mode": "Standard Class",
                                    "total_sales": "13115.322499999997",
                                    "previous_year_sales": "14621.291999999996",
                                    "sales_change": "-1505.9694999999992"
                                },
                                {
                                    "region": "South",
                                    "order_year": "2016",
                                    "ship_mode": "First Class",
                                    "total_sales": "3410.2119999999995",
                                    "previous_year_sales": "4164.120000000001",
                                    "sales_change": "-753.9080000000013"
                                },
                                {
                                    "region": "South",
                                    "order_year": "2016",
                                    "ship_mode": "Same Day",
                                    "total_sales": "1165.812",
                                    "previous_year_sales": "71.68",
                                    "sales_change": "1094.1319999999998"
                                },
                                {
                                    "region": "South",
                                    "order_year": "2016",
                                    "ship_mode": "Second Class",
                                    "total_sales": "6331.816000000001",
                                    "previous_year_sales": "6752.691999999999",
                                    "sales_change": "-420.8759999999984"
                                },
                                {
                                    "region": "South",
                                    "order_year": "2016",
                                    "ship_mode": "Standard Class",
                                    "total_sales": "17013.601499999997",
                                    "previous_year_sales": "13115.322499999997",
                                    "sales_change": "3898.2790000000005"
                                },
                                {
                                    "region": "South",
                                    "order_year": "2017",
                                    "ship_mode": "First Class",
                                    "total_sales": "8129.974",
                                    "previous_year_sales": "3410.2119999999995",
                                    "sales_change": "4719.762000000001"
                                },
                                {
                                    "region": "South",
                                    "order_year": "2017",
                                    "ship_mode": "Same Day",
                                    "total_sales": "283.176",
                                    "previous_year_sales": "1165.812",
                                    "sales_change": "-882.636"
                                },
                                {
                                    "region": "South",
                                    "order_year": "2017",
                                    "ship_mode": "Second Class",
                                    "total_sales": "7443.283999999999",
                                    "previous_year_sales": "6331.816000000001",
                                    "sales_change": "1111.467999999998"
                                },
                                {
                                    "region": "South",
                                    "order_year": "2017",
                                    "ship_mode": "Standard Class",
                                    "total_sales": "22448.991499999996",
                                    "previous_year_sales": "17013.601499999997",
                                    "sales_change": "5435.389999999999"
                                },
                                {
                                    "region": "West",
                                    "order_year": "2014",
                                    "ship_mode": "First Class",
                                    "total_sales": "7016.378500000001",
                                    "previous_year_sales": "NULL",
                                    "sales_change": "NULL"
                                },
                                {
                                    "region": "West",
                                    "order_year": "2014",
                                    "ship_mode": "Same Day",
                                    "total_sales": "1561.8899999999999",
                                    "previous_year_sales": "NULL",
                                    "sales_change": "NULL"
                                },
                                {
                                    "region": "West",
                                    "order_year": "2014",
                                    "ship_mode": "Second Class",
                                    "total_sales": "13066.3005",
                                    "previous_year_sales": "NULL",
                                    "sales_change": "NULL"
                                },
                                {
                                    "region": "West",
                                    "order_year": "2014",
                                    "ship_mode": "Standard Class",
                                    "total_sales": "28437.879",
                                    "previous_year_sales": "NULL",
                                    "sales_change": "NULL"
                                },
                                {
                                    "region": "West",
                                    "order_year": "2015",
                                    "ship_mode": "First Class",
                                    "total_sales": "8133.320000000001",
                                    "previous_year_sales": "7016.378500000001",
                                    "sales_change": "1116.9415"
                                },
                                {
                                    "region": "West",
                                    "order_year": "2015",
                                    "ship_mode": "Same Day",
                                    "total_sales": "3761.105",
                                    "previous_year_sales": "1561.8899999999999",
                                    "sales_change": "2199.215"
                                },
                                {
                                    "region": "West",
                                    "order_year": "2015",
                                    "ship_mode": "Second Class",
                                    "total_sales": "12454.965999999995",
                                    "previous_year_sales": "13066.3005",
                                    "sales_change": "-611.3345000000045"
                                },
                                {
                                    "region": "West",
                                    "order_year": "2015",
                                    "ship_mode": "Standard Class",
                                    "total_sales": "32655.55249999999",
                                    "previous_year_sales": "28437.879",
                                    "sales_change": "4217.67349999999"
                                },
                                {
                                    "region": "West",
                                    "order_year": "2016",
                                    "ship_mode": "First Class",
                                    "total_sales": "10843.685",
                                    "previous_year_sales": "8133.320000000001",
                                    "sales_change": "2710.364999999999"
                                },
                                {
                                    "region": "West",
                                    "order_year": "2016",
                                    "ship_mode": "Same Day",
                                    "total_sales": "4761.3589999999995",
                                    "previous_year_sales": "3761.105",
                                    "sales_change": "1000.2539999999995"
                                },
                                {
                                    "region": "West",
                                    "order_year": "2016",
                                    "ship_mode": "Second Class",
                                    "total_sales": "7704.298000000001",
                                    "previous_year_sales": "12454.965999999995",
                                    "sales_change": "-4750.667999999994"
                                },
                                {
                                    "region": "West",
                                    "order_year": "2016",
                                    "ship_mode": "Standard Class",
                                    "total_sales": "50510.29849999995",
                                    "previous_year_sales": "32655.55249999999",
                                    "sales_change": "17854.745999999963"
                                },
                                {
                                    "region": "West",
                                    "order_year": "2017",
                                    "ship_mode": "First Class",
                                    "total_sales": "14025.445999999996",
                                    "previous_year_sales": "10843.685",
                                    "sales_change": "3181.760999999997"
                                },
                                {
                                    "region": "West",
                                    "order_year": "2017",
                                    "ship_mode": "Same Day",
                                    "total_sales": "4443.624",
                                    "previous_year_sales": "4761.3589999999995",
                                    "sales_change": "-317.7349999999997"
                                },
                                {
                                    "region": "West",
                                    "order_year": "2017",
                                    "ship_mode": "Second Class",
                                    "total_sales": "20930.090999999997",
                                    "previous_year_sales": "7704.298000000001",
                                    "sales_change": "13225.792999999996"
                                },
                                {
                                    "region": "West",
                                    "order_year": "2017",
                                    "ship_mode": "Standard Class",
                                    "total_sales": "32306.55050000001",
                                    "previous_year_sales": "50510.29849999995",
                                    "sales_change": "-18203.747999999945"
                                }
                            ]
                        },
                        "text/html": [
                            "<table>",
                            "<tr><th>region</th><th>order_year</th><th>ship_mode</th><th>total_sales</th><th>previous_year_sales</th><th>sales_change</th></tr>",
                            "<tr><td>Central</td><td>2014</td><td>First Class</td><td>5492.114</td><td>NULL</td><td>NULL</td></tr>",
                            "<tr><td>Central</td><td>2014</td><td>Same Day</td><td>25.16</td><td>NULL</td><td>NULL</td></tr>",
                            "<tr><td>Central</td><td>2014</td><td>Second Class</td><td>6984.8</td><td>NULL</td><td>NULL</td></tr>",
                            "<tr><td>Central</td><td>2014</td><td>Standard Class</td><td>20407.589600000003</td><td>NULL</td><td>NULL</td></tr>",
                            "<tr><td>Central</td><td>2015</td><td>First Class</td><td>3291.055</td><td>5492.114</td><td>-2201.0589999999997</td></tr>",
                            "<tr><td>Central</td><td>2015</td><td>Same Day</td><td>3858.2040000000006</td><td>25.16</td><td>3833.044000000001</td></tr>",
                            "<tr><td>Central</td><td>2015</td><td>Second Class</td><td>5048.044400000001</td><td>6984.8</td><td>-1936.7555999999995</td></tr>",
                            "<tr><td>Central</td><td>2015</td><td>Standard Class</td><td>23394.743599999987</td><td>20407.589600000003</td><td>2987.153999999984</td></tr>",
                            "<tr><td>Central</td><td>2016</td><td>First Class</td><td>4057.5588000000002</td><td>3291.055</td><td>766.5038000000004</td></tr>",
                            "<tr><td>Central</td><td>2016</td><td>Same Day</td><td>2514.702</td><td>3858.2040000000006</td><td>-1343.5020000000004</td></tr>",
                            "<tr><td>Central</td><td>2016</td><td>Second Class</td><td>12716.092599999996</td><td>5048.044400000001</td><td>7668.048199999996</td></tr>",
                            "<tr><td>Central</td><td>2016</td><td>Standard Class</td><td>31484.8286</td><td>23394.743599999987</td><td>8090.085000000014</td></tr>",
                            "<tr><td>Central</td><td>2017</td><td>First Class</td><td>8197.097600000001</td><td>4057.5588000000002</td><td>4139.5388</td></tr>",
                            "<tr><td>Central</td><td>2017</td><td>Same Day</td><td>2444.2200000000003</td><td>2514.702</td><td>-70.48199999999997</td></tr>",
                            "<tr><td>Central</td><td>2017</td><td>Second Class</td><td>6438.1864</td><td>12716.092599999996</td><td>-6277.906199999997</td></tr>",
                            "<tr><td>Central</td><td>2017</td><td>Standard Class</td><td>27442.767199999995</td><td>31484.8286</td><td>-4042.061400000006</td></tr>",
                            "<tr><td>East</td><td>2014</td><td>First Class</td><td>6036.494</td><td>NULL</td><td>NULL</td></tr>",
                            "<tr><td>East</td><td>2014</td><td>Same Day</td><td>1989.913</td><td>NULL</td><td>NULL</td></tr>",
                            "<tr><td>East</td><td>2014</td><td>Second Class</td><td>15014.774999999998</td><td>NULL</td><td>NULL</td></tr>",
                            "<tr><td>East</td><td>2014</td><td>Standard Class</td><td>24191.557</td><td>NULL</td><td>NULL</td></tr>",
                            "<tr><td>East</td><td>2015</td><td>First Class</td><td>8574.156999999997</td><td>6036.494</td><td>2537.6629999999977</td></tr>",
                            "<tr><td>East</td><td>2015</td><td>Same Day</td><td>2349.955</td><td>1989.913</td><td>360.0419999999999</td></tr>",
                            "<tr><td>East</td><td>2015</td><td>Second Class</td><td>7132.327999999999</td><td>15014.774999999998</td><td>-7882.446999999999</td></tr>",
                            "<tr><td>East</td><td>2015</td><td>Standard Class</td><td>35760.991999999984</td><td>24191.557</td><td>11569.434999999983</td></tr>",
                            "<tr><td>East</td><td>2016</td><td>First Class</td><td>5448.398999999999</td><td>8574.156999999997</td><td>-3125.757999999998</td></tr>",
                            "<tr><td>East</td><td>2016</td><td>Same Day</td><td>4247.044999999999</td><td>2349.955</td><td>1897.0899999999992</td></tr>",
                            "<tr><td>East</td><td>2016</td><td>Second Class</td><td>7744.7699999999995</td><td>7132.327999999999</td><td>612.4420000000009</td></tr>",
                            "<tr><td>East</td><td>2016</td><td>Standard Class</td><td>28946.957999999984</td><td>35760.991999999984</td><td>-6814.034</td></tr>",
                            "<tr><td>East</td><td>2017</td><td>First Class</td><td>9351.594</td><td>5448.398999999999</td><td>3903.1949999999997</td></tr>",
                            "<tr><td>East</td><td>2017</td><td>Same Day</td><td>4265.658</td><td>4247.044999999999</td><td>18.613000000001193</td></tr>",
                            "<tr><td>East</td><td>2017</td><td>Second Class</td><td>14144.064</td><td>7744.7699999999995</td><td>6399.294000000001</td></tr>",
                            "<tr><td>East</td><td>2017</td><td>Standard Class</td><td>33092.545</td><td>28946.957999999984</td><td>4145.587000000014</td></tr>",
                            "<tr><td>South</td><td>2014</td><td>First Class</td><td>4558.918000000001</td><td>NULL</td><td>NULL</td></tr>",
                            "<tr><td>South</td><td>2014</td><td>Same Day</td><td>1405.276</td><td>NULL</td><td>NULL</td></tr>",
                            "<tr><td>South</td><td>2014</td><td>Second Class</td><td>6382.5165</td><td>NULL</td><td>NULL</td></tr>",
                            "<tr><td>South</td><td>2014</td><td>Standard Class</td><td>14621.291999999996</td><td>NULL</td><td>NULL</td></tr>",
                            "<tr><td>South</td><td>2015</td><td>First Class</td><td>4164.120000000001</td><td>4558.918000000001</td><td>-394.7979999999998</td></tr>",
                            "<tr><td>South</td><td>2015</td><td>Same Day</td><td>71.68</td><td>1405.276</td><td>-1333.596</td></tr>",
                            "<tr><td>South</td><td>2015</td><td>Second Class</td><td>6752.691999999999</td><td>6382.5165</td><td>370.1754999999994</td></tr>",
                            "<tr><td>South</td><td>2015</td><td>Standard Class</td><td>13115.322499999997</td><td>14621.291999999996</td><td>-1505.9694999999992</td></tr>",
                            "<tr><td>South</td><td>2016</td><td>First Class</td><td>3410.2119999999995</td><td>4164.120000000001</td><td>-753.9080000000013</td></tr>",
                            "<tr><td>South</td><td>2016</td><td>Same Day</td><td>1165.812</td><td>71.68</td><td>1094.1319999999998</td></tr>",
                            "<tr><td>South</td><td>2016</td><td>Second Class</td><td>6331.816000000001</td><td>6752.691999999999</td><td>-420.8759999999984</td></tr>",
                            "<tr><td>South</td><td>2016</td><td>Standard Class</td><td>17013.601499999997</td><td>13115.322499999997</td><td>3898.2790000000005</td></tr>",
                            "<tr><td>South</td><td>2017</td><td>First Class</td><td>8129.974</td><td>3410.2119999999995</td><td>4719.762000000001</td></tr>",
                            "<tr><td>South</td><td>2017</td><td>Same Day</td><td>283.176</td><td>1165.812</td><td>-882.636</td></tr>",
                            "<tr><td>South</td><td>2017</td><td>Second Class</td><td>7443.283999999999</td><td>6331.816000000001</td><td>1111.467999999998</td></tr>",
                            "<tr><td>South</td><td>2017</td><td>Standard Class</td><td>22448.991499999996</td><td>17013.601499999997</td><td>5435.389999999999</td></tr>",
                            "<tr><td>West</td><td>2014</td><td>First Class</td><td>7016.378500000001</td><td>NULL</td><td>NULL</td></tr>",
                            "<tr><td>West</td><td>2014</td><td>Same Day</td><td>1561.8899999999999</td><td>NULL</td><td>NULL</td></tr>",
                            "<tr><td>West</td><td>2014</td><td>Second Class</td><td>13066.3005</td><td>NULL</td><td>NULL</td></tr>",
                            "<tr><td>West</td><td>2014</td><td>Standard Class</td><td>28437.879</td><td>NULL</td><td>NULL</td></tr>",
                            "<tr><td>West</td><td>2015</td><td>First Class</td><td>8133.320000000001</td><td>7016.378500000001</td><td>1116.9415</td></tr>",
                            "<tr><td>West</td><td>2015</td><td>Same Day</td><td>3761.105</td><td>1561.8899999999999</td><td>2199.215</td></tr>",
                            "<tr><td>West</td><td>2015</td><td>Second Class</td><td>12454.965999999995</td><td>13066.3005</td><td>-611.3345000000045</td></tr>",
                            "<tr><td>West</td><td>2015</td><td>Standard Class</td><td>32655.55249999999</td><td>28437.879</td><td>4217.67349999999</td></tr>",
                            "<tr><td>West</td><td>2016</td><td>First Class</td><td>10843.685</td><td>8133.320000000001</td><td>2710.364999999999</td></tr>",
                            "<tr><td>West</td><td>2016</td><td>Same Day</td><td>4761.3589999999995</td><td>3761.105</td><td>1000.2539999999995</td></tr>",
                            "<tr><td>West</td><td>2016</td><td>Second Class</td><td>7704.298000000001</td><td>12454.965999999995</td><td>-4750.667999999994</td></tr>",
                            "<tr><td>West</td><td>2016</td><td>Standard Class</td><td>50510.29849999995</td><td>32655.55249999999</td><td>17854.745999999963</td></tr>",
                            "<tr><td>West</td><td>2017</td><td>First Class</td><td>14025.445999999996</td><td>10843.685</td><td>3181.760999999997</td></tr>",
                            "<tr><td>West</td><td>2017</td><td>Same Day</td><td>4443.624</td><td>4761.3589999999995</td><td>-317.7349999999997</td></tr>",
                            "<tr><td>West</td><td>2017</td><td>Second Class</td><td>20930.090999999997</td><td>7704.298000000001</td><td>13225.792999999996</td></tr>",
                            "<tr><td>West</td><td>2017</td><td>Standard Class</td><td>32306.55050000001</td><td>50510.29849999995</td><td>-18203.747999999945</td></tr>",
                            "</table>"
                        ]
                    }
                }
            ],
            "execution_count": 12
        },
        {
            "cell_type": "code",
            "source": [
                "--  4. Analyze which product categories and sub-categories are most profitable \r\n",
                "-- in each region.\r\n",
                "WITH CategoryProfit AS (\r\n",
                "    SELECT\r\n",
                "        region,\r\n",
                "        category,\r\n",
                "        sub_category,\r\n",
                "        SUM(profit) AS total_profit\r\n",
                "    FROM\r\n",
                "        Sales\r\n",
                "    GROUP BY\r\n",
                "        region, category, sub_category\r\n",
                ")\r\n",
                "SELECT\r\n",
                "    region,\r\n",
                "    category,\r\n",
                "    sub_category,\r\n",
                "    total_profit,\r\n",
                "    RANK() OVER (PARTITION BY region ORDER BY total_profit DESC) AS profitability_rank\r\n",
                "FROM\r\n",
                "    CategoryProfit\r\n",
                "ORDER BY\r\n",
                "    region, profitability_rank;\r\n",
                ""
            ],
            "metadata": {
                "language": "sql",
                "azdata_cell_guid": "78ba267b-5569-4619-b60a-0c3085fbee9d"
            },
            "outputs": [
                {
                    "output_type": "display_data",
                    "data": {
                        "text/html": "(16 rows affected)"
                    },
                    "metadata": {}
                },
                {
                    "output_type": "display_data",
                    "data": {
                        "text/html": "Total execution time: 00:00:00.028"
                    },
                    "metadata": {}
                },
                {
                    "output_type": "execute_result",
                    "metadata": {
                        "azdata_chartOptions": {
                            "type": "bar",
                            "dataDirection": "vertical",
                            "columnsAsLabels": true,
                            "labelFirstColumn": false,
                            "legendPosition": "top"
                        }
                    },
                    "execution_count": 13,
                    "data": {
                        "application/vnd.dataresource+json": {
                            "schema": {
                                "fields": [
                                    {
                                        "name": "region"
                                    },
                                    {
                                        "name": "category"
                                    },
                                    {
                                        "name": "sub_category"
                                    },
                                    {
                                        "name": "total_profit"
                                    },
                                    {
                                        "name": "profitability_rank"
                                    }
                                ]
                            },
                            "data": [
                                {
                                    "region": "Central",
                                    "category": "Furniture",
                                    "sub_category": "Chairs",
                                    "total_profit": "6592.722100000002",
                                    "profitability_rank": "1"
                                },
                                {
                                    "region": "Central",
                                    "category": "Furniture",
                                    "sub_category": "Bookcases",
                                    "total_profit": "-1997.9043000000004",
                                    "profitability_rank": "2"
                                },
                                {
                                    "region": "Central",
                                    "category": "Furniture",
                                    "sub_category": "Tables",
                                    "total_profit": "-3559.6503999999995",
                                    "profitability_rank": "3"
                                },
                                {
                                    "region": "Central",
                                    "category": "Furniture",
                                    "sub_category": "Furnishings",
                                    "total_profit": "-3906.216800000001",
                                    "profitability_rank": "4"
                                },
                                {
                                    "region": "East",
                                    "category": "Furniture",
                                    "sub_category": "Chairs",
                                    "total_profit": "9357.7706",
                                    "profitability_rank": "1"
                                },
                                {
                                    "region": "East",
                                    "category": "Furniture",
                                    "sub_category": "Furnishings",
                                    "total_profit": "5881.407099999999",
                                    "profitability_rank": "2"
                                },
                                {
                                    "region": "East",
                                    "category": "Furniture",
                                    "sub_category": "Bookcases",
                                    "total_profit": "-1167.6317999999999",
                                    "profitability_rank": "3"
                                },
                                {
                                    "region": "East",
                                    "category": "Furniture",
                                    "sub_category": "Tables",
                                    "total_profit": "-11025.380100000002",
                                    "profitability_rank": "4"
                                },
                                {
                                    "region": "South",
                                    "category": "Furniture",
                                    "sub_category": "Chairs",
                                    "total_profit": "6612.0893",
                                    "profitability_rank": "1"
                                },
                                {
                                    "region": "South",
                                    "category": "Furniture",
                                    "sub_category": "Furnishings",
                                    "total_profit": "3442.682899999999",
                                    "profitability_rank": "2"
                                },
                                {
                                    "region": "South",
                                    "category": "Furniture",
                                    "sub_category": "Bookcases",
                                    "total_profit": "1339.4918",
                                    "profitability_rank": "3"
                                },
                                {
                                    "region": "South",
                                    "category": "Furniture",
                                    "sub_category": "Tables",
                                    "total_profit": "-4623.0579",
                                    "profitability_rank": "4"
                                },
                                {
                                    "region": "West",
                                    "category": "Furniture",
                                    "sub_category": "Furnishings",
                                    "total_profit": "7641.270399999999",
                                    "profitability_rank": "1"
                                },
                                {
                                    "region": "West",
                                    "category": "Furniture",
                                    "sub_category": "Chairs",
                                    "total_profit": "4027.5843000000004",
                                    "profitability_rank": "2"
                                },
                                {
                                    "region": "West",
                                    "category": "Furniture",
                                    "sub_category": "Tables",
                                    "total_profit": "1482.6073000000008",
                                    "profitability_rank": "3"
                                },
                                {
                                    "region": "West",
                                    "category": "Furniture",
                                    "sub_category": "Bookcases",
                                    "total_profit": "-1646.5117000000007",
                                    "profitability_rank": "4"
                                }
                            ]
                        },
                        "text/html": [
                            "<table>",
                            "<tr><th>region</th><th>category</th><th>sub_category</th><th>total_profit</th><th>profitability_rank</th></tr>",
                            "<tr><td>Central</td><td>Furniture</td><td>Chairs</td><td>6592.722100000002</td><td>1</td></tr>",
                            "<tr><td>Central</td><td>Furniture</td><td>Bookcases</td><td>-1997.9043000000004</td><td>2</td></tr>",
                            "<tr><td>Central</td><td>Furniture</td><td>Tables</td><td>-3559.6503999999995</td><td>3</td></tr>",
                            "<tr><td>Central</td><td>Furniture</td><td>Furnishings</td><td>-3906.216800000001</td><td>4</td></tr>",
                            "<tr><td>East</td><td>Furniture</td><td>Chairs</td><td>9357.7706</td><td>1</td></tr>",
                            "<tr><td>East</td><td>Furniture</td><td>Furnishings</td><td>5881.407099999999</td><td>2</td></tr>",
                            "<tr><td>East</td><td>Furniture</td><td>Bookcases</td><td>-1167.6317999999999</td><td>3</td></tr>",
                            "<tr><td>East</td><td>Furniture</td><td>Tables</td><td>-11025.380100000002</td><td>4</td></tr>",
                            "<tr><td>South</td><td>Furniture</td><td>Chairs</td><td>6612.0893</td><td>1</td></tr>",
                            "<tr><td>South</td><td>Furniture</td><td>Furnishings</td><td>3442.682899999999</td><td>2</td></tr>",
                            "<tr><td>South</td><td>Furniture</td><td>Bookcases</td><td>1339.4918</td><td>3</td></tr>",
                            "<tr><td>South</td><td>Furniture</td><td>Tables</td><td>-4623.0579</td><td>4</td></tr>",
                            "<tr><td>West</td><td>Furniture</td><td>Furnishings</td><td>7641.270399999999</td><td>1</td></tr>",
                            "<tr><td>West</td><td>Furniture</td><td>Chairs</td><td>4027.5843000000004</td><td>2</td></tr>",
                            "<tr><td>West</td><td>Furniture</td><td>Tables</td><td>1482.6073000000008</td><td>3</td></tr>",
                            "<tr><td>West</td><td>Furniture</td><td>Bookcases</td><td>-1646.5117000000007</td><td>4</td></tr>",
                            "</table>"
                        ]
                    }
                }
            ],
            "execution_count": 13
        },
        {
            "cell_type": "code",
            "source": [
                "--  5. Create a report that recommends regions for increased marketing \r\n",
                "-- investment based on profitability and sales growth potential\r\n",
                " WITH ProfitAndSalesGrowth AS (\r\n",
                "    -- Calculate total profit and sales for each region and year\r\n",
                "    SELECT \r\n",
                "        region,\r\n",
                "        YEAR(order_date) AS order_year,\r\n",
                "        SUM(CAST(total_sales AS FLOAT)) AS total_sales,\r\n",
                "        SUM(profit) AS total_profit\r\n",
                "    FROM \r\n",
                "        Sales\r\n",
                "    GROUP BY \r\n",
                "        region, YEAR(order_date)\r\n",
                "),\r\n",
                "SalesGrowth AS (\r\n",
                "    -- Calculate year-over-year sales growth for each region\r\n",
                "    SELECT \r\n",
                "        region,\r\n",
                "        order_year,\r\n",
                "        total_sales,\r\n",
                "        LAG(total_sales, 1) OVER (PARTITION BY region ORDER BY order_year) AS previous_year_sales,\r\n",
                "        total_profit,\r\n",
                "        (total_sales - LAG(total_sales, 1) OVER (PARTITION BY region ORDER BY order_year)) AS sales_change\r\n",
                "    FROM \r\n",
                "        ProfitAndSalesGrowth\r\n",
                "),\r\n",
                "RegionAnalysis AS (\r\n",
                "    -- Summarize sales growth and profitability for each region\r\n",
                "    SELECT \r\n",
                "        region,\r\n",
                "        SUM(total_profit) AS total_profit,\r\n",
                "        SUM(CASE WHEN sales_change > 0 THEN 1 ELSE 0 END) AS positive_sales_years,\r\n",
                "        COUNT(*) - 1 AS total_years -- Subtract 1 to ignore the first year, as it has no previous year comparison\r\n",
                "    FROM \r\n",
                "        SalesGrowth\r\n",
                "    GROUP BY \r\n",
                "        region\r\n",
                ")\r\n",
                "-- Generate the final recommendation report\r\n",
                "SELECT \r\n",
                "    region,\r\n",
                "    total_profit,\r\n",
                "    (positive_sales_years * 1.0 / total_years) * 100 AS sales_growth_percentage,\r\n",
                "    CASE \r\n",
                "        WHEN total_profit > (SELECT AVG(total_profit) FROM RegionAnalysis) \r\n",
                "             AND (positive_sales_years * 1.0 / total_years) > 0.5 \r\n",
                "        THEN 'Recommended for increased marketing investment'\r\n",
                "        ELSE 'Not recommended'\r\n",
                "    END AS marketing_recommendation\r\n",
                "FROM \r\n",
                "    RegionAnalysis\r\n",
                "ORDER BY \r\n",
                "    total_profit DESC, sales_growth_percentage DESC;\r\n",
                ""
            ],
            "metadata": {
                "language": "sql",
                "azdata_cell_guid": "e188d8d2-8eaf-41f6-bcc6-da09c77cbfc4"
            },
            "outputs": [
                {
                    "output_type": "display_data",
                    "data": {
                        "text/html": "(4 rows affected)"
                    },
                    "metadata": {}
                },
                {
                    "output_type": "display_data",
                    "data": {
                        "text/html": "Total execution time: 00:00:00.040"
                    },
                    "metadata": {}
                },
                {
                    "output_type": "execute_result",
                    "metadata": {},
                    "execution_count": 19,
                    "data": {
                        "application/vnd.dataresource+json": {
                            "schema": {
                                "fields": [
                                    {
                                        "name": "region"
                                    },
                                    {
                                        "name": "total_profit"
                                    },
                                    {
                                        "name": "sales_growth_percentage"
                                    },
                                    {
                                        "name": "marketing_recommendation"
                                    }
                                ]
                            },
                            "data": [
                                {
                                    "region": "West",
                                    "total_profit": "11504.9503",
                                    "sales_growth_percentage": "66.666666666600",
                                    "marketing_recommendation": "Recommended for increased marketing investment"
                                },
                                {
                                    "region": "South",
                                    "total_profit": "6771.2061",
                                    "sales_growth_percentage": "66.666666666600",
                                    "marketing_recommendation": "Recommended for increased marketing investment"
                                },
                                {
                                    "region": "East",
                                    "total_profit": "3046.1658000000007",
                                    "sales_growth_percentage": "66.666666666600",
                                    "marketing_recommendation": "Not recommended"
                                },
                                {
                                    "region": "Central",
                                    "total_profit": "-2871.049399999999",
                                    "sales_growth_percentage": "66.666666666600",
                                    "marketing_recommendation": "Not recommended"
                                }
                            ]
                        },
                        "text/html": [
                            "<table>",
                            "<tr><th>region</th><th>total_profit</th><th>sales_growth_percentage</th><th>marketing_recommendation</th></tr>",
                            "<tr><td>West</td><td>11504.9503</td><td>66.666666666600</td><td>Recommended for increased marketing investment</td></tr>",
                            "<tr><td>South</td><td>6771.2061</td><td>66.666666666600</td><td>Recommended for increased marketing investment</td></tr>",
                            "<tr><td>East</td><td>3046.1658000000007</td><td>66.666666666600</td><td>Not recommended</td></tr>",
                            "<tr><td>Central</td><td>-2871.049399999999</td><td>66.666666666600</td><td>Not recommended</td></tr>",
                            "</table>"
                        ]
                    }
                }
            ],
            "execution_count": 19
        }
    ]
}