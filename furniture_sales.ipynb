{
    "metadata": {
        "kernelspec": {
            "name": "SQL",
            "display_name": "SQL",
            "language": "sql"
        },
        "language_info": {
            "name": "sql",
            "version": ""
        }
    },
    "nbformat_minor": 2,
    "nbformat": 4,
    "cells": [
        {
            "cell_type": "code",
            "source": [
                "SELECT \n",
                "    YEAR(order_date) AS Year,\n",
                "    MONTH(order_date) AS Month,\n",
                "    round(SUM(total_sales),2) AS TotalSales\n",
                "FROM \n",
                "    [dbo].[Sales]\n",
                "WHERE \n",
                "    category = 'Furniture'\n",
                "GROUP BY \n",
                "    YEAR(order_date), MONTH(order_date)\n",
                "ORDER BY \n",
                "    YEAR(order_date), MONTH(order_date);"
            ],
            "metadata": {
                "azdata_cell_guid": "40ec2970-32cd-4a41-97a2-793af3d74786",
                "language": "sql"
            },
            "outputs": [
                {
                    "output_type": "display_data",
                    "data": {
                        "text/html": "(48 rows affected)"
                    },
                    "metadata": {}
                },
                {
                    "output_type": "display_data",
                    "data": {
                        "text/html": "Total execution time: 00:00:00.033"
                    },
                    "metadata": {}
                },
                {
                    "output_type": "execute_result",
                    "execution_count": 2,
                    "data": {
                        "application/vnd.dataresource+json": {
                            "schema": {
                                "fields": [
                                    {
                                        "name": "Year"
                                    },
                                    {
                                        "name": "Month"
                                    },
                                    {
                                        "name": "TotalSales"
                                    }
                                ]
                            },
                            "data": [
                                {
                                    "Year": "2014",
                                    "Month": "1",
                                    "TotalSales": "6242.52"
                                },
                                {
                                    "Year": "2014",
                                    "Month": "2",
                                    "TotalSales": "1839.66"
                                },
                                {
                                    "Year": "2014",
                                    "Month": "3",
                                    "TotalSales": "14573.96"
                                },
                                {
                                    "Year": "2014",
                                    "Month": "4",
                                    "TotalSales": "7944.84"
                                },
                                {
                                    "Year": "2014",
                                    "Month": "5",
                                    "TotalSales": "6912.79"
                                },
                                {
                                    "Year": "2014",
                                    "Month": "6",
                                    "TotalSales": "13206.13"
                                },
                                {
                                    "Year": "2014",
                                    "Month": "7",
                                    "TotalSales": "10821.05"
                                },
                                {
                                    "Year": "2014",
                                    "Month": "8",
                                    "TotalSales": "7320.35"
                                },
                                {
                                    "Year": "2014",
                                    "Month": "9",
                                    "TotalSales": "23816.48"
                                },
                                {
                                    "Year": "2014",
                                    "Month": "10",
                                    "TotalSales": "12304.25"
                                },
                                {
                                    "Year": "2014",
                                    "Month": "11",
                                    "TotalSales": "21564.87"
                                },
                                {
                                    "Year": "2014",
                                    "Month": "12",
                                    "TotalSales": "30645.97"
                                },
                                {
                                    "Year": "2015",
                                    "Month": "1",
                                    "TotalSales": "11739.94"
                                },
                                {
                                    "Year": "2015",
                                    "Month": "2",
                                    "TotalSales": "3134.37"
                                },
                                {
                                    "Year": "2015",
                                    "Month": "3",
                                    "TotalSales": "12499.78"
                                },
                                {
                                    "Year": "2015",
                                    "Month": "4",
                                    "TotalSales": "10475.7"
                                },
                                {
                                    "Year": "2015",
                                    "Month": "5",
                                    "TotalSales": "9374.95"
                                },
                                {
                                    "Year": "2015",
                                    "Month": "6",
                                    "TotalSales": "7714.18"
                                },
                                {
                                    "Year": "2015",
                                    "Month": "7",
                                    "TotalSales": "13674.42"
                                },
                                {
                                    "Year": "2015",
                                    "Month": "8",
                                    "TotalSales": "9638.59"
                                },
                                {
                                    "Year": "2015",
                                    "Month": "9",
                                    "TotalSales": "26273.02"
                                },
                                {
                                    "Year": "2015",
                                    "Month": "10",
                                    "TotalSales": "12026.62"
                                },
                                {
                                    "Year": "2015",
                                    "Month": "11",
                                    "TotalSales": "30880.83"
                                },
                                {
                                    "Year": "2015",
                                    "Month": "12",
                                    "TotalSales": "23085.82"
                                },
                                {
                                    "Year": "2016",
                                    "Month": "1",
                                    "TotalSales": "7622.74"
                                },
                                {
                                    "Year": "2016",
                                    "Month": "2",
                                    "TotalSales": "3925.55"
                                },
                                {
                                    "Year": "2016",
                                    "Month": "3",
                                    "TotalSales": "12801.09"
                                },
                                {
                                    "Year": "2016",
                                    "Month": "4",
                                    "TotalSales": "13212.09"
                                },
                                {
                                    "Year": "2016",
                                    "Month": "5",
                                    "TotalSales": "15119.84"
                                },
                                {
                                    "Year": "2016",
                                    "Month": "6",
                                    "TotalSales": "13070.57"
                                },
                                {
                                    "Year": "2016",
                                    "Month": "7",
                                    "TotalSales": "13068.52"
                                },
                                {
                                    "Year": "2016",
                                    "Month": "8",
                                    "TotalSales": "12483.23"
                                },
                                {
                                    "Year": "2016",
                                    "Month": "9",
                                    "TotalSales": "27262.88"
                                },
                                {
                                    "Year": "2016",
                                    "Month": "10",
                                    "TotalSales": "11872.58"
                                },
                                {
                                    "Year": "2016",
                                    "Month": "11",
                                    "TotalSales": "31783.63"
                                },
                                {
                                    "Year": "2016",
                                    "Month": "12",
                                    "TotalSales": "36678.71"
                                },
                                {
                                    "Year": "2017",
                                    "Month": "1",
                                    "TotalSales": "5964.03"
                                },
                                {
                                    "Year": "2017",
                                    "Month": "2",
                                    "TotalSales": "6866.34"
                                },
                                {
                                    "Year": "2017",
                                    "Month": "3",
                                    "TotalSales": "10893.44"
                                },
                                {
                                    "Year": "2017",
                                    "Month": "4",
                                    "TotalSales": "9065.96"
                                },
                                {
                                    "Year": "2017",
                                    "Month": "5",
                                    "TotalSales": "16957.56"
                                },
                                {
                                    "Year": "2017",
                                    "Month": "6",
                                    "TotalSales": "19008.59"
                                },
                                {
                                    "Year": "2017",
                                    "Month": "7",
                                    "TotalSales": "11813.02"
                                },
                                {
                                    "Year": "2017",
                                    "Month": "8",
                                    "TotalSales": "15441.87"
                                },
                                {
                                    "Year": "2017",
                                    "Month": "9",
                                    "TotalSales": "29028.21"
                                },
                                {
                                    "Year": "2017",
                                    "Month": "10",
                                    "TotalSales": "21884.07"
                                },
                                {
                                    "Year": "2017",
                                    "Month": "11",
                                    "TotalSales": "37056.71"
                                },
                                {
                                    "Year": "2017",
                                    "Month": "12",
                                    "TotalSales": "31407.47"
                                }
                            ]
                        },
                        "text/html": "<table><tr><th>Year</th><th>Month</th><th>TotalSales</th></tr><tr><td>2014</td><td>1</td><td>6242.52</td></tr><tr><td>2014</td><td>2</td><td>1839.66</td></tr><tr><td>2014</td><td>3</td><td>14573.96</td></tr><tr><td>2014</td><td>4</td><td>7944.84</td></tr><tr><td>2014</td><td>5</td><td>6912.79</td></tr><tr><td>2014</td><td>6</td><td>13206.13</td></tr><tr><td>2014</td><td>7</td><td>10821.05</td></tr><tr><td>2014</td><td>8</td><td>7320.35</td></tr><tr><td>2014</td><td>9</td><td>23816.48</td></tr><tr><td>2014</td><td>10</td><td>12304.25</td></tr><tr><td>2014</td><td>11</td><td>21564.87</td></tr><tr><td>2014</td><td>12</td><td>30645.97</td></tr><tr><td>2015</td><td>1</td><td>11739.94</td></tr><tr><td>2015</td><td>2</td><td>3134.37</td></tr><tr><td>2015</td><td>3</td><td>12499.78</td></tr><tr><td>2015</td><td>4</td><td>10475.7</td></tr><tr><td>2015</td><td>5</td><td>9374.95</td></tr><tr><td>2015</td><td>6</td><td>7714.18</td></tr><tr><td>2015</td><td>7</td><td>13674.42</td></tr><tr><td>2015</td><td>8</td><td>9638.59</td></tr><tr><td>2015</td><td>9</td><td>26273.02</td></tr><tr><td>2015</td><td>10</td><td>12026.62</td></tr><tr><td>2015</td><td>11</td><td>30880.83</td></tr><tr><td>2015</td><td>12</td><td>23085.82</td></tr><tr><td>2016</td><td>1</td><td>7622.74</td></tr><tr><td>2016</td><td>2</td><td>3925.55</td></tr><tr><td>2016</td><td>3</td><td>12801.09</td></tr><tr><td>2016</td><td>4</td><td>13212.09</td></tr><tr><td>2016</td><td>5</td><td>15119.84</td></tr><tr><td>2016</td><td>6</td><td>13070.57</td></tr><tr><td>2016</td><td>7</td><td>13068.52</td></tr><tr><td>2016</td><td>8</td><td>12483.23</td></tr><tr><td>2016</td><td>9</td><td>27262.88</td></tr><tr><td>2016</td><td>10</td><td>11872.58</td></tr><tr><td>2016</td><td>11</td><td>31783.63</td></tr><tr><td>2016</td><td>12</td><td>36678.71</td></tr><tr><td>2017</td><td>1</td><td>5964.03</td></tr><tr><td>2017</td><td>2</td><td>6866.34</td></tr><tr><td>2017</td><td>3</td><td>10893.44</td></tr><tr><td>2017</td><td>4</td><td>9065.96</td></tr><tr><td>2017</td><td>5</td><td>16957.56</td></tr><tr><td>2017</td><td>6</td><td>19008.59</td></tr><tr><td>2017</td><td>7</td><td>11813.02</td></tr><tr><td>2017</td><td>8</td><td>15441.87</td></tr><tr><td>2017</td><td>9</td><td>29028.21</td></tr><tr><td>2017</td><td>10</td><td>21884.07</td></tr><tr><td>2017</td><td>11</td><td>37056.71</td></tr><tr><td>2017</td><td>12</td><td>31407.47</td></tr></table>"
                    },
                    "metadata": {
                        "azdata_chartOptions": {
                            "type": "line",
                            "dataDirection": "vertical",
                            "columnsAsLabels": true,
                            "labelFirstColumn": false,
                            "legendPosition": "none",
                            "yAxisLabel": "Toal Sales",
                            "xAxisLabel": "Order Date",
                            "dataType": "number"
                        }
                    }
                }
            ],
            "execution_count": 2
        },
        {
            "cell_type": "code",
            "source": [
                "WITH SalesByMonth AS (\r\n",
                "    SELECT \r\n",
                "        YEAR(order_date) AS Year,\r\n",
                "        MONTH(order_date) AS Month,\r\n",
                "        DATEFROMPARTS(YEAR(order_date), MONTH(order_date), 1) AS SalesMonth,\r\n",
                "        SUM(total_sales) AS TotalSales\r\n",
                "    FROM \r\n",
                "        [dbo].[Sales]\r\n",
                "    WHERE \r\n",
                "        category = 'Furniture'\r\n",
                "    GROUP BY \r\n",
                "        YEAR(order_date), MONTH(order_date)\r\n",
                ")\r\n",
                "SELECT \r\n",
                "    SalesMonth,\r\n",
                "    SUM(TotalSales) OVER (\r\n",
                "        ORDER BY SalesMonth \r\n",
                "        ROWS BETWEEN 11 PRECEDING AND CURRENT ROW\r\n",
                "    ) AS Rolling12MonthSales\r\n",
                "FROM \r\n",
                "    SalesByMonth\r\n",
                "ORDER BY \r\n",
                "    SalesMonth;"
            ],
            "metadata": {
                "azdata_cell_guid": "3d2c36ec-b646-4946-b5b1-6d1ec603360f",
                "language": "sql"
            },
            "outputs": [
                {
                    "output_type": "display_data",
                    "data": {
                        "text/html": "(48 rows affected)"
                    },
                    "metadata": {}
                },
                {
                    "output_type": "display_data",
                    "data": {
                        "text/html": "Total execution time: 00:00:00.012"
                    },
                    "metadata": {}
                },
                {
                    "output_type": "execute_result",
                    "execution_count": 3,
                    "data": {
                        "application/vnd.dataresource+json": {
                            "schema": {
                                "fields": [
                                    {
                                        "name": "SalesMonth"
                                    },
                                    {
                                        "name": "Rolling12MonthSales"
                                    }
                                ]
                            },
                            "data": [
                                {
                                    "SalesMonth": "2014-01-01",
                                    "Rolling12MonthSales": "6242.525"
                                },
                                {
                                    "SalesMonth": "2014-02-01",
                                    "Rolling12MonthSales": "8082.183"
                                },
                                {
                                    "SalesMonth": "2014-03-01",
                                    "Rolling12MonthSales": "22656.139"
                                },
                                {
                                    "SalesMonth": "2014-04-01",
                                    "Rolling12MonthSales": "30600.976000000002"
                                },
                                {
                                    "SalesMonth": "2014-05-01",
                                    "Rolling12MonthSales": "37513.763000000006"
                                },
                                {
                                    "SalesMonth": "2014-06-01",
                                    "Rolling12MonthSales": "50719.888600000006"
                                },
                                {
                                    "SalesMonth": "2014-07-01",
                                    "Rolling12MonthSales": "61540.939600000005"
                                },
                                {
                                    "SalesMonth": "2014-08-01",
                                    "Rolling12MonthSales": "68861.2861"
                                },
                                {
                                    "SalesMonth": "2014-09-01",
                                    "Rolling12MonthSales": "92677.7669"
                                },
                                {
                                    "SalesMonth": "2014-10-01",
                                    "Rolling12MonthSales": "104982.0139"
                                },
                                {
                                    "SalesMonth": "2014-11-01",
                                    "Rolling12MonthSales": "126546.8866"
                                },
                                {
                                    "SalesMonth": "2014-12-01",
                                    "Rolling12MonthSales": "157192.8531"
                                },
                                {
                                    "SalesMonth": "2015-01-01",
                                    "Rolling12MonthSales": "162690.2697"
                                },
                                {
                                    "SalesMonth": "2015-02-01",
                                    "Rolling12MonthSales": "163984.98570000002"
                                },
                                {
                                    "SalesMonth": "2015-03-01",
                                    "Rolling12MonthSales": "161910.8127"
                                },
                                {
                                    "SalesMonth": "2015-04-01",
                                    "Rolling12MonthSales": "164441.6742"
                                },
                                {
                                    "SalesMonth": "2015-05-01",
                                    "Rolling12MonthSales": "166903.8377"
                                },
                                {
                                    "SalesMonth": "2015-06-01",
                                    "Rolling12MonthSales": "161411.8911"
                                },
                                {
                                    "SalesMonth": "2015-07-01",
                                    "Rolling12MonthSales": "164265.2601"
                                },
                                {
                                    "SalesMonth": "2015-08-01",
                                    "Rolling12MonthSales": "166583.5058"
                                },
                                {
                                    "SalesMonth": "2015-09-01",
                                    "Rolling12MonthSales": "169040.048"
                                },
                                {
                                    "SalesMonth": "2015-10-01",
                                    "Rolling12MonthSales": "168762.42449999996"
                                },
                                {
                                    "SalesMonth": "2015-11-01",
                                    "Rolling12MonthSales": "178078.38429999995"
                                },
                                {
                                    "SalesMonth": "2015-12-01",
                                    "Rolling12MonthSales": "170518.2369999999"
                                },
                                {
                                    "SalesMonth": "2016-01-01",
                                    "Rolling12MonthSales": "166401.03839999993"
                                },
                                {
                                    "SalesMonth": "2016-02-01",
                                    "Rolling12MonthSales": "167192.2153999999"
                                },
                                {
                                    "SalesMonth": "2016-03-01",
                                    "Rolling12MonthSales": "167493.5243999999"
                                },
                                {
                                    "SalesMonth": "2016-04-01",
                                    "Rolling12MonthSales": "170229.91589999993"
                                },
                                {
                                    "SalesMonth": "2016-05-01",
                                    "Rolling12MonthSales": "175974.80039999995"
                                },
                                {
                                    "SalesMonth": "2016-06-01",
                                    "Rolling12MonthSales": "181331.19339999993"
                                },
                                {
                                    "SalesMonth": "2016-07-01",
                                    "Rolling12MonthSales": "180725.2923999999"
                                },
                                {
                                    "SalesMonth": "2016-08-01",
                                    "Rolling12MonthSales": "183569.93249999988"
                                },
                                {
                                    "SalesMonth": "2016-09-01",
                                    "Rolling12MonthSales": "184559.79039999988"
                                },
                                {
                                    "SalesMonth": "2016-10-01",
                                    "Rolling12MonthSales": "184405.74389999988"
                                },
                                {
                                    "SalesMonth": "2016-11-01",
                                    "Rolling12MonthSales": "185308.54019999993"
                                },
                                {
                                    "SalesMonth": "2016-12-01",
                                    "Rolling12MonthSales": "198901.436"
                                },
                                {
                                    "SalesMonth": "2017-01-01",
                                    "Rolling12MonthSales": "197242.72499999998"
                                },
                                {
                                    "SalesMonth": "2017-02-01",
                                    "Rolling12MonthSales": "200183.51139999996"
                                },
                                {
                                    "SalesMonth": "2017-03-01",
                                    "Rolling12MonthSales": "198275.8641999999"
                                },
                                {
                                    "SalesMonth": "2017-04-01",
                                    "Rolling12MonthSales": "194129.73229999992"
                                },
                                {
                                    "SalesMonth": "2017-05-01",
                                    "Rolling12MonthSales": "195967.45549999987"
                                },
                                {
                                    "SalesMonth": "2017-06-01",
                                    "Rolling12MonthSales": "201905.47019999987"
                                },
                                {
                                    "SalesMonth": "2017-07-01",
                                    "Rolling12MonthSales": "200649.9731999999"
                                },
                                {
                                    "SalesMonth": "2017-08-01",
                                    "Rolling12MonthSales": "203608.61489999987"
                                },
                                {
                                    "SalesMonth": "2017-09-01",
                                    "Rolling12MonthSales": "205373.9399999999"
                                },
                                {
                                    "SalesMonth": "2017-10-01",
                                    "Rolling12MonthSales": "215385.43119999988"
                                },
                                {
                                    "SalesMonth": "2017-11-01",
                                    "Rolling12MonthSales": "220658.51739999984"
                                },
                                {
                                    "SalesMonth": "2017-12-01",
                                    "Rolling12MonthSales": "215387.26919999975"
                                }
                            ]
                        },
                        "text/html": "<table><tr><th>SalesMonth</th><th>Rolling12MonthSales</th></tr><tr><td>2014-01-01</td><td>6242.525</td></tr><tr><td>2014-02-01</td><td>8082.183</td></tr><tr><td>2014-03-01</td><td>22656.139</td></tr><tr><td>2014-04-01</td><td>30600.976000000002</td></tr><tr><td>2014-05-01</td><td>37513.763000000006</td></tr><tr><td>2014-06-01</td><td>50719.888600000006</td></tr><tr><td>2014-07-01</td><td>61540.939600000005</td></tr><tr><td>2014-08-01</td><td>68861.2861</td></tr><tr><td>2014-09-01</td><td>92677.7669</td></tr><tr><td>2014-10-01</td><td>104982.0139</td></tr><tr><td>2014-11-01</td><td>126546.8866</td></tr><tr><td>2014-12-01</td><td>157192.8531</td></tr><tr><td>2015-01-01</td><td>162690.2697</td></tr><tr><td>2015-02-01</td><td>163984.98570000002</td></tr><tr><td>2015-03-01</td><td>161910.8127</td></tr><tr><td>2015-04-01</td><td>164441.6742</td></tr><tr><td>2015-05-01</td><td>166903.8377</td></tr><tr><td>2015-06-01</td><td>161411.8911</td></tr><tr><td>2015-07-01</td><td>164265.2601</td></tr><tr><td>2015-08-01</td><td>166583.5058</td></tr><tr><td>2015-09-01</td><td>169040.048</td></tr><tr><td>2015-10-01</td><td>168762.42449999996</td></tr><tr><td>2015-11-01</td><td>178078.38429999995</td></tr><tr><td>2015-12-01</td><td>170518.2369999999</td></tr><tr><td>2016-01-01</td><td>166401.03839999993</td></tr><tr><td>2016-02-01</td><td>167192.2153999999</td></tr><tr><td>2016-03-01</td><td>167493.5243999999</td></tr><tr><td>2016-04-01</td><td>170229.91589999993</td></tr><tr><td>2016-05-01</td><td>175974.80039999995</td></tr><tr><td>2016-06-01</td><td>181331.19339999993</td></tr><tr><td>2016-07-01</td><td>180725.2923999999</td></tr><tr><td>2016-08-01</td><td>183569.93249999988</td></tr><tr><td>2016-09-01</td><td>184559.79039999988</td></tr><tr><td>2016-10-01</td><td>184405.74389999988</td></tr><tr><td>2016-11-01</td><td>185308.54019999993</td></tr><tr><td>2016-12-01</td><td>198901.436</td></tr><tr><td>2017-01-01</td><td>197242.72499999998</td></tr><tr><td>2017-02-01</td><td>200183.51139999996</td></tr><tr><td>2017-03-01</td><td>198275.8641999999</td></tr><tr><td>2017-04-01</td><td>194129.73229999992</td></tr><tr><td>2017-05-01</td><td>195967.45549999987</td></tr><tr><td>2017-06-01</td><td>201905.47019999987</td></tr><tr><td>2017-07-01</td><td>200649.9731999999</td></tr><tr><td>2017-08-01</td><td>203608.61489999987</td></tr><tr><td>2017-09-01</td><td>205373.9399999999</td></tr><tr><td>2017-10-01</td><td>215385.43119999988</td></tr><tr><td>2017-11-01</td><td>220658.51739999984</td></tr><tr><td>2017-12-01</td><td>215387.26919999975</td></tr></table>"
                    },
                    "metadata": {
                        "azdata_chartOptions": {
                            "type": "line",
                            "dataDirection": "vertical",
                            "columnsAsLabels": true,
                            "labelFirstColumn": false,
                            "legendPosition": "none",
                            "yAxisLabel": "Total Sales",
                            "xAxisLabel": "Year/Month",
                            "dataType": "number"
                        }
                    }
                }
            ],
            "execution_count": 3
        },
        {
            "cell_type": "code",
            "source": [
                "WITH MonthlySales AS (\r\n",
                "    SELECT \r\n",
                "        CONCAT(YEAR(order_date), '-', RIGHT('00' + CAST(MONTH(order_date) AS VARCHAR(2)), 2)) AS YearMonth,\r\n",
                "        sub_category,\r\n",
                "        SUM(total_sales) AS TotalSales\r\n",
                "    FROM \r\n",
                "        [dbo].[Sales]\r\n",
                "    WHERE \r\n",
                "        category = 'Furniture'\r\n",
                "    GROUP BY \r\n",
                "        YEAR(order_date), MONTH(order_date), sub_category\r\n",
                "),\r\n",
                "SalesWithPreviousMonth AS (\r\n",
                "    SELECT \r\n",
                "        ms.YearMonth,\r\n",
                "        ms.sub_category,\r\n",
                "        ms.TotalSales,\r\n",
                "        LAG(ms.TotalSales, 1) OVER (PARTITION BY ms.sub_category ORDER BY ms.YearMonth) AS PreviousMonthSales\r\n",
                "    FROM \r\n",
                "        MonthlySales ms\r\n",
                ")\r\n",
                "SELECT \r\n",
                "    YearMonth,\r\n",
                "    sub_category,\r\n",
                "    TotalSales,\r\n",
                "    PreviousMonthSales,\r\n",
                "    CASE \r\n",
                "        WHEN PreviousMonthSales IS NOT NULL AND PreviousMonthSales > 0 THEN \r\n",
                "            ((TotalSales - PreviousMonthSales) / PreviousMonthSales) * 100 \r\n",
                "        ELSE NULL \r\n",
                "    END AS MonthlyGrowthRate\r\n",
                "FROM \r\n",
                "    SalesWithPreviousMonth\r\n",
                "ORDER BY \r\n",
                "    sub_category, YearMonth;"
            ],
            "metadata": {
                "azdata_cell_guid": "0b95b227-438c-4d3b-a304-71879a940faf",
                "language": "sql"
            },
            "outputs": [
                {
                    "output_type": "display_data",
                    "data": {
                        "text/html": "(190 rows affected)"
                    },
                    "metadata": {}
                },
                {
                    "output_type": "display_data",
                    "data": {
                        "text/html": "Total execution time: 00:00:00.032"
                    },
                    "metadata": {}
                },
                {
                    "output_type": "execute_result",
                    "execution_count": 5,
                    "data": {
                        "application/vnd.dataresource+json": {
                            "schema": {
                                "fields": [
                                    {
                                        "name": "YearMonth"
                                    },
                                    {
                                        "name": "sub_category"
                                    },
                                    {
                                        "name": "TotalSales"
                                    },
                                    {
                                        "name": "PreviousMonthSales"
                                    },
                                    {
                                        "name": "MonthlyGrowthRate"
                                    }
                                ]
                            },
                            "data": [
                                {
                                    "YearMonth": "2014-01",
                                    "sub_category": "Bookcases",
                                    "TotalSales": "1010.0550000000001",
                                    "PreviousMonthSales": "NULL",
                                    "MonthlyGrowthRate": "NULL"
                                },
                                {
                                    "YearMonth": "2014-03",
                                    "sub_category": "Bookcases",
                                    "TotalSales": "1706.446",
                                    "PreviousMonthSales": "1010.0550000000001",
                                    "MonthlyGrowthRate": "68.94584948344395"
                                },
                                {
                                    "YearMonth": "2014-04",
                                    "sub_category": "Bookcases",
                                    "TotalSales": "308.499",
                                    "PreviousMonthSales": "1706.446",
                                    "MonthlyGrowthRate": "-81.9215492315608"
                                },
                                {
                                    "YearMonth": "2014-05",
                                    "sub_category": "Bookcases",
                                    "TotalSales": "640.631",
                                    "PreviousMonthSales": "308.499",
                                    "MonthlyGrowthRate": "107.66064071520489"
                                },
                                {
                                    "YearMonth": "2014-06",
                                    "sub_category": "Bookcases",
                                    "TotalSales": "759.5735999999999",
                                    "PreviousMonthSales": "640.631",
                                    "MonthlyGrowthRate": "18.56647586520165"
                                },
                                {
                                    "YearMonth": "2014-07",
                                    "sub_category": "Bookcases",
                                    "TotalSales": "1487.673",
                                    "PreviousMonthSales": "759.5735999999999",
                                    "MonthlyGrowthRate": "95.85633307950673"
                                },
                                {
                                    "YearMonth": "2014-08",
                                    "sub_category": "Bookcases",
                                    "TotalSales": "794.2760000000001",
                                    "PreviousMonthSales": "1487.673",
                                    "MonthlyGrowthRate": "-46.6095035669801"
                                },
                                {
                                    "YearMonth": "2014-09",
                                    "sub_category": "Bookcases",
                                    "TotalSales": "2394.4698",
                                    "PreviousMonthSales": "794.2760000000001",
                                    "MonthlyGrowthRate": "201.46571217058047"
                                },
                                {
                                    "YearMonth": "2014-10",
                                    "sub_category": "Bookcases",
                                    "TotalSales": "616.998",
                                    "PreviousMonthSales": "2394.4698",
                                    "MonthlyGrowthRate": "-74.23237494997849"
                                },
                                {
                                    "YearMonth": "2014-11",
                                    "sub_category": "Bookcases",
                                    "TotalSales": "7263.713700000001",
                                    "PreviousMonthSales": "616.998",
                                    "MonthlyGrowthRate": "1077.2669765542191"
                                },
                                {
                                    "YearMonth": "2014-12",
                                    "sub_category": "Bookcases",
                                    "TotalSales": "3054.3424999999997",
                                    "PreviousMonthSales": "7263.713700000001",
                                    "MonthlyGrowthRate": "-57.950676112138076"
                                },
                                {
                                    "YearMonth": "2015-01",
                                    "sub_category": "Bookcases",
                                    "TotalSales": "1804.8476",
                                    "PreviousMonthSales": "3054.3424999999997",
                                    "MonthlyGrowthRate": "-40.90880115769596"
                                },
                                {
                                    "YearMonth": "2015-02",
                                    "sub_category": "Bookcases",
                                    "TotalSales": "283.92",
                                    "PreviousMonthSales": "1804.8476",
                                    "MonthlyGrowthRate": "-84.26903191161404"
                                },
                                {
                                    "YearMonth": "2015-03",
                                    "sub_category": "Bookcases",
                                    "TotalSales": "2625.422",
                                    "PreviousMonthSales": "283.92",
                                    "MonthlyGrowthRate": "824.7048464356157"
                                },
                                {
                                    "YearMonth": "2015-04",
                                    "sub_category": "Bookcases",
                                    "TotalSales": "875.71",
                                    "PreviousMonthSales": "2625.422",
                                    "MonthlyGrowthRate": "-66.64498126396443"
                                },
                                {
                                    "YearMonth": "2015-05",
                                    "sub_category": "Bookcases",
                                    "TotalSales": "1916.8174999999999",
                                    "PreviousMonthSales": "875.71",
                                    "MonthlyGrowthRate": "118.88724577771177"
                                },
                                {
                                    "YearMonth": "2015-06",
                                    "sub_category": "Bookcases",
                                    "TotalSales": "482.94",
                                    "PreviousMonthSales": "1916.8174999999999",
                                    "MonthlyGrowthRate": "-74.8051131628337"
                                },
                                {
                                    "YearMonth": "2015-07",
                                    "sub_category": "Bookcases",
                                    "TotalSales": "2860.384",
                                    "PreviousMonthSales": "482.94",
                                    "MonthlyGrowthRate": "492.28558413053383"
                                },
                                {
                                    "YearMonth": "2015-08",
                                    "sub_category": "Bookcases",
                                    "TotalSales": "3804.9642000000003",
                                    "PreviousMonthSales": "2860.384",
                                    "MonthlyGrowthRate": "33.02284588362962"
                                },
                                {
                                    "YearMonth": "2015-09",
                                    "sub_category": "Bookcases",
                                    "TotalSales": "10685.208999999999",
                                    "PreviousMonthSales": "3804.9642000000003",
                                    "MonthlyGrowthRate": "180.82285242000432"
                                },
                                {
                                    "YearMonth": "2015-10",
                                    "sub_category": "Bookcases",
                                    "TotalSales": "2173.7709999999997",
                                    "PreviousMonthSales": "10685.208999999999",
                                    "MonthlyGrowthRate": "-79.65626128604502"
                                },
                                {
                                    "YearMonth": "2015-11",
                                    "sub_category": "Bookcases",
                                    "TotalSales": "8377.345",
                                    "PreviousMonthSales": "2173.7709999999997",
                                    "MonthlyGrowthRate": "285.3830509285477"
                                },
                                {
                                    "YearMonth": "2015-12",
                                    "sub_category": "Bookcases",
                                    "TotalSales": "2652.2421999999997",
                                    "PreviousMonthSales": "8377.345",
                                    "MonthlyGrowthRate": "-68.34030113359304"
                                },
                                {
                                    "YearMonth": "2016-01",
                                    "sub_category": "Bookcases",
                                    "TotalSales": "2239.536",
                                    "PreviousMonthSales": "2652.2421999999997",
                                    "MonthlyGrowthRate": "-15.560652794077393"
                                },
                                {
                                    "YearMonth": "2016-02",
                                    "sub_category": "Bookcases",
                                    "TotalSales": "239.98",
                                    "PreviousMonthSales": "2239.536",
                                    "MonthlyGrowthRate": "-89.28438748026377"
                                },
                                {
                                    "YearMonth": "2016-03",
                                    "sub_category": "Bookcases",
                                    "TotalSales": "1091.855",
                                    "PreviousMonthSales": "239.98",
                                    "MonthlyGrowthRate": "354.97749812484375"
                                },
                                {
                                    "YearMonth": "2016-04",
                                    "sub_category": "Bookcases",
                                    "TotalSales": "1557.768",
                                    "PreviousMonthSales": "1091.855",
                                    "MonthlyGrowthRate": "42.67169175394169"
                                },
                                {
                                    "YearMonth": "2016-06",
                                    "sub_category": "Bookcases",
                                    "TotalSales": "2596.0429999999997",
                                    "PreviousMonthSales": "1557.768",
                                    "MonthlyGrowthRate": "66.6514525911432"
                                },
                                {
                                    "YearMonth": "2016-07",
                                    "sub_category": "Bookcases",
                                    "TotalSales": "2540.651",
                                    "PreviousMonthSales": "2596.0429999999997",
                                    "MonthlyGrowthRate": "-2.1337088792442898"
                                },
                                {
                                    "YearMonth": "2016-08",
                                    "sub_category": "Bookcases",
                                    "TotalSales": "562.2128",
                                    "PreviousMonthSales": "2540.651",
                                    "MonthlyGrowthRate": "-77.87130936126213"
                                },
                                {
                                    "YearMonth": "2016-09",
                                    "sub_category": "Bookcases",
                                    "TotalSales": "6656.9959",
                                    "PreviousMonthSales": "562.2128",
                                    "MonthlyGrowthRate": "1084.070497861308"
                                },
                                {
                                    "YearMonth": "2016-10",
                                    "sub_category": "Bookcases",
                                    "TotalSales": "1376.448",
                                    "PreviousMonthSales": "6656.9959",
                                    "MonthlyGrowthRate": "-79.32328604859137"
                                },
                                {
                                    "YearMonth": "2016-11",
                                    "sub_category": "Bookcases",
                                    "TotalSales": "5797.274800000001",
                                    "PreviousMonthSales": "1376.448",
                                    "MonthlyGrowthRate": "321.1764483656484"
                                },
                                {
                                    "YearMonth": "2016-12",
                                    "sub_category": "Bookcases",
                                    "TotalSales": "1616.7020000000002",
                                    "PreviousMonthSales": "5797.274800000001",
                                    "MonthlyGrowthRate": "-72.11272441320187"
                                },
                                {
                                    "YearMonth": "2017-01",
                                    "sub_category": "Bookcases",
                                    "TotalSales": "297.92",
                                    "PreviousMonthSales": "1616.7020000000002",
                                    "MonthlyGrowthRate": "-81.57236151127418"
                                },
                                {
                                    "YearMonth": "2017-02",
                                    "sub_category": "Bookcases",
                                    "TotalSales": "1125.7234",
                                    "PreviousMonthSales": "297.92",
                                    "MonthlyGrowthRate": "277.86096938775506"
                                },
                                {
                                    "YearMonth": "2017-03",
                                    "sub_category": "Bookcases",
                                    "TotalSales": "1928.1928",
                                    "PreviousMonthSales": "1125.7234",
                                    "MonthlyGrowthRate": "71.28477563849165"
                                },
                                {
                                    "YearMonth": "2017-04",
                                    "sub_category": "Bookcases",
                                    "TotalSales": "1978.5035999999998",
                                    "PreviousMonthSales": "1928.1928",
                                    "MonthlyGrowthRate": "2.6092204057602406"
                                },
                                {
                                    "YearMonth": "2017-05",
                                    "sub_category": "Bookcases",
                                    "TotalSales": "3732.1331999999998",
                                    "PreviousMonthSales": "1978.5035999999998",
                                    "MonthlyGrowthRate": "88.63413743598952"
                                },
                                {
                                    "YearMonth": "2017-06",
                                    "sub_category": "Bookcases",
                                    "TotalSales": "5309.0727",
                                    "PreviousMonthSales": "3732.1331999999998",
                                    "MonthlyGrowthRate": "42.253033734165754"
                                },
                                {
                                    "YearMonth": "2017-07",
                                    "sub_category": "Bookcases",
                                    "TotalSales": "1700.275",
                                    "PreviousMonthSales": "5309.0727",
                                    "MonthlyGrowthRate": "-67.97416241823171"
                                },
                                {
                                    "YearMonth": "2017-08",
                                    "sub_category": "Bookcases",
                                    "TotalSales": "460.092",
                                    "PreviousMonthSales": "1700.275",
                                    "MonthlyGrowthRate": "-72.94014203584713"
                                },
                                {
                                    "YearMonth": "2017-09",
                                    "sub_category": "Bookcases",
                                    "TotalSales": "3635.856",
                                    "PreviousMonthSales": "460.092",
                                    "MonthlyGrowthRate": "690.2454291750346"
                                },
                                {
                                    "YearMonth": "2017-10",
                                    "sub_category": "Bookcases",
                                    "TotalSales": "4079.7262",
                                    "PreviousMonthSales": "3635.856",
                                    "MonthlyGrowthRate": "12.208134755611878"
                                },
                                {
                                    "YearMonth": "2017-11",
                                    "sub_category": "Bookcases",
                                    "TotalSales": "2122.687",
                                    "PreviousMonthSales": "4079.7262",
                                    "MonthlyGrowthRate": "-47.96986621308068"
                                },
                                {
                                    "YearMonth": "2017-12",
                                    "sub_category": "Bookcases",
                                    "TotalSales": "3654.0978",
                                    "PreviousMonthSales": "2122.687",
                                    "MonthlyGrowthRate": "72.14491820979731"
                                },
                                {
                                    "YearMonth": "2014-01",
                                    "sub_category": "Chairs",
                                    "TotalSales": "4187.700000000001",
                                    "PreviousMonthSales": "NULL",
                                    "MonthlyGrowthRate": "NULL"
                                },
                                {
                                    "YearMonth": "2014-02",
                                    "sub_category": "Chairs",
                                    "TotalSales": "190.45800000000003",
                                    "PreviousMonthSales": "4187.700000000001",
                                    "MonthlyGrowthRate": "-95.45196647324306"
                                },
                                {
                                    "YearMonth": "2014-03",
                                    "sub_category": "Chairs",
                                    "TotalSales": "5713.142",
                                    "PreviousMonthSales": "190.45800000000003",
                                    "MonthlyGrowthRate": "2899.6860200149113"
                                },
                                {
                                    "YearMonth": "2014-04",
                                    "sub_category": "Chairs",
                                    "TotalSales": "3210.6659999999997",
                                    "PreviousMonthSales": "5713.142",
                                    "MonthlyGrowthRate": "-43.802096989712496"
                                },
                                {
                                    "YearMonth": "2014-05",
                                    "sub_category": "Chairs",
                                    "TotalSales": "3675.109",
                                    "PreviousMonthSales": "3210.6659999999997",
                                    "MonthlyGrowthRate": "14.465628003660308"
                                },
                                {
                                    "YearMonth": "2014-06",
                                    "sub_category": "Chairs",
                                    "TotalSales": "6456.001",
                                    "PreviousMonthSales": "3675.109",
                                    "MonthlyGrowthRate": "75.66828630116822"
                                },
                                {
                                    "YearMonth": "2014-07",
                                    "sub_category": "Chairs",
                                    "TotalSales": "6364.9400000000005",
                                    "PreviousMonthSales": "6456.001",
                                    "MonthlyGrowthRate": "-1.4104861507921032"
                                },
                                {
                                    "YearMonth": "2014-08",
                                    "sub_category": "Chairs",
                                    "TotalSales": "2590.242",
                                    "PreviousMonthSales": "6364.9400000000005",
                                    "MonthlyGrowthRate": "-59.30453389976967"
                                },
                                {
                                    "YearMonth": "2014-09",
                                    "sub_category": "Chairs",
                                    "TotalSales": "13849.184999999998",
                                    "PreviousMonthSales": "2590.242",
                                    "MonthlyGrowthRate": "434.6676102078492"
                                },
                                {
                                    "YearMonth": "2014-10",
                                    "sub_category": "Chairs",
                                    "TotalSales": "6486.6050000000005",
                                    "PreviousMonthSales": "13849.184999999998",
                                    "MonthlyGrowthRate": "-53.16255072049365"
                                },
                                {
                                    "YearMonth": "2014-11",
                                    "sub_category": "Chairs",
                                    "TotalSales": "7282.554000000001",
                                    "PreviousMonthSales": "6486.6050000000005",
                                    "MonthlyGrowthRate": "12.27065622155196"
                                },
                                {
                                    "YearMonth": "2014-12",
                                    "sub_category": "Chairs",
                                    "TotalSales": "17234.974000000002",
                                    "PreviousMonthSales": "7282.554000000001",
                                    "MonthlyGrowthRate": "136.66112190860517"
                                },
                                {
                                    "YearMonth": "2015-01",
                                    "sub_category": "Chairs",
                                    "TotalSales": "3246.794",
                                    "PreviousMonthSales": "17234.974000000002",
                                    "MonthlyGrowthRate": "-81.1615961822745"
                                },
                                {
                                    "YearMonth": "2015-02",
                                    "sub_category": "Chairs",
                                    "TotalSales": "2114.886",
                                    "PreviousMonthSales": "3246.794",
                                    "MonthlyGrowthRate": "-34.8623288080488"
                                },
                                {
                                    "YearMonth": "2015-03",
                                    "sub_category": "Chairs",
                                    "TotalSales": "4085.2329999999997",
                                    "PreviousMonthSales": "2114.886",
                                    "MonthlyGrowthRate": "93.16563635108463"
                                },
                                {
                                    "YearMonth": "2015-04",
                                    "sub_category": "Chairs",
                                    "TotalSales": "4271.621",
                                    "PreviousMonthSales": "4085.2329999999997",
                                    "MonthlyGrowthRate": "4.562481503502992"
                                },
                                {
                                    "YearMonth": "2015-05",
                                    "sub_category": "Chairs",
                                    "TotalSales": "5681.933",
                                    "PreviousMonthSales": "4271.621",
                                    "MonthlyGrowthRate": "33.01585042305953"
                                },
                                {
                                    "YearMonth": "2015-06",
                                    "sub_category": "Chairs",
                                    "TotalSales": "3937.888",
                                    "PreviousMonthSales": "5681.933",
                                    "MonthlyGrowthRate": "-30.6945717240946"
                                },
                                {
                                    "YearMonth": "2015-07",
                                    "sub_category": "Chairs",
                                    "TotalSales": "7313.560999999999",
                                    "PreviousMonthSales": "3937.888",
                                    "MonthlyGrowthRate": "85.72293066740342"
                                },
                                {
                                    "YearMonth": "2015-08",
                                    "sub_category": "Chairs",
                                    "TotalSales": "1439.0140000000001",
                                    "PreviousMonthSales": "7313.560999999999",
                                    "MonthlyGrowthRate": "-80.3240309337681"
                                },
                                {
                                    "YearMonth": "2015-09",
                                    "sub_category": "Chairs",
                                    "TotalSales": "9519.923999999999",
                                    "PreviousMonthSales": "1439.0140000000001",
                                    "MonthlyGrowthRate": "561.5588173568846"
                                },
                                {
                                    "YearMonth": "2015-10",
                                    "sub_category": "Chairs",
                                    "TotalSales": "7103.532",
                                    "PreviousMonthSales": "9519.923999999999",
                                    "MonthlyGrowthRate": "-25.382471540739182"
                                },
                                {
                                    "YearMonth": "2015-11",
                                    "sub_category": "Chairs",
                                    "TotalSales": "12743.158",
                                    "PreviousMonthSales": "7103.532",
                                    "MonthlyGrowthRate": "79.3918574590781"
                                },
                                {
                                    "YearMonth": "2015-12",
                                    "sub_category": "Chairs",
                                    "TotalSales": "10276.984999999999",
                                    "PreviousMonthSales": "12743.158",
                                    "MonthlyGrowthRate": "-19.352918640732547"
                                },
                                {
                                    "YearMonth": "2016-01",
                                    "sub_category": "Chairs",
                                    "TotalSales": "1602.2240000000002",
                                    "PreviousMonthSales": "10276.984999999999",
                                    "MonthlyGrowthRate": "-84.40959094520426"
                                },
                                {
                                    "YearMonth": "2016-02",
                                    "sub_category": "Chairs",
                                    "TotalSales": "1725.464",
                                    "PreviousMonthSales": "1602.2240000000002",
                                    "MonthlyGrowthRate": "7.691808386342968"
                                },
                                {
                                    "YearMonth": "2016-03",
                                    "sub_category": "Chairs",
                                    "TotalSales": "6021.038",
                                    "PreviousMonthSales": "1725.464",
                                    "MonthlyGrowthRate": "248.95181817760323"
                                },
                                {
                                    "YearMonth": "2016-04",
                                    "sub_category": "Chairs",
                                    "TotalSales": "8945.012",
                                    "PreviousMonthSales": "6021.038",
                                    "MonthlyGrowthRate": "48.56262325532577"
                                },
                                {
                                    "YearMonth": "2016-05",
                                    "sub_category": "Chairs",
                                    "TotalSales": "7399.477",
                                    "PreviousMonthSales": "8945.012",
                                    "MonthlyGrowthRate": "-17.278176932574276"
                                },
                                {
                                    "YearMonth": "2016-06",
                                    "sub_category": "Chairs",
                                    "TotalSales": "2634.7599999999998",
                                    "PreviousMonthSales": "7399.477",
                                    "MonthlyGrowthRate": "-64.39261855939279"
                                },
                                {
                                    "YearMonth": "2016-07",
                                    "sub_category": "Chairs",
                                    "TotalSales": "5368.102",
                                    "PreviousMonthSales": "2634.7599999999998",
                                    "MonthlyGrowthRate": "103.74159316218557"
                                },
                                {
                                    "YearMonth": "2016-08",
                                    "sub_category": "Chairs",
                                    "TotalSales": "4891.534",
                                    "PreviousMonthSales": "5368.102",
                                    "MonthlyGrowthRate": "-8.877774677157777"
                                },
                                {
                                    "YearMonth": "2016-09",
                                    "sub_category": "Chairs",
                                    "TotalSales": "11296.44",
                                    "PreviousMonthSales": "4891.534",
                                    "MonthlyGrowthRate": "130.93859717626418"
                                },
                                {
                                    "YearMonth": "2016-10",
                                    "sub_category": "Chairs",
                                    "TotalSales": "5910.879",
                                    "PreviousMonthSales": "11296.44",
                                    "MonthlyGrowthRate": "-47.674851546150826"
                                },
                                {
                                    "YearMonth": "2016-11",
                                    "sub_category": "Chairs",
                                    "TotalSales": "13173.082999999999",
                                    "PreviousMonthSales": "5910.879",
                                    "MonthlyGrowthRate": "122.86165898506802"
                                },
                                {
                                    "YearMonth": "2016-12",
                                    "sub_category": "Chairs",
                                    "TotalSales": "14950.632000000003",
                                    "PreviousMonthSales": "13173.082999999999",
                                    "MonthlyGrowthRate": "13.493796402861841"
                                },
                                {
                                    "YearMonth": "2017-01",
                                    "sub_category": "Chairs",
                                    "TotalSales": "2248.4510000000005",
                                    "PreviousMonthSales": "14950.632000000003",
                                    "MonthlyGrowthRate": "-84.96082974953835"
                                },
                                {
                                    "YearMonth": "2017-02",
                                    "sub_category": "Chairs",
                                    "TotalSales": "3552.132",
                                    "PreviousMonthSales": "2248.4510000000005",
                                    "MonthlyGrowthRate": "57.9812946779805"
                                },
                                {
                                    "YearMonth": "2017-03",
                                    "sub_category": "Chairs",
                                    "TotalSales": "5524.914",
                                    "PreviousMonthSales": "3552.132",
                                    "MonthlyGrowthRate": "55.53796987274121"
                                },
                                {
                                    "YearMonth": "2017-04",
                                    "sub_category": "Chairs",
                                    "TotalSales": "2099.286",
                                    "PreviousMonthSales": "5524.914",
                                    "MonthlyGrowthRate": "-62.003281861038914"
                                },
                                {
                                    "YearMonth": "2017-05",
                                    "sub_category": "Chairs",
                                    "TotalSales": "9137.311",
                                    "PreviousMonthSales": "2099.286",
                                    "MonthlyGrowthRate": "335.25803535106695"
                                },
                                {
                                    "YearMonth": "2017-06",
                                    "sub_category": "Chairs",
                                    "TotalSales": "8494.718",
                                    "PreviousMonthSales": "9137.311",
                                    "MonthlyGrowthRate": "-7.032626994966012"
                                },
                                {
                                    "YearMonth": "2017-07",
                                    "sub_category": "Chairs",
                                    "TotalSales": "3969.748",
                                    "PreviousMonthSales": "8494.718",
                                    "MonthlyGrowthRate": "-53.26804256480322"
                                },
                                {
                                    "YearMonth": "2017-08",
                                    "sub_category": "Chairs",
                                    "TotalSales": "9419.014000000001",
                                    "PreviousMonthSales": "3969.748",
                                    "MonthlyGrowthRate": "137.2698216612239"
                                },
                                {
                                    "YearMonth": "2017-09",
                                    "sub_category": "Chairs",
                                    "TotalSales": "16911.669",
                                    "PreviousMonthSales": "9419.014000000001",
                                    "MonthlyGrowthRate": "79.54818837725477"
                                },
                                {
                                    "YearMonth": "2017-10",
                                    "sub_category": "Chairs",
                                    "TotalSales": "4669.434000000001",
                                    "PreviousMonthSales": "16911.669",
                                    "MonthlyGrowthRate": "-72.38927748645033"
                                },
                                {
                                    "YearMonth": "2017-11",
                                    "sub_category": "Chairs",
                                    "TotalSales": "14561.218000000004",
                                    "PreviousMonthSales": "4669.434000000001",
                                    "MonthlyGrowthRate": "211.84117818133848"
                                },
                                {
                                    "YearMonth": "2017-12",
                                    "sub_category": "Chairs",
                                    "TotalSales": "14966.457999999997",
                                    "PreviousMonthSales": "14561.218000000004",
                                    "MonthlyGrowthRate": "2.783008948839255"
                                },
                                {
                                    "YearMonth": "2014-01",
                                    "sub_category": "Furnishings",
                                    "TotalSales": "711.77",
                                    "PreviousMonthSales": "NULL",
                                    "MonthlyGrowthRate": "NULL"
                                },
                                {
                                    "YearMonth": "2014-02",
                                    "sub_category": "Furnishings",
                                    "TotalSales": "392.98",
                                    "PreviousMonthSales": "711.77",
                                    "MonthlyGrowthRate": "-44.78834454950334"
                                },
                                {
                                    "YearMonth": "2014-03",
                                    "sub_category": "Furnishings",
                                    "TotalSales": "480.12800000000004",
                                    "PreviousMonthSales": "392.98",
                                    "MonthlyGrowthRate": "22.176192172629655"
                                },
                                {
                                    "YearMonth": "2014-04",
                                    "sub_category": "Furnishings",
                                    "TotalSales": "984.0460000000002",
                                    "PreviousMonthSales": "480.12800000000004",
                                    "MonthlyGrowthRate": "104.95492868568384"
                                },
                                {
                                    "YearMonth": "2014-05",
                                    "sub_category": "Furnishings",
                                    "TotalSales": "780.166",
                                    "PreviousMonthSales": "984.0460000000002",
                                    "MonthlyGrowthRate": "-20.718543645317403"
                                },
                                {
                                    "YearMonth": "2014-06",
                                    "sub_category": "Furnishings",
                                    "TotalSales": "432.75",
                                    "PreviousMonthSales": "780.166",
                                    "MonthlyGrowthRate": "-44.53103570265816"
                                },
                                {
                                    "YearMonth": "2014-07",
                                    "sub_category": "Furnishings",
                                    "TotalSales": "902.622",
                                    "PreviousMonthSales": "432.75",
                                    "MonthlyGrowthRate": "108.57816291161177"
                                },
                                {
                                    "YearMonth": "2014-08",
                                    "sub_category": "Furnishings",
                                    "TotalSales": "997.758",
                                    "PreviousMonthSales": "902.622",
                                    "MonthlyGrowthRate": "10.539960249140847"
                                },
                                {
                                    "YearMonth": "2014-09",
                                    "sub_category": "Furnishings",
                                    "TotalSales": "2960.956",
                                    "PreviousMonthSales": "997.758",
                                    "MonthlyGrowthRate": "196.7609380230477"
                                },
                                {
                                    "YearMonth": "2014-10",
                                    "sub_category": "Furnishings",
                                    "TotalSales": "621.812",
                                    "PreviousMonthSales": "2960.956",
                                    "MonthlyGrowthRate": "-78.99962039287311"
                                },
                                {
                                    "YearMonth": "2014-11",
                                    "sub_category": "Furnishings",
                                    "TotalSales": "2483.762",
                                    "PreviousMonthSales": "621.812",
                                    "MonthlyGrowthRate": "299.439380391501"
                                },
                                {
                                    "YearMonth": "2014-12",
                                    "sub_category": "Furnishings",
                                    "TotalSales": "2077.4840000000004",
                                    "PreviousMonthSales": "2483.762",
                                    "MonthlyGrowthRate": "-16.357364352945243"
                                },
                                {
                                    "YearMonth": "2015-01",
                                    "sub_category": "Furnishings",
                                    "TotalSales": "1270.114",
                                    "PreviousMonthSales": "2077.4840000000004",
                                    "MonthlyGrowthRate": "-38.86287451551975"
                                },
                                {
                                    "YearMonth": "2015-02",
                                    "sub_category": "Furnishings",
                                    "TotalSales": "206.10399999999998",
                                    "PreviousMonthSales": "1270.114",
                                    "MonthlyGrowthRate": "-83.77279519791136"
                                },
                                {
                                    "YearMonth": "2015-03",
                                    "sub_category": "Furnishings",
                                    "TotalSales": "1435.958",
                                    "PreviousMonthSales": "206.10399999999998",
                                    "MonthlyGrowthRate": "596.715250553119"
                                },
                                {
                                    "YearMonth": "2015-04",
                                    "sub_category": "Furnishings",
                                    "TotalSales": "2993.1879999999996",
                                    "PreviousMonthSales": "1435.958",
                                    "MonthlyGrowthRate": "108.44537235768729"
                                },
                                {
                                    "YearMonth": "2015-05",
                                    "sub_category": "Furnishings",
                                    "TotalSales": "1532.1939999999997",
                                    "PreviousMonthSales": "2993.1879999999996",
                                    "MonthlyGrowthRate": "-48.81063267659766"
                                },
                                {
                                    "YearMonth": "2015-06",
                                    "sub_category": "Furnishings",
                                    "TotalSales": "2496.9260000000004",
                                    "PreviousMonthSales": "1532.1939999999997",
                                    "MonthlyGrowthRate": "62.964089403822285"
                                },
                                {
                                    "YearMonth": "2015-07",
                                    "sub_category": "Furnishings",
                                    "TotalSales": "1458.112",
                                    "PreviousMonthSales": "2496.9260000000004",
                                    "MonthlyGrowthRate": "-41.603715929106436"
                                },
                                {
                                    "YearMonth": "2015-08",
                                    "sub_category": "Furnishings",
                                    "TotalSales": "800.252",
                                    "PreviousMonthSales": "1458.112",
                                    "MonthlyGrowthRate": "-45.11724750910767"
                                },
                                {
                                    "YearMonth": "2015-09",
                                    "sub_category": "Furnishings",
                                    "TotalSales": "2199.624",
                                    "PreviousMonthSales": "800.252",
                                    "MonthlyGrowthRate": "174.86641707862023"
                                },
                                {
                                    "YearMonth": "2015-10",
                                    "sub_category": "Furnishings",
                                    "TotalSales": "616.7600000000001",
                                    "PreviousMonthSales": "2199.624",
                                    "MonthlyGrowthRate": "-71.96066236775012"
                                },
                                {
                                    "YearMonth": "2015-11",
                                    "sub_category": "Furnishings",
                                    "TotalSales": "3549.878",
                                    "PreviousMonthSales": "616.7600000000001",
                                    "MonthlyGrowthRate": "475.5687787794279"
                                },
                                {
                                    "YearMonth": "2015-12",
                                    "sub_category": "Furnishings",
                                    "TotalSales": "2530.6020000000003",
                                    "PreviousMonthSales": "3549.878",
                                    "MonthlyGrowthRate": "-28.71298675616457"
                                },
                                {
                                    "YearMonth": "2016-01",
                                    "sub_category": "Furnishings",
                                    "TotalSales": "1066.5140000000001",
                                    "PreviousMonthSales": "2530.6020000000003",
                                    "MonthlyGrowthRate": "-57.85532454333001"
                                },
                                {
                                    "YearMonth": "2016-02",
                                    "sub_category": "Furnishings",
                                    "TotalSales": "851.9480000000001",
                                    "PreviousMonthSales": "1066.5140000000001",
                                    "MonthlyGrowthRate": "-20.118441952004382"
                                },
                                {
                                    "YearMonth": "2016-03",
                                    "sub_category": "Furnishings",
                                    "TotalSales": "2279.726",
                                    "PreviousMonthSales": "851.9480000000001",
                                    "MonthlyGrowthRate": "167.5898059505979"
                                },
                                {
                                    "YearMonth": "2016-04",
                                    "sub_category": "Furnishings",
                                    "TotalSales": "887.584",
                                    "PreviousMonthSales": "2279.726",
                                    "MonthlyGrowthRate": "-61.0661983062877"
                                },
                                {
                                    "YearMonth": "2016-05",
                                    "sub_category": "Furnishings",
                                    "TotalSales": "2844.2079999999996",
                                    "PreviousMonthSales": "887.584",
                                    "MonthlyGrowthRate": "220.44381151530445"
                                },
                                {
                                    "YearMonth": "2016-06",
                                    "sub_category": "Furnishings",
                                    "TotalSales": "1537.424",
                                    "PreviousMonthSales": "2844.2079999999996",
                                    "MonthlyGrowthRate": "-45.945444215050365"
                                },
                                {
                                    "YearMonth": "2016-07",
                                    "sub_category": "Furnishings",
                                    "TotalSales": "1866.5580000000002",
                                    "PreviousMonthSales": "1537.424",
                                    "MonthlyGrowthRate": "21.408147654778396"
                                },
                                {
                                    "YearMonth": "2016-08",
                                    "sub_category": "Furnishings",
                                    "TotalSales": "810.5540000000001",
                                    "PreviousMonthSales": "1866.5580000000002",
                                    "MonthlyGrowthRate": "-56.57493632665045"
                                },
                                {
                                    "YearMonth": "2016-09",
                                    "sub_category": "Furnishings",
                                    "TotalSales": "3661.826",
                                    "PreviousMonthSales": "810.5540000000001",
                                    "MonthlyGrowthRate": "351.76829674518905"
                                },
                                {
                                    "YearMonth": "2016-10",
                                    "sub_category": "Furnishings",
                                    "TotalSales": "2484.4819999999995",
                                    "PreviousMonthSales": "3661.826",
                                    "MonthlyGrowthRate": "-32.15182807703044"
                                },
                                {
                                    "YearMonth": "2016-11",
                                    "sub_category": "Furnishings",
                                    "TotalSales": "4034.778000000001",
                                    "PreviousMonthSales": "2484.4819999999995",
                                    "MonthlyGrowthRate": "62.39916409134789"
                                },
                                {
                                    "YearMonth": "2016-12",
                                    "sub_category": "Furnishings",
                                    "TotalSales": "5548.522000000002",
                                    "PreviousMonthSales": "4034.778000000001",
                                    "MonthlyGrowthRate": "37.51740492289787"
                                },
                                {
                                    "YearMonth": "2017-01",
                                    "sub_category": "Furnishings",
                                    "TotalSales": "931.224",
                                    "PreviousMonthSales": "5548.522000000002",
                                    "MonthlyGrowthRate": "-83.21671969580368"
                                },
                                {
                                    "YearMonth": "2017-02",
                                    "sub_category": "Furnishings",
                                    "TotalSales": "864.642",
                                    "PreviousMonthSales": "931.224",
                                    "MonthlyGrowthRate": "-7.149944589056982"
                                },
                                {
                                    "YearMonth": "2017-03",
                                    "sub_category": "Furnishings",
                                    "TotalSales": "963.234",
                                    "PreviousMonthSales": "864.642",
                                    "MonthlyGrowthRate": "11.402638317361403"
                                },
                                {
                                    "YearMonth": "2017-04",
                                    "sub_category": "Furnishings",
                                    "TotalSales": "2673.5440000000003",
                                    "PreviousMonthSales": "963.234",
                                    "MonthlyGrowthRate": "177.55913931609558"
                                },
                                {
                                    "YearMonth": "2017-05",
                                    "sub_category": "Furnishings",
                                    "TotalSales": "1736.86",
                                    "PreviousMonthSales": "2673.5440000000003",
                                    "MonthlyGrowthRate": "-35.035293976833756"
                                },
                                {
                                    "YearMonth": "2017-06",
                                    "sub_category": "Furnishings",
                                    "TotalSales": "1456.374",
                                    "PreviousMonthSales": "1736.86",
                                    "MonthlyGrowthRate": "-16.149027555473662"
                                },
                                {
                                    "YearMonth": "2017-07",
                                    "sub_category": "Furnishings",
                                    "TotalSales": "3381.7599999999998",
                                    "PreviousMonthSales": "1456.374",
                                    "MonthlyGrowthRate": "132.20409043281464"
                                },
                                {
                                    "YearMonth": "2017-08",
                                    "sub_category": "Furnishings",
                                    "TotalSales": "1425.0300000000002",
                                    "PreviousMonthSales": "3381.7599999999998",
                                    "MonthlyGrowthRate": "-57.86129116199847"
                                },
                                {
                                    "YearMonth": "2017-09",
                                    "sub_category": "Furnishings",
                                    "TotalSales": "2982.504",
                                    "PreviousMonthSales": "1425.0300000000002",
                                    "MonthlyGrowthRate": "109.29412012378683"
                                },
                                {
                                    "YearMonth": "2017-10",
                                    "sub_category": "Furnishings",
                                    "TotalSales": "1724.1320000000003",
                                    "PreviousMonthSales": "2982.504",
                                    "MonthlyGrowthRate": "-42.191795886946"
                                },
                                {
                                    "YearMonth": "2017-11",
                                    "sub_category": "Furnishings",
                                    "TotalSales": "6714.122",
                                    "PreviousMonthSales": "1724.1320000000003",
                                    "MonthlyGrowthRate": "289.4204156062296"
                                },
                                {
                                    "YearMonth": "2017-12",
                                    "sub_category": "Furnishings",
                                    "TotalSales": "4061.6679999999997",
                                    "PreviousMonthSales": "6714.122",
                                    "MonthlyGrowthRate": "-39.50559730669178"
                                },
                                {
                                    "YearMonth": "2014-01",
                                    "sub_category": "Tables",
                                    "TotalSales": "333",
                                    "PreviousMonthSales": "NULL",
                                    "MonthlyGrowthRate": "NULL"
                                },
                                {
                                    "YearMonth": "2014-02",
                                    "sub_category": "Tables",
                                    "TotalSales": "1256.22",
                                    "PreviousMonthSales": "333",
                                    "MonthlyGrowthRate": "277.2432432432432"
                                },
                                {
                                    "YearMonth": "2014-03",
                                    "sub_category": "Tables",
                                    "TotalSales": "6674.240000000001",
                                    "PreviousMonthSales": "1256.22",
                                    "MonthlyGrowthRate": "431.29547372275556"
                                },
                                {
                                    "YearMonth": "2014-04",
                                    "sub_category": "Tables",
                                    "TotalSales": "3441.626",
                                    "PreviousMonthSales": "6674.240000000001",
                                    "MonthlyGrowthRate": "-48.43418876156686"
                                },
                                {
                                    "YearMonth": "2014-05",
                                    "sub_category": "Tables",
                                    "TotalSales": "1816.8809999999999",
                                    "PreviousMonthSales": "3441.626",
                                    "MonthlyGrowthRate": "-47.2086449835049"
                                },
                                {
                                    "YearMonth": "2014-06",
                                    "sub_category": "Tables",
                                    "TotalSales": "5557.8009999999995",
                                    "PreviousMonthSales": "1816.8809999999999",
                                    "MonthlyGrowthRate": "205.89790965946582"
                                },
                                {
                                    "YearMonth": "2014-07",
                                    "sub_category": "Tables",
                                    "TotalSales": "2065.816",
                                    "PreviousMonthSales": "5557.8009999999995",
                                    "MonthlyGrowthRate": "-62.83033523510467"
                                },
                                {
                                    "YearMonth": "2014-08",
                                    "sub_category": "Tables",
                                    "TotalSales": "2938.0705000000003",
                                    "PreviousMonthSales": "2065.816",
                                    "MonthlyGrowthRate": "42.22324253466914"
                                },
                                {
                                    "YearMonth": "2014-09",
                                    "sub_category": "Tables",
                                    "TotalSales": "4611.870000000001",
                                    "PreviousMonthSales": "2938.0705000000003",
                                    "MonthlyGrowthRate": "56.9693443366999"
                                },
                                {
                                    "YearMonth": "2014-10",
                                    "sub_category": "Tables",
                                    "TotalSales": "4578.832",
                                    "PreviousMonthSales": "4611.870000000001",
                                    "MonthlyGrowthRate": "-0.7163688482112561"
                                },
                                {
                                    "YearMonth": "2014-11",
                                    "sub_category": "Tables",
                                    "TotalSales": "4534.842999999999",
                                    "PreviousMonthSales": "4578.832",
                                    "MonthlyGrowthRate": "-0.960703515656425"
                                },
                                {
                                    "YearMonth": "2014-12",
                                    "sub_category": "Tables",
                                    "TotalSales": "8279.166",
                                    "PreviousMonthSales": "4534.842999999999",
                                    "MonthlyGrowthRate": "82.56786398117865"
                                },
                                {
                                    "YearMonth": "2015-01",
                                    "sub_category": "Tables",
                                    "TotalSales": "5418.186000000001",
                                    "PreviousMonthSales": "8279.166",
                                    "MonthlyGrowthRate": "-34.556379229502085"
                                },
                                {
                                    "YearMonth": "2015-02",
                                    "sub_category": "Tables",
                                    "TotalSales": "529.464",
                                    "PreviousMonthSales": "5418.186000000001",
                                    "MonthlyGrowthRate": "-90.22802096495026"
                                },
                                {
                                    "YearMonth": "2015-03",
                                    "sub_category": "Tables",
                                    "TotalSales": "4353.17",
                                    "PreviousMonthSales": "529.464",
                                    "MonthlyGrowthRate": "722.1843222579815"
                                },
                                {
                                    "YearMonth": "2015-04",
                                    "sub_category": "Tables",
                                    "TotalSales": "2335.1794999999997",
                                    "PreviousMonthSales": "4353.17",
                                    "MonthlyGrowthRate": "-46.356804351771245"
                                },
                                {
                                    "YearMonth": "2015-05",
                                    "sub_category": "Tables",
                                    "TotalSales": "244.006",
                                    "PreviousMonthSales": "2335.1794999999997",
                                    "MonthlyGrowthRate": "-89.55086750290504"
                                },
                                {
                                    "YearMonth": "2015-06",
                                    "sub_category": "Tables",
                                    "TotalSales": "796.425",
                                    "PreviousMonthSales": "244.006",
                                    "MonthlyGrowthRate": "226.3956624017442"
                                },
                                {
                                    "YearMonth": "2015-07",
                                    "sub_category": "Tables",
                                    "TotalSales": "2042.3629999999998",
                                    "PreviousMonthSales": "796.425",
                                    "MonthlyGrowthRate": "156.44134727061555"
                                },
                                {
                                    "YearMonth": "2015-08",
                                    "sub_category": "Tables",
                                    "TotalSales": "3594.3619999999996",
                                    "PreviousMonthSales": "2042.3629999999998",
                                    "MonthlyGrowthRate": "75.99036018572603"
                                },
                                {
                                    "YearMonth": "2015-09",
                                    "sub_category": "Tables",
                                    "TotalSales": "3868.266",
                                    "PreviousMonthSales": "3594.3619999999996",
                                    "MonthlyGrowthRate": "7.620378804360843"
                                },
                                {
                                    "YearMonth": "2015-10",
                                    "sub_category": "Tables",
                                    "TotalSales": "2132.5605",
                                    "PreviousMonthSales": "3868.266",
                                    "MonthlyGrowthRate": "-44.8703760289494"
                                },
                                {
                                    "YearMonth": "2015-11",
                                    "sub_category": "Tables",
                                    "TotalSales": "6210.4515",
                                    "PreviousMonthSales": "2132.5605",
                                    "MonthlyGrowthRate": "191.22041320750338"
                                },
                                {
                                    "YearMonth": "2015-12",
                                    "sub_category": "Tables",
                                    "TotalSales": "7625.989999999999",
                                    "PreviousMonthSales": "6210.4515",
                                    "MonthlyGrowthRate": "22.792843644298628"
                                },
                                {
                                    "YearMonth": "2016-01",
                                    "sub_category": "Tables",
                                    "TotalSales": "2714.4689999999996",
                                    "PreviousMonthSales": "7625.989999999999",
                                    "MonthlyGrowthRate": "-64.40502806848684"
                                },
                                {
                                    "YearMonth": "2016-02",
                                    "sub_category": "Tables",
                                    "TotalSales": "1108.159",
                                    "PreviousMonthSales": "2714.4689999999996",
                                    "MonthlyGrowthRate": "-59.17584617838699"
                                },
                                {
                                    "YearMonth": "2016-03",
                                    "sub_category": "Tables",
                                    "TotalSales": "3408.4729999999995",
                                    "PreviousMonthSales": "1108.159",
                                    "MonthlyGrowthRate": "207.57977871406533"
                                },
                                {
                                    "YearMonth": "2016-04",
                                    "sub_category": "Tables",
                                    "TotalSales": "1821.726",
                                    "PreviousMonthSales": "3408.4729999999995",
                                    "MonthlyGrowthRate": "-46.55301655609417"
                                },
                                {
                                    "YearMonth": "2016-05",
                                    "sub_category": "Tables",
                                    "TotalSales": "4876.15",
                                    "PreviousMonthSales": "1821.726",
                                    "MonthlyGrowthRate": "167.66648771549615"
                                },
                                {
                                    "YearMonth": "2016-06",
                                    "sub_category": "Tables",
                                    "TotalSales": "6302.345",
                                    "PreviousMonthSales": "4876.15",
                                    "MonthlyGrowthRate": "29.24838243286201"
                                },
                                {
                                    "YearMonth": "2016-07",
                                    "sub_category": "Tables",
                                    "TotalSales": "3293.208",
                                    "PreviousMonthSales": "6302.345",
                                    "MonthlyGrowthRate": "-47.746307128537076"
                                },
                                {
                                    "YearMonth": "2016-08",
                                    "sub_category": "Tables",
                                    "TotalSales": "6218.931500000001",
                                    "PreviousMonthSales": "3293.208",
                                    "MonthlyGrowthRate": "88.8411390959818"
                                },
                                {
                                    "YearMonth": "2016-09",
                                    "sub_category": "Tables",
                                    "TotalSales": "5647.619",
                                    "PreviousMonthSales": "6218.931500000001",
                                    "MonthlyGrowthRate": "-9.18666655196316"
                                },
                                {
                                    "YearMonth": "2016-10",
                                    "sub_category": "Tables",
                                    "TotalSales": "2100.768",
                                    "PreviousMonthSales": "5647.619",
                                    "MonthlyGrowthRate": "-62.80258990558676"
                                },
                                {
                                    "YearMonth": "2016-11",
                                    "sub_category": "Tables",
                                    "TotalSales": "8778.493",
                                    "PreviousMonthSales": "2100.768",
                                    "MonthlyGrowthRate": "317.87065492239026"
                                },
                                {
                                    "YearMonth": "2016-12",
                                    "sub_category": "Tables",
                                    "TotalSales": "14562.858999999999",
                                    "PreviousMonthSales": "8778.493",
                                    "MonthlyGrowthRate": "65.892471521023"
                                },
                                {
                                    "YearMonth": "2017-01",
                                    "sub_category": "Tables",
                                    "TotalSales": "2486.437",
                                    "PreviousMonthSales": "14562.858999999999",
                                    "MonthlyGrowthRate": "-82.92617541651677"
                                },
                                {
                                    "YearMonth": "2017-02",
                                    "sub_category": "Tables",
                                    "TotalSales": "1323.8400000000001",
                                    "PreviousMonthSales": "2486.437",
                                    "MonthlyGrowthRate": "-46.75754905513391"
                                },
                                {
                                    "YearMonth": "2017-03",
                                    "sub_category": "Tables",
                                    "TotalSales": "2477.104",
                                    "PreviousMonthSales": "1323.8400000000001",
                                    "MonthlyGrowthRate": "87.11505922165817"
                                },
                                {
                                    "YearMonth": "2017-04",
                                    "sub_category": "Tables",
                                    "TotalSales": "2314.6245",
                                    "PreviousMonthSales": "2477.104",
                                    "MonthlyGrowthRate": "-6.559252255860066"
                                },
                                {
                                    "YearMonth": "2017-05",
                                    "sub_category": "Tables",
                                    "TotalSales": "2351.254",
                                    "PreviousMonthSales": "2314.6245",
                                    "MonthlyGrowthRate": "1.5825245088350186"
                                },
                                {
                                    "YearMonth": "2017-06",
                                    "sub_category": "Tables",
                                    "TotalSales": "3748.422",
                                    "PreviousMonthSales": "2351.254",
                                    "MonthlyGrowthRate": "59.422248723447154"
                                },
                                {
                                    "YearMonth": "2017-07",
                                    "sub_category": "Tables",
                                    "TotalSales": "2761.239",
                                    "PreviousMonthSales": "3748.422",
                                    "MonthlyGrowthRate": "-26.33596217288235"
                                },
                                {
                                    "YearMonth": "2017-08",
                                    "sub_category": "Tables",
                                    "TotalSales": "4137.738",
                                    "PreviousMonthSales": "2761.239",
                                    "MonthlyGrowthRate": "49.85077351145628"
                                },
                                {
                                    "YearMonth": "2017-09",
                                    "sub_category": "Tables",
                                    "TotalSales": "5498.177",
                                    "PreviousMonthSales": "4137.738",
                                    "MonthlyGrowthRate": "32.87880962980255"
                                },
                                {
                                    "YearMonth": "2017-10",
                                    "sub_category": "Tables",
                                    "TotalSales": "11410.776000000002",
                                    "PreviousMonthSales": "5498.177",
                                    "MonthlyGrowthRate": "107.53744377454568"
                                },
                                {
                                    "YearMonth": "2017-11",
                                    "sub_category": "Tables",
                                    "TotalSales": "13658.687999999998",
                                    "PreviousMonthSales": "11410.776000000002",
                                    "MonthlyGrowthRate": "19.699904721642035"
                                },
                                {
                                    "YearMonth": "2017-12",
                                    "sub_category": "Tables",
                                    "TotalSales": "8725.243000000002",
                                    "PreviousMonthSales": "13658.687999999998",
                                    "MonthlyGrowthRate": "-36.11946476850483"
                                }
                            ]
                        },
                        "text/html": "<table><tr><th>YearMonth</th><th>sub_category</th><th>TotalSales</th><th>PreviousMonthSales</th><th>MonthlyGrowthRate</th></tr><tr><td>2014-01</td><td>Bookcases</td><td>1010.0550000000001</td><td>NULL</td><td>NULL</td></tr><tr><td>2014-03</td><td>Bookcases</td><td>1706.446</td><td>1010.0550000000001</td><td>68.94584948344395</td></tr><tr><td>2014-04</td><td>Bookcases</td><td>308.499</td><td>1706.446</td><td>-81.9215492315608</td></tr><tr><td>2014-05</td><td>Bookcases</td><td>640.631</td><td>308.499</td><td>107.66064071520489</td></tr><tr><td>2014-06</td><td>Bookcases</td><td>759.5735999999999</td><td>640.631</td><td>18.56647586520165</td></tr><tr><td>2014-07</td><td>Bookcases</td><td>1487.673</td><td>759.5735999999999</td><td>95.85633307950673</td></tr><tr><td>2014-08</td><td>Bookcases</td><td>794.2760000000001</td><td>1487.673</td><td>-46.6095035669801</td></tr><tr><td>2014-09</td><td>Bookcases</td><td>2394.4698</td><td>794.2760000000001</td><td>201.46571217058047</td></tr><tr><td>2014-10</td><td>Bookcases</td><td>616.998</td><td>2394.4698</td><td>-74.23237494997849</td></tr><tr><td>2014-11</td><td>Bookcases</td><td>7263.713700000001</td><td>616.998</td><td>1077.2669765542191</td></tr><tr><td>2014-12</td><td>Bookcases</td><td>3054.3424999999997</td><td>7263.713700000001</td><td>-57.950676112138076</td></tr><tr><td>2015-01</td><td>Bookcases</td><td>1804.8476</td><td>3054.3424999999997</td><td>-40.90880115769596</td></tr><tr><td>2015-02</td><td>Bookcases</td><td>283.92</td><td>1804.8476</td><td>-84.26903191161404</td></tr><tr><td>2015-03</td><td>Bookcases</td><td>2625.422</td><td>283.92</td><td>824.7048464356157</td></tr><tr><td>2015-04</td><td>Bookcases</td><td>875.71</td><td>2625.422</td><td>-66.64498126396443</td></tr><tr><td>2015-05</td><td>Bookcases</td><td>1916.8174999999999</td><td>875.71</td><td>118.88724577771177</td></tr><tr><td>2015-06</td><td>Bookcases</td><td>482.94</td><td>1916.8174999999999</td><td>-74.8051131628337</td></tr><tr><td>2015-07</td><td>Bookcases</td><td>2860.384</td><td>482.94</td><td>492.28558413053383</td></tr><tr><td>2015-08</td><td>Bookcases</td><td>3804.9642000000003</td><td>2860.384</td><td>33.02284588362962</td></tr><tr><td>2015-09</td><td>Bookcases</td><td>10685.208999999999</td><td>3804.9642000000003</td><td>180.82285242000432</td></tr><tr><td>2015-10</td><td>Bookcases</td><td>2173.7709999999997</td><td>10685.208999999999</td><td>-79.65626128604502</td></tr><tr><td>2015-11</td><td>Bookcases</td><td>8377.345</td><td>2173.7709999999997</td><td>285.3830509285477</td></tr><tr><td>2015-12</td><td>Bookcases</td><td>2652.2421999999997</td><td>8377.345</td><td>-68.34030113359304</td></tr><tr><td>2016-01</td><td>Bookcases</td><td>2239.536</td><td>2652.2421999999997</td><td>-15.560652794077393</td></tr><tr><td>2016-02</td><td>Bookcases</td><td>239.98</td><td>2239.536</td><td>-89.28438748026377</td></tr><tr><td>2016-03</td><td>Bookcases</td><td>1091.855</td><td>239.98</td><td>354.97749812484375</td></tr><tr><td>2016-04</td><td>Bookcases</td><td>1557.768</td><td>1091.855</td><td>42.67169175394169</td></tr><tr><td>2016-06</td><td>Bookcases</td><td>2596.0429999999997</td><td>1557.768</td><td>66.6514525911432</td></tr><tr><td>2016-07</td><td>Bookcases</td><td>2540.651</td><td>2596.0429999999997</td><td>-2.1337088792442898</td></tr><tr><td>2016-08</td><td>Bookcases</td><td>562.2128</td><td>2540.651</td><td>-77.87130936126213</td></tr><tr><td>2016-09</td><td>Bookcases</td><td>6656.9959</td><td>562.2128</td><td>1084.070497861308</td></tr><tr><td>2016-10</td><td>Bookcases</td><td>1376.448</td><td>6656.9959</td><td>-79.32328604859137</td></tr><tr><td>2016-11</td><td>Bookcases</td><td>5797.274800000001</td><td>1376.448</td><td>321.1764483656484</td></tr><tr><td>2016-12</td><td>Bookcases</td><td>1616.7020000000002</td><td>5797.274800000001</td><td>-72.11272441320187</td></tr><tr><td>2017-01</td><td>Bookcases</td><td>297.92</td><td>1616.7020000000002</td><td>-81.57236151127418</td></tr><tr><td>2017-02</td><td>Bookcases</td><td>1125.7234</td><td>297.92</td><td>277.86096938775506</td></tr><tr><td>2017-03</td><td>Bookcases</td><td>1928.1928</td><td>1125.7234</td><td>71.28477563849165</td></tr><tr><td>2017-04</td><td>Bookcases</td><td>1978.5035999999998</td><td>1928.1928</td><td>2.6092204057602406</td></tr><tr><td>2017-05</td><td>Bookcases</td><td>3732.1331999999998</td><td>1978.5035999999998</td><td>88.63413743598952</td></tr><tr><td>2017-06</td><td>Bookcases</td><td>5309.0727</td><td>3732.1331999999998</td><td>42.253033734165754</td></tr><tr><td>2017-07</td><td>Bookcases</td><td>1700.275</td><td>5309.0727</td><td>-67.97416241823171</td></tr><tr><td>2017-08</td><td>Bookcases</td><td>460.092</td><td>1700.275</td><td>-72.94014203584713</td></tr><tr><td>2017-09</td><td>Bookcases</td><td>3635.856</td><td>460.092</td><td>690.2454291750346</td></tr><tr><td>2017-10</td><td>Bookcases</td><td>4079.7262</td><td>3635.856</td><td>12.208134755611878</td></tr><tr><td>2017-11</td><td>Bookcases</td><td>2122.687</td><td>4079.7262</td><td>-47.96986621308068</td></tr><tr><td>2017-12</td><td>Bookcases</td><td>3654.0978</td><td>2122.687</td><td>72.14491820979731</td></tr><tr><td>2014-01</td><td>Chairs</td><td>4187.700000000001</td><td>NULL</td><td>NULL</td></tr><tr><td>2014-02</td><td>Chairs</td><td>190.45800000000003</td><td>4187.700000000001</td><td>-95.45196647324306</td></tr><tr><td>2014-03</td><td>Chairs</td><td>5713.142</td><td>190.45800000000003</td><td>2899.6860200149113</td></tr><tr><td>2014-04</td><td>Chairs</td><td>3210.6659999999997</td><td>5713.142</td><td>-43.802096989712496</td></tr><tr><td>2014-05</td><td>Chairs</td><td>3675.109</td><td>3210.6659999999997</td><td>14.465628003660308</td></tr><tr><td>2014-06</td><td>Chairs</td><td>6456.001</td><td>3675.109</td><td>75.66828630116822</td></tr><tr><td>2014-07</td><td>Chairs</td><td>6364.9400000000005</td><td>6456.001</td><td>-1.4104861507921032</td></tr><tr><td>2014-08</td><td>Chairs</td><td>2590.242</td><td>6364.9400000000005</td><td>-59.30453389976967</td></tr><tr><td>2014-09</td><td>Chairs</td><td>13849.184999999998</td><td>2590.242</td><td>434.6676102078492</td></tr><tr><td>2014-10</td><td>Chairs</td><td>6486.6050000000005</td><td>13849.184999999998</td><td>-53.16255072049365</td></tr><tr><td>2014-11</td><td>Chairs</td><td>7282.554000000001</td><td>6486.6050000000005</td><td>12.27065622155196</td></tr><tr><td>2014-12</td><td>Chairs</td><td>17234.974000000002</td><td>7282.554000000001</td><td>136.66112190860517</td></tr><tr><td>2015-01</td><td>Chairs</td><td>3246.794</td><td>17234.974000000002</td><td>-81.1615961822745</td></tr><tr><td>2015-02</td><td>Chairs</td><td>2114.886</td><td>3246.794</td><td>-34.8623288080488</td></tr><tr><td>2015-03</td><td>Chairs</td><td>4085.2329999999997</td><td>2114.886</td><td>93.16563635108463</td></tr><tr><td>2015-04</td><td>Chairs</td><td>4271.621</td><td>4085.2329999999997</td><td>4.562481503502992</td></tr><tr><td>2015-05</td><td>Chairs</td><td>5681.933</td><td>4271.621</td><td>33.01585042305953</td></tr><tr><td>2015-06</td><td>Chairs</td><td>3937.888</td><td>5681.933</td><td>-30.6945717240946</td></tr><tr><td>2015-07</td><td>Chairs</td><td>7313.560999999999</td><td>3937.888</td><td>85.72293066740342</td></tr><tr><td>2015-08</td><td>Chairs</td><td>1439.0140000000001</td><td>7313.560999999999</td><td>-80.3240309337681</td></tr><tr><td>2015-09</td><td>Chairs</td><td>9519.923999999999</td><td>1439.0140000000001</td><td>561.5588173568846</td></tr><tr><td>2015-10</td><td>Chairs</td><td>7103.532</td><td>9519.923999999999</td><td>-25.382471540739182</td></tr><tr><td>2015-11</td><td>Chairs</td><td>12743.158</td><td>7103.532</td><td>79.3918574590781</td></tr><tr><td>2015-12</td><td>Chairs</td><td>10276.984999999999</td><td>12743.158</td><td>-19.352918640732547</td></tr><tr><td>2016-01</td><td>Chairs</td><td>1602.2240000000002</td><td>10276.984999999999</td><td>-84.40959094520426</td></tr><tr><td>2016-02</td><td>Chairs</td><td>1725.464</td><td>1602.2240000000002</td><td>7.691808386342968</td></tr><tr><td>2016-03</td><td>Chairs</td><td>6021.038</td><td>1725.464</td><td>248.95181817760323</td></tr><tr><td>2016-04</td><td>Chairs</td><td>8945.012</td><td>6021.038</td><td>48.56262325532577</td></tr><tr><td>2016-05</td><td>Chairs</td><td>7399.477</td><td>8945.012</td><td>-17.278176932574276</td></tr><tr><td>2016-06</td><td>Chairs</td><td>2634.7599999999998</td><td>7399.477</td><td>-64.39261855939279</td></tr><tr><td>2016-07</td><td>Chairs</td><td>5368.102</td><td>2634.7599999999998</td><td>103.74159316218557</td></tr><tr><td>2016-08</td><td>Chairs</td><td>4891.534</td><td>5368.102</td><td>-8.877774677157777</td></tr><tr><td>2016-09</td><td>Chairs</td><td>11296.44</td><td>4891.534</td><td>130.93859717626418</td></tr><tr><td>2016-10</td><td>Chairs</td><td>5910.879</td><td>11296.44</td><td>-47.674851546150826</td></tr><tr><td>2016-11</td><td>Chairs</td><td>13173.082999999999</td><td>5910.879</td><td>122.86165898506802</td></tr><tr><td>2016-12</td><td>Chairs</td><td>14950.632000000003</td><td>13173.082999999999</td><td>13.493796402861841</td></tr><tr><td>2017-01</td><td>Chairs</td><td>2248.4510000000005</td><td>14950.632000000003</td><td>-84.96082974953835</td></tr><tr><td>2017-02</td><td>Chairs</td><td>3552.132</td><td>2248.4510000000005</td><td>57.9812946779805</td></tr><tr><td>2017-03</td><td>Chairs</td><td>5524.914</td><td>3552.132</td><td>55.53796987274121</td></tr><tr><td>2017-04</td><td>Chairs</td><td>2099.286</td><td>5524.914</td><td>-62.003281861038914</td></tr><tr><td>2017-05</td><td>Chairs</td><td>9137.311</td><td>2099.286</td><td>335.25803535106695</td></tr><tr><td>2017-06</td><td>Chairs</td><td>8494.718</td><td>9137.311</td><td>-7.032626994966012</td></tr><tr><td>2017-07</td><td>Chairs</td><td>3969.748</td><td>8494.718</td><td>-53.26804256480322</td></tr><tr><td>2017-08</td><td>Chairs</td><td>9419.014000000001</td><td>3969.748</td><td>137.2698216612239</td></tr><tr><td>2017-09</td><td>Chairs</td><td>16911.669</td><td>9419.014000000001</td><td>79.54818837725477</td></tr><tr><td>2017-10</td><td>Chairs</td><td>4669.434000000001</td><td>16911.669</td><td>-72.38927748645033</td></tr><tr><td>2017-11</td><td>Chairs</td><td>14561.218000000004</td><td>4669.434000000001</td><td>211.84117818133848</td></tr><tr><td>2017-12</td><td>Chairs</td><td>14966.457999999997</td><td>14561.218000000004</td><td>2.783008948839255</td></tr><tr><td>2014-01</td><td>Furnishings</td><td>711.77</td><td>NULL</td><td>NULL</td></tr><tr><td>2014-02</td><td>Furnishings</td><td>392.98</td><td>711.77</td><td>-44.78834454950334</td></tr><tr><td>2014-03</td><td>Furnishings</td><td>480.12800000000004</td><td>392.98</td><td>22.176192172629655</td></tr><tr><td>2014-04</td><td>Furnishings</td><td>984.0460000000002</td><td>480.12800000000004</td><td>104.95492868568384</td></tr><tr><td>2014-05</td><td>Furnishings</td><td>780.166</td><td>984.0460000000002</td><td>-20.718543645317403</td></tr><tr><td>2014-06</td><td>Furnishings</td><td>432.75</td><td>780.166</td><td>-44.53103570265816</td></tr><tr><td>2014-07</td><td>Furnishings</td><td>902.622</td><td>432.75</td><td>108.57816291161177</td></tr><tr><td>2014-08</td><td>Furnishings</td><td>997.758</td><td>902.622</td><td>10.539960249140847</td></tr><tr><td>2014-09</td><td>Furnishings</td><td>2960.956</td><td>997.758</td><td>196.7609380230477</td></tr><tr><td>2014-10</td><td>Furnishings</td><td>621.812</td><td>2960.956</td><td>-78.99962039287311</td></tr><tr><td>2014-11</td><td>Furnishings</td><td>2483.762</td><td>621.812</td><td>299.439380391501</td></tr><tr><td>2014-12</td><td>Furnishings</td><td>2077.4840000000004</td><td>2483.762</td><td>-16.357364352945243</td></tr><tr><td>2015-01</td><td>Furnishings</td><td>1270.114</td><td>2077.4840000000004</td><td>-38.86287451551975</td></tr><tr><td>2015-02</td><td>Furnishings</td><td>206.10399999999998</td><td>1270.114</td><td>-83.77279519791136</td></tr><tr><td>2015-03</td><td>Furnishings</td><td>1435.958</td><td>206.10399999999998</td><td>596.715250553119</td></tr><tr><td>2015-04</td><td>Furnishings</td><td>2993.1879999999996</td><td>1435.958</td><td>108.44537235768729</td></tr><tr><td>2015-05</td><td>Furnishings</td><td>1532.1939999999997</td><td>2993.1879999999996</td><td>-48.81063267659766</td></tr><tr><td>2015-06</td><td>Furnishings</td><td>2496.9260000000004</td><td>1532.1939999999997</td><td>62.964089403822285</td></tr><tr><td>2015-07</td><td>Furnishings</td><td>1458.112</td><td>2496.9260000000004</td><td>-41.603715929106436</td></tr><tr><td>2015-08</td><td>Furnishings</td><td>800.252</td><td>1458.112</td><td>-45.11724750910767</td></tr><tr><td>2015-09</td><td>Furnishings</td><td>2199.624</td><td>800.252</td><td>174.86641707862023</td></tr><tr><td>2015-10</td><td>Furnishings</td><td>616.7600000000001</td><td>2199.624</td><td>-71.96066236775012</td></tr><tr><td>2015-11</td><td>Furnishings</td><td>3549.878</td><td>616.7600000000001</td><td>475.5687787794279</td></tr><tr><td>2015-12</td><td>Furnishings</td><td>2530.6020000000003</td><td>3549.878</td><td>-28.71298675616457</td></tr><tr><td>2016-01</td><td>Furnishings</td><td>1066.5140000000001</td><td>2530.6020000000003</td><td>-57.85532454333001</td></tr><tr><td>2016-02</td><td>Furnishings</td><td>851.9480000000001</td><td>1066.5140000000001</td><td>-20.118441952004382</td></tr><tr><td>2016-03</td><td>Furnishings</td><td>2279.726</td><td>851.9480000000001</td><td>167.5898059505979</td></tr><tr><td>2016-04</td><td>Furnishings</td><td>887.584</td><td>2279.726</td><td>-61.0661983062877</td></tr><tr><td>2016-05</td><td>Furnishings</td><td>2844.2079999999996</td><td>887.584</td><td>220.44381151530445</td></tr><tr><td>2016-06</td><td>Furnishings</td><td>1537.424</td><td>2844.2079999999996</td><td>-45.945444215050365</td></tr><tr><td>2016-07</td><td>Furnishings</td><td>1866.5580000000002</td><td>1537.424</td><td>21.408147654778396</td></tr><tr><td>2016-08</td><td>Furnishings</td><td>810.5540000000001</td><td>1866.5580000000002</td><td>-56.57493632665045</td></tr><tr><td>2016-09</td><td>Furnishings</td><td>3661.826</td><td>810.5540000000001</td><td>351.76829674518905</td></tr><tr><td>2016-10</td><td>Furnishings</td><td>2484.4819999999995</td><td>3661.826</td><td>-32.15182807703044</td></tr><tr><td>2016-11</td><td>Furnishings</td><td>4034.778000000001</td><td>2484.4819999999995</td><td>62.39916409134789</td></tr><tr><td>2016-12</td><td>Furnishings</td><td>5548.522000000002</td><td>4034.778000000001</td><td>37.51740492289787</td></tr><tr><td>2017-01</td><td>Furnishings</td><td>931.224</td><td>5548.522000000002</td><td>-83.21671969580368</td></tr><tr><td>2017-02</td><td>Furnishings</td><td>864.642</td><td>931.224</td><td>-7.149944589056982</td></tr><tr><td>2017-03</td><td>Furnishings</td><td>963.234</td><td>864.642</td><td>11.402638317361403</td></tr><tr><td>2017-04</td><td>Furnishings</td><td>2673.5440000000003</td><td>963.234</td><td>177.55913931609558</td></tr><tr><td>2017-05</td><td>Furnishings</td><td>1736.86</td><td>2673.5440000000003</td><td>-35.035293976833756</td></tr><tr><td>2017-06</td><td>Furnishings</td><td>1456.374</td><td>1736.86</td><td>-16.149027555473662</td></tr><tr><td>2017-07</td><td>Furnishings</td><td>3381.7599999999998</td><td>1456.374</td><td>132.20409043281464</td></tr><tr><td>2017-08</td><td>Furnishings</td><td>1425.0300000000002</td><td>3381.7599999999998</td><td>-57.86129116199847</td></tr><tr><td>2017-09</td><td>Furnishings</td><td>2982.504</td><td>1425.0300000000002</td><td>109.29412012378683</td></tr><tr><td>2017-10</td><td>Furnishings</td><td>1724.1320000000003</td><td>2982.504</td><td>-42.191795886946</td></tr><tr><td>2017-11</td><td>Furnishings</td><td>6714.122</td><td>1724.1320000000003</td><td>289.4204156062296</td></tr><tr><td>2017-12</td><td>Furnishings</td><td>4061.6679999999997</td><td>6714.122</td><td>-39.50559730669178</td></tr><tr><td>2014-01</td><td>Tables</td><td>333</td><td>NULL</td><td>NULL</td></tr><tr><td>2014-02</td><td>Tables</td><td>1256.22</td><td>333</td><td>277.2432432432432</td></tr><tr><td>2014-03</td><td>Tables</td><td>6674.240000000001</td><td>1256.22</td><td>431.29547372275556</td></tr><tr><td>2014-04</td><td>Tables</td><td>3441.626</td><td>6674.240000000001</td><td>-48.43418876156686</td></tr><tr><td>2014-05</td><td>Tables</td><td>1816.8809999999999</td><td>3441.626</td><td>-47.2086449835049</td></tr><tr><td>2014-06</td><td>Tables</td><td>5557.8009999999995</td><td>1816.8809999999999</td><td>205.89790965946582</td></tr><tr><td>2014-07</td><td>Tables</td><td>2065.816</td><td>5557.8009999999995</td><td>-62.83033523510467</td></tr><tr><td>2014-08</td><td>Tables</td><td>2938.0705000000003</td><td>2065.816</td><td>42.22324253466914</td></tr><tr><td>2014-09</td><td>Tables</td><td>4611.870000000001</td><td>2938.0705000000003</td><td>56.9693443366999</td></tr><tr><td>2014-10</td><td>Tables</td><td>4578.832</td><td>4611.870000000001</td><td>-0.7163688482112561</td></tr><tr><td>2014-11</td><td>Tables</td><td>4534.842999999999</td><td>4578.832</td><td>-0.960703515656425</td></tr><tr><td>2014-12</td><td>Tables</td><td>8279.166</td><td>4534.842999999999</td><td>82.56786398117865</td></tr><tr><td>2015-01</td><td>Tables</td><td>5418.186000000001</td><td>8279.166</td><td>-34.556379229502085</td></tr><tr><td>2015-02</td><td>Tables</td><td>529.464</td><td>5418.186000000001</td><td>-90.22802096495026</td></tr><tr><td>2015-03</td><td>Tables</td><td>4353.17</td><td>529.464</td><td>722.1843222579815</td></tr><tr><td>2015-04</td><td>Tables</td><td>2335.1794999999997</td><td>4353.17</td><td>-46.356804351771245</td></tr><tr><td>2015-05</td><td>Tables</td><td>244.006</td><td>2335.1794999999997</td><td>-89.55086750290504</td></tr><tr><td>2015-06</td><td>Tables</td><td>796.425</td><td>244.006</td><td>226.3956624017442</td></tr><tr><td>2015-07</td><td>Tables</td><td>2042.3629999999998</td><td>796.425</td><td>156.44134727061555</td></tr><tr><td>2015-08</td><td>Tables</td><td>3594.3619999999996</td><td>2042.3629999999998</td><td>75.99036018572603</td></tr><tr><td>2015-09</td><td>Tables</td><td>3868.266</td><td>3594.3619999999996</td><td>7.620378804360843</td></tr><tr><td>2015-10</td><td>Tables</td><td>2132.5605</td><td>3868.266</td><td>-44.8703760289494</td></tr><tr><td>2015-11</td><td>Tables</td><td>6210.4515</td><td>2132.5605</td><td>191.22041320750338</td></tr><tr><td>2015-12</td><td>Tables</td><td>7625.989999999999</td><td>6210.4515</td><td>22.792843644298628</td></tr><tr><td>2016-01</td><td>Tables</td><td>2714.4689999999996</td><td>7625.989999999999</td><td>-64.40502806848684</td></tr><tr><td>2016-02</td><td>Tables</td><td>1108.159</td><td>2714.4689999999996</td><td>-59.17584617838699</td></tr><tr><td>2016-03</td><td>Tables</td><td>3408.4729999999995</td><td>1108.159</td><td>207.57977871406533</td></tr><tr><td>2016-04</td><td>Tables</td><td>1821.726</td><td>3408.4729999999995</td><td>-46.55301655609417</td></tr><tr><td>2016-05</td><td>Tables</td><td>4876.15</td><td>1821.726</td><td>167.66648771549615</td></tr><tr><td>2016-06</td><td>Tables</td><td>6302.345</td><td>4876.15</td><td>29.24838243286201</td></tr><tr><td>2016-07</td><td>Tables</td><td>3293.208</td><td>6302.345</td><td>-47.746307128537076</td></tr><tr><td>2016-08</td><td>Tables</td><td>6218.931500000001</td><td>3293.208</td><td>88.8411390959818</td></tr><tr><td>2016-09</td><td>Tables</td><td>5647.619</td><td>6218.931500000001</td><td>-9.18666655196316</td></tr><tr><td>2016-10</td><td>Tables</td><td>2100.768</td><td>5647.619</td><td>-62.80258990558676</td></tr><tr><td>2016-11</td><td>Tables</td><td>8778.493</td><td>2100.768</td><td>317.87065492239026</td></tr><tr><td>2016-12</td><td>Tables</td><td>14562.858999999999</td><td>8778.493</td><td>65.892471521023</td></tr><tr><td>2017-01</td><td>Tables</td><td>2486.437</td><td>14562.858999999999</td><td>-82.92617541651677</td></tr><tr><td>2017-02</td><td>Tables</td><td>1323.8400000000001</td><td>2486.437</td><td>-46.75754905513391</td></tr><tr><td>2017-03</td><td>Tables</td><td>2477.104</td><td>1323.8400000000001</td><td>87.11505922165817</td></tr><tr><td>2017-04</td><td>Tables</td><td>2314.6245</td><td>2477.104</td><td>-6.559252255860066</td></tr><tr><td>2017-05</td><td>Tables</td><td>2351.254</td><td>2314.6245</td><td>1.5825245088350186</td></tr><tr><td>2017-06</td><td>Tables</td><td>3748.422</td><td>2351.254</td><td>59.422248723447154</td></tr><tr><td>2017-07</td><td>Tables</td><td>2761.239</td><td>3748.422</td><td>-26.33596217288235</td></tr><tr><td>2017-08</td><td>Tables</td><td>4137.738</td><td>2761.239</td><td>49.85077351145628</td></tr><tr><td>2017-09</td><td>Tables</td><td>5498.177</td><td>4137.738</td><td>32.87880962980255</td></tr><tr><td>2017-10</td><td>Tables</td><td>11410.776000000002</td><td>5498.177</td><td>107.53744377454568</td></tr><tr><td>2017-11</td><td>Tables</td><td>13658.687999999998</td><td>11410.776000000002</td><td>19.699904721642035</td></tr><tr><td>2017-12</td><td>Tables</td><td>8725.243000000002</td><td>13658.687999999998</td><td>-36.11946476850483</td></tr></table>"
                    },
                    "metadata": {
                        "azdata_chartOptions": {
                            "type": "line",
                            "dataDirection": "vertical",
                            "columnsAsLabels": true,
                            "labelFirstColumn": false,
                            "legendPosition": "top",
                            "dataType": "number"
                        }
                    }
                }
            ],
            "execution_count": 5
        },
        {
            "cell_type": "markdown",
            "source": [
                "## Project 9: Profitability Analysis by Region\n",
                "\n",
                "### Objective: Analyze profitability across different regions to optimize regional sales strategies."
            ],
            "metadata": {
                "azdata_cell_guid": "9dc48cf2-f8aa-4fdc-ac64-43e95fac4288"
            },
            "attachments": {}
        },
        {
            "cell_type": "code",
            "source": [
                "-- 1. Calculate the total profit and profit margin for each region.\r\n",
                "\r\n",
                "SELECT \r\n",
                "    region,\r\n",
                "    SUM(profit) AS total_profit,\r\n",
                "    (SUM(profit) / SUM(CAST(total_sales AS FLOAT))) * 100 AS profit_margin\r\n",
                "FROM \r\n",
                "    Sales\r\n",
                "GROUP BY \r\n",
                "    region;\r\n",
                ""
            ],
            "metadata": {
                "azdata_cell_guid": "b4cad605-1615-4224-a994-00d49ae759b3",
                "language": "sql",
                "tags": []
            },
            "outputs": [
                {
                    "output_type": "display_data",
                    "data": {
                        "text/html": "(4 rows affected)"
                    },
                    "metadata": {}
                },
                {
                    "output_type": "display_data",
                    "data": {
                        "text/html": "Total execution time: 00:00:00.010"
                    },
                    "metadata": {}
                },
                {
                    "output_type": "execute_result",
                    "execution_count": 5,
                    "data": {
                        "application/vnd.dataresource+json": {
                            "schema": {
                                "fields": [
                                    {
                                        "name": "region"
                                    },
                                    {
                                        "name": "total_profit"
                                    },
                                    {
                                        "name": "profit_margin"
                                    }
                                ]
                            },
                            "data": [
                                {
                                    "region": "East",
                                    "total_profit": "3046.1657999999993",
                                    "profit_margin": "1.4624553228853567"
                                },
                                {
                                    "region": "South",
                                    "total_profit": "6771.206099999996",
                                    "profit_margin": "5.772618983517321"
                                },
                                {
                                    "region": "West",
                                    "total_profit": "11504.95029999999",
                                    "profit_margin": "4.55438238807615"
                                },
                                {
                                    "region": "Central",
                                    "total_profit": "-2871.0494000000003",
                                    "profit_margin": "-1.7528077613759032"
                                }
                            ]
                        },
                        "text/html": "<table><tr><th>region</th><th>total_profit</th><th>profit_margin</th></tr><tr><td>East</td><td>3046.1657999999993</td><td>1.4624553228853567</td></tr><tr><td>South</td><td>6771.206099999996</td><td>5.772618983517321</td></tr><tr><td>West</td><td>11504.95029999999</td><td>4.55438238807615</td></tr><tr><td>Central</td><td>-2871.0494000000003</td><td>-1.7528077613759032</td></tr></table>"
                    },
                    "metadata": {
                        "azdata_chartOptions": {
                            "type": "bar",
                            "dataDirection": "vertical",
                            "columnsAsLabels": true,
                            "labelFirstColumn": false,
                            "legendPosition": "top",
                            "yAxisLabel": "Percent or Profit",
                            "xAxisLabel": "Region"
                        }
                    }
                }
            ],
            "execution_count": 5
        },
        {
            "cell_type": "code",
            "source": [
                "-- 2. Rank regions by profitability and total sales volume\r\n",
                "\r\n",
                "WITH RegionProfitSales AS (\r\n",
                "    SELECT \r\n",
                "        region,\r\n",
                "        SUM(profit) AS total_profit,\r\n",
                "        SUM(CAST(total_sales AS FLOAT)) AS total_sales\r\n",
                "    FROM \r\n",
                "        Sales\r\n",
                "    GROUP BY \r\n",
                "        region\r\n",
                ")\r\n",
                "SELECT \r\n",
                "    region,\r\n",
                "    total_profit,\r\n",
                "    RANK() OVER (ORDER BY total_profit DESC) AS profitability_rank,\r\n",
                "    total_sales,\r\n",
                "    RANK() OVER (ORDER BY total_sales DESC) AS sales_volume_rank\r\n",
                "FROM \r\n",
                "    RegionProfitSales\r\n",
                "ORDER BY sales_volume_rank;"
            ],
            "metadata": {
                "language": "sql",
                "azdata_cell_guid": "6f4b4824-781e-4eb0-a541-5c0e1ceef963"
            },
            "outputs": [
                {
                    "output_type": "display_data",
                    "data": {
                        "text/html": "(4 rows affected)"
                    },
                    "metadata": {}
                },
                {
                    "output_type": "display_data",
                    "data": {
                        "text/html": "Total execution time: 00:00:00.018"
                    },
                    "metadata": {}
                },
                {
                    "output_type": "execute_result",
                    "execution_count": 9,
                    "data": {
                        "application/vnd.dataresource+json": {
                            "schema": {
                                "fields": [
                                    {
                                        "name": "region"
                                    },
                                    {
                                        "name": "total_profit"
                                    },
                                    {
                                        "name": "profitability_rank"
                                    },
                                    {
                                        "name": "total_sales"
                                    },
                                    {
                                        "name": "sales_volume_rank"
                                    }
                                ]
                            },
                            "data": [
                                {
                                    "region": "West",
                                    "total_profit": "11504.95029999999",
                                    "profitability_rank": "1",
                                    "total_sales": "252612.74350000022",
                                    "sales_volume_rank": "1"
                                },
                                {
                                    "region": "East",
                                    "total_profit": "3046.1657999999993",
                                    "profitability_rank": "3",
                                    "total_sales": "208291.20400000017",
                                    "sales_volume_rank": "2"
                                },
                                {
                                    "region": "Central",
                                    "total_profit": "-2871.0494000000003",
                                    "profitability_rank": "4",
                                    "total_sales": "163797.16379999995",
                                    "sales_volume_rank": "3"
                                },
                                {
                                    "region": "South",
                                    "total_profit": "6771.206099999996",
                                    "profitability_rank": "2",
                                    "total_sales": "117298.68400000002",
                                    "sales_volume_rank": "4"
                                }
                            ]
                        },
                        "text/html": "<table><tr><th>region</th><th>total_profit</th><th>profitability_rank</th><th>total_sales</th><th>sales_volume_rank</th></tr><tr><td>West</td><td>11504.95029999999</td><td>1</td><td>252612.74350000022</td><td>1</td></tr><tr><td>East</td><td>3046.1657999999993</td><td>3</td><td>208291.20400000017</td><td>2</td></tr><tr><td>Central</td><td>-2871.0494000000003</td><td>4</td><td>163797.16379999995</td><td>3</td></tr><tr><td>South</td><td>6771.206099999996</td><td>2</td><td>117298.68400000002</td><td>4</td></tr></table>"
                    },
                    "metadata": {
                        "azdata_chartOptions": {
                            "type": "bar",
                            "dataDirection": "vertical",
                            "columnsAsLabels": true,
                            "labelFirstColumn": false,
                            "legendPosition": "top"
                        }
                    }
                }
            ],
            "execution_count": 9
        },
        {
            "cell_type": "code",
            "source": [
                "--  3. Identify regions with declining sales and provide insights on potential causes.\r\n",
                "-- Identifying Declining Sales: We can compare the total sales year-over-year (from 2014 to 2017) for each region. \r\n",
                "-- If the sales decrease across consecutive years, that region can be flagged as having declining sales.\r\n",
                "WITH YearlySales AS (\r\n",
                "    SELECT \r\n",
                "        region,\r\n",
                "        YEAR(order_date) AS order_year,\r\n",
                "        SUM(CAST(total_sales AS FLOAT)) AS total_sales\r\n",
                "    FROM \r\n",
                "        Sales\r\n",
                "    GROUP BY \r\n",
                "        region, YEAR(order_date)\r\n",
                ")\r\n",
                "SELECT \r\n",
                "    region,\r\n",
                "    order_year,\r\n",
                "    total_sales,\r\n",
                "    LAG(total_sales, 1) OVER (PARTITION BY region ORDER BY order_year) AS previous_year_sales,\r\n",
                "    (total_sales - LAG(total_sales, 1) OVER (PARTITION BY region ORDER BY order_year)) AS sales_change\r\n",
                "FROM \r\n",
                "    YearlySales\r\n",
                "ORDER BY \r\n",
                "    region, order_year;\r\n",
                ""
            ],
            "metadata": {
                "language": "sql",
                "azdata_cell_guid": "59116da6-79c6-4352-9b72-ea012a32b2d9",
                "tags": []
            },
            "outputs": [
                {
                    "output_type": "display_data",
                    "data": {
                        "text/html": "(16 rows affected)"
                    },
                    "metadata": {}
                },
                {
                    "output_type": "display_data",
                    "data": {
                        "text/html": "Total execution time: 00:00:00.019"
                    },
                    "metadata": {}
                },
                {
                    "output_type": "execute_result",
                    "execution_count": 11,
                    "data": {
                        "application/vnd.dataresource+json": {
                            "schema": {
                                "fields": [
                                    {
                                        "name": "region"
                                    },
                                    {
                                        "name": "order_year"
                                    },
                                    {
                                        "name": "total_sales"
                                    },
                                    {
                                        "name": "previous_year_sales"
                                    },
                                    {
                                        "name": "sales_change"
                                    }
                                ]
                            },
                            "data": [
                                {
                                    "region": "Central",
                                    "order_year": "2014",
                                    "total_sales": "32909.663600000014",
                                    "previous_year_sales": "NULL",
                                    "sales_change": "NULL"
                                },
                                {
                                    "region": "Central",
                                    "order_year": "2015",
                                    "total_sales": "35592.04699999999",
                                    "previous_year_sales": "32909.663600000014",
                                    "sales_change": "2682.383399999977"
                                },
                                {
                                    "region": "Central",
                                    "order_year": "2016",
                                    "total_sales": "50773.182",
                                    "previous_year_sales": "35592.04699999999",
                                    "sales_change": "15181.13500000001"
                                },
                                {
                                    "region": "Central",
                                    "order_year": "2017",
                                    "total_sales": "44522.27119999998",
                                    "previous_year_sales": "50773.182",
                                    "sales_change": "-6250.91080000002"
                                },
                                {
                                    "region": "East",
                                    "order_year": "2014",
                                    "total_sales": "47232.73900000003",
                                    "previous_year_sales": "NULL",
                                    "sales_change": "NULL"
                                },
                                {
                                    "region": "East",
                                    "order_year": "2015",
                                    "total_sales": "53817.43199999998",
                                    "previous_year_sales": "47232.73900000003",
                                    "sales_change": "6584.692999999948"
                                },
                                {
                                    "region": "East",
                                    "order_year": "2016",
                                    "total_sales": "46387.171999999984",
                                    "previous_year_sales": "53817.43199999998",
                                    "sales_change": "-7430.259999999995"
                                },
                                {
                                    "region": "East",
                                    "order_year": "2017",
                                    "total_sales": "60853.86100000003",
                                    "previous_year_sales": "46387.171999999984",
                                    "sales_change": "14466.68900000005"
                                },
                                {
                                    "region": "South",
                                    "order_year": "2014",
                                    "total_sales": "26968.002499999988",
                                    "previous_year_sales": "NULL",
                                    "sales_change": "NULL"
                                },
                                {
                                    "region": "South",
                                    "order_year": "2015",
                                    "total_sales": "24103.814499999993",
                                    "previous_year_sales": "26968.002499999988",
                                    "sales_change": "-2864.1879999999946"
                                },
                                {
                                    "region": "South",
                                    "order_year": "2016",
                                    "total_sales": "27921.441499999983",
                                    "previous_year_sales": "24103.814499999993",
                                    "sales_change": "3817.6269999999895"
                                },
                                {
                                    "region": "South",
                                    "order_year": "2017",
                                    "total_sales": "38305.42549999999",
                                    "previous_year_sales": "27921.441499999983",
                                    "sales_change": "10383.984000000008"
                                },
                                {
                                    "region": "West",
                                    "order_year": "2014",
                                    "total_sales": "50082.44799999998",
                                    "previous_year_sales": "NULL",
                                    "sales_change": "NULL"
                                },
                                {
                                    "region": "West",
                                    "order_year": "2015",
                                    "total_sales": "57004.94349999999",
                                    "previous_year_sales": "50082.44799999998",
                                    "sales_change": "6922.4955000000045"
                                },
                                {
                                    "region": "West",
                                    "order_year": "2016",
                                    "total_sales": "73819.64049999994",
                                    "previous_year_sales": "57004.94349999999",
                                    "sales_change": "16814.69699999995"
                                },
                                {
                                    "region": "West",
                                    "order_year": "2017",
                                    "total_sales": "71705.71149999999",
                                    "previous_year_sales": "73819.64049999994",
                                    "sales_change": "-2113.9289999999455"
                                }
                            ]
                        },
                        "text/html": "<table><tr><th>region</th><th>order_year</th><th>total_sales</th><th>previous_year_sales</th><th>sales_change</th></tr><tr><td>Central</td><td>2014</td><td>32909.663600000014</td><td>NULL</td><td>NULL</td></tr><tr><td>Central</td><td>2015</td><td>35592.04699999999</td><td>32909.663600000014</td><td>2682.383399999977</td></tr><tr><td>Central</td><td>2016</td><td>50773.182</td><td>35592.04699999999</td><td>15181.13500000001</td></tr><tr><td>Central</td><td>2017</td><td>44522.27119999998</td><td>50773.182</td><td>-6250.91080000002</td></tr><tr><td>East</td><td>2014</td><td>47232.73900000003</td><td>NULL</td><td>NULL</td></tr><tr><td>East</td><td>2015</td><td>53817.43199999998</td><td>47232.73900000003</td><td>6584.692999999948</td></tr><tr><td>East</td><td>2016</td><td>46387.171999999984</td><td>53817.43199999998</td><td>-7430.259999999995</td></tr><tr><td>East</td><td>2017</td><td>60853.86100000003</td><td>46387.171999999984</td><td>14466.68900000005</td></tr><tr><td>South</td><td>2014</td><td>26968.002499999988</td><td>NULL</td><td>NULL</td></tr><tr><td>South</td><td>2015</td><td>24103.814499999993</td><td>26968.002499999988</td><td>-2864.1879999999946</td></tr><tr><td>South</td><td>2016</td><td>27921.441499999983</td><td>24103.814499999993</td><td>3817.6269999999895</td></tr><tr><td>South</td><td>2017</td><td>38305.42549999999</td><td>27921.441499999983</td><td>10383.984000000008</td></tr><tr><td>West</td><td>2014</td><td>50082.44799999998</td><td>NULL</td><td>NULL</td></tr><tr><td>West</td><td>2015</td><td>57004.94349999999</td><td>50082.44799999998</td><td>6922.4955000000045</td></tr><tr><td>West</td><td>2016</td><td>73819.64049999994</td><td>57004.94349999999</td><td>16814.69699999995</td></tr><tr><td>West</td><td>2017</td><td>71705.71149999999</td><td>73819.64049999994</td><td>-2113.9289999999455</td></tr></table>"
                    },
                    "metadata": {
                        "azdata_chartOptions": {
                            "type": "line",
                            "dataDirection": "vertical",
                            "columnsAsLabels": true,
                            "labelFirstColumn": false,
                            "legendPosition": "top",
                            "dataType": "number"
                        }
                    }
                }
            ],
            "execution_count": 11
        },
        {
            "cell_type": "code",
            "source": [
                "WITH YearlySalesDetails AS (\r\n",
                "    SELECT \r\n",
                "        region,\r\n",
                "        YEAR(order_date) AS order_year,\r\n",
                "        ship_mode,\r\n",
                "        SUM(CAST(total_sales AS FLOAT)) AS total_sales\r\n",
                "    FROM \r\n",
                "        Sales\r\n",
                "    GROUP BY \r\n",
                "        region, YEAR(order_date), ship_mode\r\n",
                ")\r\n",
                "SELECT \r\n",
                "    region,\r\n",
                "    order_year,\r\n",
                "    ship_mode,\r\n",
                "    total_sales,\r\n",
                "    LAG(total_sales, 1) OVER (PARTITION BY region, ship_mode ORDER BY order_year) AS previous_year_sales,\r\n",
                "    (total_sales - LAG(total_sales, 1) OVER (PARTITION BY region, ship_mode ORDER BY order_year)) AS sales_change\r\n",
                "FROM \r\n",
                "    YearlySalesDetails\r\n",
                "ORDER BY \r\n",
                "    region, order_year, ship_mode;\r\n",
                ""
            ],
            "metadata": {
                "language": "sql",
                "azdata_cell_guid": "18e84aef-847c-4427-8c26-30ec6aa5fe2c"
            },
            "outputs": [
                {
                    "output_type": "display_data",
                    "data": {
                        "text/html": "(64 rows affected)"
                    },
                    "metadata": {}
                },
                {
                    "output_type": "display_data",
                    "data": {
                        "text/html": "Total execution time: 00:00:00.036"
                    },
                    "metadata": {}
                },
                {
                    "output_type": "execute_result",
                    "execution_count": 12,
                    "data": {
                        "application/vnd.dataresource+json": {
                            "schema": {
                                "fields": [
                                    {
                                        "name": "region"
                                    },
                                    {
                                        "name": "order_year"
                                    },
                                    {
                                        "name": "ship_mode"
                                    },
                                    {
                                        "name": "total_sales"
                                    },
                                    {
                                        "name": "previous_year_sales"
                                    },
                                    {
                                        "name": "sales_change"
                                    }
                                ]
                            },
                            "data": [
                                {
                                    "region": "Central",
                                    "order_year": "2014",
                                    "ship_mode": "First Class",
                                    "total_sales": "5492.114",
                                    "previous_year_sales": "NULL",
                                    "sales_change": "NULL"
                                },
                                {
                                    "region": "Central",
                                    "order_year": "2014",
                                    "ship_mode": "Same Day",
                                    "total_sales": "25.16",
                                    "previous_year_sales": "NULL",
                                    "sales_change": "NULL"
                                },
                                {
                                    "region": "Central",
                                    "order_year": "2014",
                                    "ship_mode": "Second Class",
                                    "total_sales": "6984.8",
                                    "previous_year_sales": "NULL",
                                    "sales_change": "NULL"
                                },
                                {
                                    "region": "Central",
                                    "order_year": "2014",
                                    "ship_mode": "Standard Class",
                                    "total_sales": "20407.589600000003",
                                    "previous_year_sales": "NULL",
                                    "sales_change": "NULL"
                                },
                                {
                                    "region": "Central",
                                    "order_year": "2015",
                                    "ship_mode": "First Class",
                                    "total_sales": "3291.055",
                                    "previous_year_sales": "5492.114",
                                    "sales_change": "-2201.0589999999997"
                                },
                                {
                                    "region": "Central",
                                    "order_year": "2015",
                                    "ship_mode": "Same Day",
                                    "total_sales": "3858.2040000000006",
                                    "previous_year_sales": "25.16",
                                    "sales_change": "3833.044000000001"
                                },
                                {
                                    "region": "Central",
                                    "order_year": "2015",
                                    "ship_mode": "Second Class",
                                    "total_sales": "5048.044400000001",
                                    "previous_year_sales": "6984.8",
                                    "sales_change": "-1936.7555999999995"
                                },
                                {
                                    "region": "Central",
                                    "order_year": "2015",
                                    "ship_mode": "Standard Class",
                                    "total_sales": "23394.743599999987",
                                    "previous_year_sales": "20407.589600000003",
                                    "sales_change": "2987.153999999984"
                                },
                                {
                                    "region": "Central",
                                    "order_year": "2016",
                                    "ship_mode": "First Class",
                                    "total_sales": "4057.5588000000002",
                                    "previous_year_sales": "3291.055",
                                    "sales_change": "766.5038000000004"
                                },
                                {
                                    "region": "Central",
                                    "order_year": "2016",
                                    "ship_mode": "Same Day",
                                    "total_sales": "2514.702",
                                    "previous_year_sales": "3858.2040000000006",
                                    "sales_change": "-1343.5020000000004"
                                },
                                {
                                    "region": "Central",
                                    "order_year": "2016",
                                    "ship_mode": "Second Class",
                                    "total_sales": "12716.092599999996",
                                    "previous_year_sales": "5048.044400000001",
                                    "sales_change": "7668.048199999996"
                                },
                                {
                                    "region": "Central",
                                    "order_year": "2016",
                                    "ship_mode": "Standard Class",
                                    "total_sales": "31484.8286",
                                    "previous_year_sales": "23394.743599999987",
                                    "sales_change": "8090.085000000014"
                                },
                                {
                                    "region": "Central",
                                    "order_year": "2017",
                                    "ship_mode": "First Class",
                                    "total_sales": "8197.097600000001",
                                    "previous_year_sales": "4057.5588000000002",
                                    "sales_change": "4139.5388"
                                },
                                {
                                    "region": "Central",
                                    "order_year": "2017",
                                    "ship_mode": "Same Day",
                                    "total_sales": "2444.2200000000003",
                                    "previous_year_sales": "2514.702",
                                    "sales_change": "-70.48199999999997"
                                },
                                {
                                    "region": "Central",
                                    "order_year": "2017",
                                    "ship_mode": "Second Class",
                                    "total_sales": "6438.1864",
                                    "previous_year_sales": "12716.092599999996",
                                    "sales_change": "-6277.906199999997"
                                },
                                {
                                    "region": "Central",
                                    "order_year": "2017",
                                    "ship_mode": "Standard Class",
                                    "total_sales": "27442.767199999995",
                                    "previous_year_sales": "31484.8286",
                                    "sales_change": "-4042.061400000006"
                                },
                                {
                                    "region": "East",
                                    "order_year": "2014",
                                    "ship_mode": "First Class",
                                    "total_sales": "6036.494",
                                    "previous_year_sales": "NULL",
                                    "sales_change": "NULL"
                                },
                                {
                                    "region": "East",
                                    "order_year": "2014",
                                    "ship_mode": "Same Day",
                                    "total_sales": "1989.913",
                                    "previous_year_sales": "NULL",
                                    "sales_change": "NULL"
                                },
                                {
                                    "region": "East",
                                    "order_year": "2014",
                                    "ship_mode": "Second Class",
                                    "total_sales": "15014.774999999998",
                                    "previous_year_sales": "NULL",
                                    "sales_change": "NULL"
                                },
                                {
                                    "region": "East",
                                    "order_year": "2014",
                                    "ship_mode": "Standard Class",
                                    "total_sales": "24191.557",
                                    "previous_year_sales": "NULL",
                                    "sales_change": "NULL"
                                },
                                {
                                    "region": "East",
                                    "order_year": "2015",
                                    "ship_mode": "First Class",
                                    "total_sales": "8574.156999999997",
                                    "previous_year_sales": "6036.494",
                                    "sales_change": "2537.6629999999977"
                                },
                                {
                                    "region": "East",
                                    "order_year": "2015",
                                    "ship_mode": "Same Day",
                                    "total_sales": "2349.955",
                                    "previous_year_sales": "1989.913",
                                    "sales_change": "360.0419999999999"
                                },
                                {
                                    "region": "East",
                                    "order_year": "2015",
                                    "ship_mode": "Second Class",
                                    "total_sales": "7132.327999999999",
                                    "previous_year_sales": "15014.774999999998",
                                    "sales_change": "-7882.446999999999"
                                },
                                {
                                    "region": "East",
                                    "order_year": "2015",
                                    "ship_mode": "Standard Class",
                                    "total_sales": "35760.991999999984",
                                    "previous_year_sales": "24191.557",
                                    "sales_change": "11569.434999999983"
                                },
                                {
                                    "region": "East",
                                    "order_year": "2016",
                                    "ship_mode": "First Class",
                                    "total_sales": "5448.398999999999",
                                    "previous_year_sales": "8574.156999999997",
                                    "sales_change": "-3125.757999999998"
                                },
                                {
                                    "region": "East",
                                    "order_year": "2016",
                                    "ship_mode": "Same Day",
                                    "total_sales": "4247.044999999999",
                                    "previous_year_sales": "2349.955",
                                    "sales_change": "1897.0899999999992"
                                },
                                {
                                    "region": "East",
                                    "order_year": "2016",
                                    "ship_mode": "Second Class",
                                    "total_sales": "7744.7699999999995",
                                    "previous_year_sales": "7132.327999999999",
                                    "sales_change": "612.4420000000009"
                                },
                                {
                                    "region": "East",
                                    "order_year": "2016",
                                    "ship_mode": "Standard Class",
                                    "total_sales": "28946.957999999984",
                                    "previous_year_sales": "35760.991999999984",
                                    "sales_change": "-6814.034"
                                },
                                {
                                    "region": "East",
                                    "order_year": "2017",
                                    "ship_mode": "First Class",
                                    "total_sales": "9351.594",
                                    "previous_year_sales": "5448.398999999999",
                                    "sales_change": "3903.1949999999997"
                                },
                                {
                                    "region": "East",
                                    "order_year": "2017",
                                    "ship_mode": "Same Day",
                                    "total_sales": "4265.658",
                                    "previous_year_sales": "4247.044999999999",
                                    "sales_change": "18.613000000001193"
                                },
                                {
                                    "region": "East",
                                    "order_year": "2017",
                                    "ship_mode": "Second Class",
                                    "total_sales": "14144.064",
                                    "previous_year_sales": "7744.7699999999995",
                                    "sales_change": "6399.294000000001"
                                },
                                {
                                    "region": "East",
                                    "order_year": "2017",
                                    "ship_mode": "Standard Class",
                                    "total_sales": "33092.545",
                                    "previous_year_sales": "28946.957999999984",
                                    "sales_change": "4145.587000000014"
                                },
                                {
                                    "region": "South",
                                    "order_year": "2014",
                                    "ship_mode": "First Class",
                                    "total_sales": "4558.918000000001",
                                    "previous_year_sales": "NULL",
                                    "sales_change": "NULL"
                                },
                                {
                                    "region": "South",
                                    "order_year": "2014",
                                    "ship_mode": "Same Day",
                                    "total_sales": "1405.276",
                                    "previous_year_sales": "NULL",
                                    "sales_change": "NULL"
                                },
                                {
                                    "region": "South",
                                    "order_year": "2014",
                                    "ship_mode": "Second Class",
                                    "total_sales": "6382.5165",
                                    "previous_year_sales": "NULL",
                                    "sales_change": "NULL"
                                },
                                {
                                    "region": "South",
                                    "order_year": "2014",
                                    "ship_mode": "Standard Class",
                                    "total_sales": "14621.291999999996",
                                    "previous_year_sales": "NULL",
                                    "sales_change": "NULL"
                                },
                                {
                                    "region": "South",
                                    "order_year": "2015",
                                    "ship_mode": "First Class",
                                    "total_sales": "4164.120000000001",
                                    "previous_year_sales": "4558.918000000001",
                                    "sales_change": "-394.7979999999998"
                                },
                                {
                                    "region": "South",
                                    "order_year": "2015",
                                    "ship_mode": "Same Day",
                                    "total_sales": "71.68",
                                    "previous_year_sales": "1405.276",
                                    "sales_change": "-1333.596"
                                },
                                {
                                    "region": "South",
                                    "order_year": "2015",
                                    "ship_mode": "Second Class",
                                    "total_sales": "6752.691999999999",
                                    "previous_year_sales": "6382.5165",
                                    "sales_change": "370.1754999999994"
                                },
                                {
                                    "region": "South",
                                    "order_year": "2015",
                                    "ship_mode": "Standard Class",
                                    "total_sales": "13115.322499999997",
                                    "previous_year_sales": "14621.291999999996",
                                    "sales_change": "-1505.9694999999992"
                                },
                                {
                                    "region": "South",
                                    "order_year": "2016",
                                    "ship_mode": "First Class",
                                    "total_sales": "3410.2119999999995",
                                    "previous_year_sales": "4164.120000000001",
                                    "sales_change": "-753.9080000000013"
                                },
                                {
                                    "region": "South",
                                    "order_year": "2016",
                                    "ship_mode": "Same Day",
                                    "total_sales": "1165.812",
                                    "previous_year_sales": "71.68",
                                    "sales_change": "1094.1319999999998"
                                },
                                {
                                    "region": "South",
                                    "order_year": "2016",
                                    "ship_mode": "Second Class",
                                    "total_sales": "6331.816000000001",
                                    "previous_year_sales": "6752.691999999999",
                                    "sales_change": "-420.8759999999984"
                                },
                                {
                                    "region": "South",
                                    "order_year": "2016",
                                    "ship_mode": "Standard Class",
                                    "total_sales": "17013.601499999997",
                                    "previous_year_sales": "13115.322499999997",
                                    "sales_change": "3898.2790000000005"
                                },
                                {
                                    "region": "South",
                                    "order_year": "2017",
                                    "ship_mode": "First Class",
                                    "total_sales": "8129.974",
                                    "previous_year_sales": "3410.2119999999995",
                                    "sales_change": "4719.762000000001"
                                },
                                {
                                    "region": "South",
                                    "order_year": "2017",
                                    "ship_mode": "Same Day",
                                    "total_sales": "283.176",
                                    "previous_year_sales": "1165.812",
                                    "sales_change": "-882.636"
                                },
                                {
                                    "region": "South",
                                    "order_year": "2017",
                                    "ship_mode": "Second Class",
                                    "total_sales": "7443.283999999999",
                                    "previous_year_sales": "6331.816000000001",
                                    "sales_change": "1111.467999999998"
                                },
                                {
                                    "region": "South",
                                    "order_year": "2017",
                                    "ship_mode": "Standard Class",
                                    "total_sales": "22448.991499999996",
                                    "previous_year_sales": "17013.601499999997",
                                    "sales_change": "5435.389999999999"
                                },
                                {
                                    "region": "West",
                                    "order_year": "2014",
                                    "ship_mode": "First Class",
                                    "total_sales": "7016.378500000001",
                                    "previous_year_sales": "NULL",
                                    "sales_change": "NULL"
                                },
                                {
                                    "region": "West",
                                    "order_year": "2014",
                                    "ship_mode": "Same Day",
                                    "total_sales": "1561.8899999999999",
                                    "previous_year_sales": "NULL",
                                    "sales_change": "NULL"
                                },
                                {
                                    "region": "West",
                                    "order_year": "2014",
                                    "ship_mode": "Second Class",
                                    "total_sales": "13066.3005",
                                    "previous_year_sales": "NULL",
                                    "sales_change": "NULL"
                                },
                                {
                                    "region": "West",
                                    "order_year": "2014",
                                    "ship_mode": "Standard Class",
                                    "total_sales": "28437.879",
                                    "previous_year_sales": "NULL",
                                    "sales_change": "NULL"
                                },
                                {
                                    "region": "West",
                                    "order_year": "2015",
                                    "ship_mode": "First Class",
                                    "total_sales": "8133.320000000001",
                                    "previous_year_sales": "7016.378500000001",
                                    "sales_change": "1116.9415"
                                },
                                {
                                    "region": "West",
                                    "order_year": "2015",
                                    "ship_mode": "Same Day",
                                    "total_sales": "3761.105",
                                    "previous_year_sales": "1561.8899999999999",
                                    "sales_change": "2199.215"
                                },
                                {
                                    "region": "West",
                                    "order_year": "2015",
                                    "ship_mode": "Second Class",
                                    "total_sales": "12454.965999999995",
                                    "previous_year_sales": "13066.3005",
                                    "sales_change": "-611.3345000000045"
                                },
                                {
                                    "region": "West",
                                    "order_year": "2015",
                                    "ship_mode": "Standard Class",
                                    "total_sales": "32655.55249999999",
                                    "previous_year_sales": "28437.879",
                                    "sales_change": "4217.67349999999"
                                },
                                {
                                    "region": "West",
                                    "order_year": "2016",
                                    "ship_mode": "First Class",
                                    "total_sales": "10843.685",
                                    "previous_year_sales": "8133.320000000001",
                                    "sales_change": "2710.364999999999"
                                },
                                {
                                    "region": "West",
                                    "order_year": "2016",
                                    "ship_mode": "Same Day",
                                    "total_sales": "4761.3589999999995",
                                    "previous_year_sales": "3761.105",
                                    "sales_change": "1000.2539999999995"
                                },
                                {
                                    "region": "West",
                                    "order_year": "2016",
                                    "ship_mode": "Second Class",
                                    "total_sales": "7704.298000000001",
                                    "previous_year_sales": "12454.965999999995",
                                    "sales_change": "-4750.667999999994"
                                },
                                {
                                    "region": "West",
                                    "order_year": "2016",
                                    "ship_mode": "Standard Class",
                                    "total_sales": "50510.29849999995",
                                    "previous_year_sales": "32655.55249999999",
                                    "sales_change": "17854.745999999963"
                                },
                                {
                                    "region": "West",
                                    "order_year": "2017",
                                    "ship_mode": "First Class",
                                    "total_sales": "14025.445999999996",
                                    "previous_year_sales": "10843.685",
                                    "sales_change": "3181.760999999997"
                                },
                                {
                                    "region": "West",
                                    "order_year": "2017",
                                    "ship_mode": "Same Day",
                                    "total_sales": "4443.624",
                                    "previous_year_sales": "4761.3589999999995",
                                    "sales_change": "-317.7349999999997"
                                },
                                {
                                    "region": "West",
                                    "order_year": "2017",
                                    "ship_mode": "Second Class",
                                    "total_sales": "20930.090999999997",
                                    "previous_year_sales": "7704.298000000001",
                                    "sales_change": "13225.792999999996"
                                },
                                {
                                    "region": "West",
                                    "order_year": "2017",
                                    "ship_mode": "Standard Class",
                                    "total_sales": "32306.55050000001",
                                    "previous_year_sales": "50510.29849999995",
                                    "sales_change": "-18203.747999999945"
                                }
                            ]
                        },
                        "text/html": "<table><tr><th>region</th><th>order_year</th><th>ship_mode</th><th>total_sales</th><th>previous_year_sales</th><th>sales_change</th></tr><tr><td>Central</td><td>2014</td><td>First Class</td><td>5492.114</td><td>NULL</td><td>NULL</td></tr><tr><td>Central</td><td>2014</td><td>Same Day</td><td>25.16</td><td>NULL</td><td>NULL</td></tr><tr><td>Central</td><td>2014</td><td>Second Class</td><td>6984.8</td><td>NULL</td><td>NULL</td></tr><tr><td>Central</td><td>2014</td><td>Standard Class</td><td>20407.589600000003</td><td>NULL</td><td>NULL</td></tr><tr><td>Central</td><td>2015</td><td>First Class</td><td>3291.055</td><td>5492.114</td><td>-2201.0589999999997</td></tr><tr><td>Central</td><td>2015</td><td>Same Day</td><td>3858.2040000000006</td><td>25.16</td><td>3833.044000000001</td></tr><tr><td>Central</td><td>2015</td><td>Second Class</td><td>5048.044400000001</td><td>6984.8</td><td>-1936.7555999999995</td></tr><tr><td>Central</td><td>2015</td><td>Standard Class</td><td>23394.743599999987</td><td>20407.589600000003</td><td>2987.153999999984</td></tr><tr><td>Central</td><td>2016</td><td>First Class</td><td>4057.5588000000002</td><td>3291.055</td><td>766.5038000000004</td></tr><tr><td>Central</td><td>2016</td><td>Same Day</td><td>2514.702</td><td>3858.2040000000006</td><td>-1343.5020000000004</td></tr><tr><td>Central</td><td>2016</td><td>Second Class</td><td>12716.092599999996</td><td>5048.044400000001</td><td>7668.048199999996</td></tr><tr><td>Central</td><td>2016</td><td>Standard Class</td><td>31484.8286</td><td>23394.743599999987</td><td>8090.085000000014</td></tr><tr><td>Central</td><td>2017</td><td>First Class</td><td>8197.097600000001</td><td>4057.5588000000002</td><td>4139.5388</td></tr><tr><td>Central</td><td>2017</td><td>Same Day</td><td>2444.2200000000003</td><td>2514.702</td><td>-70.48199999999997</td></tr><tr><td>Central</td><td>2017</td><td>Second Class</td><td>6438.1864</td><td>12716.092599999996</td><td>-6277.906199999997</td></tr><tr><td>Central</td><td>2017</td><td>Standard Class</td><td>27442.767199999995</td><td>31484.8286</td><td>-4042.061400000006</td></tr><tr><td>East</td><td>2014</td><td>First Class</td><td>6036.494</td><td>NULL</td><td>NULL</td></tr><tr><td>East</td><td>2014</td><td>Same Day</td><td>1989.913</td><td>NULL</td><td>NULL</td></tr><tr><td>East</td><td>2014</td><td>Second Class</td><td>15014.774999999998</td><td>NULL</td><td>NULL</td></tr><tr><td>East</td><td>2014</td><td>Standard Class</td><td>24191.557</td><td>NULL</td><td>NULL</td></tr><tr><td>East</td><td>2015</td><td>First Class</td><td>8574.156999999997</td><td>6036.494</td><td>2537.6629999999977</td></tr><tr><td>East</td><td>2015</td><td>Same Day</td><td>2349.955</td><td>1989.913</td><td>360.0419999999999</td></tr><tr><td>East</td><td>2015</td><td>Second Class</td><td>7132.327999999999</td><td>15014.774999999998</td><td>-7882.446999999999</td></tr><tr><td>East</td><td>2015</td><td>Standard Class</td><td>35760.991999999984</td><td>24191.557</td><td>11569.434999999983</td></tr><tr><td>East</td><td>2016</td><td>First Class</td><td>5448.398999999999</td><td>8574.156999999997</td><td>-3125.757999999998</td></tr><tr><td>East</td><td>2016</td><td>Same Day</td><td>4247.044999999999</td><td>2349.955</td><td>1897.0899999999992</td></tr><tr><td>East</td><td>2016</td><td>Second Class</td><td>7744.7699999999995</td><td>7132.327999999999</td><td>612.4420000000009</td></tr><tr><td>East</td><td>2016</td><td>Standard Class</td><td>28946.957999999984</td><td>35760.991999999984</td><td>-6814.034</td></tr><tr><td>East</td><td>2017</td><td>First Class</td><td>9351.594</td><td>5448.398999999999</td><td>3903.1949999999997</td></tr><tr><td>East</td><td>2017</td><td>Same Day</td><td>4265.658</td><td>4247.044999999999</td><td>18.613000000001193</td></tr><tr><td>East</td><td>2017</td><td>Second Class</td><td>14144.064</td><td>7744.7699999999995</td><td>6399.294000000001</td></tr><tr><td>East</td><td>2017</td><td>Standard Class</td><td>33092.545</td><td>28946.957999999984</td><td>4145.587000000014</td></tr><tr><td>South</td><td>2014</td><td>First Class</td><td>4558.918000000001</td><td>NULL</td><td>NULL</td></tr><tr><td>South</td><td>2014</td><td>Same Day</td><td>1405.276</td><td>NULL</td><td>NULL</td></tr><tr><td>South</td><td>2014</td><td>Second Class</td><td>6382.5165</td><td>NULL</td><td>NULL</td></tr><tr><td>South</td><td>2014</td><td>Standard Class</td><td>14621.291999999996</td><td>NULL</td><td>NULL</td></tr><tr><td>South</td><td>2015</td><td>First Class</td><td>4164.120000000001</td><td>4558.918000000001</td><td>-394.7979999999998</td></tr><tr><td>South</td><td>2015</td><td>Same Day</td><td>71.68</td><td>1405.276</td><td>-1333.596</td></tr><tr><td>South</td><td>2015</td><td>Second Class</td><td>6752.691999999999</td><td>6382.5165</td><td>370.1754999999994</td></tr><tr><td>South</td><td>2015</td><td>Standard Class</td><td>13115.322499999997</td><td>14621.291999999996</td><td>-1505.9694999999992</td></tr><tr><td>South</td><td>2016</td><td>First Class</td><td>3410.2119999999995</td><td>4164.120000000001</td><td>-753.9080000000013</td></tr><tr><td>South</td><td>2016</td><td>Same Day</td><td>1165.812</td><td>71.68</td><td>1094.1319999999998</td></tr><tr><td>South</td><td>2016</td><td>Second Class</td><td>6331.816000000001</td><td>6752.691999999999</td><td>-420.8759999999984</td></tr><tr><td>South</td><td>2016</td><td>Standard Class</td><td>17013.601499999997</td><td>13115.322499999997</td><td>3898.2790000000005</td></tr><tr><td>South</td><td>2017</td><td>First Class</td><td>8129.974</td><td>3410.2119999999995</td><td>4719.762000000001</td></tr><tr><td>South</td><td>2017</td><td>Same Day</td><td>283.176</td><td>1165.812</td><td>-882.636</td></tr><tr><td>South</td><td>2017</td><td>Second Class</td><td>7443.283999999999</td><td>6331.816000000001</td><td>1111.467999999998</td></tr><tr><td>South</td><td>2017</td><td>Standard Class</td><td>22448.991499999996</td><td>17013.601499999997</td><td>5435.389999999999</td></tr><tr><td>West</td><td>2014</td><td>First Class</td><td>7016.378500000001</td><td>NULL</td><td>NULL</td></tr><tr><td>West</td><td>2014</td><td>Same Day</td><td>1561.8899999999999</td><td>NULL</td><td>NULL</td></tr><tr><td>West</td><td>2014</td><td>Second Class</td><td>13066.3005</td><td>NULL</td><td>NULL</td></tr><tr><td>West</td><td>2014</td><td>Standard Class</td><td>28437.879</td><td>NULL</td><td>NULL</td></tr><tr><td>West</td><td>2015</td><td>First Class</td><td>8133.320000000001</td><td>7016.378500000001</td><td>1116.9415</td></tr><tr><td>West</td><td>2015</td><td>Same Day</td><td>3761.105</td><td>1561.8899999999999</td><td>2199.215</td></tr><tr><td>West</td><td>2015</td><td>Second Class</td><td>12454.965999999995</td><td>13066.3005</td><td>-611.3345000000045</td></tr><tr><td>West</td><td>2015</td><td>Standard Class</td><td>32655.55249999999</td><td>28437.879</td><td>4217.67349999999</td></tr><tr><td>West</td><td>2016</td><td>First Class</td><td>10843.685</td><td>8133.320000000001</td><td>2710.364999999999</td></tr><tr><td>West</td><td>2016</td><td>Same Day</td><td>4761.3589999999995</td><td>3761.105</td><td>1000.2539999999995</td></tr><tr><td>West</td><td>2016</td><td>Second Class</td><td>7704.298000000001</td><td>12454.965999999995</td><td>-4750.667999999994</td></tr><tr><td>West</td><td>2016</td><td>Standard Class</td><td>50510.29849999995</td><td>32655.55249999999</td><td>17854.745999999963</td></tr><tr><td>West</td><td>2017</td><td>First Class</td><td>14025.445999999996</td><td>10843.685</td><td>3181.760999999997</td></tr><tr><td>West</td><td>2017</td><td>Same Day</td><td>4443.624</td><td>4761.3589999999995</td><td>-317.7349999999997</td></tr><tr><td>West</td><td>2017</td><td>Second Class</td><td>20930.090999999997</td><td>7704.298000000001</td><td>13225.792999999996</td></tr><tr><td>West</td><td>2017</td><td>Standard Class</td><td>32306.55050000001</td><td>50510.29849999995</td><td>-18203.747999999945</td></tr></table>"
                    },
                    "metadata": {
                        "azdata_chartOptions": {
                            "type": "line",
                            "dataDirection": "vertical",
                            "columnsAsLabels": true,
                            "labelFirstColumn": false,
                            "legendPosition": "top",
                            "dataType": "number"
                        }
                    }
                }
            ],
            "execution_count": 12
        },
        {
            "cell_type": "code",
            "source": [
                "--  4. Analyze which product categories and sub-categories are most profitable \r\n",
                "-- in each region.\r\n",
                "WITH CategoryProfit AS (\r\n",
                "    SELECT\r\n",
                "        region,\r\n",
                "        category,\r\n",
                "        sub_category,\r\n",
                "        SUM(profit) AS total_profit\r\n",
                "    FROM\r\n",
                "        Sales\r\n",
                "    GROUP BY\r\n",
                "        region, category, sub_category\r\n",
                ")\r\n",
                "SELECT\r\n",
                "    region,\r\n",
                "    category,\r\n",
                "    sub_category,\r\n",
                "    total_profit,\r\n",
                "    RANK() OVER (PARTITION BY region ORDER BY total_profit DESC) AS profitability_rank\r\n",
                "FROM\r\n",
                "    CategoryProfit\r\n",
                "ORDER BY\r\n",
                "    region, profitability_rank;\r\n",
                ""
            ],
            "metadata": {
                "language": "sql",
                "azdata_cell_guid": "78ba267b-5569-4619-b60a-0c3085fbee9d"
            },
            "outputs": [
                {
                    "output_type": "display_data",
                    "data": {
                        "text/html": "(16 rows affected)"
                    },
                    "metadata": {}
                },
                {
                    "output_type": "display_data",
                    "data": {
                        "text/html": "Total execution time: 00:00:00.028"
                    },
                    "metadata": {}
                },
                {
                    "output_type": "execute_result",
                    "execution_count": 13,
                    "data": {
                        "application/vnd.dataresource+json": {
                            "schema": {
                                "fields": [
                                    {
                                        "name": "region"
                                    },
                                    {
                                        "name": "category"
                                    },
                                    {
                                        "name": "sub_category"
                                    },
                                    {
                                        "name": "total_profit"
                                    },
                                    {
                                        "name": "profitability_rank"
                                    }
                                ]
                            },
                            "data": [
                                {
                                    "region": "Central",
                                    "category": "Furniture",
                                    "sub_category": "Chairs",
                                    "total_profit": "6592.722100000002",
                                    "profitability_rank": "1"
                                },
                                {
                                    "region": "Central",
                                    "category": "Furniture",
                                    "sub_category": "Bookcases",
                                    "total_profit": "-1997.9043000000004",
                                    "profitability_rank": "2"
                                },
                                {
                                    "region": "Central",
                                    "category": "Furniture",
                                    "sub_category": "Tables",
                                    "total_profit": "-3559.6503999999995",
                                    "profitability_rank": "3"
                                },
                                {
                                    "region": "Central",
                                    "category": "Furniture",
                                    "sub_category": "Furnishings",
                                    "total_profit": "-3906.216800000001",
                                    "profitability_rank": "4"
                                },
                                {
                                    "region": "East",
                                    "category": "Furniture",
                                    "sub_category": "Chairs",
                                    "total_profit": "9357.7706",
                                    "profitability_rank": "1"
                                },
                                {
                                    "region": "East",
                                    "category": "Furniture",
                                    "sub_category": "Furnishings",
                                    "total_profit": "5881.407099999999",
                                    "profitability_rank": "2"
                                },
                                {
                                    "region": "East",
                                    "category": "Furniture",
                                    "sub_category": "Bookcases",
                                    "total_profit": "-1167.6317999999999",
                                    "profitability_rank": "3"
                                },
                                {
                                    "region": "East",
                                    "category": "Furniture",
                                    "sub_category": "Tables",
                                    "total_profit": "-11025.380100000002",
                                    "profitability_rank": "4"
                                },
                                {
                                    "region": "South",
                                    "category": "Furniture",
                                    "sub_category": "Chairs",
                                    "total_profit": "6612.0893",
                                    "profitability_rank": "1"
                                },
                                {
                                    "region": "South",
                                    "category": "Furniture",
                                    "sub_category": "Furnishings",
                                    "total_profit": "3442.682899999999",
                                    "profitability_rank": "2"
                                },
                                {
                                    "region": "South",
                                    "category": "Furniture",
                                    "sub_category": "Bookcases",
                                    "total_profit": "1339.4918",
                                    "profitability_rank": "3"
                                },
                                {
                                    "region": "South",
                                    "category": "Furniture",
                                    "sub_category": "Tables",
                                    "total_profit": "-4623.0579",
                                    "profitability_rank": "4"
                                },
                                {
                                    "region": "West",
                                    "category": "Furniture",
                                    "sub_category": "Furnishings",
                                    "total_profit": "7641.270399999999",
                                    "profitability_rank": "1"
                                },
                                {
                                    "region": "West",
                                    "category": "Furniture",
                                    "sub_category": "Chairs",
                                    "total_profit": "4027.5843000000004",
                                    "profitability_rank": "2"
                                },
                                {
                                    "region": "West",
                                    "category": "Furniture",
                                    "sub_category": "Tables",
                                    "total_profit": "1482.6073000000008",
                                    "profitability_rank": "3"
                                },
                                {
                                    "region": "West",
                                    "category": "Furniture",
                                    "sub_category": "Bookcases",
                                    "total_profit": "-1646.5117000000007",
                                    "profitability_rank": "4"
                                }
                            ]
                        },
                        "text/html": "<table><tr><th>region</th><th>category</th><th>sub_category</th><th>total_profit</th><th>profitability_rank</th></tr><tr><td>Central</td><td>Furniture</td><td>Chairs</td><td>6592.722100000002</td><td>1</td></tr><tr><td>Central</td><td>Furniture</td><td>Bookcases</td><td>-1997.9043000000004</td><td>2</td></tr><tr><td>Central</td><td>Furniture</td><td>Tables</td><td>-3559.6503999999995</td><td>3</td></tr><tr><td>Central</td><td>Furniture</td><td>Furnishings</td><td>-3906.216800000001</td><td>4</td></tr><tr><td>East</td><td>Furniture</td><td>Chairs</td><td>9357.7706</td><td>1</td></tr><tr><td>East</td><td>Furniture</td><td>Furnishings</td><td>5881.407099999999</td><td>2</td></tr><tr><td>East</td><td>Furniture</td><td>Bookcases</td><td>-1167.6317999999999</td><td>3</td></tr><tr><td>East</td><td>Furniture</td><td>Tables</td><td>-11025.380100000002</td><td>4</td></tr><tr><td>South</td><td>Furniture</td><td>Chairs</td><td>6612.0893</td><td>1</td></tr><tr><td>South</td><td>Furniture</td><td>Furnishings</td><td>3442.682899999999</td><td>2</td></tr><tr><td>South</td><td>Furniture</td><td>Bookcases</td><td>1339.4918</td><td>3</td></tr><tr><td>South</td><td>Furniture</td><td>Tables</td><td>-4623.0579</td><td>4</td></tr><tr><td>West</td><td>Furniture</td><td>Furnishings</td><td>7641.270399999999</td><td>1</td></tr><tr><td>West</td><td>Furniture</td><td>Chairs</td><td>4027.5843000000004</td><td>2</td></tr><tr><td>West</td><td>Furniture</td><td>Tables</td><td>1482.6073000000008</td><td>3</td></tr><tr><td>West</td><td>Furniture</td><td>Bookcases</td><td>-1646.5117000000007</td><td>4</td></tr></table>"
                    },
                    "metadata": {
                        "azdata_chartOptions": {
                            "type": "bar",
                            "dataDirection": "vertical",
                            "columnsAsLabels": true,
                            "labelFirstColumn": false,
                            "legendPosition": "top"
                        }
                    }
                }
            ],
            "execution_count": 13
        },
        {
            "cell_type": "code",
            "source": [
                "--  5. Create a report that recommends regions for increased marketing \r\n",
                "-- investment based on profitability and sales growth potential\r\n",
                " WITH ProfitAndSalesGrowth AS (\r\n",
                "    -- Calculate total profit and sales for each region and year\r\n",
                "    SELECT \r\n",
                "        region,\r\n",
                "        YEAR(order_date) AS order_year,\r\n",
                "        SUM(CAST(total_sales AS FLOAT)) AS total_sales,\r\n",
                "        SUM(profit) AS total_profit\r\n",
                "    FROM \r\n",
                "        Sales\r\n",
                "    GROUP BY \r\n",
                "        region, YEAR(order_date)\r\n",
                "),\r\n",
                "SalesGrowth AS (\r\n",
                "    -- Calculate year-over-year sales growth for each region\r\n",
                "    SELECT \r\n",
                "        region,\r\n",
                "        order_year,\r\n",
                "        total_sales,\r\n",
                "        LAG(total_sales, 1) OVER (PARTITION BY region ORDER BY order_year) AS previous_year_sales,\r\n",
                "        total_profit,\r\n",
                "        (total_sales - LAG(total_sales, 1) OVER (PARTITION BY region ORDER BY order_year)) AS sales_change\r\n",
                "    FROM \r\n",
                "        ProfitAndSalesGrowth\r\n",
                "),\r\n",
                "RegionAnalysis AS (\r\n",
                "    -- Summarize sales growth and profitability for each region\r\n",
                "    SELECT \r\n",
                "        region,\r\n",
                "        SUM(total_profit) AS total_profit,\r\n",
                "        SUM(CASE WHEN sales_change > 0 THEN 1 ELSE 0 END) AS positive_sales_years,\r\n",
                "        COUNT(*) - 1 AS total_years -- Subtract 1 to ignore the first year, as it has no previous year comparison\r\n",
                "    FROM \r\n",
                "        SalesGrowth\r\n",
                "    GROUP BY \r\n",
                "        region\r\n",
                ")\r\n",
                "-- Generate the final recommendation report\r\n",
                "SELECT \r\n",
                "    region,\r\n",
                "    total_profit,\r\n",
                "    (positive_sales_years * 1.0 / total_years) * 100 AS sales_growth_percentage,\r\n",
                "    CASE \r\n",
                "        WHEN total_profit > (SELECT AVG(total_profit) FROM RegionAnalysis) \r\n",
                "             AND (positive_sales_years * 1.0 / total_years) > 0.5 \r\n",
                "        THEN 'Recommended for increased marketing investment'\r\n",
                "        ELSE 'Not recommended'\r\n",
                "    END AS marketing_recommendation\r\n",
                "FROM \r\n",
                "    RegionAnalysis\r\n",
                "ORDER BY \r\n",
                "    total_profit DESC, sales_growth_percentage DESC;\r\n",
                ""
            ],
            "metadata": {
                "language": "sql",
                "azdata_cell_guid": "e188d8d2-8eaf-41f6-bcc6-da09c77cbfc4"
            },
            "outputs": [
                {
                    "output_type": "display_data",
                    "data": {
                        "text/html": "(4 rows affected)"
                    },
                    "metadata": {}
                },
                {
                    "output_type": "display_data",
                    "data": {
                        "text/html": "Total execution time: 00:00:00.040"
                    },
                    "metadata": {}
                },
                {
                    "output_type": "execute_result",
                    "execution_count": 19,
                    "data": {
                        "application/vnd.dataresource+json": {
                            "schema": {
                                "fields": [
                                    {
                                        "name": "region"
                                    },
                                    {
                                        "name": "total_profit"
                                    },
                                    {
                                        "name": "sales_growth_percentage"
                                    },
                                    {
                                        "name": "marketing_recommendation"
                                    }
                                ]
                            },
                            "data": [
                                {
                                    "region": "West",
                                    "total_profit": "11504.9503",
                                    "sales_growth_percentage": "66.666666666600",
                                    "marketing_recommendation": "Recommended for increased marketing investment"
                                },
                                {
                                    "region": "South",
                                    "total_profit": "6771.2061",
                                    "sales_growth_percentage": "66.666666666600",
                                    "marketing_recommendation": "Recommended for increased marketing investment"
                                },
                                {
                                    "region": "East",
                                    "total_profit": "3046.1658000000007",
                                    "sales_growth_percentage": "66.666666666600",
                                    "marketing_recommendation": "Not recommended"
                                },
                                {
                                    "region": "Central",
                                    "total_profit": "-2871.049399999999",
                                    "sales_growth_percentage": "66.666666666600",
                                    "marketing_recommendation": "Not recommended"
                                }
                            ]
                        },
                        "text/html": "<table><tr><th>region</th><th>total_profit</th><th>sales_growth_percentage</th><th>marketing_recommendation</th></tr><tr><td>West</td><td>11504.9503</td><td>66.666666666600</td><td>Recommended for increased marketing investment</td></tr><tr><td>South</td><td>6771.2061</td><td>66.666666666600</td><td>Recommended for increased marketing investment</td></tr><tr><td>East</td><td>3046.1658000000007</td><td>66.666666666600</td><td>Not recommended</td></tr><tr><td>Central</td><td>-2871.049399999999</td><td>66.666666666600</td><td>Not recommended</td></tr></table>"
                    },
                    "metadata": {}
                }
            ],
            "execution_count": 19
        },
        {
            "cell_type": "markdown",
            "source": [
                "## Project 10: Advanced Sales Growth Analytics\n",
                "\n",
                "### Objective: Dive deeper into sales growth metrics and analyze factors influencing growth."
            ],
            "metadata": {
                "language": "sql",
                "azdata_cell_guid": "9b21d839-2f01-4e0a-ad2e-6d7c91f7abbd"
            },
            "attachments": {}
        },
        {
            "cell_type": "code",
            "source": [
                "-- 1. Calculate the year-over-year (YoY) and quarter-over-quarter (QoQ) sales growth for the entire\r\n",
                "-- business.\r\n",
                "SELECT \r\n",
                "    YEAR(order_date) AS order_year, \r\n",
                "    DATEPART(QUARTER, order_date) AS order_quarter, \r\n",
                "    SUM(CAST(total_sales AS DECIMAL(18, 2))) AS total_sales\r\n",
                "FROM sales\r\n",
                "GROUP BY \r\n",
                "    YEAR(order_date), \r\n",
                "    DATEPART(QUARTER, order_date)\r\n",
                "ORDER BY \r\n",
                "    YEAR(order_date), \r\n",
                "    DATEPART(QUARTER, order_date);\r\n",
                ""
            ],
            "metadata": {
                "language": "sql",
                "azdata_cell_guid": "57356ddf-2540-4c56-bdcd-d5f589c26401",
                "tags": []
            },
            "outputs": [
                {
                    "output_type": "display_data",
                    "data": {
                        "text/html": "(16 rows affected)"
                    },
                    "metadata": {}
                },
                {
                    "output_type": "display_data",
                    "data": {
                        "text/html": "Total execution time: 00:00:00.021"
                    },
                    "metadata": {}
                },
                {
                    "output_type": "execute_result",
                    "metadata": {},
                    "execution_count": 4,
                    "data": {
                        "application/vnd.dataresource+json": {
                            "schema": {
                                "fields": [
                                    {
                                        "name": "order_year"
                                    },
                                    {
                                        "name": "order_quarter"
                                    },
                                    {
                                        "name": "total_sales"
                                    }
                                ]
                            },
                            "data": [
                                {
                                    "order_year": "2014",
                                    "order_quarter": "1",
                                    "total_sales": "22656.17"
                                },
                                {
                                    "order_year": "2014",
                                    "order_quarter": "2",
                                    "total_sales": "28063.72"
                                },
                                {
                                    "order_year": "2014",
                                    "order_quarter": "3",
                                    "total_sales": "41957.89"
                                },
                                {
                                    "order_year": "2014",
                                    "order_quarter": "4",
                                    "total_sales": "64515.06"
                                },
                                {
                                    "order_year": "2015",
                                    "order_quarter": "1",
                                    "total_sales": "27374.09"
                                },
                                {
                                    "order_year": "2015",
                                    "order_quarter": "2",
                                    "total_sales": "27564.85"
                                },
                                {
                                    "order_year": "2015",
                                    "order_quarter": "3",
                                    "total_sales": "49586.03"
                                },
                                {
                                    "order_year": "2015",
                                    "order_quarter": "4",
                                    "total_sales": "65993.27"
                                },
                                {
                                    "order_year": "2016",
                                    "order_quarter": "1",
                                    "total_sales": "24349.41"
                                },
                                {
                                    "order_year": "2016",
                                    "order_quarter": "2",
                                    "total_sales": "41402.49"
                                },
                                {
                                    "order_year": "2016",
                                    "order_quarter": "3",
                                    "total_sales": "52814.64"
                                },
                                {
                                    "order_year": "2016",
                                    "order_quarter": "4",
                                    "total_sales": "80334.94"
                                },
                                {
                                    "order_year": "2017",
                                    "order_quarter": "1",
                                    "total_sales": "23723.80"
                                },
                                {
                                    "order_year": "2017",
                                    "order_quarter": "2",
                                    "total_sales": "45032.07"
                                },
                                {
                                    "order_year": "2017",
                                    "order_quarter": "3",
                                    "total_sales": "56283.09"
                                },
                                {
                                    "order_year": "2017",
                                    "order_quarter": "4",
                                    "total_sales": "90348.23"
                                }
                            ]
                        },
                        "text/html": [
                            "<table>",
                            "<tr><th>order_year</th><th>order_quarter</th><th>total_sales</th></tr>",
                            "<tr><td>2014</td><td>1</td><td>22656.17</td></tr>",
                            "<tr><td>2014</td><td>2</td><td>28063.72</td></tr>",
                            "<tr><td>2014</td><td>3</td><td>41957.89</td></tr>",
                            "<tr><td>2014</td><td>4</td><td>64515.06</td></tr>",
                            "<tr><td>2015</td><td>1</td><td>27374.09</td></tr>",
                            "<tr><td>2015</td><td>2</td><td>27564.85</td></tr>",
                            "<tr><td>2015</td><td>3</td><td>49586.03</td></tr>",
                            "<tr><td>2015</td><td>4</td><td>65993.27</td></tr>",
                            "<tr><td>2016</td><td>1</td><td>24349.41</td></tr>",
                            "<tr><td>2016</td><td>2</td><td>41402.49</td></tr>",
                            "<tr><td>2016</td><td>3</td><td>52814.64</td></tr>",
                            "<tr><td>2016</td><td>4</td><td>80334.94</td></tr>",
                            "<tr><td>2017</td><td>1</td><td>23723.80</td></tr>",
                            "<tr><td>2017</td><td>2</td><td>45032.07</td></tr>",
                            "<tr><td>2017</td><td>3</td><td>56283.09</td></tr>",
                            "<tr><td>2017</td><td>4</td><td>90348.23</td></tr>",
                            "</table>"
                        ]
                    }
                }
            ],
            "execution_count": 4
        },
        {
            "cell_type": "code",
            "source": [
                "-- Step 2: Calculate Year-Over-Year (YoY) Growth\r\n",
                "\r\n",
                "WITH YearlySales AS (\r\n",
                "    SELECT \r\n",
                "        YEAR(order_date) AS order_year, \r\n",
                "        SUM(CAST(total_sales AS DECIMAL(18, 2))) AS total_sales\r\n",
                "    FROM sales\r\n",
                "    GROUP BY YEAR(order_date)\r\n",
                ")\r\n",
                "SELECT \r\n",
                "    order_year,\r\n",
                "    total_sales,\r\n",
                "    LAG(total_sales) OVER (ORDER BY order_year) AS previous_year_sales,\r\n",
                "    CASE \r\n",
                "        WHEN LAG(total_sales) OVER (ORDER BY order_year) IS NOT NULL THEN \r\n",
                "            (total_sales - LAG(total_sales) OVER (ORDER BY order_year)) / LAG(total_sales) OVER (ORDER BY order_year) * 100\r\n",
                "        ELSE 0\r\n",
                "    END AS YoY_growth\r\n",
                "FROM YearlySales;\r\n",
                ""
            ],
            "metadata": {
                "language": "sql",
                "azdata_cell_guid": "06d88e6e-ec44-47dd-8133-6d8ddb76d7e4"
            },
            "outputs": [
                {
                    "output_type": "display_data",
                    "data": {
                        "text/html": "(4 rows affected)"
                    },
                    "metadata": {}
                },
                {
                    "output_type": "display_data",
                    "data": {
                        "text/html": "Total execution time: 00:00:00.024"
                    },
                    "metadata": {}
                },
                {
                    "output_type": "execute_result",
                    "metadata": {},
                    "execution_count": 5,
                    "data": {
                        "application/vnd.dataresource+json": {
                            "schema": {
                                "fields": [
                                    {
                                        "name": "order_year"
                                    },
                                    {
                                        "name": "total_sales"
                                    },
                                    {
                                        "name": "previous_year_sales"
                                    },
                                    {
                                        "name": "YoY_growth"
                                    }
                                ]
                            },
                            "data": [
                                {
                                    "order_year": "2014",
                                    "total_sales": "157192.84",
                                    "previous_year_sales": "NULL",
                                    "YoY_growth": "0.000000"
                                },
                                {
                                    "order_year": "2015",
                                    "total_sales": "170518.24",
                                    "previous_year_sales": "157192.84",
                                    "YoY_growth": "8.477100"
                                },
                                {
                                    "order_year": "2016",
                                    "total_sales": "198901.48",
                                    "previous_year_sales": "170518.24",
                                    "YoY_growth": "16.645200"
                                },
                                {
                                    "order_year": "2017",
                                    "total_sales": "215387.19",
                                    "previous_year_sales": "198901.48",
                                    "YoY_growth": "8.288300"
                                }
                            ]
                        },
                        "text/html": [
                            "<table>",
                            "<tr><th>order_year</th><th>total_sales</th><th>previous_year_sales</th><th>YoY_growth</th></tr>",
                            "<tr><td>2014</td><td>157192.84</td><td>NULL</td><td>0.000000</td></tr>",
                            "<tr><td>2015</td><td>170518.24</td><td>157192.84</td><td>8.477100</td></tr>",
                            "<tr><td>2016</td><td>198901.48</td><td>170518.24</td><td>16.645200</td></tr>",
                            "<tr><td>2017</td><td>215387.19</td><td>198901.48</td><td>8.288300</td></tr>",
                            "</table>"
                        ]
                    }
                }
            ],
            "execution_count": 5
        },
        {
            "cell_type": "code",
            "source": [
                "-- Step 3: Calculate Quarter-Over-Quarter (QoQ) Growth\r\n",
                "WITH QuarterlySales AS (\r\n",
                "    SELECT \r\n",
                "        YEAR(order_date) AS order_year, \r\n",
                "        DATEPART(QUARTER, order_date) AS order_quarter, \r\n",
                "        SUM(CAST(total_sales AS DECIMAL(18, 2))) AS total_sales\r\n",
                "    FROM sales\r\n",
                "    GROUP BY YEAR(order_date), DATEPART(QUARTER, order_date)\r\n",
                ")\r\n",
                "SELECT \r\n",
                "    order_year,\r\n",
                "    order_quarter,\r\n",
                "    total_sales,\r\n",
                "    LAG(total_sales) OVER (ORDER BY order_year, order_quarter) AS previous_quarter_sales,\r\n",
                "    CASE \r\n",
                "        WHEN LAG(total_sales) OVER (ORDER BY order_year, order_quarter) IS NOT NULL THEN \r\n",
                "            (total_sales - LAG(total_sales) OVER (ORDER BY order_year, order_quarter)) / LAG(total_sales) OVER (ORDER BY order_year, order_quarter) * 100\r\n",
                "        ELSE 0\r\n",
                "    END AS QoQ_growth\r\n",
                "FROM QuarterlySales;\r\n",
                ""
            ],
            "metadata": {
                "language": "sql",
                "azdata_cell_guid": "caf5145f-97a6-4e91-be95-8535c5246324"
            },
            "outputs": [
                {
                    "output_type": "display_data",
                    "data": {
                        "text/html": "(16 rows affected)"
                    },
                    "metadata": {}
                },
                {
                    "output_type": "display_data",
                    "data": {
                        "text/html": "Total execution time: 00:00:00.025"
                    },
                    "metadata": {}
                },
                {
                    "output_type": "execute_result",
                    "metadata": {},
                    "execution_count": 6,
                    "data": {
                        "application/vnd.dataresource+json": {
                            "schema": {
                                "fields": [
                                    {
                                        "name": "order_year"
                                    },
                                    {
                                        "name": "order_quarter"
                                    },
                                    {
                                        "name": "total_sales"
                                    },
                                    {
                                        "name": "previous_quarter_sales"
                                    },
                                    {
                                        "name": "QoQ_growth"
                                    }
                                ]
                            },
                            "data": [
                                {
                                    "order_year": "2014",
                                    "order_quarter": "1",
                                    "total_sales": "22656.17",
                                    "previous_quarter_sales": "NULL",
                                    "QoQ_growth": "0.000000"
                                },
                                {
                                    "order_year": "2014",
                                    "order_quarter": "2",
                                    "total_sales": "28063.72",
                                    "previous_quarter_sales": "22656.17",
                                    "QoQ_growth": "23.867800"
                                },
                                {
                                    "order_year": "2014",
                                    "order_quarter": "3",
                                    "total_sales": "41957.89",
                                    "previous_quarter_sales": "28063.72",
                                    "QoQ_growth": "49.509300"
                                },
                                {
                                    "order_year": "2014",
                                    "order_quarter": "4",
                                    "total_sales": "64515.06",
                                    "previous_quarter_sales": "41957.89",
                                    "QoQ_growth": "53.761400"
                                },
                                {
                                    "order_year": "2015",
                                    "order_quarter": "1",
                                    "total_sales": "27374.09",
                                    "previous_quarter_sales": "64515.06",
                                    "QoQ_growth": "-57.569400"
                                },
                                {
                                    "order_year": "2015",
                                    "order_quarter": "2",
                                    "total_sales": "27564.85",
                                    "previous_quarter_sales": "27374.09",
                                    "QoQ_growth": "0.696800"
                                },
                                {
                                    "order_year": "2015",
                                    "order_quarter": "3",
                                    "total_sales": "49586.03",
                                    "previous_quarter_sales": "27564.85",
                                    "QoQ_growth": "79.888600"
                                },
                                {
                                    "order_year": "2015",
                                    "order_quarter": "4",
                                    "total_sales": "65993.27",
                                    "previous_quarter_sales": "49586.03",
                                    "QoQ_growth": "33.088400"
                                },
                                {
                                    "order_year": "2016",
                                    "order_quarter": "1",
                                    "total_sales": "24349.41",
                                    "previous_quarter_sales": "65993.27",
                                    "QoQ_growth": "-63.103100"
                                },
                                {
                                    "order_year": "2016",
                                    "order_quarter": "2",
                                    "total_sales": "41402.49",
                                    "previous_quarter_sales": "24349.41",
                                    "QoQ_growth": "70.034800"
                                },
                                {
                                    "order_year": "2016",
                                    "order_quarter": "3",
                                    "total_sales": "52814.64",
                                    "previous_quarter_sales": "41402.49",
                                    "QoQ_growth": "27.563900"
                                },
                                {
                                    "order_year": "2016",
                                    "order_quarter": "4",
                                    "total_sales": "80334.94",
                                    "previous_quarter_sales": "52814.64",
                                    "QoQ_growth": "52.107300"
                                },
                                {
                                    "order_year": "2017",
                                    "order_quarter": "1",
                                    "total_sales": "23723.80",
                                    "previous_quarter_sales": "80334.94",
                                    "QoQ_growth": "-70.468800"
                                },
                                {
                                    "order_year": "2017",
                                    "order_quarter": "2",
                                    "total_sales": "45032.07",
                                    "previous_quarter_sales": "23723.80",
                                    "QoQ_growth": "89.818100"
                                },
                                {
                                    "order_year": "2017",
                                    "order_quarter": "3",
                                    "total_sales": "56283.09",
                                    "previous_quarter_sales": "45032.07",
                                    "QoQ_growth": "24.984400"
                                },
                                {
                                    "order_year": "2017",
                                    "order_quarter": "4",
                                    "total_sales": "90348.23",
                                    "previous_quarter_sales": "56283.09",
                                    "QoQ_growth": "60.524600"
                                }
                            ]
                        },
                        "text/html": [
                            "<table>",
                            "<tr><th>order_year</th><th>order_quarter</th><th>total_sales</th><th>previous_quarter_sales</th><th>QoQ_growth</th></tr>",
                            "<tr><td>2014</td><td>1</td><td>22656.17</td><td>NULL</td><td>0.000000</td></tr>",
                            "<tr><td>2014</td><td>2</td><td>28063.72</td><td>22656.17</td><td>23.867800</td></tr>",
                            "<tr><td>2014</td><td>3</td><td>41957.89</td><td>28063.72</td><td>49.509300</td></tr>",
                            "<tr><td>2014</td><td>4</td><td>64515.06</td><td>41957.89</td><td>53.761400</td></tr>",
                            "<tr><td>2015</td><td>1</td><td>27374.09</td><td>64515.06</td><td>-57.569400</td></tr>",
                            "<tr><td>2015</td><td>2</td><td>27564.85</td><td>27374.09</td><td>0.696800</td></tr>",
                            "<tr><td>2015</td><td>3</td><td>49586.03</td><td>27564.85</td><td>79.888600</td></tr>",
                            "<tr><td>2015</td><td>4</td><td>65993.27</td><td>49586.03</td><td>33.088400</td></tr>",
                            "<tr><td>2016</td><td>1</td><td>24349.41</td><td>65993.27</td><td>-63.103100</td></tr>",
                            "<tr><td>2016</td><td>2</td><td>41402.49</td><td>24349.41</td><td>70.034800</td></tr>",
                            "<tr><td>2016</td><td>3</td><td>52814.64</td><td>41402.49</td><td>27.563900</td></tr>",
                            "<tr><td>2016</td><td>4</td><td>80334.94</td><td>52814.64</td><td>52.107300</td></tr>",
                            "<tr><td>2017</td><td>1</td><td>23723.80</td><td>80334.94</td><td>-70.468800</td></tr>",
                            "<tr><td>2017</td><td>2</td><td>45032.07</td><td>23723.80</td><td>89.818100</td></tr>",
                            "<tr><td>2017</td><td>3</td><td>56283.09</td><td>45032.07</td><td>24.984400</td></tr>",
                            "<tr><td>2017</td><td>4</td><td>90348.23</td><td>56283.09</td><td>60.524600</td></tr>",
                            "</table>"
                        ]
                    }
                }
            ],
            "execution_count": 6
        },
        {
            "cell_type": "code",
            "source": [
                "-- 2. Identify key drivers of sales growth, such as market segment or region performance.\r\n",
                "-- ** 1. Sales Growth by Market Segment\r\n",
                "WITH YearlySegmentSales AS (\r\n",
                "    SELECT \r\n",
                "        YEAR(order_date) AS order_year, \r\n",
                "        market_segment, \r\n",
                "        SUM(CAST(total_sales AS DECIMAL(18, 2))) AS total_sales\r\n",
                "    FROM sales\r\n",
                "    GROUP BY YEAR(order_date), market_segment\r\n",
                ")\r\n",
                "SELECT \r\n",
                "    order_year,\r\n",
                "    market_segment,\r\n",
                "    total_sales,\r\n",
                "    LAG(total_sales) OVER (PARTITION BY market_segment ORDER BY order_year) AS previous_year_sales,\r\n",
                "    CASE \r\n",
                "        WHEN LAG(total_sales) OVER (PARTITION BY market_segment ORDER BY order_year) IS NOT NULL THEN \r\n",
                "            (total_sales - LAG(total_sales) OVER (PARTITION BY market_segment ORDER BY order_year)) / LAG(total_sales) OVER (PARTITION BY market_segment ORDER BY order_year) * 100\r\n",
                "        ELSE 0\r\n",
                "    END AS YoY_growth\r\n",
                "FROM YearlySegmentSales;\r\n",
                ""
            ],
            "metadata": {
                "azdata_cell_guid": "9789dbfb-4feb-48b4-8716-2b0b36cf66f7",
                "language": "sql"
            },
            "outputs": [
                {
                    "output_type": "display_data",
                    "data": {
                        "text/html": "(12 rows affected)"
                    },
                    "metadata": {}
                },
                {
                    "output_type": "display_data",
                    "data": {
                        "text/html": "Total execution time: 00:00:00.040"
                    },
                    "metadata": {}
                },
                {
                    "output_type": "execute_result",
                    "metadata": {},
                    "execution_count": 7,
                    "data": {
                        "application/vnd.dataresource+json": {
                            "schema": {
                                "fields": [
                                    {
                                        "name": "order_year"
                                    },
                                    {
                                        "name": "market_segment"
                                    },
                                    {
                                        "name": "total_sales"
                                    },
                                    {
                                        "name": "previous_year_sales"
                                    },
                                    {
                                        "name": "YoY_growth"
                                    }
                                ]
                            },
                            "data": [
                                {
                                    "order_year": "2014",
                                    "market_segment": "Consumer",
                                    "total_sales": "86060.98",
                                    "previous_year_sales": "NULL",
                                    "YoY_growth": "0.000000"
                                },
                                {
                                    "order_year": "2015",
                                    "market_segment": "Consumer",
                                    "total_sales": "94409.92",
                                    "previous_year_sales": "86060.98",
                                    "YoY_growth": "9.701100"
                                },
                                {
                                    "order_year": "2016",
                                    "market_segment": "Consumer",
                                    "total_sales": "100360.92",
                                    "previous_year_sales": "94409.92",
                                    "YoY_growth": "6.303300"
                                },
                                {
                                    "order_year": "2017",
                                    "market_segment": "Consumer",
                                    "total_sales": "110217.51",
                                    "previous_year_sales": "100360.92",
                                    "YoY_growth": "9.821100"
                                },
                                {
                                    "order_year": "2014",
                                    "market_segment": "Corporate",
                                    "total_sales": "45100.28",
                                    "previous_year_sales": "NULL",
                                    "YoY_growth": "0.000000"
                                },
                                {
                                    "order_year": "2015",
                                    "market_segment": "Corporate",
                                    "total_sales": "45961.10",
                                    "previous_year_sales": "45100.28",
                                    "YoY_growth": "1.908600"
                                },
                                {
                                    "order_year": "2016",
                                    "market_segment": "Corporate",
                                    "total_sales": "77261.34",
                                    "previous_year_sales": "45961.10",
                                    "YoY_growth": "68.101500"
                                },
                                {
                                    "order_year": "2017",
                                    "market_segment": "Corporate",
                                    "total_sales": "60697.04",
                                    "previous_year_sales": "77261.34",
                                    "YoY_growth": "-21.439300"
                                },
                                {
                                    "order_year": "2014",
                                    "market_segment": "Home Office",
                                    "total_sales": "26031.58",
                                    "previous_year_sales": "NULL",
                                    "YoY_growth": "0.000000"
                                },
                                {
                                    "order_year": "2015",
                                    "market_segment": "Home Office",
                                    "total_sales": "30147.22",
                                    "previous_year_sales": "26031.58",
                                    "YoY_growth": "15.810100"
                                },
                                {
                                    "order_year": "2016",
                                    "market_segment": "Home Office",
                                    "total_sales": "21279.22",
                                    "previous_year_sales": "30147.22",
                                    "YoY_growth": "-29.415600"
                                },
                                {
                                    "order_year": "2017",
                                    "market_segment": "Home Office",
                                    "total_sales": "44472.64",
                                    "previous_year_sales": "21279.22",
                                    "YoY_growth": "108.995600"
                                }
                            ]
                        },
                        "text/html": [
                            "<table>",
                            "<tr><th>order_year</th><th>market_segment</th><th>total_sales</th><th>previous_year_sales</th><th>YoY_growth</th></tr>",
                            "<tr><td>2014</td><td>Consumer</td><td>86060.98</td><td>NULL</td><td>0.000000</td></tr>",
                            "<tr><td>2015</td><td>Consumer</td><td>94409.92</td><td>86060.98</td><td>9.701100</td></tr>",
                            "<tr><td>2016</td><td>Consumer</td><td>100360.92</td><td>94409.92</td><td>6.303300</td></tr>",
                            "<tr><td>2017</td><td>Consumer</td><td>110217.51</td><td>100360.92</td><td>9.821100</td></tr>",
                            "<tr><td>2014</td><td>Corporate</td><td>45100.28</td><td>NULL</td><td>0.000000</td></tr>",
                            "<tr><td>2015</td><td>Corporate</td><td>45961.10</td><td>45100.28</td><td>1.908600</td></tr>",
                            "<tr><td>2016</td><td>Corporate</td><td>77261.34</td><td>45961.10</td><td>68.101500</td></tr>",
                            "<tr><td>2017</td><td>Corporate</td><td>60697.04</td><td>77261.34</td><td>-21.439300</td></tr>",
                            "<tr><td>2014</td><td>Home Office</td><td>26031.58</td><td>NULL</td><td>0.000000</td></tr>",
                            "<tr><td>2015</td><td>Home Office</td><td>30147.22</td><td>26031.58</td><td>15.810100</td></tr>",
                            "<tr><td>2016</td><td>Home Office</td><td>21279.22</td><td>30147.22</td><td>-29.415600</td></tr>",
                            "<tr><td>2017</td><td>Home Office</td><td>44472.64</td><td>21279.22</td><td>108.995600</td></tr>",
                            "</table>"
                        ]
                    }
                }
            ],
            "execution_count": 7
        },
        {
            "cell_type": "code",
            "source": [
                "-- 2. Sales Growth by Region\r\n",
                "WITH YearlyRegionSales AS (\r\n",
                "    SELECT \r\n",
                "        YEAR(order_date) AS order_year, \r\n",
                "        region, \r\n",
                "        SUM(CAST(total_sales AS DECIMAL(18, 2))) AS total_sales\r\n",
                "    FROM sales\r\n",
                "    GROUP BY YEAR(order_date), region\r\n",
                ")\r\n",
                "SELECT \r\n",
                "    order_year,\r\n",
                "    region,\r\n",
                "    total_sales,\r\n",
                "    LAG(total_sales) OVER (PARTITION BY region ORDER BY order_year) AS previous_year_sales,\r\n",
                "    CASE \r\n",
                "        WHEN LAG(total_sales) OVER (PARTITION BY region ORDER BY order_year) IS NOT NULL THEN \r\n",
                "            (total_sales - LAG(total_sales) OVER (PARTITION BY region ORDER BY order_year)) / LAG(total_sales) OVER (PARTITION BY region ORDER BY order_year) * 100\r\n",
                "        ELSE 0\r\n",
                "    END AS YoY_growth\r\n",
                "FROM YearlyRegionSales;\r\n",
                ""
            ],
            "metadata": {
                "language": "sql",
                "azdata_cell_guid": "4d463657-aebd-41c9-908e-1212009be696"
            },
            "outputs": [
                {
                    "output_type": "display_data",
                    "data": {
                        "text/html": "(16 rows affected)"
                    },
                    "metadata": {}
                },
                {
                    "output_type": "display_data",
                    "data": {
                        "text/html": "Total execution time: 00:00:00.093"
                    },
                    "metadata": {}
                },
                {
                    "output_type": "execute_result",
                    "metadata": {},
                    "execution_count": 8,
                    "data": {
                        "application/vnd.dataresource+json": {
                            "schema": {
                                "fields": [
                                    {
                                        "name": "order_year"
                                    },
                                    {
                                        "name": "region"
                                    },
                                    {
                                        "name": "total_sales"
                                    },
                                    {
                                        "name": "previous_year_sales"
                                    },
                                    {
                                        "name": "YoY_growth"
                                    }
                                ]
                            },
                            "data": [
                                {
                                    "order_year": "2014",
                                    "region": "Central",
                                    "total_sales": "32909.66",
                                    "previous_year_sales": "NULL",
                                    "YoY_growth": "0.000000"
                                },
                                {
                                    "order_year": "2015",
                                    "region": "Central",
                                    "total_sales": "35592.06",
                                    "previous_year_sales": "32909.66",
                                    "YoY_growth": "8.150700"
                                },
                                {
                                    "order_year": "2016",
                                    "region": "Central",
                                    "total_sales": "50773.16",
                                    "previous_year_sales": "35592.06",
                                    "YoY_growth": "42.653000"
                                },
                                {
                                    "order_year": "2017",
                                    "region": "Central",
                                    "total_sales": "44522.26",
                                    "previous_year_sales": "50773.16",
                                    "YoY_growth": "-12.311400"
                                },
                                {
                                    "order_year": "2014",
                                    "region": "East",
                                    "total_sales": "47232.72",
                                    "previous_year_sales": "NULL",
                                    "YoY_growth": "0.000000"
                                },
                                {
                                    "order_year": "2015",
                                    "region": "East",
                                    "total_sales": "53817.38",
                                    "previous_year_sales": "47232.72",
                                    "YoY_growth": "13.940800"
                                },
                                {
                                    "order_year": "2016",
                                    "region": "East",
                                    "total_sales": "46387.20",
                                    "previous_year_sales": "53817.38",
                                    "YoY_growth": "-13.806200"
                                },
                                {
                                    "order_year": "2017",
                                    "region": "East",
                                    "total_sales": "60853.83",
                                    "previous_year_sales": "46387.20",
                                    "YoY_growth": "31.186600"
                                },
                                {
                                    "order_year": "2014",
                                    "region": "South",
                                    "total_sales": "26968.01",
                                    "previous_year_sales": "NULL",
                                    "YoY_growth": "0.000000"
                                },
                                {
                                    "order_year": "2015",
                                    "region": "South",
                                    "total_sales": "24103.83",
                                    "previous_year_sales": "26968.01",
                                    "YoY_growth": "-10.620600"
                                },
                                {
                                    "order_year": "2016",
                                    "region": "South",
                                    "total_sales": "27921.44",
                                    "previous_year_sales": "24103.83",
                                    "YoY_growth": "15.838100"
                                },
                                {
                                    "order_year": "2017",
                                    "region": "South",
                                    "total_sales": "38305.40",
                                    "previous_year_sales": "27921.44",
                                    "YoY_growth": "37.189900"
                                },
                                {
                                    "order_year": "2014",
                                    "region": "West",
                                    "total_sales": "50082.45",
                                    "previous_year_sales": "NULL",
                                    "YoY_growth": "0.000000"
                                },
                                {
                                    "order_year": "2015",
                                    "region": "West",
                                    "total_sales": "57004.97",
                                    "previous_year_sales": "50082.45",
                                    "YoY_growth": "13.822200"
                                },
                                {
                                    "order_year": "2016",
                                    "region": "West",
                                    "total_sales": "73819.68",
                                    "previous_year_sales": "57004.97",
                                    "YoY_growth": "29.496900"
                                },
                                {
                                    "order_year": "2017",
                                    "region": "West",
                                    "total_sales": "71705.70",
                                    "previous_year_sales": "73819.68",
                                    "YoY_growth": "-2.863700"
                                }
                            ]
                        },
                        "text/html": [
                            "<table>",
                            "<tr><th>order_year</th><th>region</th><th>total_sales</th><th>previous_year_sales</th><th>YoY_growth</th></tr>",
                            "<tr><td>2014</td><td>Central</td><td>32909.66</td><td>NULL</td><td>0.000000</td></tr>",
                            "<tr><td>2015</td><td>Central</td><td>35592.06</td><td>32909.66</td><td>8.150700</td></tr>",
                            "<tr><td>2016</td><td>Central</td><td>50773.16</td><td>35592.06</td><td>42.653000</td></tr>",
                            "<tr><td>2017</td><td>Central</td><td>44522.26</td><td>50773.16</td><td>-12.311400</td></tr>",
                            "<tr><td>2014</td><td>East</td><td>47232.72</td><td>NULL</td><td>0.000000</td></tr>",
                            "<tr><td>2015</td><td>East</td><td>53817.38</td><td>47232.72</td><td>13.940800</td></tr>",
                            "<tr><td>2016</td><td>East</td><td>46387.20</td><td>53817.38</td><td>-13.806200</td></tr>",
                            "<tr><td>2017</td><td>East</td><td>60853.83</td><td>46387.20</td><td>31.186600</td></tr>",
                            "<tr><td>2014</td><td>South</td><td>26968.01</td><td>NULL</td><td>0.000000</td></tr>",
                            "<tr><td>2015</td><td>South</td><td>24103.83</td><td>26968.01</td><td>-10.620600</td></tr>",
                            "<tr><td>2016</td><td>South</td><td>27921.44</td><td>24103.83</td><td>15.838100</td></tr>",
                            "<tr><td>2017</td><td>South</td><td>38305.40</td><td>27921.44</td><td>37.189900</td></tr>",
                            "<tr><td>2014</td><td>West</td><td>50082.45</td><td>NULL</td><td>0.000000</td></tr>",
                            "<tr><td>2015</td><td>West</td><td>57004.97</td><td>50082.45</td><td>13.822200</td></tr>",
                            "<tr><td>2016</td><td>West</td><td>73819.68</td><td>57004.97</td><td>29.496900</td></tr>",
                            "<tr><td>2017</td><td>West</td><td>71705.70</td><td>73819.68</td><td>-2.863700</td></tr>",
                            "</table>"
                        ]
                    }
                }
            ],
            "execution_count": 8
        },
        {
            "cell_type": "code",
            "source": [
                "WITH RegionSales AS (\r\n",
                "    SELECT \r\n",
                "        region,\r\n",
                "        YEAR(order_date) AS order_year, \r\n",
                "        SUM(CAST(total_sales AS DECIMAL(18, 2))) AS total_sales\r\n",
                "    FROM sales\r\n",
                "    GROUP BY region, YEAR(order_date)\r\n",
                "),\r\n",
                "FirstLastSales AS (\r\n",
                "    SELECT \r\n",
                "        region, \r\n",
                "        order_year, \r\n",
                "        total_sales,\r\n",
                "        ROW_NUMBER() OVER (PARTITION BY region ORDER BY order_year ASC) AS rn_asc,\r\n",
                "        ROW_NUMBER() OVER (PARTITION BY region ORDER BY order_year DESC) AS rn_desc\r\n",
                "    FROM RegionSales\r\n",
                ")\r\n",
                "-- Self join to get the first and last year sales for each region\r\n",
                "SELECT \r\n",
                "    f.region,\r\n",
                "    f.order_year AS first_year,\r\n",
                "    l.order_year AS last_year,\r\n",
                "    f.total_sales AS sales_first_year,\r\n",
                "    l.total_sales AS sales_last_year,\r\n",
                "    CASE \r\n",
                "        WHEN f.total_sales > 0 THEN \r\n",
                "            ((l.total_sales - f.total_sales) / f.total_sales) * 100\r\n",
                "        ELSE NULL \r\n",
                "    END AS total_growth_percent\r\n",
                "FROM FirstLastSales f\r\n",
                "JOIN FirstLastSales l\r\n",
                "    ON f.region = l.region\r\n",
                "    AND f.rn_asc = 1 -- first year sales\r\n",
                "    AND l.rn_desc = 1 -- last year sales\r\n",
                "ORDER BY total_growth_percent DESC;\r\n",
                ""
            ],
            "metadata": {
                "azdata_cell_guid": "25e9ccb5-0e73-4923-a5e3-22a2abaaef80",
                "language": "sql"
            },
            "outputs": [
                {
                    "output_type": "display_data",
                    "data": {
                        "text/html": "(4 rows affected)"
                    },
                    "metadata": {}
                },
                {
                    "output_type": "display_data",
                    "data": {
                        "text/html": "Total execution time: 00:00:00.043"
                    },
                    "metadata": {}
                },
                {
                    "output_type": "execute_result",
                    "metadata": {},
                    "execution_count": 11,
                    "data": {
                        "application/vnd.dataresource+json": {
                            "schema": {
                                "fields": [
                                    {
                                        "name": "region"
                                    },
                                    {
                                        "name": "first_year"
                                    },
                                    {
                                        "name": "last_year"
                                    },
                                    {
                                        "name": "sales_first_year"
                                    },
                                    {
                                        "name": "sales_last_year"
                                    },
                                    {
                                        "name": "total_growth_percent"
                                    }
                                ]
                            },
                            "data": [
                                {
                                    "region": "West",
                                    "first_year": "2014",
                                    "last_year": "2017",
                                    "sales_first_year": "50082.45",
                                    "sales_last_year": "71705.70",
                                    "total_growth_percent": "43.175300"
                                },
                                {
                                    "region": "South",
                                    "first_year": "2014",
                                    "last_year": "2017",
                                    "sales_first_year": "26968.01",
                                    "sales_last_year": "38305.40",
                                    "total_growth_percent": "42.040100"
                                },
                                {
                                    "region": "Central",
                                    "first_year": "2014",
                                    "last_year": "2017",
                                    "sales_first_year": "32909.66",
                                    "sales_last_year": "44522.26",
                                    "total_growth_percent": "35.286200"
                                },
                                {
                                    "region": "East",
                                    "first_year": "2014",
                                    "last_year": "2017",
                                    "sales_first_year": "47232.72",
                                    "sales_last_year": "60853.83",
                                    "total_growth_percent": "28.838200"
                                }
                            ]
                        },
                        "text/html": [
                            "<table>",
                            "<tr><th>region</th><th>first_year</th><th>last_year</th><th>sales_first_year</th><th>sales_last_year</th><th>total_growth_percent</th></tr>",
                            "<tr><td>West</td><td>2014</td><td>2017</td><td>50082.45</td><td>71705.70</td><td>43.175300</td></tr>",
                            "<tr><td>South</td><td>2014</td><td>2017</td><td>26968.01</td><td>38305.40</td><td>42.040100</td></tr>",
                            "<tr><td>Central</td><td>2014</td><td>2017</td><td>32909.66</td><td>44522.26</td><td>35.286200</td></tr>",
                            "<tr><td>East</td><td>2014</td><td>2017</td><td>47232.72</td><td>60853.83</td><td>28.838200</td></tr>",
                            "</table>"
                        ]
                    }
                }
            ],
            "execution_count": 11
        },
        {
            "cell_type": "code",
            "source": [
                "-- 3. Analyze which customer segments are contributing the most to sales growth.\r\n",
                "\r\n",
                "WITH SegmentSales AS (\r\n",
                "    SELECT \r\n",
                "        market_segment,\r\n",
                "        YEAR(order_date) AS order_year,\r\n",
                "        SUM(CAST(total_sales AS DECIMAL(18, 2))) AS total_sales\r\n",
                "    FROM sales\r\n",
                "    GROUP BY market_segment, YEAR(order_date)\r\n",
                "),\r\n",
                "SegmentGrowth AS (\r\n",
                "    SELECT \r\n",
                "        market_segment, \r\n",
                "        order_year,\r\n",
                "        total_sales,\r\n",
                "        LAG(total_sales) OVER (PARTITION BY market_segment ORDER BY order_year) AS previous_year_sales,\r\n",
                "        CASE \r\n",
                "            WHEN LAG(total_sales) OVER (PARTITION BY market_segment ORDER BY order_year) IS NOT NULL THEN\r\n",
                "                ((total_sales - LAG(total_sales) OVER (PARTITION BY market_segment ORDER BY order_year)) / \r\n",
                "                LAG(total_sales) OVER (PARTITION BY market_segment ORDER BY order_year)) * 100\r\n",
                "            ELSE 0\r\n",
                "        END AS YoY_growth\r\n",
                "    FROM SegmentSales\r\n",
                ")\r\n",
                "SELECT \r\n",
                "    market_segment,\r\n",
                "    SUM(total_sales) AS total_sales_over_period,\r\n",
                "    AVG(YoY_growth) AS avg_YoY_growth\r\n",
                "FROM SegmentGrowth\r\n",
                "GROUP BY market_segment\r\n",
                "ORDER BY avg_YoY_growth DESC;\r\n",
                ""
            ],
            "metadata": {
                "azdata_cell_guid": "35e39c12-0bd9-419c-84af-650c0d8a323f",
                "language": "sql"
            },
            "outputs": [
                {
                    "output_type": "display_data",
                    "data": {
                        "text/html": "(3 rows affected)"
                    },
                    "metadata": {}
                },
                {
                    "output_type": "display_data",
                    "data": {
                        "text/html": "Total execution time: 00:00:00.044"
                    },
                    "metadata": {}
                },
                {
                    "output_type": "execute_result",
                    "metadata": {},
                    "execution_count": 12,
                    "data": {
                        "application/vnd.dataresource+json": {
                            "schema": {
                                "fields": [
                                    {
                                        "name": "market_segment"
                                    },
                                    {
                                        "name": "total_sales_over_period"
                                    },
                                    {
                                        "name": "avg_YoY_growth"
                                    }
                                ]
                            },
                            "data": [
                                {
                                    "market_segment": "Home Office",
                                    "total_sales_over_period": "121930.66",
                                    "avg_YoY_growth": "23.847525"
                                },
                                {
                                    "market_segment": "Corporate",
                                    "total_sales_over_period": "229019.76",
                                    "avg_YoY_growth": "12.142700"
                                },
                                {
                                    "market_segment": "Consumer",
                                    "total_sales_over_period": "391049.33",
                                    "avg_YoY_growth": "6.456375"
                                }
                            ]
                        },
                        "text/html": [
                            "<table>",
                            "<tr><th>market_segment</th><th>total_sales_over_period</th><th>avg_YoY_growth</th></tr>",
                            "<tr><td>Home Office</td><td>121930.66</td><td>23.847525</td></tr>",
                            "<tr><td>Corporate</td><td>229019.76</td><td>12.142700</td></tr>",
                            "<tr><td>Consumer</td><td>391049.33</td><td>6.456375</td></tr>",
                            "</table>"
                        ]
                    }
                }
            ],
            "execution_count": 12
        },
        {
            "cell_type": "code",
            "source": [
                "--  4. Create a heatmap to visualize growth by product category and sub-category\r\n",
                "\r\n",
                "WITH CategorySubcategorySales AS (\r\n",
                "    SELECT \r\n",
                "        category,\r\n",
                "        sub_category,\r\n",
                "        YEAR(order_date) AS order_year,\r\n",
                "        SUM(CAST(total_sales AS DECIMAL(18, 2))) AS total_sales\r\n",
                "    FROM sales\r\n",
                "    GROUP BY category, sub_category, YEAR(order_date)\r\n",
                "),\r\n",
                "CategorySubcategoryGrowth AS (\r\n",
                "    SELECT \r\n",
                "        category,\r\n",
                "        sub_category,\r\n",
                "        order_year,\r\n",
                "        total_sales,\r\n",
                "        LAG(total_sales) OVER (PARTITION BY category, sub_category ORDER BY order_year) AS previous_year_sales,\r\n",
                "        CASE \r\n",
                "            WHEN LAG(total_sales) OVER (PARTITION BY category, sub_category ORDER BY order_year) IS NOT NULL THEN\r\n",
                "                ((total_sales - LAG(total_sales) OVER (PARTITION BY category, sub_category ORDER BY order_year)) / \r\n",
                "                LAG(total_sales) OVER (PARTITION BY category, sub_category ORDER BY order_year)) * 100\r\n",
                "            ELSE 0\r\n",
                "        END AS YoY_growth\r\n",
                "    FROM CategorySubcategorySales\r\n",
                ")\r\n",
                "SELECT \r\n",
                "    category,\r\n",
                "    sub_category,\r\n",
                "    order_year,\r\n",
                "    YoY_growth\r\n",
                "FROM CategorySubcategoryGrowth\r\n",
                "ORDER BY category, sub_category, order_year;\r\n",
                ""
            ],
            "metadata": {
                "azdata_cell_guid": "c430a9eb-8090-4d6d-a0e6-324c0289b2be",
                "language": "sql"
            },
            "outputs": [
                {
                    "output_type": "display_data",
                    "data": {
                        "text/html": "(16 rows affected)"
                    },
                    "metadata": {}
                },
                {
                    "output_type": "display_data",
                    "data": {
                        "text/html": "Total execution time: 00:00:00.041"
                    },
                    "metadata": {}
                },
                {
                    "output_type": "execute_result",
                    "metadata": {},
                    "execution_count": 13,
                    "data": {
                        "application/vnd.dataresource+json": {
                            "schema": {
                                "fields": [
                                    {
                                        "name": "category"
                                    },
                                    {
                                        "name": "sub_category"
                                    },
                                    {
                                        "name": "order_year"
                                    },
                                    {
                                        "name": "YoY_growth"
                                    }
                                ]
                            },
                            "data": [
                                {
                                    "category": "Furniture",
                                    "sub_category": "Bookcases",
                                    "order_year": "2014",
                                    "YoY_growth": "0.000000"
                                },
                                {
                                    "category": "Furniture",
                                    "sub_category": "Bookcases",
                                    "order_year": "2015",
                                    "YoY_growth": "92.365000"
                                },
                                {
                                    "category": "Furniture",
                                    "sub_category": "Bookcases",
                                    "order_year": "2016",
                                    "YoY_growth": "-31.829200"
                                },
                                {
                                    "category": "Furniture",
                                    "sub_category": "Bookcases",
                                    "order_year": "2017",
                                    "YoY_growth": "14.267300"
                                },
                                {
                                    "category": "Furniture",
                                    "sub_category": "Chairs",
                                    "order_year": "2014",
                                    "YoY_growth": "0.000000"
                                },
                                {
                                    "category": "Furniture",
                                    "sub_category": "Chairs",
                                    "order_year": "2015",
                                    "YoY_growth": "-7.129500"
                                },
                                {
                                    "category": "Furniture",
                                    "sub_category": "Chairs",
                                    "order_year": "2016",
                                    "YoY_growth": "16.985000"
                                },
                                {
                                    "category": "Furniture",
                                    "sub_category": "Chairs",
                                    "order_year": "2017",
                                    "YoY_growth": "13.865400"
                                },
                                {
                                    "category": "Furniture",
                                    "sub_category": "Furnishings",
                                    "order_year": "2014",
                                    "YoY_growth": "0.000000"
                                },
                                {
                                    "category": "Furniture",
                                    "sub_category": "Furnishings",
                                    "order_year": "2015",
                                    "YoY_growth": "52.533800"
                                },
                                {
                                    "category": "Furniture",
                                    "sub_category": "Furnishings",
                                    "order_year": "2016",
                                    "YoY_growth": "32.169400"
                                },
                                {
                                    "category": "Furniture",
                                    "sub_category": "Furnishings",
                                    "order_year": "2017",
                                    "YoY_growth": "3.734400"
                                },
                                {
                                    "category": "Furniture",
                                    "sub_category": "Tables",
                                    "order_year": "2014",
                                    "YoY_growth": "0.000000"
                                },
                                {
                                    "category": "Furniture",
                                    "sub_category": "Tables",
                                    "order_year": "2015",
                                    "YoY_growth": "-15.053500"
                                },
                                {
                                    "category": "Furniture",
                                    "sub_category": "Tables",
                                    "order_year": "2016",
                                    "YoY_growth": "55.383300"
                                },
                                {
                                    "category": "Furniture",
                                    "sub_category": "Tables",
                                    "order_year": "2017",
                                    "YoY_growth": "0.099000"
                                }
                            ]
                        },
                        "text/html": [
                            "<table>",
                            "<tr><th>category</th><th>sub_category</th><th>order_year</th><th>YoY_growth</th></tr>",
                            "<tr><td>Furniture</td><td>Bookcases</td><td>2014</td><td>0.000000</td></tr>",
                            "<tr><td>Furniture</td><td>Bookcases</td><td>2015</td><td>92.365000</td></tr>",
                            "<tr><td>Furniture</td><td>Bookcases</td><td>2016</td><td>-31.829200</td></tr>",
                            "<tr><td>Furniture</td><td>Bookcases</td><td>2017</td><td>14.267300</td></tr>",
                            "<tr><td>Furniture</td><td>Chairs</td><td>2014</td><td>0.000000</td></tr>",
                            "<tr><td>Furniture</td><td>Chairs</td><td>2015</td><td>-7.129500</td></tr>",
                            "<tr><td>Furniture</td><td>Chairs</td><td>2016</td><td>16.985000</td></tr>",
                            "<tr><td>Furniture</td><td>Chairs</td><td>2017</td><td>13.865400</td></tr>",
                            "<tr><td>Furniture</td><td>Furnishings</td><td>2014</td><td>0.000000</td></tr>",
                            "<tr><td>Furniture</td><td>Furnishings</td><td>2015</td><td>52.533800</td></tr>",
                            "<tr><td>Furniture</td><td>Furnishings</td><td>2016</td><td>32.169400</td></tr>",
                            "<tr><td>Furniture</td><td>Furnishings</td><td>2017</td><td>3.734400</td></tr>",
                            "<tr><td>Furniture</td><td>Tables</td><td>2014</td><td>0.000000</td></tr>",
                            "<tr><td>Furniture</td><td>Tables</td><td>2015</td><td>-15.053500</td></tr>",
                            "<tr><td>Furniture</td><td>Tables</td><td>2016</td><td>55.383300</td></tr>",
                            "<tr><td>Furniture</td><td>Tables</td><td>2017</td><td>0.099000</td></tr>",
                            "</table>"
                        ]
                    }
                }
            ],
            "execution_count": 13
        },
        {
            "cell_type": "code",
            "source": [
                "-- Develop a predictive model for future growth based on past performance metrics and market\r\n",
                " -- conditions\r\n",
                "\r\n",
                " WITH HistoricalData AS (\r\n",
                "    SELECT \r\n",
                "        YEAR(order_date) AS order_year,\r\n",
                "        DATEPART(QUARTER, order_date) AS order_quarter,\r\n",
                "        market_segment,\r\n",
                "        region,\r\n",
                "        category,\r\n",
                "        sub_category,\r\n",
                "        SUM(CAST(total_sales AS DECIMAL(18, 2))) AS total_sales\r\n",
                "    FROM sales\r\n",
                "    GROUP BY YEAR(order_date), DATEPART(QUARTER, order_date), market_segment, region, category, sub_category\r\n",
                "),\r\n",
                "LaggedData AS (\r\n",
                "    SELECT \r\n",
                "        *,\r\n",
                "        LAG(total_sales) OVER (PARTITION BY market_segment, region, category, sub_category ORDER BY order_year, order_quarter) AS previous_quarter_sales,\r\n",
                "        LAG(total_sales, 4) OVER (PARTITION BY market_segment, region, category, sub_category ORDER BY order_year, order_quarter) AS previous_year_sales,\r\n",
                "        (total_sales - LAG(total_sales, 4) OVER (PARTITION BY market_segment, region, category, sub_category ORDER BY order_year, order_quarter)) / \r\n",
                "        LAG(total_sales, 4) OVER (PARTITION BY market_segment, region, category, sub_category ORDER BY order_year, order_quarter) * 100 AS YoY_growth,\r\n",
                "        (total_sales - LAG(total_sales) OVER (PARTITION BY market_segment, region, category, sub_category ORDER BY order_year, order_quarter)) / \r\n",
                "        LAG(total_sales) OVER (PARTITION BY market_segment, region, category, sub_category ORDER BY order_year, order_quarter) * 100 AS QoQ_growth\r\n",
                "    FROM HistoricalData\r\n",
                ")\r\n",
                "SELECT \r\n",
                "    order_year,\r\n",
                "    order_quarter,\r\n",
                "    market_segment,\r\n",
                "    region,\r\n",
                "    category,\r\n",
                "    sub_category,\r\n",
                "    total_sales,\r\n",
                "    previous_quarter_sales,\r\n",
                "    previous_year_sales,\r\n",
                "    YoY_growth,\r\n",
                "    QoQ_growth\r\n",
                "FROM LaggedData;\r\n",
                ""
            ],
            "metadata": {
                "azdata_cell_guid": "4ee5b5db-4d32-4582-8cc3-a5b4a304014a",
                "language": "sql"
            },
            "outputs": [
                {
                    "output_type": "display_data",
                    "data": {
                        "text/html": "(590 rows affected)"
                    },
                    "metadata": {}
                },
                {
                    "output_type": "display_data",
                    "data": {
                        "text/html": "Total execution time: 00:00:00.069"
                    },
                    "metadata": {}
                },
                {
                    "output_type": "execute_result",
                    "metadata": {},
                    "execution_count": 14,
                    "data": {
                        "application/vnd.dataresource+json": {
                            "schema": {
                                "fields": [
                                    {
                                        "name": "order_year"
                                    },
                                    {
                                        "name": "order_quarter"
                                    },
                                    {
                                        "name": "market_segment"
                                    },
                                    {
                                        "name": "region"
                                    },
                                    {
                                        "name": "category"
                                    },
                                    {
                                        "name": "sub_category"
                                    },
                                    {
                                        "name": "total_sales"
                                    },
                                    {
                                        "name": "previous_quarter_sales"
                                    },
                                    {
                                        "name": "previous_year_sales"
                                    },
                                    {
                                        "name": "YoY_growth"
                                    },
                                    {
                                        "name": "QoQ_growth"
                                    }
                                ]
                            },
                            "data": [
                                {
                                    "order_year": "2014",
                                    "order_quarter": "2",
                                    "market_segment": "Consumer",
                                    "region": "Central",
                                    "category": "Furniture",
                                    "sub_category": "Bookcases",
                                    "total_sales": "193.07",
                                    "previous_quarter_sales": "NULL",
                                    "previous_year_sales": "NULL",
                                    "YoY_growth": "NULL",
                                    "QoQ_growth": "NULL"
                                },
                                {
                                    "order_year": "2014",
                                    "order_quarter": "3",
                                    "market_segment": "Consumer",
                                    "region": "Central",
                                    "category": "Furniture",
                                    "sub_category": "Bookcases",
                                    "total_sales": "493.43",
                                    "previous_quarter_sales": "193.07",
                                    "previous_year_sales": "NULL",
                                    "YoY_growth": "NULL",
                                    "QoQ_growth": "155.570500"
                                },
                                {
                                    "order_year": "2014",
                                    "order_quarter": "4",
                                    "market_segment": "Consumer",
                                    "region": "Central",
                                    "category": "Furniture",
                                    "sub_category": "Bookcases",
                                    "total_sales": "424.12",
                                    "previous_quarter_sales": "493.43",
                                    "previous_year_sales": "NULL",
                                    "YoY_growth": "NULL",
                                    "QoQ_growth": "-14.046500"
                                },
                                {
                                    "order_year": "2015",
                                    "order_quarter": "1",
                                    "market_segment": "Consumer",
                                    "region": "Central",
                                    "category": "Furniture",
                                    "sub_category": "Bookcases",
                                    "total_sales": "1865.34",
                                    "previous_quarter_sales": "424.12",
                                    "previous_year_sales": "NULL",
                                    "YoY_growth": "NULL",
                                    "QoQ_growth": "339.814200"
                                },
                                {
                                    "order_year": "2015",
                                    "order_quarter": "3",
                                    "market_segment": "Consumer",
                                    "region": "Central",
                                    "category": "Furniture",
                                    "sub_category": "Bookcases",
                                    "total_sales": "1298.37",
                                    "previous_quarter_sales": "1865.34",
                                    "previous_year_sales": "193.07",
                                    "YoY_growth": "572.486600",
                                    "QoQ_growth": "-30.394900"
                                },
                                {
                                    "order_year": "2015",
                                    "order_quarter": "4",
                                    "market_segment": "Consumer",
                                    "region": "Central",
                                    "category": "Furniture",
                                    "sub_category": "Bookcases",
                                    "total_sales": "973.06",
                                    "previous_quarter_sales": "1298.37",
                                    "previous_year_sales": "493.43",
                                    "YoY_growth": "97.203200",
                                    "QoQ_growth": "-25.055200"
                                },
                                {
                                    "order_year": "2016",
                                    "order_quarter": "1",
                                    "market_segment": "Consumer",
                                    "region": "Central",
                                    "category": "Furniture",
                                    "sub_category": "Bookcases",
                                    "total_sales": "241.33",
                                    "previous_quarter_sales": "973.06",
                                    "previous_year_sales": "424.12",
                                    "YoY_growth": "-43.098600",
                                    "QoQ_growth": "-75.198800"
                                },
                                {
                                    "order_year": "2016",
                                    "order_quarter": "3",
                                    "market_segment": "Consumer",
                                    "region": "Central",
                                    "category": "Furniture",
                                    "sub_category": "Bookcases",
                                    "total_sales": "2751.38",
                                    "previous_quarter_sales": "241.33",
                                    "previous_year_sales": "1865.34",
                                    "YoY_growth": "47.500100",
                                    "QoQ_growth": "1040.090300"
                                },
                                {
                                    "order_year": "2016",
                                    "order_quarter": "4",
                                    "market_segment": "Consumer",
                                    "region": "Central",
                                    "category": "Furniture",
                                    "sub_category": "Bookcases",
                                    "total_sales": "1704.48",
                                    "previous_quarter_sales": "2751.38",
                                    "previous_year_sales": "1298.37",
                                    "YoY_growth": "31.278400",
                                    "QoQ_growth": "-38.049900"
                                },
                                {
                                    "order_year": "2017",
                                    "order_quarter": "1",
                                    "market_segment": "Consumer",
                                    "region": "Central",
                                    "category": "Furniture",
                                    "sub_category": "Bookcases",
                                    "total_sales": "1023.33",
                                    "previous_quarter_sales": "1704.48",
                                    "previous_year_sales": "973.06",
                                    "YoY_growth": "5.166100",
                                    "QoQ_growth": "-39.962300"
                                },
                                {
                                    "order_year": "2017",
                                    "order_quarter": "2",
                                    "market_segment": "Consumer",
                                    "region": "Central",
                                    "category": "Furniture",
                                    "sub_category": "Bookcases",
                                    "total_sales": "614.67",
                                    "previous_quarter_sales": "1023.33",
                                    "previous_year_sales": "241.33",
                                    "YoY_growth": "154.701000",
                                    "QoQ_growth": "-39.934300"
                                },
                                {
                                    "order_year": "2017",
                                    "order_quarter": "3",
                                    "market_segment": "Consumer",
                                    "region": "Central",
                                    "category": "Furniture",
                                    "sub_category": "Bookcases",
                                    "total_sales": "183.37",
                                    "previous_quarter_sales": "614.67",
                                    "previous_year_sales": "2751.38",
                                    "YoY_growth": "-93.335300",
                                    "QoQ_growth": "-70.167700"
                                },
                                {
                                    "order_year": "2017",
                                    "order_quarter": "4",
                                    "market_segment": "Consumer",
                                    "region": "Central",
                                    "category": "Furniture",
                                    "sub_category": "Bookcases",
                                    "total_sales": "1194.90",
                                    "previous_quarter_sales": "183.37",
                                    "previous_year_sales": "1704.48",
                                    "YoY_growth": "-29.896500",
                                    "QoQ_growth": "551.633300"
                                },
                                {
                                    "order_year": "2014",
                                    "order_quarter": "1",
                                    "market_segment": "Consumer",
                                    "region": "Central",
                                    "category": "Furniture",
                                    "sub_category": "Chairs",
                                    "total_sales": "423.14",
                                    "previous_quarter_sales": "NULL",
                                    "previous_year_sales": "NULL",
                                    "YoY_growth": "NULL",
                                    "QoQ_growth": "NULL"
                                },
                                {
                                    "order_year": "2014",
                                    "order_quarter": "2",
                                    "market_segment": "Consumer",
                                    "region": "Central",
                                    "category": "Furniture",
                                    "sub_category": "Chairs",
                                    "total_sales": "1560.31",
                                    "previous_quarter_sales": "423.14",
                                    "previous_year_sales": "NULL",
                                    "YoY_growth": "NULL",
                                    "QoQ_growth": "268.745500"
                                },
                                {
                                    "order_year": "2014",
                                    "order_quarter": "3",
                                    "market_segment": "Consumer",
                                    "region": "Central",
                                    "category": "Furniture",
                                    "sub_category": "Chairs",
                                    "total_sales": "3128.13",
                                    "previous_quarter_sales": "1560.31",
                                    "previous_year_sales": "NULL",
                                    "YoY_growth": "NULL",
                                    "QoQ_growth": "100.481300"
                                },
                                {
                                    "order_year": "2014",
                                    "order_quarter": "4",
                                    "market_segment": "Consumer",
                                    "region": "Central",
                                    "category": "Furniture",
                                    "sub_category": "Chairs",
                                    "total_sales": "5911.72",
                                    "previous_quarter_sales": "3128.13",
                                    "previous_year_sales": "NULL",
                                    "YoY_growth": "NULL",
                                    "QoQ_growth": "88.985700"
                                },
                                {
                                    "order_year": "2015",
                                    "order_quarter": "1",
                                    "market_segment": "Consumer",
                                    "region": "Central",
                                    "category": "Furniture",
                                    "sub_category": "Chairs",
                                    "total_sales": "1168.00",
                                    "previous_quarter_sales": "5911.72",
                                    "previous_year_sales": "423.14",
                                    "YoY_growth": "176.031500",
                                    "QoQ_growth": "-80.242600"
                                },
                                {
                                    "order_year": "2015",
                                    "order_quarter": "2",
                                    "market_segment": "Consumer",
                                    "region": "Central",
                                    "category": "Furniture",
                                    "sub_category": "Chairs",
                                    "total_sales": "4204.95",
                                    "previous_quarter_sales": "1168.00",
                                    "previous_year_sales": "1560.31",
                                    "YoY_growth": "169.494500",
                                    "QoQ_growth": "260.012800"
                                },
                                {
                                    "order_year": "2015",
                                    "order_quarter": "3",
                                    "market_segment": "Consumer",
                                    "region": "Central",
                                    "category": "Furniture",
                                    "sub_category": "Chairs",
                                    "total_sales": "2907.94",
                                    "previous_quarter_sales": "4204.95",
                                    "previous_year_sales": "3128.13",
                                    "YoY_growth": "-7.039000",
                                    "QoQ_growth": "-30.844800"
                                },
                                {
                                    "order_year": "2015",
                                    "order_quarter": "4",
                                    "market_segment": "Consumer",
                                    "region": "Central",
                                    "category": "Furniture",
                                    "sub_category": "Chairs",
                                    "total_sales": "5159.26",
                                    "previous_quarter_sales": "2907.94",
                                    "previous_year_sales": "5911.72",
                                    "YoY_growth": "-12.728200",
                                    "QoQ_growth": "77.419700"
                                },
                                {
                                    "order_year": "2016",
                                    "order_quarter": "1",
                                    "market_segment": "Consumer",
                                    "region": "Central",
                                    "category": "Furniture",
                                    "sub_category": "Chairs",
                                    "total_sales": "528.43",
                                    "previous_quarter_sales": "5159.26",
                                    "previous_year_sales": "1168.00",
                                    "YoY_growth": "-54.757700",
                                    "QoQ_growth": "-89.757600"
                                },
                                {
                                    "order_year": "2016",
                                    "order_quarter": "2",
                                    "market_segment": "Consumer",
                                    "region": "Central",
                                    "category": "Furniture",
                                    "sub_category": "Chairs",
                                    "total_sales": "1127.48",
                                    "previous_quarter_sales": "528.43",
                                    "previous_year_sales": "4204.95",
                                    "YoY_growth": "-73.186800",
                                    "QoQ_growth": "113.364100"
                                },
                                {
                                    "order_year": "2016",
                                    "order_quarter": "3",
                                    "market_segment": "Consumer",
                                    "region": "Central",
                                    "category": "Furniture",
                                    "sub_category": "Chairs",
                                    "total_sales": "990.50",
                                    "previous_quarter_sales": "1127.48",
                                    "previous_year_sales": "2907.94",
                                    "YoY_growth": "-65.938000",
                                    "QoQ_growth": "-12.149200"
                                },
                                {
                                    "order_year": "2016",
                                    "order_quarter": "4",
                                    "market_segment": "Consumer",
                                    "region": "Central",
                                    "category": "Furniture",
                                    "sub_category": "Chairs",
                                    "total_sales": "3971.64",
                                    "previous_quarter_sales": "990.50",
                                    "previous_year_sales": "5159.26",
                                    "YoY_growth": "-23.019100",
                                    "QoQ_growth": "300.973200"
                                },
                                {
                                    "order_year": "2017",
                                    "order_quarter": "1",
                                    "market_segment": "Consumer",
                                    "region": "Central",
                                    "category": "Furniture",
                                    "sub_category": "Chairs",
                                    "total_sales": "4012.64",
                                    "previous_quarter_sales": "3971.64",
                                    "previous_year_sales": "528.43",
                                    "YoY_growth": "659.351200",
                                    "QoQ_growth": "1.032300"
                                },
                                {
                                    "order_year": "2017",
                                    "order_quarter": "2",
                                    "market_segment": "Consumer",
                                    "region": "Central",
                                    "category": "Furniture",
                                    "sub_category": "Chairs",
                                    "total_sales": "1398.48",
                                    "previous_quarter_sales": "4012.64",
                                    "previous_year_sales": "1127.48",
                                    "YoY_growth": "24.035900",
                                    "QoQ_growth": "-65.148100"
                                },
                                {
                                    "order_year": "2017",
                                    "order_quarter": "3",
                                    "market_segment": "Consumer",
                                    "region": "Central",
                                    "category": "Furniture",
                                    "sub_category": "Chairs",
                                    "total_sales": "2117.70",
                                    "previous_quarter_sales": "1398.48",
                                    "previous_year_sales": "990.50",
                                    "YoY_growth": "113.801100",
                                    "QoQ_growth": "51.428600"
                                },
                                {
                                    "order_year": "2017",
                                    "order_quarter": "4",
                                    "market_segment": "Consumer",
                                    "region": "Central",
                                    "category": "Furniture",
                                    "sub_category": "Chairs",
                                    "total_sales": "4323.07",
                                    "previous_quarter_sales": "2117.70",
                                    "previous_year_sales": "3971.64",
                                    "YoY_growth": "8.848400",
                                    "QoQ_growth": "104.139800"
                                },
                                {
                                    "order_year": "2014",
                                    "order_quarter": "1",
                                    "market_segment": "Consumer",
                                    "region": "Central",
                                    "category": "Furniture",
                                    "sub_category": "Furnishings",
                                    "total_sales": "786.05",
                                    "previous_quarter_sales": "NULL",
                                    "previous_year_sales": "NULL",
                                    "YoY_growth": "NULL",
                                    "QoQ_growth": "NULL"
                                },
                                {
                                    "order_year": "2014",
                                    "order_quarter": "2",
                                    "market_segment": "Consumer",
                                    "region": "Central",
                                    "category": "Furniture",
                                    "sub_category": "Furnishings",
                                    "total_sales": "197.23",
                                    "previous_quarter_sales": "786.05",
                                    "previous_year_sales": "NULL",
                                    "YoY_growth": "NULL",
                                    "QoQ_growth": "-74.908700"
                                },
                                {
                                    "order_year": "2014",
                                    "order_quarter": "3",
                                    "market_segment": "Consumer",
                                    "region": "Central",
                                    "category": "Furniture",
                                    "sub_category": "Furnishings",
                                    "total_sales": "897.07",
                                    "previous_quarter_sales": "197.23",
                                    "previous_year_sales": "NULL",
                                    "YoY_growth": "NULL",
                                    "QoQ_growth": "354.834400"
                                },
                                {
                                    "order_year": "2014",
                                    "order_quarter": "4",
                                    "market_segment": "Consumer",
                                    "region": "Central",
                                    "category": "Furniture",
                                    "sub_category": "Furnishings",
                                    "total_sales": "272.92",
                                    "previous_quarter_sales": "897.07",
                                    "previous_year_sales": "NULL",
                                    "YoY_growth": "NULL",
                                    "QoQ_growth": "-69.576500"
                                },
                                {
                                    "order_year": "2015",
                                    "order_quarter": "1",
                                    "market_segment": "Consumer",
                                    "region": "Central",
                                    "category": "Furniture",
                                    "sub_category": "Furnishings",
                                    "total_sales": "459.53",
                                    "previous_quarter_sales": "272.92",
                                    "previous_year_sales": "786.05",
                                    "YoY_growth": "-41.539300",
                                    "QoQ_growth": "68.375300"
                                },
                                {
                                    "order_year": "2015",
                                    "order_quarter": "2",
                                    "market_segment": "Consumer",
                                    "region": "Central",
                                    "category": "Furniture",
                                    "sub_category": "Furnishings",
                                    "total_sales": "227.47",
                                    "previous_quarter_sales": "459.53",
                                    "previous_year_sales": "197.23",
                                    "YoY_growth": "15.332300",
                                    "QoQ_growth": "-50.499400"
                                },
                                {
                                    "order_year": "2015",
                                    "order_quarter": "3",
                                    "market_segment": "Consumer",
                                    "region": "Central",
                                    "category": "Furniture",
                                    "sub_category": "Furnishings",
                                    "total_sales": "272.97",
                                    "previous_quarter_sales": "227.47",
                                    "previous_year_sales": "897.07",
                                    "YoY_growth": "-69.570900",
                                    "QoQ_growth": "20.002600"
                                },
                                {
                                    "order_year": "2015",
                                    "order_quarter": "4",
                                    "market_segment": "Consumer",
                                    "region": "Central",
                                    "category": "Furniture",
                                    "sub_category": "Furnishings",
                                    "total_sales": "658.07",
                                    "previous_quarter_sales": "272.97",
                                    "previous_year_sales": "272.92",
                                    "YoY_growth": "141.121900",
                                    "QoQ_growth": "141.077700"
                                },
                                {
                                    "order_year": "2016",
                                    "order_quarter": "1",
                                    "market_segment": "Consumer",
                                    "region": "Central",
                                    "category": "Furniture",
                                    "sub_category": "Furnishings",
                                    "total_sales": "198.31",
                                    "previous_quarter_sales": "658.07",
                                    "previous_year_sales": "459.53",
                                    "YoY_growth": "-56.845000",
                                    "QoQ_growth": "-69.864900"
                                },
                                {
                                    "order_year": "2016",
                                    "order_quarter": "2",
                                    "market_segment": "Consumer",
                                    "region": "Central",
                                    "category": "Furniture",
                                    "sub_category": "Furnishings",
                                    "total_sales": "681.95",
                                    "previous_quarter_sales": "198.31",
                                    "previous_year_sales": "227.47",
                                    "YoY_growth": "199.797700",
                                    "QoQ_growth": "243.880700"
                                },
                                {
                                    "order_year": "2016",
                                    "order_quarter": "3",
                                    "market_segment": "Consumer",
                                    "region": "Central",
                                    "category": "Furniture",
                                    "sub_category": "Furnishings",
                                    "total_sales": "1763.69",
                                    "previous_quarter_sales": "681.95",
                                    "previous_year_sales": "272.97",
                                    "YoY_growth": "546.111200",
                                    "QoQ_growth": "158.624500"
                                },
                                {
                                    "order_year": "2016",
                                    "order_quarter": "4",
                                    "market_segment": "Consumer",
                                    "region": "Central",
                                    "category": "Furniture",
                                    "sub_category": "Furnishings",
                                    "total_sales": "474.92",
                                    "previous_quarter_sales": "1763.69",
                                    "previous_year_sales": "658.07",
                                    "YoY_growth": "-27.831300",
                                    "QoQ_growth": "-73.072300"
                                },
                                {
                                    "order_year": "2017",
                                    "order_quarter": "1",
                                    "market_segment": "Consumer",
                                    "region": "Central",
                                    "category": "Furniture",
                                    "sub_category": "Furnishings",
                                    "total_sales": "253.43",
                                    "previous_quarter_sales": "474.92",
                                    "previous_year_sales": "198.31",
                                    "YoY_growth": "27.794800",
                                    "QoQ_growth": "-46.637300"
                                },
                                {
                                    "order_year": "2017",
                                    "order_quarter": "2",
                                    "market_segment": "Consumer",
                                    "region": "Central",
                                    "category": "Furniture",
                                    "sub_category": "Furnishings",
                                    "total_sales": "1131.16",
                                    "previous_quarter_sales": "253.43",
                                    "previous_year_sales": "681.95",
                                    "YoY_growth": "65.871300",
                                    "QoQ_growth": "346.340200"
                                },
                                {
                                    "order_year": "2017",
                                    "order_quarter": "3",
                                    "market_segment": "Consumer",
                                    "region": "Central",
                                    "category": "Furniture",
                                    "sub_category": "Furnishings",
                                    "total_sales": "438.75",
                                    "previous_quarter_sales": "1131.16",
                                    "previous_year_sales": "1763.69",
                                    "YoY_growth": "-75.123100",
                                    "QoQ_growth": "-61.212300"
                                },
                                {
                                    "order_year": "2017",
                                    "order_quarter": "4",
                                    "market_segment": "Consumer",
                                    "region": "Central",
                                    "category": "Furniture",
                                    "sub_category": "Furnishings",
                                    "total_sales": "786.46",
                                    "previous_quarter_sales": "438.75",
                                    "previous_year_sales": "474.92",
                                    "YoY_growth": "65.598400",
                                    "QoQ_growth": "79.250100"
                                },
                                {
                                    "order_year": "2014",
                                    "order_quarter": "1",
                                    "market_segment": "Consumer",
                                    "region": "Central",
                                    "category": "Furniture",
                                    "sub_category": "Tables",
                                    "total_sales": "2452.07",
                                    "previous_quarter_sales": "NULL",
                                    "previous_year_sales": "NULL",
                                    "YoY_growth": "NULL",
                                    "QoQ_growth": "NULL"
                                },
                                {
                                    "order_year": "2014",
                                    "order_quarter": "2",
                                    "market_segment": "Consumer",
                                    "region": "Central",
                                    "category": "Furniture",
                                    "sub_category": "Tables",
                                    "total_sales": "1770.08",
                                    "previous_quarter_sales": "2452.07",
                                    "previous_year_sales": "NULL",
                                    "YoY_growth": "NULL",
                                    "QoQ_growth": "-27.812800"
                                },
                                {
                                    "order_year": "2014",
                                    "order_quarter": "3",
                                    "market_segment": "Consumer",
                                    "region": "Central",
                                    "category": "Furniture",
                                    "sub_category": "Tables",
                                    "total_sales": "1106.93",
                                    "previous_quarter_sales": "1770.08",
                                    "previous_year_sales": "NULL",
                                    "YoY_growth": "NULL",
                                    "QoQ_growth": "-37.464400"
                                },
                                {
                                    "order_year": "2014",
                                    "order_quarter": "4",
                                    "market_segment": "Consumer",
                                    "region": "Central",
                                    "category": "Furniture",
                                    "sub_category": "Tables",
                                    "total_sales": "507.05",
                                    "previous_quarter_sales": "1106.93",
                                    "previous_year_sales": "NULL",
                                    "YoY_growth": "NULL",
                                    "QoQ_growth": "-54.193100"
                                },
                                {
                                    "order_year": "2015",
                                    "order_quarter": "1",
                                    "market_segment": "Consumer",
                                    "region": "Central",
                                    "category": "Furniture",
                                    "sub_category": "Tables",
                                    "total_sales": "102.44",
                                    "previous_quarter_sales": "507.05",
                                    "previous_year_sales": "2452.07",
                                    "YoY_growth": "-95.822300",
                                    "QoQ_growth": "-79.796800"
                                },
                                {
                                    "order_year": "2015",
                                    "order_quarter": "2",
                                    "market_segment": "Consumer",
                                    "region": "Central",
                                    "category": "Furniture",
                                    "sub_category": "Tables",
                                    "total_sales": "1065.36",
                                    "previous_quarter_sales": "102.44",
                                    "previous_year_sales": "1770.08",
                                    "YoY_growth": "-39.812800",
                                    "QoQ_growth": "939.984300"
                                },
                                {
                                    "order_year": "2015",
                                    "order_quarter": "3",
                                    "market_segment": "Consumer",
                                    "region": "Central",
                                    "category": "Furniture",
                                    "sub_category": "Tables",
                                    "total_sales": "918.78",
                                    "previous_quarter_sales": "1065.36",
                                    "previous_year_sales": "1106.93",
                                    "YoY_growth": "-16.997400",
                                    "QoQ_growth": "-13.758700"
                                },
                                {
                                    "order_year": "2015",
                                    "order_quarter": "4",
                                    "market_segment": "Consumer",
                                    "region": "Central",
                                    "category": "Furniture",
                                    "sub_category": "Tables",
                                    "total_sales": "1024.38",
                                    "previous_quarter_sales": "918.78",
                                    "previous_year_sales": "507.05",
                                    "YoY_growth": "102.027400",
                                    "QoQ_growth": "11.493500"
                                },
                                {
                                    "order_year": "2016",
                                    "order_quarter": "1",
                                    "market_segment": "Consumer",
                                    "region": "Central",
                                    "category": "Furniture",
                                    "sub_category": "Tables",
                                    "total_sales": "1967.57",
                                    "previous_quarter_sales": "1024.38",
                                    "previous_year_sales": "102.44",
                                    "YoY_growth": "1820.704800",
                                    "QoQ_growth": "92.074200"
                                },
                                {
                                    "order_year": "2016",
                                    "order_quarter": "2",
                                    "market_segment": "Consumer",
                                    "region": "Central",
                                    "category": "Furniture",
                                    "sub_category": "Tables",
                                    "total_sales": "177.22",
                                    "previous_quarter_sales": "1967.57",
                                    "previous_year_sales": "1065.36",
                                    "YoY_growth": "-83.365200",
                                    "QoQ_growth": "-90.992900"
                                },
                                {
                                    "order_year": "2016",
                                    "order_quarter": "3",
                                    "market_segment": "Consumer",
                                    "region": "Central",
                                    "category": "Furniture",
                                    "sub_category": "Tables",
                                    "total_sales": "1350.24",
                                    "previous_quarter_sales": "177.22",
                                    "previous_year_sales": "918.78",
                                    "YoY_growth": "46.960000",
                                    "QoQ_growth": "661.900400"
                                },
                                {
                                    "order_year": "2016",
                                    "order_quarter": "4",
                                    "market_segment": "Consumer",
                                    "region": "Central",
                                    "category": "Furniture",
                                    "sub_category": "Tables",
                                    "total_sales": "1445.09",
                                    "previous_quarter_sales": "1350.24",
                                    "previous_year_sales": "1024.38",
                                    "YoY_growth": "41.069700",
                                    "QoQ_growth": "7.024600"
                                },
                                {
                                    "order_year": "2017",
                                    "order_quarter": "1",
                                    "market_segment": "Consumer",
                                    "region": "Central",
                                    "category": "Furniture",
                                    "sub_category": "Tables",
                                    "total_sales": "1916.22",
                                    "previous_quarter_sales": "1445.09",
                                    "previous_year_sales": "1967.57",
                                    "YoY_growth": "-2.609800",
                                    "QoQ_growth": "32.602100"
                                },
                                {
                                    "order_year": "2017",
                                    "order_quarter": "2",
                                    "market_segment": "Consumer",
                                    "region": "Central",
                                    "category": "Furniture",
                                    "sub_category": "Tables",
                                    "total_sales": "307.31",
                                    "previous_quarter_sales": "1916.22",
                                    "previous_year_sales": "177.22",
                                    "YoY_growth": "73.405900",
                                    "QoQ_growth": "-83.962600"
                                },
                                {
                                    "order_year": "2017",
                                    "order_quarter": "3",
                                    "market_segment": "Consumer",
                                    "region": "Central",
                                    "category": "Furniture",
                                    "sub_category": "Tables",
                                    "total_sales": "1402.22",
                                    "previous_quarter_sales": "307.31",
                                    "previous_year_sales": "1350.24",
                                    "YoY_growth": "3.849600",
                                    "QoQ_growth": "356.288400"
                                },
                                {
                                    "order_year": "2017",
                                    "order_quarter": "4",
                                    "market_segment": "Consumer",
                                    "region": "Central",
                                    "category": "Furniture",
                                    "sub_category": "Tables",
                                    "total_sales": "3322.05",
                                    "previous_quarter_sales": "1402.22",
                                    "previous_year_sales": "1445.09",
                                    "YoY_growth": "129.885300",
                                    "QoQ_growth": "136.913600"
                                },
                                {
                                    "order_year": "2014",
                                    "order_quarter": "2",
                                    "market_segment": "Consumer",
                                    "region": "East",
                                    "category": "Furniture",
                                    "sub_category": "Bookcases",
                                    "total_sales": "703.53",
                                    "previous_quarter_sales": "NULL",
                                    "previous_year_sales": "NULL",
                                    "YoY_growth": "NULL",
                                    "QoQ_growth": "NULL"
                                },
                                {
                                    "order_year": "2014",
                                    "order_quarter": "3",
                                    "market_segment": "Consumer",
                                    "region": "East",
                                    "category": "Furniture",
                                    "sub_category": "Bookcases",
                                    "total_sales": "1164.51",
                                    "previous_quarter_sales": "703.53",
                                    "previous_year_sales": "NULL",
                                    "YoY_growth": "NULL",
                                    "QoQ_growth": "65.523800"
                                },
                                {
                                    "order_year": "2014",
                                    "order_quarter": "4",
                                    "market_segment": "Consumer",
                                    "region": "East",
                                    "category": "Furniture",
                                    "sub_category": "Bookcases",
                                    "total_sales": "4891.76",
                                    "previous_quarter_sales": "1164.51",
                                    "previous_year_sales": "NULL",
                                    "YoY_growth": "NULL",
                                    "QoQ_growth": "320.070200"
                                },
                                {
                                    "order_year": "2015",
                                    "order_quarter": "1",
                                    "market_segment": "Consumer",
                                    "region": "East",
                                    "category": "Furniture",
                                    "sub_category": "Bookcases",
                                    "total_sales": "283.92",
                                    "previous_quarter_sales": "4891.76",
                                    "previous_year_sales": "NULL",
                                    "YoY_growth": "NULL",
                                    "QoQ_growth": "-94.195900"
                                },
                                {
                                    "order_year": "2015",
                                    "order_quarter": "3",
                                    "market_segment": "Consumer",
                                    "region": "East",
                                    "category": "Furniture",
                                    "sub_category": "Bookcases",
                                    "total_sales": "9617.52",
                                    "previous_quarter_sales": "283.92",
                                    "previous_year_sales": "703.53",
                                    "YoY_growth": "1267.037600",
                                    "QoQ_growth": "3287.404900"
                                },
                                {
                                    "order_year": "2015",
                                    "order_quarter": "4",
                                    "market_segment": "Consumer",
                                    "region": "East",
                                    "category": "Furniture",
                                    "sub_category": "Bookcases",
                                    "total_sales": "1466.44",
                                    "previous_quarter_sales": "9617.52",
                                    "previous_year_sales": "1164.51",
                                    "YoY_growth": "25.927600",
                                    "QoQ_growth": "-84.752400"
                                },
                                {
                                    "order_year": "2016",
                                    "order_quarter": "1",
                                    "market_segment": "Consumer",
                                    "region": "East",
                                    "category": "Furniture",
                                    "sub_category": "Bookcases",
                                    "total_sales": "778.23",
                                    "previous_quarter_sales": "1466.44",
                                    "previous_year_sales": "4891.76",
                                    "YoY_growth": "-84.091000",
                                    "QoQ_growth": "-46.930600"
                                },
                                {
                                    "order_year": "2016",
                                    "order_quarter": "2",
                                    "market_segment": "Consumer",
                                    "region": "East",
                                    "category": "Furniture",
                                    "sub_category": "Bookcases",
                                    "total_sales": "879.05",
                                    "previous_quarter_sales": "778.23",
                                    "previous_year_sales": "283.92",
                                    "YoY_growth": "209.611800",
                                    "QoQ_growth": "12.955000"
                                },
                                {
                                    "order_year": "2016",
                                    "order_quarter": "3",
                                    "market_segment": "Consumer",
                                    "region": "East",
                                    "category": "Furniture",
                                    "sub_category": "Bookcases",
                                    "total_sales": "1768.66",
                                    "previous_quarter_sales": "879.05",
                                    "previous_year_sales": "9617.52",
                                    "YoY_growth": "-81.610000",
                                    "QoQ_growth": "101.201200"
                                },
                                {
                                    "order_year": "2016",
                                    "order_quarter": "4",
                                    "market_segment": "Consumer",
                                    "region": "East",
                                    "category": "Furniture",
                                    "sub_category": "Bookcases",
                                    "total_sales": "120.98",
                                    "previous_quarter_sales": "1768.66",
                                    "previous_year_sales": "1466.44",
                                    "YoY_growth": "-91.750000",
                                    "QoQ_growth": "-93.159700"
                                },
                                {
                                    "order_year": "2017",
                                    "order_quarter": "1",
                                    "market_segment": "Consumer",
                                    "region": "East",
                                    "category": "Furniture",
                                    "sub_category": "Bookcases",
                                    "total_sales": "498.35",
                                    "previous_quarter_sales": "120.98",
                                    "previous_year_sales": "778.23",
                                    "YoY_growth": "-35.963600",
                                    "QoQ_growth": "311.927500"
                                },
                                {
                                    "order_year": "2017",
                                    "order_quarter": "2",
                                    "market_segment": "Consumer",
                                    "region": "East",
                                    "category": "Furniture",
                                    "sub_category": "Bookcases",
                                    "total_sales": "643.13",
                                    "previous_quarter_sales": "498.35",
                                    "previous_year_sales": "879.05",
                                    "YoY_growth": "-26.838000",
                                    "QoQ_growth": "29.051800"
                                },
                                {
                                    "order_year": "2017",
                                    "order_quarter": "3",
                                    "market_segment": "Consumer",
                                    "region": "East",
                                    "category": "Furniture",
                                    "sub_category": "Bookcases",
                                    "total_sales": "1001.13",
                                    "previous_quarter_sales": "643.13",
                                    "previous_year_sales": "1768.66",
                                    "YoY_growth": "-43.396100",
                                    "QoQ_growth": "55.665200"
                                },
                                {
                                    "order_year": "2017",
                                    "order_quarter": "4",
                                    "market_segment": "Consumer",
                                    "region": "East",
                                    "category": "Furniture",
                                    "sub_category": "Bookcases",
                                    "total_sales": "3489.91",
                                    "previous_quarter_sales": "1001.13",
                                    "previous_year_sales": "120.98",
                                    "YoY_growth": "2784.699900",
                                    "QoQ_growth": "248.597000"
                                },
                                {
                                    "order_year": "2014",
                                    "order_quarter": "1",
                                    "market_segment": "Consumer",
                                    "region": "East",
                                    "category": "Furniture",
                                    "sub_category": "Chairs",
                                    "total_sales": "366.79",
                                    "previous_quarter_sales": "NULL",
                                    "previous_year_sales": "NULL",
                                    "YoY_growth": "NULL",
                                    "QoQ_growth": "NULL"
                                },
                                {
                                    "order_year": "2014",
                                    "order_quarter": "2",
                                    "market_segment": "Consumer",
                                    "region": "East",
                                    "category": "Furniture",
                                    "sub_category": "Chairs",
                                    "total_sales": "3124.77",
                                    "previous_quarter_sales": "366.79",
                                    "previous_year_sales": "NULL",
                                    "YoY_growth": "NULL",
                                    "QoQ_growth": "751.923400"
                                },
                                {
                                    "order_year": "2014",
                                    "order_quarter": "3",
                                    "market_segment": "Consumer",
                                    "region": "East",
                                    "category": "Furniture",
                                    "sub_category": "Chairs",
                                    "total_sales": "5232.67",
                                    "previous_quarter_sales": "3124.77",
                                    "previous_year_sales": "NULL",
                                    "YoY_growth": "NULL",
                                    "QoQ_growth": "67.457700"
                                },
                                {
                                    "order_year": "2014",
                                    "order_quarter": "4",
                                    "market_segment": "Consumer",
                                    "region": "East",
                                    "category": "Furniture",
                                    "sub_category": "Chairs",
                                    "total_sales": "5574.15",
                                    "previous_quarter_sales": "5232.67",
                                    "previous_year_sales": "NULL",
                                    "YoY_growth": "NULL",
                                    "QoQ_growth": "6.525900"
                                },
                                {
                                    "order_year": "2015",
                                    "order_quarter": "1",
                                    "market_segment": "Consumer",
                                    "region": "East",
                                    "category": "Furniture",
                                    "sub_category": "Chairs",
                                    "total_sales": "1834.42",
                                    "previous_quarter_sales": "5574.15",
                                    "previous_year_sales": "366.79",
                                    "YoY_growth": "400.128100",
                                    "QoQ_growth": "-67.090500"
                                },
                                {
                                    "order_year": "2015",
                                    "order_quarter": "2",
                                    "market_segment": "Consumer",
                                    "region": "East",
                                    "category": "Furniture",
                                    "sub_category": "Chairs",
                                    "total_sales": "2357.29",
                                    "previous_quarter_sales": "1834.42",
                                    "previous_year_sales": "3124.77",
                                    "YoY_growth": "-24.561100",
                                    "QoQ_growth": "28.503200"
                                },
                                {
                                    "order_year": "2015",
                                    "order_quarter": "3",
                                    "market_segment": "Consumer",
                                    "region": "East",
                                    "category": "Furniture",
                                    "sub_category": "Chairs",
                                    "total_sales": "2574.87",
                                    "previous_quarter_sales": "2357.29",
                                    "previous_year_sales": "5232.67",
                                    "YoY_growth": "-50.792400",
                                    "QoQ_growth": "9.230000"
                                },
                                {
                                    "order_year": "2015",
                                    "order_quarter": "4",
                                    "market_segment": "Consumer",
                                    "region": "East",
                                    "category": "Furniture",
                                    "sub_category": "Chairs",
                                    "total_sales": "3100.16",
                                    "previous_quarter_sales": "2574.87",
                                    "previous_year_sales": "5574.15",
                                    "YoY_growth": "-44.383200",
                                    "QoQ_growth": "20.400600"
                                },
                                {
                                    "order_year": "2016",
                                    "order_quarter": "1",
                                    "market_segment": "Consumer",
                                    "region": "East",
                                    "category": "Furniture",
                                    "sub_category": "Chairs",
                                    "total_sales": "1237.51",
                                    "previous_quarter_sales": "3100.16",
                                    "previous_year_sales": "1834.42",
                                    "YoY_growth": "-32.539400",
                                    "QoQ_growth": "-60.082300"
                                },
                                {
                                    "order_year": "2016",
                                    "order_quarter": "2",
                                    "market_segment": "Consumer",
                                    "region": "East",
                                    "category": "Furniture",
                                    "sub_category": "Chairs",
                                    "total_sales": "2201.62",
                                    "previous_quarter_sales": "1237.51",
                                    "previous_year_sales": "2357.29",
                                    "YoY_growth": "-6.603700",
                                    "QoQ_growth": "77.907200"
                                },
                                {
                                    "order_year": "2016",
                                    "order_quarter": "3",
                                    "market_segment": "Consumer",
                                    "region": "East",
                                    "category": "Furniture",
                                    "sub_category": "Chairs",
                                    "total_sales": "3290.20",
                                    "previous_quarter_sales": "2201.62",
                                    "previous_year_sales": "2574.87",
                                    "YoY_growth": "27.781200",
                                    "QoQ_growth": "49.444400"
                                },
                                {
                                    "order_year": "2016",
                                    "order_quarter": "4",
                                    "market_segment": "Consumer",
                                    "region": "East",
                                    "category": "Furniture",
                                    "sub_category": "Chairs",
                                    "total_sales": "10097.54",
                                    "previous_quarter_sales": "3290.20",
                                    "previous_year_sales": "3100.16",
                                    "YoY_growth": "225.710200",
                                    "QoQ_growth": "206.897400"
                                },
                                {
                                    "order_year": "2017",
                                    "order_quarter": "1",
                                    "market_segment": "Consumer",
                                    "region": "East",
                                    "category": "Furniture",
                                    "sub_category": "Chairs",
                                    "total_sales": "1159.03",
                                    "previous_quarter_sales": "10097.54",
                                    "previous_year_sales": "1237.51",
                                    "YoY_growth": "-6.341700",
                                    "QoQ_growth": "-88.521600"
                                },
                                {
                                    "order_year": "2017",
                                    "order_quarter": "2",
                                    "market_segment": "Consumer",
                                    "region": "East",
                                    "category": "Furniture",
                                    "sub_category": "Chairs",
                                    "total_sales": "1987.81",
                                    "previous_quarter_sales": "1159.03",
                                    "previous_year_sales": "2201.62",
                                    "YoY_growth": "-9.711400",
                                    "QoQ_growth": "71.506300"
                                },
                                {
                                    "order_year": "2017",
                                    "order_quarter": "3",
                                    "market_segment": "Consumer",
                                    "region": "East",
                                    "category": "Furniture",
                                    "sub_category": "Chairs",
                                    "total_sales": "11448.63",
                                    "previous_quarter_sales": "1987.81",
                                    "previous_year_sales": "3290.20",
                                    "YoY_growth": "247.961500",
                                    "QoQ_growth": "475.941800"
                                },
                                {
                                    "order_year": "2017",
                                    "order_quarter": "4",
                                    "market_segment": "Consumer",
                                    "region": "East",
                                    "category": "Furniture",
                                    "sub_category": "Chairs",
                                    "total_sales": "4057.63",
                                    "previous_quarter_sales": "11448.63",
                                    "previous_year_sales": "10097.54",
                                    "YoY_growth": "-59.815600",
                                    "QoQ_growth": "-64.557900"
                                },
                                {
                                    "order_year": "2014",
                                    "order_quarter": "1",
                                    "market_segment": "Consumer",
                                    "region": "East",
                                    "category": "Furniture",
                                    "sub_category": "Furnishings",
                                    "total_sales": "145.36",
                                    "previous_quarter_sales": "NULL",
                                    "previous_year_sales": "NULL",
                                    "YoY_growth": "NULL",
                                    "QoQ_growth": "NULL"
                                },
                                {
                                    "order_year": "2014",
                                    "order_quarter": "2",
                                    "market_segment": "Consumer",
                                    "region": "East",
                                    "category": "Furniture",
                                    "sub_category": "Furnishings",
                                    "total_sales": "269.05",
                                    "previous_quarter_sales": "145.36",
                                    "previous_year_sales": "NULL",
                                    "YoY_growth": "NULL",
                                    "QoQ_growth": "85.092100"
                                },
                                {
                                    "order_year": "2014",
                                    "order_quarter": "3",
                                    "market_segment": "Consumer",
                                    "region": "East",
                                    "category": "Furniture",
                                    "sub_category": "Furnishings",
                                    "total_sales": "848.33",
                                    "previous_quarter_sales": "269.05",
                                    "previous_year_sales": "NULL",
                                    "YoY_growth": "NULL",
                                    "QoQ_growth": "215.305700"
                                },
                                {
                                    "order_year": "2014",
                                    "order_quarter": "4",
                                    "market_segment": "Consumer",
                                    "region": "East",
                                    "category": "Furniture",
                                    "sub_category": "Furnishings",
                                    "total_sales": "1042.81",
                                    "previous_quarter_sales": "848.33",
                                    "previous_year_sales": "NULL",
                                    "YoY_growth": "NULL",
                                    "QoQ_growth": "22.925000"
                                },
                                {
                                    "order_year": "2015",
                                    "order_quarter": "2",
                                    "market_segment": "Consumer",
                                    "region": "East",
                                    "category": "Furniture",
                                    "sub_category": "Furnishings",
                                    "total_sales": "142.84",
                                    "previous_quarter_sales": "1042.81",
                                    "previous_year_sales": "145.36",
                                    "YoY_growth": "-1.733600",
                                    "QoQ_growth": "-86.302300"
                                },
                                {
                                    "order_year": "2015",
                                    "order_quarter": "3",
                                    "market_segment": "Consumer",
                                    "region": "East",
                                    "category": "Furniture",
                                    "sub_category": "Furnishings",
                                    "total_sales": "696.79",
                                    "previous_quarter_sales": "142.84",
                                    "previous_year_sales": "269.05",
                                    "YoY_growth": "158.981600",
                                    "QoQ_growth": "387.811500"
                                },
                                {
                                    "order_year": "2015",
                                    "order_quarter": "4",
                                    "market_segment": "Consumer",
                                    "region": "East",
                                    "category": "Furniture",
                                    "sub_category": "Furnishings",
                                    "total_sales": "1271.29",
                                    "previous_quarter_sales": "696.79",
                                    "previous_year_sales": "848.33",
                                    "YoY_growth": "49.857900",
                                    "QoQ_growth": "82.449500"
                                },
                                {
                                    "order_year": "2016",
                                    "order_quarter": "1",
                                    "market_segment": "Consumer",
                                    "region": "East",
                                    "category": "Furniture",
                                    "sub_category": "Furnishings",
                                    "total_sales": "1611.30",
                                    "previous_quarter_sales": "1271.29",
                                    "previous_year_sales": "1042.81",
                                    "YoY_growth": "54.515200",
                                    "QoQ_growth": "26.745200"
                                },
                                {
                                    "order_year": "2016",
                                    "order_quarter": "2",
                                    "market_segment": "Consumer",
                                    "region": "East",
                                    "category": "Furniture",
                                    "sub_category": "Furnishings",
                                    "total_sales": "1142.44",
                                    "previous_quarter_sales": "1611.30",
                                    "previous_year_sales": "142.84",
                                    "YoY_growth": "699.803900",
                                    "QoQ_growth": "-29.098200"
                                },
                                {
                                    "order_year": "2016",
                                    "order_quarter": "3",
                                    "market_segment": "Consumer",
                                    "region": "East",
                                    "category": "Furniture",
                                    "sub_category": "Furnishings",
                                    "total_sales": "672.42",
                                    "previous_quarter_sales": "1142.44",
                                    "previous_year_sales": "696.79",
                                    "YoY_growth": "-3.497400",
                                    "QoQ_growth": "-41.141700"
                                },
                                {
                                    "order_year": "2016",
                                    "order_quarter": "4",
                                    "market_segment": "Consumer",
                                    "region": "East",
                                    "category": "Furniture",
                                    "sub_category": "Furnishings",
                                    "total_sales": "1911.99",
                                    "previous_quarter_sales": "672.42",
                                    "previous_year_sales": "1271.29",
                                    "YoY_growth": "50.397600",
                                    "QoQ_growth": "184.344600"
                                },
                                {
                                    "order_year": "2017",
                                    "order_quarter": "1",
                                    "market_segment": "Consumer",
                                    "region": "East",
                                    "category": "Furniture",
                                    "sub_category": "Furnishings",
                                    "total_sales": "396.46",
                                    "previous_quarter_sales": "1911.99",
                                    "previous_year_sales": "1611.30",
                                    "YoY_growth": "-75.395000",
                                    "QoQ_growth": "-79.264500"
                                },
                                {
                                    "order_year": "2017",
                                    "order_quarter": "2",
                                    "market_segment": "Consumer",
                                    "region": "East",
                                    "category": "Furniture",
                                    "sub_category": "Furnishings",
                                    "total_sales": "515.54",
                                    "previous_quarter_sales": "396.46",
                                    "previous_year_sales": "1142.44",
                                    "YoY_growth": "-54.873700",
                                    "QoQ_growth": "30.035800"
                                },
                                {
                                    "order_year": "2017",
                                    "order_quarter": "3",
                                    "market_segment": "Consumer",
                                    "region": "East",
                                    "category": "Furniture",
                                    "sub_category": "Furnishings",
                                    "total_sales": "1118.93",
                                    "previous_quarter_sales": "515.54",
                                    "previous_year_sales": "672.42",
                                    "YoY_growth": "66.403400",
                                    "QoQ_growth": "117.040300"
                                },
                                {
                                    "order_year": "2017",
                                    "order_quarter": "4",
                                    "market_segment": "Consumer",
                                    "region": "East",
                                    "category": "Furniture",
                                    "sub_category": "Furnishings",
                                    "total_sales": "1391.51",
                                    "previous_quarter_sales": "1118.93",
                                    "previous_year_sales": "1911.99",
                                    "YoY_growth": "-27.221800",
                                    "QoQ_growth": "24.360700"
                                },
                                {
                                    "order_year": "2014",
                                    "order_quarter": "2",
                                    "market_segment": "Consumer",
                                    "region": "East",
                                    "category": "Furniture",
                                    "sub_category": "Tables",
                                    "total_sales": "1066.42",
                                    "previous_quarter_sales": "NULL",
                                    "previous_year_sales": "NULL",
                                    "YoY_growth": "NULL",
                                    "QoQ_growth": "NULL"
                                },
                                {
                                    "order_year": "2014",
                                    "order_quarter": "3",
                                    "market_segment": "Consumer",
                                    "region": "East",
                                    "category": "Furniture",
                                    "sub_category": "Tables",
                                    "total_sales": "1317.38",
                                    "previous_quarter_sales": "1066.42",
                                    "previous_year_sales": "NULL",
                                    "YoY_growth": "NULL",
                                    "QoQ_growth": "23.532900"
                                },
                                {
                                    "order_year": "2014",
                                    "order_quarter": "4",
                                    "market_segment": "Consumer",
                                    "region": "East",
                                    "category": "Furniture",
                                    "sub_category": "Tables",
                                    "total_sales": "931.81",
                                    "previous_quarter_sales": "1317.38",
                                    "previous_year_sales": "NULL",
                                    "YoY_growth": "NULL",
                                    "QoQ_growth": "-29.267900"
                                },
                                {
                                    "order_year": "2015",
                                    "order_quarter": "1",
                                    "market_segment": "Consumer",
                                    "region": "East",
                                    "category": "Furniture",
                                    "sub_category": "Tables",
                                    "total_sales": "1018.10",
                                    "previous_quarter_sales": "931.81",
                                    "previous_year_sales": "NULL",
                                    "YoY_growth": "NULL",
                                    "QoQ_growth": "9.260400"
                                },
                                {
                                    "order_year": "2015",
                                    "order_quarter": "3",
                                    "market_segment": "Consumer",
                                    "region": "East",
                                    "category": "Furniture",
                                    "sub_category": "Tables",
                                    "total_sales": "1501.00",
                                    "previous_quarter_sales": "1018.10",
                                    "previous_year_sales": "1066.42",
                                    "YoY_growth": "40.751200",
                                    "QoQ_growth": "47.431400"
                                },
                                {
                                    "order_year": "2015",
                                    "order_quarter": "4",
                                    "market_segment": "Consumer",
                                    "region": "East",
                                    "category": "Furniture",
                                    "sub_category": "Tables",
                                    "total_sales": "1513.96",
                                    "previous_quarter_sales": "1501.00",
                                    "previous_year_sales": "1317.38",
                                    "YoY_growth": "14.922000",
                                    "QoQ_growth": "0.863400"
                                },
                                {
                                    "order_year": "2016",
                                    "order_quarter": "1",
                                    "market_segment": "Consumer",
                                    "region": "East",
                                    "category": "Furniture",
                                    "sub_category": "Tables",
                                    "total_sales": "1812.83",
                                    "previous_quarter_sales": "1513.96",
                                    "previous_year_sales": "931.81",
                                    "YoY_growth": "94.549300",
                                    "QoQ_growth": "19.740900"
                                },
                                {
                                    "order_year": "2016",
                                    "order_quarter": "2",
                                    "market_segment": "Consumer",
                                    "region": "East",
                                    "category": "Furniture",
                                    "sub_category": "Tables",
                                    "total_sales": "174.29",
                                    "previous_quarter_sales": "1812.83",
                                    "previous_year_sales": "1018.10",
                                    "YoY_growth": "-82.880800",
                                    "QoQ_growth": "-90.385700"
                                },
                                {
                                    "order_year": "2016",
                                    "order_quarter": "3",
                                    "market_segment": "Consumer",
                                    "region": "East",
                                    "category": "Furniture",
                                    "sub_category": "Tables",
                                    "total_sales": "453.77",
                                    "previous_quarter_sales": "174.29",
                                    "previous_year_sales": "1501.00",
                                    "YoY_growth": "-69.768800",
                                    "QoQ_growth": "160.353400"
                                },
                                {
                                    "order_year": "2016",
                                    "order_quarter": "4",
                                    "market_segment": "Consumer",
                                    "region": "East",
                                    "category": "Furniture",
                                    "sub_category": "Tables",
                                    "total_sales": "1336.00",
                                    "previous_quarter_sales": "453.77",
                                    "previous_year_sales": "1513.96",
                                    "YoY_growth": "-11.754600",
                                    "QoQ_growth": "194.422200"
                                },
                                {
                                    "order_year": "2017",
                                    "order_quarter": "2",
                                    "market_segment": "Consumer",
                                    "region": "East",
                                    "category": "Furniture",
                                    "sub_category": "Tables",
                                    "total_sales": "1044.63",
                                    "previous_quarter_sales": "1336.00",
                                    "previous_year_sales": "1812.83",
                                    "YoY_growth": "-42.375700",
                                    "QoQ_growth": "-21.809100"
                                },
                                {
                                    "order_year": "2017",
                                    "order_quarter": "3",
                                    "market_segment": "Consumer",
                                    "region": "East",
                                    "category": "Furniture",
                                    "sub_category": "Tables",
                                    "total_sales": "449.03",
                                    "previous_quarter_sales": "1044.63",
                                    "previous_year_sales": "174.29",
                                    "YoY_growth": "157.633800",
                                    "QoQ_growth": "-57.015400"
                                },
                                {
                                    "order_year": "2017",
                                    "order_quarter": "4",
                                    "market_segment": "Consumer",
                                    "region": "East",
                                    "category": "Furniture",
                                    "sub_category": "Tables",
                                    "total_sales": "1463.25",
                                    "previous_quarter_sales": "449.03",
                                    "previous_year_sales": "453.77",
                                    "YoY_growth": "222.465100",
                                    "QoQ_growth": "225.869000"
                                },
                                {
                                    "order_year": "2014",
                                    "order_quarter": "3",
                                    "market_segment": "Consumer",
                                    "region": "South",
                                    "category": "Furniture",
                                    "sub_category": "Bookcases",
                                    "total_sales": "794.28",
                                    "previous_quarter_sales": "NULL",
                                    "previous_year_sales": "NULL",
                                    "YoY_growth": "NULL",
                                    "QoQ_growth": "NULL"
                                },
                                {
                                    "order_year": "2015",
                                    "order_quarter": "2",
                                    "market_segment": "Consumer",
                                    "region": "South",
                                    "category": "Furniture",
                                    "sub_category": "Bookcases",
                                    "total_sales": "523.26",
                                    "previous_quarter_sales": "794.28",
                                    "previous_year_sales": "NULL",
                                    "YoY_growth": "NULL",
                                    "QoQ_growth": "-34.121400"
                                },
                                {
                                    "order_year": "2015",
                                    "order_quarter": "4",
                                    "market_segment": "Consumer",
                                    "region": "South",
                                    "category": "Furniture",
                                    "sub_category": "Bookcases",
                                    "total_sales": "290.35",
                                    "previous_quarter_sales": "523.26",
                                    "previous_year_sales": "NULL",
                                    "YoY_growth": "NULL",
                                    "QoQ_growth": "-44.511300"
                                },
                                {
                                    "order_year": "2016",
                                    "order_quarter": "1",
                                    "market_segment": "Consumer",
                                    "region": "South",
                                    "category": "Furniture",
                                    "sub_category": "Bookcases",
                                    "total_sales": "451.14",
                                    "previous_quarter_sales": "290.35",
                                    "previous_year_sales": "NULL",
                                    "YoY_growth": "NULL",
                                    "QoQ_growth": "55.377900"
                                },
                                {
                                    "order_year": "2016",
                                    "order_quarter": "2",
                                    "market_segment": "Consumer",
                                    "region": "South",
                                    "category": "Furniture",
                                    "sub_category": "Bookcases",
                                    "total_sales": "1621.76",
                                    "previous_quarter_sales": "451.14",
                                    "previous_year_sales": "794.28",
                                    "YoY_growth": "104.179800",
                                    "QoQ_growth": "259.480400"
                                },
                                {
                                    "order_year": "2016",
                                    "order_quarter": "3",
                                    "market_segment": "Consumer",
                                    "region": "South",
                                    "category": "Furniture",
                                    "sub_category": "Bookcases",
                                    "total_sales": "504.90",
                                    "previous_quarter_sales": "1621.76",
                                    "previous_year_sales": "523.26",
                                    "YoY_growth": "-3.508700",
                                    "QoQ_growth": "-68.867100"
                                },
                                {
                                    "order_year": "2016",
                                    "order_quarter": "4",
                                    "market_segment": "Consumer",
                                    "region": "South",
                                    "category": "Furniture",
                                    "sub_category": "Bookcases",
                                    "total_sales": "261.96",
                                    "previous_quarter_sales": "504.90",
                                    "previous_year_sales": "290.35",
                                    "YoY_growth": "-9.777800",
                                    "QoQ_growth": "-48.116400"
                                },
                                {
                                    "order_year": "2017",
                                    "order_quarter": "1",
                                    "market_segment": "Consumer",
                                    "region": "South",
                                    "category": "Furniture",
                                    "sub_category": "Bookcases",
                                    "total_sales": "591.89",
                                    "previous_quarter_sales": "261.96",
                                    "previous_year_sales": "451.14",
                                    "YoY_growth": "31.198700",
                                    "QoQ_growth": "125.946700"
                                },
                                {
                                    "order_year": "2017",
                                    "order_quarter": "2",
                                    "market_segment": "Consumer",
                                    "region": "South",
                                    "category": "Furniture",
                                    "sub_category": "Bookcases",
                                    "total_sales": "2504.43",
                                    "previous_quarter_sales": "591.89",
                                    "previous_year_sales": "1621.76",
                                    "YoY_growth": "54.426600",
                                    "QoQ_growth": "323.124200"
                                },
                                {
                                    "order_year": "2017",
                                    "order_quarter": "3",
                                    "market_segment": "Consumer",
                                    "region": "South",
                                    "category": "Furniture",
                                    "sub_category": "Bookcases",
                                    "total_sales": "448.68",
                                    "previous_quarter_sales": "2504.43",
                                    "previous_year_sales": "504.90",
                                    "YoY_growth": "-11.134800",
                                    "QoQ_growth": "-82.084500"
                                },
                                {
                                    "order_year": "2017",
                                    "order_quarter": "4",
                                    "market_segment": "Consumer",
                                    "region": "South",
                                    "category": "Furniture",
                                    "sub_category": "Bookcases",
                                    "total_sales": "723.92",
                                    "previous_quarter_sales": "448.68",
                                    "previous_year_sales": "261.96",
                                    "YoY_growth": "176.347500",
                                    "QoQ_growth": "61.344300"
                                },
                                {
                                    "order_year": "2014",
                                    "order_quarter": "1",
                                    "market_segment": "Consumer",
                                    "region": "South",
                                    "category": "Furniture",
                                    "sub_category": "Chairs",
                                    "total_sales": "2957.75",
                                    "previous_quarter_sales": "NULL",
                                    "previous_year_sales": "NULL",
                                    "YoY_growth": "NULL",
                                    "QoQ_growth": "NULL"
                                },
                                {
                                    "order_year": "2014",
                                    "order_quarter": "2",
                                    "market_segment": "Consumer",
                                    "region": "South",
                                    "category": "Furniture",
                                    "sub_category": "Chairs",
                                    "total_sales": "51.96",
                                    "previous_quarter_sales": "2957.75",
                                    "previous_year_sales": "NULL",
                                    "YoY_growth": "NULL",
                                    "QoQ_growth": "-98.243200"
                                },
                                {
                                    "order_year": "2014",
                                    "order_quarter": "3",
                                    "market_segment": "Consumer",
                                    "region": "South",
                                    "category": "Furniture",
                                    "sub_category": "Chairs",
                                    "total_sales": "67.88",
                                    "previous_quarter_sales": "51.96",
                                    "previous_year_sales": "NULL",
                                    "YoY_growth": "NULL",
                                    "QoQ_growth": "30.638900"
                                },
                                {
                                    "order_year": "2014",
                                    "order_quarter": "4",
                                    "market_segment": "Consumer",
                                    "region": "South",
                                    "category": "Furniture",
                                    "sub_category": "Chairs",
                                    "total_sales": "2883.72",
                                    "previous_quarter_sales": "67.88",
                                    "previous_year_sales": "NULL",
                                    "YoY_growth": "NULL",
                                    "QoQ_growth": "4148.261600"
                                },
                                {
                                    "order_year": "2015",
                                    "order_quarter": "1",
                                    "market_segment": "Consumer",
                                    "region": "South",
                                    "category": "Furniture",
                                    "sub_category": "Chairs",
                                    "total_sales": "551.27",
                                    "previous_quarter_sales": "2883.72",
                                    "previous_year_sales": "2957.75",
                                    "YoY_growth": "-81.361800",
                                    "QoQ_growth": "-80.883300"
                                },
                                {
                                    "order_year": "2015",
                                    "order_quarter": "2",
                                    "market_segment": "Consumer",
                                    "region": "South",
                                    "category": "Furniture",
                                    "sub_category": "Chairs",
                                    "total_sales": "1356.84",
                                    "previous_quarter_sales": "551.27",
                                    "previous_year_sales": "51.96",
                                    "YoY_growth": "2511.316300",
                                    "QoQ_growth": "146.129800"
                                },
                                {
                                    "order_year": "2015",
                                    "order_quarter": "3",
                                    "market_segment": "Consumer",
                                    "region": "South",
                                    "category": "Furniture",
                                    "sub_category": "Chairs",
                                    "total_sales": "3335.38",
                                    "previous_quarter_sales": "1356.84",
                                    "previous_year_sales": "67.88",
                                    "YoY_growth": "4813.641700",
                                    "QoQ_growth": "145.819600"
                                },
                                {
                                    "order_year": "2015",
                                    "order_quarter": "4",
                                    "market_segment": "Consumer",
                                    "region": "South",
                                    "category": "Furniture",
                                    "sub_category": "Chairs",
                                    "total_sales": "571.86",
                                    "previous_quarter_sales": "3335.38",
                                    "previous_year_sales": "2883.72",
                                    "YoY_growth": "-80.169300",
                                    "QoQ_growth": "-82.854700"
                                },
                                {
                                    "order_year": "2016",
                                    "order_quarter": "1",
                                    "market_segment": "Consumer",
                                    "region": "South",
                                    "category": "Furniture",
                                    "sub_category": "Chairs",
                                    "total_sales": "866.40",
                                    "previous_quarter_sales": "571.86",
                                    "previous_year_sales": "551.27",
                                    "YoY_growth": "57.164300",
                                    "QoQ_growth": "51.505600"
                                },
                                {
                                    "order_year": "2016",
                                    "order_quarter": "2",
                                    "market_segment": "Consumer",
                                    "region": "South",
                                    "category": "Furniture",
                                    "sub_category": "Chairs",
                                    "total_sales": "829.02",
                                    "previous_quarter_sales": "866.40",
                                    "previous_year_sales": "1356.84",
                                    "YoY_growth": "-38.900600",
                                    "QoQ_growth": "-4.314400"
                                },
                                {
                                    "order_year": "2016",
                                    "order_quarter": "3",
                                    "market_segment": "Consumer",
                                    "region": "South",
                                    "category": "Furniture",
                                    "sub_category": "Chairs",
                                    "total_sales": "1309.17",
                                    "previous_quarter_sales": "829.02",
                                    "previous_year_sales": "3335.38",
                                    "YoY_growth": "-60.749000",
                                    "QoQ_growth": "57.917700"
                                },
                                {
                                    "order_year": "2016",
                                    "order_quarter": "4",
                                    "market_segment": "Consumer",
                                    "region": "South",
                                    "category": "Furniture",
                                    "sub_category": "Chairs",
                                    "total_sales": "1125.51",
                                    "previous_quarter_sales": "1309.17",
                                    "previous_year_sales": "571.86",
                                    "YoY_growth": "96.815600",
                                    "QoQ_growth": "-14.028700"
                                },
                                {
                                    "order_year": "2017",
                                    "order_quarter": "1",
                                    "market_segment": "Consumer",
                                    "region": "South",
                                    "category": "Furniture",
                                    "sub_category": "Chairs",
                                    "total_sales": "615.92",
                                    "previous_quarter_sales": "1125.51",
                                    "previous_year_sales": "866.40",
                                    "YoY_growth": "-28.910400",
                                    "QoQ_growth": "-45.276300"
                                },
                                {
                                    "order_year": "2017",
                                    "order_quarter": "2",
                                    "market_segment": "Consumer",
                                    "region": "South",
                                    "category": "Furniture",
                                    "sub_category": "Chairs",
                                    "total_sales": "4106.19",
                                    "previous_quarter_sales": "615.92",
                                    "previous_year_sales": "829.02",
                                    "YoY_growth": "395.306500",
                                    "QoQ_growth": "566.675800"
                                },
                                {
                                    "order_year": "2017",
                                    "order_quarter": "3",
                                    "market_segment": "Consumer",
                                    "region": "South",
                                    "category": "Furniture",
                                    "sub_category": "Chairs",
                                    "total_sales": "2063.67",
                                    "previous_quarter_sales": "4106.19",
                                    "previous_year_sales": "1309.17",
                                    "YoY_growth": "57.631900",
                                    "QoQ_growth": "-49.742400"
                                },
                                {
                                    "order_year": "2017",
                                    "order_quarter": "4",
                                    "market_segment": "Consumer",
                                    "region": "South",
                                    "category": "Furniture",
                                    "sub_category": "Chairs",
                                    "total_sales": "4111.70",
                                    "previous_quarter_sales": "2063.67",
                                    "previous_year_sales": "1125.51",
                                    "YoY_growth": "265.318800",
                                    "QoQ_growth": "99.242100"
                                },
                                {
                                    "order_year": "2014",
                                    "order_quarter": "1",
                                    "market_segment": "Consumer",
                                    "region": "South",
                                    "category": "Furniture",
                                    "sub_category": "Furnishings",
                                    "total_sales": "142.50",
                                    "previous_quarter_sales": "NULL",
                                    "previous_year_sales": "NULL",
                                    "YoY_growth": "NULL",
                                    "QoQ_growth": "NULL"
                                },
                                {
                                    "order_year": "2014",
                                    "order_quarter": "2",
                                    "market_segment": "Consumer",
                                    "region": "South",
                                    "category": "Furniture",
                                    "sub_category": "Furnishings",
                                    "total_sales": "135.17",
                                    "previous_quarter_sales": "142.50",
                                    "previous_year_sales": "NULL",
                                    "YoY_growth": "NULL",
                                    "QoQ_growth": "-5.143800"
                                },
                                {
                                    "order_year": "2014",
                                    "order_quarter": "3",
                                    "market_segment": "Consumer",
                                    "region": "South",
                                    "category": "Furniture",
                                    "sub_category": "Furnishings",
                                    "total_sales": "680.20",
                                    "previous_quarter_sales": "135.17",
                                    "previous_year_sales": "NULL",
                                    "YoY_growth": "NULL",
                                    "QoQ_growth": "403.218100"
                                },
                                {
                                    "order_year": "2014",
                                    "order_quarter": "4",
                                    "market_segment": "Consumer",
                                    "region": "South",
                                    "category": "Furniture",
                                    "sub_category": "Furnishings",
                                    "total_sales": "455.19",
                                    "previous_quarter_sales": "680.20",
                                    "previous_year_sales": "NULL",
                                    "YoY_growth": "NULL",
                                    "QoQ_growth": "-33.079900"
                                },
                                {
                                    "order_year": "2015",
                                    "order_quarter": "2",
                                    "market_segment": "Consumer",
                                    "region": "South",
                                    "category": "Furniture",
                                    "sub_category": "Furnishings",
                                    "total_sales": "1878.81",
                                    "previous_quarter_sales": "455.19",
                                    "previous_year_sales": "142.50",
                                    "YoY_growth": "1218.463100",
                                    "QoQ_growth": "312.752900"
                                },
                                {
                                    "order_year": "2015",
                                    "order_quarter": "3",
                                    "market_segment": "Consumer",
                                    "region": "South",
                                    "category": "Furniture",
                                    "sub_category": "Furnishings",
                                    "total_sales": "176.08",
                                    "previous_quarter_sales": "1878.81",
                                    "previous_year_sales": "135.17",
                                    "YoY_growth": "30.265500",
                                    "QoQ_growth": "-90.628100"
                                },
                                {
                                    "order_year": "2015",
                                    "order_quarter": "4",
                                    "market_segment": "Consumer",
                                    "region": "South",
                                    "category": "Furniture",
                                    "sub_category": "Furnishings",
                                    "total_sales": "951.50",
                                    "previous_quarter_sales": "176.08",
                                    "previous_year_sales": "680.20",
                                    "YoY_growth": "39.885300",
                                    "QoQ_growth": "440.379300"
                                },
                                {
                                    "order_year": "2016",
                                    "order_quarter": "1",
                                    "market_segment": "Consumer",
                                    "region": "South",
                                    "category": "Furniture",
                                    "sub_category": "Furnishings",
                                    "total_sales": "769.18",
                                    "previous_quarter_sales": "951.50",
                                    "previous_year_sales": "455.19",
                                    "YoY_growth": "68.979900",
                                    "QoQ_growth": "-19.161300"
                                },
                                {
                                    "order_year": "2016",
                                    "order_quarter": "2",
                                    "market_segment": "Consumer",
                                    "region": "South",
                                    "category": "Furniture",
                                    "sub_category": "Furnishings",
                                    "total_sales": "61.48",
                                    "previous_quarter_sales": "769.18",
                                    "previous_year_sales": "1878.81",
                                    "YoY_growth": "-96.727700",
                                    "QoQ_growth": "-92.007000"
                                },
                                {
                                    "order_year": "2016",
                                    "order_quarter": "3",
                                    "market_segment": "Consumer",
                                    "region": "South",
                                    "category": "Furniture",
                                    "sub_category": "Furnishings",
                                    "total_sales": "466.47",
                                    "previous_quarter_sales": "61.48",
                                    "previous_year_sales": "176.08",
                                    "YoY_growth": "164.919300",
                                    "QoQ_growth": "658.734500"
                                },
                                {
                                    "order_year": "2016",
                                    "order_quarter": "4",
                                    "market_segment": "Consumer",
                                    "region": "South",
                                    "category": "Furniture",
                                    "sub_category": "Furnishings",
                                    "total_sales": "2899.94",
                                    "previous_quarter_sales": "466.47",
                                    "previous_year_sales": "951.50",
                                    "YoY_growth": "204.775600",
                                    "QoQ_growth": "521.677700"
                                },
                                {
                                    "order_year": "2017",
                                    "order_quarter": "1",
                                    "market_segment": "Consumer",
                                    "region": "South",
                                    "category": "Furniture",
                                    "sub_category": "Furnishings",
                                    "total_sales": "62.72",
                                    "previous_quarter_sales": "2899.94",
                                    "previous_year_sales": "769.18",
                                    "YoY_growth": "-91.845800",
                                    "QoQ_growth": "-97.837100"
                                },
                                {
                                    "order_year": "2017",
                                    "order_quarter": "2",
                                    "market_segment": "Consumer",
                                    "region": "South",
                                    "category": "Furniture",
                                    "sub_category": "Furnishings",
                                    "total_sales": "25.10",
                                    "previous_quarter_sales": "62.72",
                                    "previous_year_sales": "61.48",
                                    "YoY_growth": "-59.173700",
                                    "QoQ_growth": "-59.980800"
                                },
                                {
                                    "order_year": "2017",
                                    "order_quarter": "3",
                                    "market_segment": "Consumer",
                                    "region": "South",
                                    "category": "Furniture",
                                    "sub_category": "Furnishings",
                                    "total_sales": "249.36",
                                    "previous_quarter_sales": "25.10",
                                    "previous_year_sales": "466.47",
                                    "YoY_growth": "-46.543100",
                                    "QoQ_growth": "893.466100"
                                },
                                {
                                    "order_year": "2017",
                                    "order_quarter": "4",
                                    "market_segment": "Consumer",
                                    "region": "South",
                                    "category": "Furniture",
                                    "sub_category": "Furnishings",
                                    "total_sales": "1916.86",
                                    "previous_quarter_sales": "249.36",
                                    "previous_year_sales": "2899.94",
                                    "YoY_growth": "-33.900000",
                                    "QoQ_growth": "668.711900"
                                },
                                {
                                    "order_year": "2014",
                                    "order_quarter": "1",
                                    "market_segment": "Consumer",
                                    "region": "South",
                                    "category": "Furniture",
                                    "sub_category": "Tables",
                                    "total_sales": "1256.22",
                                    "previous_quarter_sales": "NULL",
                                    "previous_year_sales": "NULL",
                                    "YoY_growth": "NULL",
                                    "QoQ_growth": "NULL"
                                },
                                {
                                    "order_year": "2014",
                                    "order_quarter": "2",
                                    "market_segment": "Consumer",
                                    "region": "South",
                                    "category": "Furniture",
                                    "sub_category": "Tables",
                                    "total_sales": "1527.28",
                                    "previous_quarter_sales": "1256.22",
                                    "previous_year_sales": "NULL",
                                    "YoY_growth": "NULL",
                                    "QoQ_growth": "21.577400"
                                },
                                {
                                    "order_year": "2014",
                                    "order_quarter": "3",
                                    "market_segment": "Consumer",
                                    "region": "South",
                                    "category": "Furniture",
                                    "sub_category": "Tables",
                                    "total_sales": "174.06",
                                    "previous_quarter_sales": "1527.28",
                                    "previous_year_sales": "NULL",
                                    "YoY_growth": "NULL",
                                    "QoQ_growth": "-88.603200"
                                },
                                {
                                    "order_year": "2014",
                                    "order_quarter": "4",
                                    "market_segment": "Consumer",
                                    "region": "South",
                                    "category": "Furniture",
                                    "sub_category": "Tables",
                                    "total_sales": "945.04",
                                    "previous_quarter_sales": "174.06",
                                    "previous_year_sales": "NULL",
                                    "YoY_growth": "NULL",
                                    "QoQ_growth": "442.939200"
                                },
                                {
                                    "order_year": "2015",
                                    "order_quarter": "1",
                                    "market_segment": "Consumer",
                                    "region": "South",
                                    "category": "Furniture",
                                    "sub_category": "Tables",
                                    "total_sales": "4297.64",
                                    "previous_quarter_sales": "945.04",
                                    "previous_year_sales": "1256.22",
                                    "YoY_growth": "242.108800",
                                    "QoQ_growth": "354.757400"
                                },
                                {
                                    "order_year": "2015",
                                    "order_quarter": "2",
                                    "market_segment": "Consumer",
                                    "region": "South",
                                    "category": "Furniture",
                                    "sub_category": "Tables",
                                    "total_sales": "191.52",
                                    "previous_quarter_sales": "4297.64",
                                    "previous_year_sales": "1527.28",
                                    "YoY_growth": "-87.460000",
                                    "QoQ_growth": "-95.543600"
                                },
                                {
                                    "order_year": "2015",
                                    "order_quarter": "3",
                                    "market_segment": "Consumer",
                                    "region": "South",
                                    "category": "Furniture",
                                    "sub_category": "Tables",
                                    "total_sales": "887.94",
                                    "previous_quarter_sales": "191.52",
                                    "previous_year_sales": "174.06",
                                    "YoY_growth": "410.134400",
                                    "QoQ_growth": "363.627800"
                                },
                                {
                                    "order_year": "2015",
                                    "order_quarter": "4",
                                    "market_segment": "Consumer",
                                    "region": "South",
                                    "category": "Furniture",
                                    "sub_category": "Tables",
                                    "total_sales": "1635.00",
                                    "previous_quarter_sales": "887.94",
                                    "previous_year_sales": "945.04",
                                    "YoY_growth": "73.008500",
                                    "QoQ_growth": "84.134000"
                                },
                                {
                                    "order_year": "2016",
                                    "order_quarter": "1",
                                    "market_segment": "Consumer",
                                    "region": "South",
                                    "category": "Furniture",
                                    "sub_category": "Tables",
                                    "total_sales": "189.88",
                                    "previous_quarter_sales": "1635.00",
                                    "previous_year_sales": "4297.64",
                                    "YoY_growth": "-95.581700",
                                    "QoQ_growth": "-88.386500"
                                },
                                {
                                    "order_year": "2016",
                                    "order_quarter": "2",
                                    "market_segment": "Consumer",
                                    "region": "South",
                                    "category": "Furniture",
                                    "sub_category": "Tables",
                                    "total_sales": "714.54",
                                    "previous_quarter_sales": "189.88",
                                    "previous_year_sales": "191.52",
                                    "YoY_growth": "273.088900",
                                    "QoQ_growth": "276.311300"
                                },
                                {
                                    "order_year": "2016",
                                    "order_quarter": "3",
                                    "market_segment": "Consumer",
                                    "region": "South",
                                    "category": "Furniture",
                                    "sub_category": "Tables",
                                    "total_sales": "4555.54",
                                    "previous_quarter_sales": "714.54",
                                    "previous_year_sales": "887.94",
                                    "YoY_growth": "413.045900",
                                    "QoQ_growth": "537.548600"
                                },
                                {
                                    "order_year": "2016",
                                    "order_quarter": "4",
                                    "market_segment": "Consumer",
                                    "region": "South",
                                    "category": "Furniture",
                                    "sub_category": "Tables",
                                    "total_sales": "2230.82",
                                    "previous_quarter_sales": "4555.54",
                                    "previous_year_sales": "1635.00",
                                    "YoY_growth": "36.441500",
                                    "QoQ_growth": "-51.030600"
                                },
                                {
                                    "order_year": "2017",
                                    "order_quarter": "1",
                                    "market_segment": "Consumer",
                                    "region": "South",
                                    "category": "Furniture",
                                    "sub_category": "Tables",
                                    "total_sales": "292.10",
                                    "previous_quarter_sales": "2230.82",
                                    "previous_year_sales": "189.88",
                                    "YoY_growth": "53.834000",
                                    "QoQ_growth": "-86.906100"
                                },
                                {
                                    "order_year": "2017",
                                    "order_quarter": "2",
                                    "market_segment": "Consumer",
                                    "region": "South",
                                    "category": "Furniture",
                                    "sub_category": "Tables",
                                    "total_sales": "933.26",
                                    "previous_quarter_sales": "292.10",
                                    "previous_year_sales": "714.54",
                                    "YoY_growth": "30.609900",
                                    "QoQ_growth": "219.500100"
                                },
                                {
                                    "order_year": "2017",
                                    "order_quarter": "4",
                                    "market_segment": "Consumer",
                                    "region": "South",
                                    "category": "Furniture",
                                    "sub_category": "Tables",
                                    "total_sales": "4578.01",
                                    "previous_quarter_sales": "933.26",
                                    "previous_year_sales": "4555.54",
                                    "YoY_growth": "0.493200",
                                    "QoQ_growth": "390.539600"
                                },
                                {
                                    "order_year": "2014",
                                    "order_quarter": "1",
                                    "market_segment": "Consumer",
                                    "region": "West",
                                    "category": "Furniture",
                                    "sub_category": "Bookcases",
                                    "total_sales": "1011.81",
                                    "previous_quarter_sales": "NULL",
                                    "previous_year_sales": "NULL",
                                    "YoY_growth": "NULL",
                                    "QoQ_growth": "NULL"
                                },
                                {
                                    "order_year": "2014",
                                    "order_quarter": "4",
                                    "market_segment": "Consumer",
                                    "region": "West",
                                    "category": "Furniture",
                                    "sub_category": "Bookcases",
                                    "total_sales": "477.64",
                                    "previous_quarter_sales": "1011.81",
                                    "previous_year_sales": "NULL",
                                    "YoY_growth": "NULL",
                                    "QoQ_growth": "-52.793500"
                                },
                                {
                                    "order_year": "2015",
                                    "order_quarter": "1",
                                    "market_segment": "Consumer",
                                    "region": "West",
                                    "category": "Furniture",
                                    "sub_category": "Bookcases",
                                    "total_sales": "141.96",
                                    "previous_quarter_sales": "477.64",
                                    "previous_year_sales": "NULL",
                                    "YoY_growth": "NULL",
                                    "QoQ_growth": "-70.278800"
                                },
                                {
                                    "order_year": "2015",
                                    "order_quarter": "2",
                                    "market_segment": "Consumer",
                                    "region": "West",
                                    "category": "Furniture",
                                    "sub_category": "Bookcases",
                                    "total_sales": "1406.86",
                                    "previous_quarter_sales": "141.96",
                                    "previous_year_sales": "NULL",
                                    "YoY_growth": "NULL",
                                    "QoQ_growth": "891.025600"
                                },
                                {
                                    "order_year": "2015",
                                    "order_quarter": "3",
                                    "market_segment": "Consumer",
                                    "region": "West",
                                    "category": "Furniture",
                                    "sub_category": "Bookcases",
                                    "total_sales": "2040.33",
                                    "previous_quarter_sales": "1406.86",
                                    "previous_year_sales": "1011.81",
                                    "YoY_growth": "101.651400",
                                    "QoQ_growth": "45.027200"
                                },
                                {
                                    "order_year": "2015",
                                    "order_quarter": "4",
                                    "market_segment": "Consumer",
                                    "region": "West",
                                    "category": "Furniture",
                                    "sub_category": "Bookcases",
                                    "total_sales": "3115.48",
                                    "previous_quarter_sales": "2040.33",
                                    "previous_year_sales": "477.64",
                                    "YoY_growth": "552.265300",
                                    "QoQ_growth": "52.694900"
                                },
                                {
                                    "order_year": "2016",
                                    "order_quarter": "1",
                                    "market_segment": "Consumer",
                                    "region": "West",
                                    "category": "Furniture",
                                    "sub_category": "Bookcases",
                                    "total_sales": "120.87",
                                    "previous_quarter_sales": "3115.48",
                                    "previous_year_sales": "141.96",
                                    "YoY_growth": "-14.856200",
                                    "QoQ_growth": "-96.120300"
                                },
                                {
                                    "order_year": "2016",
                                    "order_quarter": "2",
                                    "market_segment": "Consumer",
                                    "region": "West",
                                    "category": "Furniture",
                                    "sub_category": "Bookcases",
                                    "total_sales": "1053.83",
                                    "previous_quarter_sales": "120.87",
                                    "previous_year_sales": "1406.86",
                                    "YoY_growth": "-25.093400",
                                    "QoQ_growth": "771.870600"
                                },
                                {
                                    "order_year": "2016",
                                    "order_quarter": "3",
                                    "market_segment": "Consumer",
                                    "region": "West",
                                    "category": "Furniture",
                                    "sub_category": "Bookcases",
                                    "total_sales": "1279.16",
                                    "previous_quarter_sales": "1053.83",
                                    "previous_year_sales": "2040.33",
                                    "YoY_growth": "-37.306200",
                                    "QoQ_growth": "21.382000"
                                },
                                {
                                    "order_year": "2016",
                                    "order_quarter": "4",
                                    "market_segment": "Consumer",
                                    "region": "West",
                                    "category": "Furniture",
                                    "sub_category": "Bookcases",
                                    "total_sales": "3612.33",
                                    "previous_quarter_sales": "1279.16",
                                    "previous_year_sales": "3115.48",
                                    "YoY_growth": "15.947700",
                                    "QoQ_growth": "182.398600"
                                },
                                {
                                    "order_year": "2017",
                                    "order_quarter": "2",
                                    "market_segment": "Consumer",
                                    "region": "West",
                                    "category": "Furniture",
                                    "sub_category": "Bookcases",
                                    "total_sales": "2066.14",
                                    "previous_quarter_sales": "3612.33",
                                    "previous_year_sales": "120.87",
                                    "YoY_growth": "1609.390200",
                                    "QoQ_growth": "-42.803100"
                                },
                                {
                                    "order_year": "2017",
                                    "order_quarter": "3",
                                    "market_segment": "Consumer",
                                    "region": "West",
                                    "category": "Furniture",
                                    "sub_category": "Bookcases",
                                    "total_sales": "536.22",
                                    "previous_quarter_sales": "2066.14",
                                    "previous_year_sales": "1053.83",
                                    "YoY_growth": "-49.117000",
                                    "QoQ_growth": "-74.047200"
                                },
                                {
                                    "order_year": "2017",
                                    "order_quarter": "4",
                                    "market_segment": "Consumer",
                                    "region": "West",
                                    "category": "Furniture",
                                    "sub_category": "Bookcases",
                                    "total_sales": "2785.55",
                                    "previous_quarter_sales": "536.22",
                                    "previous_year_sales": "1279.16",
                                    "YoY_growth": "117.764000",
                                    "QoQ_growth": "419.478900"
                                },
                                {
                                    "order_year": "2014",
                                    "order_quarter": "1",
                                    "market_segment": "Consumer",
                                    "region": "West",
                                    "category": "Furniture",
                                    "sub_category": "Chairs",
                                    "total_sales": "635.85",
                                    "previous_quarter_sales": "NULL",
                                    "previous_year_sales": "NULL",
                                    "YoY_growth": "NULL",
                                    "QoQ_growth": "NULL"
                                },
                                {
                                    "order_year": "2014",
                                    "order_quarter": "2",
                                    "market_segment": "Consumer",
                                    "region": "West",
                                    "category": "Furniture",
                                    "sub_category": "Chairs",
                                    "total_sales": "1067.63",
                                    "previous_quarter_sales": "635.85",
                                    "previous_year_sales": "NULL",
                                    "YoY_growth": "NULL",
                                    "QoQ_growth": "67.905900"
                                },
                                {
                                    "order_year": "2014",
                                    "order_quarter": "3",
                                    "market_segment": "Consumer",
                                    "region": "West",
                                    "category": "Furniture",
                                    "sub_category": "Chairs",
                                    "total_sales": "5262.94",
                                    "previous_quarter_sales": "1067.63",
                                    "previous_year_sales": "NULL",
                                    "YoY_growth": "NULL",
                                    "QoQ_growth": "392.955400"
                                },
                                {
                                    "order_year": "2014",
                                    "order_quarter": "4",
                                    "market_segment": "Consumer",
                                    "region": "West",
                                    "category": "Furniture",
                                    "sub_category": "Chairs",
                                    "total_sales": "5956.02",
                                    "previous_quarter_sales": "5262.94",
                                    "previous_year_sales": "NULL",
                                    "YoY_growth": "NULL",
                                    "QoQ_growth": "13.169000"
                                },
                                {
                                    "order_year": "2015",
                                    "order_quarter": "1",
                                    "market_segment": "Consumer",
                                    "region": "West",
                                    "category": "Furniture",
                                    "sub_category": "Chairs",
                                    "total_sales": "3007.84",
                                    "previous_quarter_sales": "5956.02",
                                    "previous_year_sales": "635.85",
                                    "YoY_growth": "373.042300",
                                    "QoQ_growth": "-49.499100"
                                },
                                {
                                    "order_year": "2015",
                                    "order_quarter": "3",
                                    "market_segment": "Consumer",
                                    "region": "West",
                                    "category": "Furniture",
                                    "sub_category": "Chairs",
                                    "total_sales": "1318.62",
                                    "previous_quarter_sales": "3007.84",
                                    "previous_year_sales": "1067.63",
                                    "YoY_growth": "23.509000",
                                    "QoQ_growth": "-56.160500"
                                },
                                {
                                    "order_year": "2015",
                                    "order_quarter": "4",
                                    "market_segment": "Consumer",
                                    "region": "West",
                                    "category": "Furniture",
                                    "sub_category": "Chairs",
                                    "total_sales": "4434.18",
                                    "previous_quarter_sales": "1318.62",
                                    "previous_year_sales": "5262.94",
                                    "YoY_growth": "-15.747000",
                                    "QoQ_growth": "236.274200"
                                },
                                {
                                    "order_year": "2016",
                                    "order_quarter": "1",
                                    "market_segment": "Consumer",
                                    "region": "West",
                                    "category": "Furniture",
                                    "sub_category": "Chairs",
                                    "total_sales": "1770.12",
                                    "previous_quarter_sales": "4434.18",
                                    "previous_year_sales": "5956.02",
                                    "YoY_growth": "-70.280100",
                                    "QoQ_growth": "-60.080100"
                                },
                                {
                                    "order_year": "2016",
                                    "order_quarter": "2",
                                    "market_segment": "Consumer",
                                    "region": "West",
                                    "category": "Furniture",
                                    "sub_category": "Chairs",
                                    "total_sales": "4523.31",
                                    "previous_quarter_sales": "1770.12",
                                    "previous_year_sales": "3007.84",
                                    "YoY_growth": "50.383900",
                                    "QoQ_growth": "155.536900"
                                },
                                {
                                    "order_year": "2016",
                                    "order_quarter": "3",
                                    "market_segment": "Consumer",
                                    "region": "West",
                                    "category": "Furniture",
                                    "sub_category": "Chairs",
                                    "total_sales": "2424.24",
                                    "previous_quarter_sales": "4523.31",
                                    "previous_year_sales": "1318.62",
                                    "YoY_growth": "83.846700",
                                    "QoQ_growth": "-46.405600"
                                },
                                {
                                    "order_year": "2016",
                                    "order_quarter": "4",
                                    "market_segment": "Consumer",
                                    "region": "West",
                                    "category": "Furniture",
                                    "sub_category": "Chairs",
                                    "total_sales": "3864.78",
                                    "previous_quarter_sales": "2424.24",
                                    "previous_year_sales": "4434.18",
                                    "YoY_growth": "-12.841100",
                                    "QoQ_growth": "59.422300"
                                },
                                {
                                    "order_year": "2017",
                                    "order_quarter": "1",
                                    "market_segment": "Consumer",
                                    "region": "West",
                                    "category": "Furniture",
                                    "sub_category": "Chairs",
                                    "total_sales": "170.35",
                                    "previous_quarter_sales": "3864.78",
                                    "previous_year_sales": "1770.12",
                                    "YoY_growth": "-90.376300",
                                    "QoQ_growth": "-95.592200"
                                },
                                {
                                    "order_year": "2017",
                                    "order_quarter": "2",
                                    "market_segment": "Consumer",
                                    "region": "West",
                                    "category": "Furniture",
                                    "sub_category": "Chairs",
                                    "total_sales": "1694.89",
                                    "previous_quarter_sales": "170.35",
                                    "previous_year_sales": "4523.31",
                                    "YoY_growth": "-62.529800",
                                    "QoQ_growth": "894.945700"
                                },
                                {
                                    "order_year": "2017",
                                    "order_quarter": "3",
                                    "market_segment": "Consumer",
                                    "region": "West",
                                    "category": "Furniture",
                                    "sub_category": "Chairs",
                                    "total_sales": "2681.93",
                                    "previous_quarter_sales": "1694.89",
                                    "previous_year_sales": "2424.24",
                                    "YoY_growth": "10.629700",
                                    "QoQ_growth": "58.236200"
                                },
                                {
                                    "order_year": "2017",
                                    "order_quarter": "4",
                                    "market_segment": "Consumer",
                                    "region": "West",
                                    "category": "Furniture",
                                    "sub_category": "Chairs",
                                    "total_sales": "4667.34",
                                    "previous_quarter_sales": "2681.93",
                                    "previous_year_sales": "3864.78",
                                    "YoY_growth": "20.765900",
                                    "QoQ_growth": "74.029100"
                                },
                                {
                                    "order_year": "2014",
                                    "order_quarter": "1",
                                    "market_segment": "Consumer",
                                    "region": "West",
                                    "category": "Furniture",
                                    "sub_category": "Furnishings",
                                    "total_sales": "59.78",
                                    "previous_quarter_sales": "NULL",
                                    "previous_year_sales": "NULL",
                                    "YoY_growth": "NULL",
                                    "QoQ_growth": "NULL"
                                },
                                {
                                    "order_year": "2014",
                                    "order_quarter": "2",
                                    "market_segment": "Consumer",
                                    "region": "West",
                                    "category": "Furniture",
                                    "sub_category": "Furnishings",
                                    "total_sales": "119.29",
                                    "previous_quarter_sales": "59.78",
                                    "previous_year_sales": "NULL",
                                    "YoY_growth": "NULL",
                                    "QoQ_growth": "99.548300"
                                },
                                {
                                    "order_year": "2014",
                                    "order_quarter": "3",
                                    "market_segment": "Consumer",
                                    "region": "West",
                                    "category": "Furniture",
                                    "sub_category": "Furnishings",
                                    "total_sales": "1188.18",
                                    "previous_quarter_sales": "119.29",
                                    "previous_year_sales": "NULL",
                                    "YoY_growth": "NULL",
                                    "QoQ_growth": "896.043200"
                                },
                                {
                                    "order_year": "2014",
                                    "order_quarter": "4",
                                    "market_segment": "Consumer",
                                    "region": "West",
                                    "category": "Furniture",
                                    "sub_category": "Furnishings",
                                    "total_sales": "539.07",
                                    "previous_quarter_sales": "1188.18",
                                    "previous_year_sales": "NULL",
                                    "YoY_growth": "NULL",
                                    "QoQ_growth": "-54.630600"
                                },
                                {
                                    "order_year": "2015",
                                    "order_quarter": "1",
                                    "market_segment": "Consumer",
                                    "region": "West",
                                    "category": "Furniture",
                                    "sub_category": "Furnishings",
                                    "total_sales": "1224.99",
                                    "previous_quarter_sales": "539.07",
                                    "previous_year_sales": "59.78",
                                    "YoY_growth": "1949.163500",
                                    "QoQ_growth": "127.241300"
                                },
                                {
                                    "order_year": "2015",
                                    "order_quarter": "2",
                                    "market_segment": "Consumer",
                                    "region": "West",
                                    "category": "Furniture",
                                    "sub_category": "Furnishings",
                                    "total_sales": "997.97",
                                    "previous_quarter_sales": "1224.99",
                                    "previous_year_sales": "119.29",
                                    "YoY_growth": "736.591400",
                                    "QoQ_growth": "-18.532300"
                                },
                                {
                                    "order_year": "2015",
                                    "order_quarter": "3",
                                    "market_segment": "Consumer",
                                    "region": "West",
                                    "category": "Furniture",
                                    "sub_category": "Furnishings",
                                    "total_sales": "349.83",
                                    "previous_quarter_sales": "997.97",
                                    "previous_year_sales": "1188.18",
                                    "YoY_growth": "-70.557400",
                                    "QoQ_growth": "-64.945800"
                                },
                                {
                                    "order_year": "2015",
                                    "order_quarter": "4",
                                    "market_segment": "Consumer",
                                    "region": "West",
                                    "category": "Furniture",
                                    "sub_category": "Furnishings",
                                    "total_sales": "1454.38",
                                    "previous_quarter_sales": "349.83",
                                    "previous_year_sales": "539.07",
                                    "YoY_growth": "169.794200",
                                    "QoQ_growth": "315.739000"
                                },
                                {
                                    "order_year": "2016",
                                    "order_quarter": "1",
                                    "market_segment": "Consumer",
                                    "region": "West",
                                    "category": "Furniture",
                                    "sub_category": "Furnishings",
                                    "total_sales": "99.21",
                                    "previous_quarter_sales": "1454.38",
                                    "previous_year_sales": "1224.99",
                                    "YoY_growth": "-91.901100",
                                    "QoQ_growth": "-93.178500"
                                },
                                {
                                    "order_year": "2016",
                                    "order_quarter": "2",
                                    "market_segment": "Consumer",
                                    "region": "West",
                                    "category": "Furniture",
                                    "sub_category": "Furnishings",
                                    "total_sales": "706.24",
                                    "previous_quarter_sales": "99.21",
                                    "previous_year_sales": "997.97",
                                    "YoY_growth": "-29.232300",
                                    "QoQ_growth": "611.863700"
                                },
                                {
                                    "order_year": "2016",
                                    "order_quarter": "3",
                                    "market_segment": "Consumer",
                                    "region": "West",
                                    "category": "Furniture",
                                    "sub_category": "Furnishings",
                                    "total_sales": "1155.23",
                                    "previous_quarter_sales": "706.24",
                                    "previous_year_sales": "349.83",
                                    "YoY_growth": "230.226100",
                                    "QoQ_growth": "63.574700"
                                },
                                {
                                    "order_year": "2016",
                                    "order_quarter": "4",
                                    "market_segment": "Consumer",
                                    "region": "West",
                                    "category": "Furniture",
                                    "sub_category": "Furnishings",
                                    "total_sales": "2845.29",
                                    "previous_quarter_sales": "1155.23",
                                    "previous_year_sales": "1454.38",
                                    "YoY_growth": "95.635900",
                                    "QoQ_growth": "146.296400"
                                },
                                {
                                    "order_year": "2017",
                                    "order_quarter": "1",
                                    "market_segment": "Consumer",
                                    "region": "West",
                                    "category": "Furniture",
                                    "sub_category": "Furnishings",
                                    "total_sales": "885.31",
                                    "previous_quarter_sales": "2845.29",
                                    "previous_year_sales": "99.21",
                                    "YoY_growth": "792.359600",
                                    "QoQ_growth": "-68.885000"
                                },
                                {
                                    "order_year": "2017",
                                    "order_quarter": "2",
                                    "market_segment": "Consumer",
                                    "region": "West",
                                    "category": "Furniture",
                                    "sub_category": "Furnishings",
                                    "total_sales": "746.54",
                                    "previous_quarter_sales": "885.31",
                                    "previous_year_sales": "706.24",
                                    "YoY_growth": "5.706200",
                                    "QoQ_growth": "-15.674700"
                                },
                                {
                                    "order_year": "2017",
                                    "order_quarter": "3",
                                    "market_segment": "Consumer",
                                    "region": "West",
                                    "category": "Furniture",
                                    "sub_category": "Furnishings",
                                    "total_sales": "2739.18",
                                    "previous_quarter_sales": "746.54",
                                    "previous_year_sales": "1155.23",
                                    "YoY_growth": "137.111200",
                                    "QoQ_growth": "266.916700"
                                },
                                {
                                    "order_year": "2017",
                                    "order_quarter": "4",
                                    "market_segment": "Consumer",
                                    "region": "West",
                                    "category": "Furniture",
                                    "sub_category": "Furnishings",
                                    "total_sales": "961.92",
                                    "previous_quarter_sales": "2739.18",
                                    "previous_year_sales": "2845.29",
                                    "YoY_growth": "-66.192500",
                                    "QoQ_growth": "-64.882900"
                                },
                                {
                                    "order_year": "2014",
                                    "order_quarter": "1",
                                    "market_segment": "Consumer",
                                    "region": "West",
                                    "category": "Furniture",
                                    "sub_category": "Tables",
                                    "total_sales": "959.35",
                                    "previous_quarter_sales": "NULL",
                                    "previous_year_sales": "NULL",
                                    "YoY_growth": "NULL",
                                    "QoQ_growth": "NULL"
                                },
                                {
                                    "order_year": "2014",
                                    "order_quarter": "2",
                                    "market_segment": "Consumer",
                                    "region": "West",
                                    "category": "Furniture",
                                    "sub_category": "Tables",
                                    "total_sales": "2222.06",
                                    "previous_quarter_sales": "959.35",
                                    "previous_year_sales": "NULL",
                                    "YoY_growth": "NULL",
                                    "QoQ_growth": "131.621400"
                                },
                                {
                                    "order_year": "2014",
                                    "order_quarter": "3",
                                    "market_segment": "Consumer",
                                    "region": "West",
                                    "category": "Furniture",
                                    "sub_category": "Tables",
                                    "total_sales": "389.10",
                                    "previous_quarter_sales": "2222.06",
                                    "previous_year_sales": "NULL",
                                    "YoY_growth": "NULL",
                                    "QoQ_growth": "-82.489200"
                                },
                                {
                                    "order_year": "2014",
                                    "order_quarter": "4",
                                    "market_segment": "Consumer",
                                    "region": "West",
                                    "category": "Furniture",
                                    "sub_category": "Tables",
                                    "total_sales": "7298.35",
                                    "previous_quarter_sales": "389.10",
                                    "previous_year_sales": "NULL",
                                    "YoY_growth": "NULL",
                                    "QoQ_growth": "1775.700300"
                                },
                                {
                                    "order_year": "2015",
                                    "order_quarter": "1",
                                    "market_segment": "Consumer",
                                    "region": "West",
                                    "category": "Furniture",
                                    "sub_category": "Tables",
                                    "total_sales": "995.03",
                                    "previous_quarter_sales": "7298.35",
                                    "previous_year_sales": "959.35",
                                    "YoY_growth": "3.719100",
                                    "QoQ_growth": "-86.366300"
                                },
                                {
                                    "order_year": "2015",
                                    "order_quarter": "2",
                                    "market_segment": "Consumer",
                                    "region": "West",
                                    "category": "Furniture",
                                    "sub_category": "Tables",
                                    "total_sales": "1322.31",
                                    "previous_quarter_sales": "995.03",
                                    "previous_year_sales": "2222.06",
                                    "YoY_growth": "-40.491700",
                                    "QoQ_growth": "32.891400"
                                },
                                {
                                    "order_year": "2015",
                                    "order_quarter": "3",
                                    "market_segment": "Consumer",
                                    "region": "West",
                                    "category": "Furniture",
                                    "sub_category": "Tables",
                                    "total_sales": "2628.05",
                                    "previous_quarter_sales": "1322.31",
                                    "previous_year_sales": "389.10",
                                    "YoY_growth": "575.417600",
                                    "QoQ_growth": "98.746800"
                                },
                                {
                                    "order_year": "2015",
                                    "order_quarter": "4",
                                    "market_segment": "Consumer",
                                    "region": "West",
                                    "category": "Furniture",
                                    "sub_category": "Tables",
                                    "total_sales": "3640.12",
                                    "previous_quarter_sales": "2628.05",
                                    "previous_year_sales": "7298.35",
                                    "YoY_growth": "-50.124000",
                                    "QoQ_growth": "38.510300"
                                },
                                {
                                    "order_year": "2016",
                                    "order_quarter": "1",
                                    "market_segment": "Consumer",
                                    "region": "West",
                                    "category": "Furniture",
                                    "sub_category": "Tables",
                                    "total_sales": "557.73",
                                    "previous_quarter_sales": "3640.12",
                                    "previous_year_sales": "995.03",
                                    "YoY_growth": "-43.948400",
                                    "QoQ_growth": "-84.678200"
                                },
                                {
                                    "order_year": "2016",
                                    "order_quarter": "2",
                                    "market_segment": "Consumer",
                                    "region": "West",
                                    "category": "Furniture",
                                    "sub_category": "Tables",
                                    "total_sales": "2608.26",
                                    "previous_quarter_sales": "557.73",
                                    "previous_year_sales": "1322.31",
                                    "YoY_growth": "97.250200",
                                    "QoQ_growth": "367.656300"
                                },
                                {
                                    "order_year": "2016",
                                    "order_quarter": "3",
                                    "market_segment": "Consumer",
                                    "region": "West",
                                    "category": "Furniture",
                                    "sub_category": "Tables",
                                    "total_sales": "1107.94",
                                    "previous_quarter_sales": "2608.26",
                                    "previous_year_sales": "2628.05",
                                    "YoY_growth": "-57.841700",
                                    "QoQ_growth": "-57.521800"
                                },
                                {
                                    "order_year": "2016",
                                    "order_quarter": "4",
                                    "market_segment": "Consumer",
                                    "region": "West",
                                    "category": "Furniture",
                                    "sub_category": "Tables",
                                    "total_sales": "4911.61",
                                    "previous_quarter_sales": "1107.94",
                                    "previous_year_sales": "3640.12",
                                    "YoY_growth": "34.929800",
                                    "QoQ_growth": "343.310100"
                                },
                                {
                                    "order_year": "2017",
                                    "order_quarter": "1",
                                    "market_segment": "Consumer",
                                    "region": "West",
                                    "category": "Furniture",
                                    "sub_category": "Tables",
                                    "total_sales": "697.16",
                                    "previous_quarter_sales": "4911.61",
                                    "previous_year_sales": "557.73",
                                    "YoY_growth": "24.999500",
                                    "QoQ_growth": "-85.805800"
                                },
                                {
                                    "order_year": "2017",
                                    "order_quarter": "2",
                                    "market_segment": "Consumer",
                                    "region": "West",
                                    "category": "Furniture",
                                    "sub_category": "Tables",
                                    "total_sales": "1042.69",
                                    "previous_quarter_sales": "697.16",
                                    "previous_year_sales": "2608.26",
                                    "YoY_growth": "-60.023500",
                                    "QoQ_growth": "49.562500"
                                },
                                {
                                    "order_year": "2017",
                                    "order_quarter": "3",
                                    "market_segment": "Consumer",
                                    "region": "West",
                                    "category": "Furniture",
                                    "sub_category": "Tables",
                                    "total_sales": "3713.44",
                                    "previous_quarter_sales": "1042.69",
                                    "previous_year_sales": "1107.94",
                                    "YoY_growth": "235.166100",
                                    "QoQ_growth": "256.140300"
                                },
                                {
                                    "order_year": "2017",
                                    "order_quarter": "4",
                                    "market_segment": "Consumer",
                                    "region": "West",
                                    "category": "Furniture",
                                    "sub_category": "Tables",
                                    "total_sales": "6514.31",
                                    "previous_quarter_sales": "3713.44",
                                    "previous_year_sales": "4911.61",
                                    "YoY_growth": "32.630800",
                                    "QoQ_growth": "75.425200"
                                },
                                {
                                    "order_year": "2014",
                                    "order_quarter": "1",
                                    "market_segment": "Corporate",
                                    "region": "Central",
                                    "category": "Furniture",
                                    "sub_category": "Bookcases",
                                    "total_sales": "141.96",
                                    "previous_quarter_sales": "NULL",
                                    "previous_year_sales": "NULL",
                                    "YoY_growth": "NULL",
                                    "QoQ_growth": "NULL"
                                },
                                {
                                    "order_year": "2014",
                                    "order_quarter": "4",
                                    "market_segment": "Corporate",
                                    "region": "Central",
                                    "category": "Furniture",
                                    "sub_category": "Bookcases",
                                    "total_sales": "67.99",
                                    "previous_quarter_sales": "141.96",
                                    "previous_year_sales": "NULL",
                                    "YoY_growth": "NULL",
                                    "QoQ_growth": "-52.106200"
                                },
                                {
                                    "order_year": "2015",
                                    "order_quarter": "1",
                                    "market_segment": "Corporate",
                                    "region": "Central",
                                    "category": "Furniture",
                                    "sub_category": "Bookcases",
                                    "total_sales": "1228.00",
                                    "previous_quarter_sales": "67.99",
                                    "previous_year_sales": "NULL",
                                    "YoY_growth": "NULL",
                                    "QoQ_growth": "1706.147900"
                                },
                                {
                                    "order_year": "2015",
                                    "order_quarter": "3",
                                    "market_segment": "Corporate",
                                    "region": "Central",
                                    "category": "Furniture",
                                    "sub_category": "Bookcases",
                                    "total_sales": "563.52",
                                    "previous_quarter_sales": "1228.00",
                                    "previous_year_sales": "NULL",
                                    "YoY_growth": "NULL",
                                    "QoQ_growth": "-54.110700"
                                },
                                {
                                    "order_year": "2015",
                                    "order_quarter": "4",
                                    "market_segment": "Corporate",
                                    "region": "Central",
                                    "category": "Furniture",
                                    "sub_category": "Bookcases",
                                    "total_sales": "407.11",
                                    "previous_quarter_sales": "563.52",
                                    "previous_year_sales": "141.96",
                                    "YoY_growth": "186.777900",
                                    "QoQ_growth": "-27.755800"
                                },
                                {
                                    "order_year": "2016",
                                    "order_quarter": "1",
                                    "market_segment": "Corporate",
                                    "region": "Central",
                                    "category": "Furniture",
                                    "sub_category": "Bookcases",
                                    "total_sales": "1565.88",
                                    "previous_quarter_sales": "407.11",
                                    "previous_year_sales": "67.99",
                                    "YoY_growth": "2203.103300",
                                    "QoQ_growth": "284.633100"
                                },
                                {
                                    "order_year": "2016",
                                    "order_quarter": "3",
                                    "market_segment": "Corporate",
                                    "region": "Central",
                                    "category": "Furniture",
                                    "sub_category": "Bookcases",
                                    "total_sales": "1198.62",
                                    "previous_quarter_sales": "1565.88",
                                    "previous_year_sales": "1228.00",
                                    "YoY_growth": "-2.392500",
                                    "QoQ_growth": "-23.453900"
                                },
                                {
                                    "order_year": "2016",
                                    "order_quarter": "4",
                                    "market_segment": "Corporate",
                                    "region": "Central",
                                    "category": "Furniture",
                                    "sub_category": "Bookcases",
                                    "total_sales": "923.23",
                                    "previous_quarter_sales": "1198.62",
                                    "previous_year_sales": "563.52",
                                    "YoY_growth": "63.832600",
                                    "QoQ_growth": "-22.975500"
                                },
                                {
                                    "order_year": "2017",
                                    "order_quarter": "1",
                                    "market_segment": "Corporate",
                                    "region": "Central",
                                    "category": "Furniture",
                                    "sub_category": "Bookcases",
                                    "total_sales": "418.27",
                                    "previous_quarter_sales": "923.23",
                                    "previous_year_sales": "407.11",
                                    "YoY_growth": "2.741200",
                                    "QoQ_growth": "-54.694900"
                                },
                                {
                                    "order_year": "2017",
                                    "order_quarter": "2",
                                    "market_segment": "Corporate",
                                    "region": "Central",
                                    "category": "Furniture",
                                    "sub_category": "Bookcases",
                                    "total_sales": "843.73",
                                    "previous_quarter_sales": "418.27",
                                    "previous_year_sales": "1565.88",
                                    "YoY_growth": "-46.117800",
                                    "QoQ_growth": "101.718900"
                                },
                                {
                                    "order_year": "2017",
                                    "order_quarter": "3",
                                    "market_segment": "Corporate",
                                    "region": "Central",
                                    "category": "Furniture",
                                    "sub_category": "Bookcases",
                                    "total_sales": "825.17",
                                    "previous_quarter_sales": "843.73",
                                    "previous_year_sales": "1198.62",
                                    "YoY_growth": "-31.156600",
                                    "QoQ_growth": "-2.199700"
                                },
                                {
                                    "order_year": "2017",
                                    "order_quarter": "4",
                                    "market_segment": "Corporate",
                                    "region": "Central",
                                    "category": "Furniture",
                                    "sub_category": "Bookcases",
                                    "total_sales": "206.00",
                                    "previous_quarter_sales": "825.17",
                                    "previous_year_sales": "923.23",
                                    "YoY_growth": "-77.687000",
                                    "QoQ_growth": "-75.035400"
                                },
                                {
                                    "order_year": "2014",
                                    "order_quarter": "2",
                                    "market_segment": "Corporate",
                                    "region": "Central",
                                    "category": "Furniture",
                                    "sub_category": "Chairs",
                                    "total_sales": "2010.90",
                                    "previous_quarter_sales": "NULL",
                                    "previous_year_sales": "NULL",
                                    "YoY_growth": "NULL",
                                    "QoQ_growth": "NULL"
                                },
                                {
                                    "order_year": "2014",
                                    "order_quarter": "3",
                                    "market_segment": "Corporate",
                                    "region": "Central",
                                    "category": "Furniture",
                                    "sub_category": "Chairs",
                                    "total_sales": "657.93",
                                    "previous_quarter_sales": "2010.90",
                                    "previous_year_sales": "NULL",
                                    "YoY_growth": "NULL",
                                    "QoQ_growth": "-67.281800"
                                },
                                {
                                    "order_year": "2014",
                                    "order_quarter": "4",
                                    "market_segment": "Corporate",
                                    "region": "Central",
                                    "category": "Furniture",
                                    "sub_category": "Chairs",
                                    "total_sales": "1222.37",
                                    "previous_quarter_sales": "657.93",
                                    "previous_year_sales": "NULL",
                                    "YoY_growth": "NULL",
                                    "QoQ_growth": "85.790200"
                                },
                                {
                                    "order_year": "2015",
                                    "order_quarter": "2",
                                    "market_segment": "Corporate",
                                    "region": "Central",
                                    "category": "Furniture",
                                    "sub_category": "Chairs",
                                    "total_sales": "56.69",
                                    "previous_quarter_sales": "1222.37",
                                    "previous_year_sales": "NULL",
                                    "YoY_growth": "NULL",
                                    "QoQ_growth": "-95.362200"
                                },
                                {
                                    "order_year": "2015",
                                    "order_quarter": "3",
                                    "market_segment": "Corporate",
                                    "region": "Central",
                                    "category": "Furniture",
                                    "sub_category": "Chairs",
                                    "total_sales": "179.89",
                                    "previous_quarter_sales": "56.69",
                                    "previous_year_sales": "2010.90",
                                    "YoY_growth": "-91.054200",
                                    "QoQ_growth": "217.322200"
                                },
                                {
                                    "order_year": "2015",
                                    "order_quarter": "4",
                                    "market_segment": "Corporate",
                                    "region": "Central",
                                    "category": "Furniture",
                                    "sub_category": "Chairs",
                                    "total_sales": "1600.83",
                                    "previous_quarter_sales": "179.89",
                                    "previous_year_sales": "657.93",
                                    "YoY_growth": "143.313100",
                                    "QoQ_growth": "789.893800"
                                },
                                {
                                    "order_year": "2016",
                                    "order_quarter": "1",
                                    "market_segment": "Corporate",
                                    "region": "Central",
                                    "category": "Furniture",
                                    "sub_category": "Chairs",
                                    "total_sales": "1396.32",
                                    "previous_quarter_sales": "1600.83",
                                    "previous_year_sales": "1222.37",
                                    "YoY_growth": "14.230500",
                                    "QoQ_growth": "-12.775200"
                                },
                                {
                                    "order_year": "2016",
                                    "order_quarter": "2",
                                    "market_segment": "Corporate",
                                    "region": "Central",
                                    "category": "Furniture",
                                    "sub_category": "Chairs",
                                    "total_sales": "5843.83",
                                    "previous_quarter_sales": "1396.32",
                                    "previous_year_sales": "56.69",
                                    "YoY_growth": "10208.396500",
                                    "QoQ_growth": "318.516500"
                                },
                                {
                                    "order_year": "2016",
                                    "order_quarter": "3",
                                    "market_segment": "Corporate",
                                    "region": "Central",
                                    "category": "Furniture",
                                    "sub_category": "Chairs",
                                    "total_sales": "3214.80",
                                    "previous_quarter_sales": "5843.83",
                                    "previous_year_sales": "179.89",
                                    "YoY_growth": "1687.092100",
                                    "QoQ_growth": "-44.988100"
                                },
                                {
                                    "order_year": "2016",
                                    "order_quarter": "4",
                                    "market_segment": "Corporate",
                                    "region": "Central",
                                    "category": "Furniture",
                                    "sub_category": "Chairs",
                                    "total_sales": "3532.72",
                                    "previous_quarter_sales": "3214.80",
                                    "previous_year_sales": "1600.83",
                                    "YoY_growth": "120.680500",
                                    "QoQ_growth": "9.889200"
                                },
                                {
                                    "order_year": "2017",
                                    "order_quarter": "1",
                                    "market_segment": "Corporate",
                                    "region": "Central",
                                    "category": "Furniture",
                                    "sub_category": "Chairs",
                                    "total_sales": "1986.52",
                                    "previous_quarter_sales": "3532.72",
                                    "previous_year_sales": "1396.32",
                                    "YoY_growth": "42.268200",
                                    "QoQ_growth": "-43.767900"
                                },
                                {
                                    "order_year": "2017",
                                    "order_quarter": "2",
                                    "market_segment": "Corporate",
                                    "region": "Central",
                                    "category": "Furniture",
                                    "sub_category": "Chairs",
                                    "total_sales": "3994.84",
                                    "previous_quarter_sales": "1986.52",
                                    "previous_year_sales": "5843.83",
                                    "YoY_growth": "-31.640000",
                                    "QoQ_growth": "101.097300"
                                },
                                {
                                    "order_year": "2017",
                                    "order_quarter": "3",
                                    "market_segment": "Corporate",
                                    "region": "Central",
                                    "category": "Furniture",
                                    "sub_category": "Chairs",
                                    "total_sales": "1000.29",
                                    "previous_quarter_sales": "3994.84",
                                    "previous_year_sales": "3214.80",
                                    "YoY_growth": "-68.884800",
                                    "QoQ_growth": "-74.960400"
                                },
                                {
                                    "order_year": "2017",
                                    "order_quarter": "4",
                                    "market_segment": "Corporate",
                                    "region": "Central",
                                    "category": "Furniture",
                                    "sub_category": "Chairs",
                                    "total_sales": "1291.62",
                                    "previous_quarter_sales": "1000.29",
                                    "previous_year_sales": "3532.72",
                                    "YoY_growth": "-63.438300",
                                    "QoQ_growth": "29.124500"
                                },
                                {
                                    "order_year": "2014",
                                    "order_quarter": "1",
                                    "market_segment": "Corporate",
                                    "region": "Central",
                                    "category": "Furniture",
                                    "sub_category": "Furnishings",
                                    "total_sales": "20.32",
                                    "previous_quarter_sales": "NULL",
                                    "previous_year_sales": "NULL",
                                    "YoY_growth": "NULL",
                                    "QoQ_growth": "NULL"
                                },
                                {
                                    "order_year": "2014",
                                    "order_quarter": "2",
                                    "market_segment": "Corporate",
                                    "region": "Central",
                                    "category": "Furniture",
                                    "sub_category": "Furnishings",
                                    "total_sales": "10.33",
                                    "previous_quarter_sales": "20.32",
                                    "previous_year_sales": "NULL",
                                    "YoY_growth": "NULL",
                                    "QoQ_growth": "-49.163300"
                                },
                                {
                                    "order_year": "2014",
                                    "order_quarter": "3",
                                    "market_segment": "Corporate",
                                    "region": "Central",
                                    "category": "Furniture",
                                    "sub_category": "Furnishings",
                                    "total_sales": "9.96",
                                    "previous_quarter_sales": "10.33",
                                    "previous_year_sales": "NULL",
                                    "YoY_growth": "NULL",
                                    "QoQ_growth": "-3.581800"
                                },
                                {
                                    "order_year": "2014",
                                    "order_quarter": "4",
                                    "market_segment": "Corporate",
                                    "region": "Central",
                                    "category": "Furniture",
                                    "sub_category": "Furnishings",
                                    "total_sales": "213.76",
                                    "previous_quarter_sales": "9.96",
                                    "previous_year_sales": "NULL",
                                    "YoY_growth": "NULL",
                                    "QoQ_growth": "2046.184700"
                                },
                                {
                                    "order_year": "2015",
                                    "order_quarter": "1",
                                    "market_segment": "Corporate",
                                    "region": "Central",
                                    "category": "Furniture",
                                    "sub_category": "Furnishings",
                                    "total_sales": "63.16",
                                    "previous_quarter_sales": "213.76",
                                    "previous_year_sales": "20.32",
                                    "YoY_growth": "210.826700",
                                    "QoQ_growth": "-70.452800"
                                },
                                {
                                    "order_year": "2015",
                                    "order_quarter": "2",
                                    "market_segment": "Corporate",
                                    "region": "Central",
                                    "category": "Furniture",
                                    "sub_category": "Furnishings",
                                    "total_sales": "73.85",
                                    "previous_quarter_sales": "63.16",
                                    "previous_year_sales": "10.33",
                                    "YoY_growth": "614.908000",
                                    "QoQ_growth": "16.925200"
                                },
                                {
                                    "order_year": "2015",
                                    "order_quarter": "3",
                                    "market_segment": "Corporate",
                                    "region": "Central",
                                    "category": "Furniture",
                                    "sub_category": "Furnishings",
                                    "total_sales": "47.79",
                                    "previous_quarter_sales": "73.85",
                                    "previous_year_sales": "9.96",
                                    "YoY_growth": "379.819200",
                                    "QoQ_growth": "-35.287700"
                                },
                                {
                                    "order_year": "2015",
                                    "order_quarter": "4",
                                    "market_segment": "Corporate",
                                    "region": "Central",
                                    "category": "Furniture",
                                    "sub_category": "Furnishings",
                                    "total_sales": "129.09",
                                    "previous_quarter_sales": "47.79",
                                    "previous_year_sales": "213.76",
                                    "YoY_growth": "-39.609800",
                                    "QoQ_growth": "170.119200"
                                },
                                {
                                    "order_year": "2016",
                                    "order_quarter": "1",
                                    "market_segment": "Corporate",
                                    "region": "Central",
                                    "category": "Furniture",
                                    "sub_category": "Furnishings",
                                    "total_sales": "90.52",
                                    "previous_quarter_sales": "129.09",
                                    "previous_year_sales": "63.16",
                                    "YoY_growth": "43.318500",
                                    "QoQ_growth": "-29.878300"
                                },
                                {
                                    "order_year": "2016",
                                    "order_quarter": "2",
                                    "market_segment": "Corporate",
                                    "region": "Central",
                                    "category": "Furniture",
                                    "sub_category": "Furnishings",
                                    "total_sales": "198.11",
                                    "previous_quarter_sales": "90.52",
                                    "previous_year_sales": "73.85",
                                    "YoY_growth": "168.259900",
                                    "QoQ_growth": "118.857700"
                                },
                                {
                                    "order_year": "2016",
                                    "order_quarter": "3",
                                    "market_segment": "Corporate",
                                    "region": "Central",
                                    "category": "Furniture",
                                    "sub_category": "Furnishings",
                                    "total_sales": "273.84",
                                    "previous_quarter_sales": "198.11",
                                    "previous_year_sales": "47.79",
                                    "YoY_growth": "473.006900",
                                    "QoQ_growth": "38.226200"
                                },
                                {
                                    "order_year": "2016",
                                    "order_quarter": "4",
                                    "market_segment": "Corporate",
                                    "region": "Central",
                                    "category": "Furniture",
                                    "sub_category": "Furnishings",
                                    "total_sales": "415.52",
                                    "previous_quarter_sales": "273.84",
                                    "previous_year_sales": "129.09",
                                    "YoY_growth": "221.883900",
                                    "QoQ_growth": "51.738200"
                                },
                                {
                                    "order_year": "2017",
                                    "order_quarter": "1",
                                    "market_segment": "Corporate",
                                    "region": "Central",
                                    "category": "Furniture",
                                    "sub_category": "Furnishings",
                                    "total_sales": "95.42",
                                    "previous_quarter_sales": "415.52",
                                    "previous_year_sales": "90.52",
                                    "YoY_growth": "5.413100",
                                    "QoQ_growth": "-77.036000"
                                },
                                {
                                    "order_year": "2017",
                                    "order_quarter": "2",
                                    "market_segment": "Corporate",
                                    "region": "Central",
                                    "category": "Furniture",
                                    "sub_category": "Furnishings",
                                    "total_sales": "605.36",
                                    "previous_quarter_sales": "95.42",
                                    "previous_year_sales": "198.11",
                                    "YoY_growth": "205.567600",
                                    "QoQ_growth": "534.416200"
                                },
                                {
                                    "order_year": "2017",
                                    "order_quarter": "3",
                                    "market_segment": "Corporate",
                                    "region": "Central",
                                    "category": "Furniture",
                                    "sub_category": "Furnishings",
                                    "total_sales": "353.21",
                                    "previous_quarter_sales": "605.36",
                                    "previous_year_sales": "273.84",
                                    "YoY_growth": "28.984000",
                                    "QoQ_growth": "-41.652900"
                                },
                                {
                                    "order_year": "2017",
                                    "order_quarter": "4",
                                    "market_segment": "Corporate",
                                    "region": "Central",
                                    "category": "Furniture",
                                    "sub_category": "Furnishings",
                                    "total_sales": "543.71",
                                    "previous_quarter_sales": "353.21",
                                    "previous_year_sales": "415.52",
                                    "YoY_growth": "30.850500",
                                    "QoQ_growth": "53.933900"
                                },
                                {
                                    "order_year": "2014",
                                    "order_quarter": "2",
                                    "market_segment": "Corporate",
                                    "region": "Central",
                                    "category": "Furniture",
                                    "sub_category": "Tables",
                                    "total_sales": "99.92",
                                    "previous_quarter_sales": "NULL",
                                    "previous_year_sales": "NULL",
                                    "YoY_growth": "NULL",
                                    "QoQ_growth": "NULL"
                                },
                                {
                                    "order_year": "2014",
                                    "order_quarter": "4",
                                    "market_segment": "Corporate",
                                    "region": "Central",
                                    "category": "Furniture",
                                    "sub_category": "Tables",
                                    "total_sales": "1218.73",
                                    "previous_quarter_sales": "99.92",
                                    "previous_year_sales": "NULL",
                                    "YoY_growth": "NULL",
                                    "QoQ_growth": "1119.705700"
                                },
                                {
                                    "order_year": "2015",
                                    "order_quarter": "3",
                                    "market_segment": "Corporate",
                                    "region": "Central",
                                    "category": "Furniture",
                                    "sub_category": "Tables",
                                    "total_sales": "725.93",
                                    "previous_quarter_sales": "1218.73",
                                    "previous_year_sales": "NULL",
                                    "YoY_growth": "NULL",
                                    "QoQ_growth": "-40.435500"
                                },
                                {
                                    "order_year": "2015",
                                    "order_quarter": "4",
                                    "market_segment": "Corporate",
                                    "region": "Central",
                                    "category": "Furniture",
                                    "sub_category": "Tables",
                                    "total_sales": "1149.32",
                                    "previous_quarter_sales": "725.93",
                                    "previous_year_sales": "NULL",
                                    "YoY_growth": "NULL",
                                    "QoQ_growth": "58.323800"
                                },
                                {
                                    "order_year": "2016",
                                    "order_quarter": "1",
                                    "market_segment": "Corporate",
                                    "region": "Central",
                                    "category": "Furniture",
                                    "sub_category": "Tables",
                                    "total_sales": "1692.22",
                                    "previous_quarter_sales": "1149.32",
                                    "previous_year_sales": "99.92",
                                    "YoY_growth": "1593.574800",
                                    "QoQ_growth": "47.236600"
                                },
                                {
                                    "order_year": "2016",
                                    "order_quarter": "4",
                                    "market_segment": "Corporate",
                                    "region": "Central",
                                    "category": "Furniture",
                                    "sub_category": "Tables",
                                    "total_sales": "5900.49",
                                    "previous_quarter_sales": "1692.22",
                                    "previous_year_sales": "1218.73",
                                    "YoY_growth": "384.150700",
                                    "QoQ_growth": "248.683300"
                                },
                                {
                                    "order_year": "2017",
                                    "order_quarter": "1",
                                    "market_segment": "Corporate",
                                    "region": "Central",
                                    "category": "Furniture",
                                    "sub_category": "Tables",
                                    "total_sales": "210.98",
                                    "previous_quarter_sales": "5900.49",
                                    "previous_year_sales": "725.93",
                                    "YoY_growth": "-70.936500",
                                    "QoQ_growth": "-96.424300"
                                },
                                {
                                    "order_year": "2017",
                                    "order_quarter": "4",
                                    "market_segment": "Corporate",
                                    "region": "Central",
                                    "category": "Furniture",
                                    "sub_category": "Tables",
                                    "total_sales": "1564.99",
                                    "previous_quarter_sales": "210.98",
                                    "previous_year_sales": "1149.32",
                                    "YoY_growth": "36.166600",
                                    "QoQ_growth": "641.771700"
                                },
                                {
                                    "order_year": "2014",
                                    "order_quarter": "1",
                                    "market_segment": "Corporate",
                                    "region": "East",
                                    "category": "Furniture",
                                    "sub_category": "Bookcases",
                                    "total_sales": "364.41",
                                    "previous_quarter_sales": "NULL",
                                    "previous_year_sales": "NULL",
                                    "YoY_growth": "NULL",
                                    "QoQ_growth": "NULL"
                                },
                                {
                                    "order_year": "2014",
                                    "order_quarter": "4",
                                    "market_segment": "Corporate",
                                    "region": "East",
                                    "category": "Furniture",
                                    "sub_category": "Bookcases",
                                    "total_sales": "3121.33",
                                    "previous_quarter_sales": "364.41",
                                    "previous_year_sales": "NULL",
                                    "YoY_growth": "NULL",
                                    "QoQ_growth": "756.543400"
                                },
                                {
                                    "order_year": "2015",
                                    "order_quarter": "1",
                                    "market_segment": "Corporate",
                                    "region": "East",
                                    "category": "Furniture",
                                    "sub_category": "Bookcases",
                                    "total_sales": "452.45",
                                    "previous_quarter_sales": "3121.33",
                                    "previous_year_sales": "NULL",
                                    "YoY_growth": "NULL",
                                    "QoQ_growth": "-85.504500"
                                },
                                {
                                    "order_year": "2015",
                                    "order_quarter": "2",
                                    "market_segment": "Corporate",
                                    "region": "East",
                                    "category": "Furniture",
                                    "sub_category": "Bookcases",
                                    "total_sales": "482.94",
                                    "previous_quarter_sales": "452.45",
                                    "previous_year_sales": "NULL",
                                    "YoY_growth": "NULL",
                                    "QoQ_growth": "6.738800"
                                },
                                {
                                    "order_year": "2015",
                                    "order_quarter": "3",
                                    "market_segment": "Corporate",
                                    "region": "East",
                                    "category": "Furniture",
                                    "sub_category": "Bookcases",
                                    "total_sales": "408.34",
                                    "previous_quarter_sales": "482.94",
                                    "previous_year_sales": "364.41",
                                    "YoY_growth": "12.055100",
                                    "QoQ_growth": "-15.447000"
                                },
                                {
                                    "order_year": "2015",
                                    "order_quarter": "4",
                                    "market_segment": "Corporate",
                                    "region": "East",
                                    "category": "Furniture",
                                    "sub_category": "Bookcases",
                                    "total_sales": "4590.95",
                                    "previous_quarter_sales": "408.34",
                                    "previous_year_sales": "3121.33",
                                    "YoY_growth": "47.083100",
                                    "QoQ_growth": "1024.295900"
                                },
                                {
                                    "order_year": "2016",
                                    "order_quarter": "1",
                                    "market_segment": "Corporate",
                                    "region": "East",
                                    "category": "Furniture",
                                    "sub_category": "Bookcases",
                                    "total_sales": "173.94",
                                    "previous_quarter_sales": "4590.95",
                                    "previous_year_sales": "452.45",
                                    "YoY_growth": "-61.555900",
                                    "QoQ_growth": "-96.211200"
                                },
                                {
                                    "order_year": "2016",
                                    "order_quarter": "3",
                                    "market_segment": "Corporate",
                                    "region": "East",
                                    "category": "Furniture",
                                    "sub_category": "Bookcases",
                                    "total_sales": "743.02",
                                    "previous_quarter_sales": "173.94",
                                    "previous_year_sales": "482.94",
                                    "YoY_growth": "53.853400",
                                    "QoQ_growth": "327.170200"
                                },
                                {
                                    "order_year": "2016",
                                    "order_quarter": "4",
                                    "market_segment": "Corporate",
                                    "region": "East",
                                    "category": "Furniture",
                                    "sub_category": "Bookcases",
                                    "total_sales": "1125.86",
                                    "previous_quarter_sales": "743.02",
                                    "previous_year_sales": "408.34",
                                    "YoY_growth": "175.716300",
                                    "QoQ_growth": "51.524800"
                                },
                                {
                                    "order_year": "2017",
                                    "order_quarter": "1",
                                    "market_segment": "Corporate",
                                    "region": "East",
                                    "category": "Furniture",
                                    "sub_category": "Bookcases",
                                    "total_sales": "441.96",
                                    "previous_quarter_sales": "1125.86",
                                    "previous_year_sales": "4590.95",
                                    "YoY_growth": "-90.373200",
                                    "QoQ_growth": "-60.744600"
                                },
                                {
                                    "order_year": "2017",
                                    "order_quarter": "2",
                                    "market_segment": "Corporate",
                                    "region": "East",
                                    "category": "Furniture",
                                    "sub_category": "Bookcases",
                                    "total_sales": "754.78",
                                    "previous_quarter_sales": "441.96",
                                    "previous_year_sales": "173.94",
                                    "YoY_growth": "333.931200",
                                    "QoQ_growth": "70.780100"
                                },
                                {
                                    "order_year": "2017",
                                    "order_quarter": "4",
                                    "market_segment": "Corporate",
                                    "region": "East",
                                    "category": "Furniture",
                                    "sub_category": "Bookcases",
                                    "total_sales": "508.96",
                                    "previous_quarter_sales": "754.78",
                                    "previous_year_sales": "743.02",
                                    "YoY_growth": "-31.501100",
                                    "QoQ_growth": "-32.568400"
                                },
                                {
                                    "order_year": "2014",
                                    "order_quarter": "3",
                                    "market_segment": "Corporate",
                                    "region": "East",
                                    "category": "Furniture",
                                    "sub_category": "Chairs",
                                    "total_sales": "3661.27",
                                    "previous_quarter_sales": "NULL",
                                    "previous_year_sales": "NULL",
                                    "YoY_growth": "NULL",
                                    "QoQ_growth": "NULL"
                                },
                                {
                                    "order_year": "2014",
                                    "order_quarter": "4",
                                    "market_segment": "Corporate",
                                    "region": "East",
                                    "category": "Furniture",
                                    "sub_category": "Chairs",
                                    "total_sales": "1734.87",
                                    "previous_quarter_sales": "3661.27",
                                    "previous_year_sales": "NULL",
                                    "YoY_growth": "NULL",
                                    "QoQ_growth": "-52.615600"
                                },
                                {
                                    "order_year": "2015",
                                    "order_quarter": "1",
                                    "market_segment": "Corporate",
                                    "region": "East",
                                    "category": "Furniture",
                                    "sub_category": "Chairs",
                                    "total_sales": "190.25",
                                    "previous_quarter_sales": "1734.87",
                                    "previous_year_sales": "NULL",
                                    "YoY_growth": "NULL",
                                    "QoQ_growth": "-89.033700"
                                },
                                {
                                    "order_year": "2015",
                                    "order_quarter": "2",
                                    "market_segment": "Corporate",
                                    "region": "East",
                                    "category": "Furniture",
                                    "sub_category": "Chairs",
                                    "total_sales": "1967.46",
                                    "previous_quarter_sales": "190.25",
                                    "previous_year_sales": "NULL",
                                    "YoY_growth": "NULL",
                                    "QoQ_growth": "934.144500"
                                },
                                {
                                    "order_year": "2015",
                                    "order_quarter": "3",
                                    "market_segment": "Corporate",
                                    "region": "East",
                                    "category": "Furniture",
                                    "sub_category": "Chairs",
                                    "total_sales": "598.46",
                                    "previous_quarter_sales": "1967.46",
                                    "previous_year_sales": "3661.27",
                                    "YoY_growth": "-83.654300",
                                    "QoQ_growth": "-69.582100"
                                },
                                {
                                    "order_year": "2015",
                                    "order_quarter": "4",
                                    "market_segment": "Corporate",
                                    "region": "East",
                                    "category": "Furniture",
                                    "sub_category": "Chairs",
                                    "total_sales": "3283.25",
                                    "previous_quarter_sales": "598.46",
                                    "previous_year_sales": "1734.87",
                                    "YoY_growth": "89.250400",
                                    "QoQ_growth": "448.616400"
                                },
                                {
                                    "order_year": "2016",
                                    "order_quarter": "1",
                                    "market_segment": "Corporate",
                                    "region": "East",
                                    "category": "Furniture",
                                    "sub_category": "Chairs",
                                    "total_sales": "386.68",
                                    "previous_quarter_sales": "3283.25",
                                    "previous_year_sales": "190.25",
                                    "YoY_growth": "103.248300",
                                    "QoQ_growth": "-88.222600"
                                },
                                {
                                    "order_year": "2016",
                                    "order_quarter": "2",
                                    "market_segment": "Corporate",
                                    "region": "East",
                                    "category": "Furniture",
                                    "sub_category": "Chairs",
                                    "total_sales": "1080.81",
                                    "previous_quarter_sales": "386.68",
                                    "previous_year_sales": "1967.46",
                                    "YoY_growth": "-45.065700",
                                    "QoQ_growth": "179.510100"
                                },
                                {
                                    "order_year": "2016",
                                    "order_quarter": "3",
                                    "market_segment": "Corporate",
                                    "region": "East",
                                    "category": "Furniture",
                                    "sub_category": "Chairs",
                                    "total_sales": "661.77",
                                    "previous_quarter_sales": "1080.81",
                                    "previous_year_sales": "598.46",
                                    "YoY_growth": "10.578800",
                                    "QoQ_growth": "-38.770900"
                                },
                                {
                                    "order_year": "2016",
                                    "order_quarter": "4",
                                    "market_segment": "Corporate",
                                    "region": "East",
                                    "category": "Furniture",
                                    "sub_category": "Chairs",
                                    "total_sales": "2131.47",
                                    "previous_quarter_sales": "661.77",
                                    "previous_year_sales": "3283.25",
                                    "YoY_growth": "-35.080400",
                                    "QoQ_growth": "222.086200"
                                },
                                {
                                    "order_year": "2017",
                                    "order_quarter": "1",
                                    "market_segment": "Corporate",
                                    "region": "East",
                                    "category": "Furniture",
                                    "sub_category": "Chairs",
                                    "total_sales": "415.70",
                                    "previous_quarter_sales": "2131.47",
                                    "previous_year_sales": "386.68",
                                    "YoY_growth": "7.504900",
                                    "QoQ_growth": "-80.497000"
                                },
                                {
                                    "order_year": "2017",
                                    "order_quarter": "2",
                                    "market_segment": "Corporate",
                                    "region": "East",
                                    "category": "Furniture",
                                    "sub_category": "Chairs",
                                    "total_sales": "1150.14",
                                    "previous_quarter_sales": "415.70",
                                    "previous_year_sales": "1080.81",
                                    "YoY_growth": "6.414600",
                                    "QoQ_growth": "176.675400"
                                },
                                {
                                    "order_year": "2017",
                                    "order_quarter": "3",
                                    "market_segment": "Corporate",
                                    "region": "East",
                                    "category": "Furniture",
                                    "sub_category": "Chairs",
                                    "total_sales": "4342.96",
                                    "previous_quarter_sales": "1150.14",
                                    "previous_year_sales": "661.77",
                                    "YoY_growth": "556.264200",
                                    "QoQ_growth": "277.602700"
                                },
                                {
                                    "order_year": "2017",
                                    "order_quarter": "4",
                                    "market_segment": "Corporate",
                                    "region": "East",
                                    "category": "Furniture",
                                    "sub_category": "Chairs",
                                    "total_sales": "1900.15",
                                    "previous_quarter_sales": "4342.96",
                                    "previous_year_sales": "2131.47",
                                    "YoY_growth": "-10.852600",
                                    "QoQ_growth": "-56.247500"
                                },
                                {
                                    "order_year": "2014",
                                    "order_quarter": "2",
                                    "market_segment": "Corporate",
                                    "region": "East",
                                    "category": "Furniture",
                                    "sub_category": "Furnishings",
                                    "total_sales": "139.86",
                                    "previous_quarter_sales": "NULL",
                                    "previous_year_sales": "NULL",
                                    "YoY_growth": "NULL",
                                    "QoQ_growth": "NULL"
                                },
                                {
                                    "order_year": "2014",
                                    "order_quarter": "3",
                                    "market_segment": "Corporate",
                                    "region": "East",
                                    "category": "Furniture",
                                    "sub_category": "Furnishings",
                                    "total_sales": "407.66",
                                    "previous_quarter_sales": "139.86",
                                    "previous_year_sales": "NULL",
                                    "YoY_growth": "NULL",
                                    "QoQ_growth": "191.477100"
                                },
                                {
                                    "order_year": "2014",
                                    "order_quarter": "4",
                                    "market_segment": "Corporate",
                                    "region": "East",
                                    "category": "Furniture",
                                    "sub_category": "Furnishings",
                                    "total_sales": "477.70",
                                    "previous_quarter_sales": "407.66",
                                    "previous_year_sales": "NULL",
                                    "YoY_growth": "NULL",
                                    "QoQ_growth": "17.180900"
                                },
                                {
                                    "order_year": "2015",
                                    "order_quarter": "1",
                                    "market_segment": "Corporate",
                                    "region": "East",
                                    "category": "Furniture",
                                    "sub_category": "Furnishings",
                                    "total_sales": "33.57",
                                    "previous_quarter_sales": "477.70",
                                    "previous_year_sales": "NULL",
                                    "YoY_growth": "NULL",
                                    "QoQ_growth": "-92.972500"
                                },
                                {
                                    "order_year": "2015",
                                    "order_quarter": "2",
                                    "market_segment": "Corporate",
                                    "region": "East",
                                    "category": "Furniture",
                                    "sub_category": "Furnishings",
                                    "total_sales": "150.18",
                                    "previous_quarter_sales": "33.57",
                                    "previous_year_sales": "139.86",
                                    "YoY_growth": "7.378800",
                                    "QoQ_growth": "347.363700"
                                },
                                {
                                    "order_year": "2015",
                                    "order_quarter": "3",
                                    "market_segment": "Corporate",
                                    "region": "East",
                                    "category": "Furniture",
                                    "sub_category": "Furnishings",
                                    "total_sales": "1122.16",
                                    "previous_quarter_sales": "150.18",
                                    "previous_year_sales": "407.66",
                                    "YoY_growth": "175.268600",
                                    "QoQ_growth": "647.210000"
                                },
                                {
                                    "order_year": "2015",
                                    "order_quarter": "4",
                                    "market_segment": "Corporate",
                                    "region": "East",
                                    "category": "Furniture",
                                    "sub_category": "Furnishings",
                                    "total_sales": "630.08",
                                    "previous_quarter_sales": "1122.16",
                                    "previous_year_sales": "477.70",
                                    "YoY_growth": "31.898600",
                                    "QoQ_growth": "-43.851100"
                                },
                                {
                                    "order_year": "2016",
                                    "order_quarter": "1",
                                    "market_segment": "Corporate",
                                    "region": "East",
                                    "category": "Furniture",
                                    "sub_category": "Furnishings",
                                    "total_sales": "265.90",
                                    "previous_quarter_sales": "630.08",
                                    "previous_year_sales": "33.57",
                                    "YoY_growth": "692.076200",
                                    "QoQ_growth": "-57.799000"
                                },
                                {
                                    "order_year": "2016",
                                    "order_quarter": "2",
                                    "market_segment": "Corporate",
                                    "region": "East",
                                    "category": "Furniture",
                                    "sub_category": "Furnishings",
                                    "total_sales": "496.94",
                                    "previous_quarter_sales": "265.90",
                                    "previous_year_sales": "150.18",
                                    "YoY_growth": "230.896200",
                                    "QoQ_growth": "86.889800"
                                },
                                {
                                    "order_year": "2016",
                                    "order_quarter": "3",
                                    "market_segment": "Corporate",
                                    "region": "East",
                                    "category": "Furniture",
                                    "sub_category": "Furnishings",
                                    "total_sales": "958.16",
                                    "previous_quarter_sales": "496.94",
                                    "previous_year_sales": "1122.16",
                                    "YoY_growth": "-14.614600",
                                    "QoQ_growth": "92.812000"
                                },
                                {
                                    "order_year": "2016",
                                    "order_quarter": "4",
                                    "market_segment": "Corporate",
                                    "region": "East",
                                    "category": "Furniture",
                                    "sub_category": "Furnishings",
                                    "total_sales": "1708.38",
                                    "previous_quarter_sales": "958.16",
                                    "previous_year_sales": "630.08",
                                    "YoY_growth": "171.136900",
                                    "QoQ_growth": "78.297900"
                                },
                                {
                                    "order_year": "2017",
                                    "order_quarter": "2",
                                    "market_segment": "Corporate",
                                    "region": "East",
                                    "category": "Furniture",
                                    "sub_category": "Furnishings",
                                    "total_sales": "1190.10",
                                    "previous_quarter_sales": "1708.38",
                                    "previous_year_sales": "265.90",
                                    "YoY_growth": "347.574200",
                                    "QoQ_growth": "-30.337500"
                                },
                                {
                                    "order_year": "2017",
                                    "order_quarter": "3",
                                    "market_segment": "Corporate",
                                    "region": "East",
                                    "category": "Furniture",
                                    "sub_category": "Furnishings",
                                    "total_sales": "547.11",
                                    "previous_quarter_sales": "1190.10",
                                    "previous_year_sales": "496.94",
                                    "YoY_growth": "10.095700",
                                    "QoQ_growth": "-54.028200"
                                },
                                {
                                    "order_year": "2017",
                                    "order_quarter": "4",
                                    "market_segment": "Corporate",
                                    "region": "East",
                                    "category": "Furniture",
                                    "sub_category": "Furnishings",
                                    "total_sales": "1855.52",
                                    "previous_quarter_sales": "547.11",
                                    "previous_year_sales": "958.16",
                                    "YoY_growth": "93.654500",
                                    "QoQ_growth": "239.149300"
                                },
                                {
                                    "order_year": "2014",
                                    "order_quarter": "1",
                                    "market_segment": "Corporate",
                                    "region": "East",
                                    "category": "Furniture",
                                    "sub_category": "Tables",
                                    "total_sales": "3265.24",
                                    "previous_quarter_sales": "NULL",
                                    "previous_year_sales": "NULL",
                                    "YoY_growth": "NULL",
                                    "QoQ_growth": "NULL"
                                },
                                {
                                    "order_year": "2014",
                                    "order_quarter": "2",
                                    "market_segment": "Corporate",
                                    "region": "East",
                                    "category": "Furniture",
                                    "sub_category": "Tables",
                                    "total_sales": "991.76",
                                    "previous_quarter_sales": "3265.24",
                                    "previous_year_sales": "NULL",
                                    "YoY_growth": "NULL",
                                    "QoQ_growth": "-69.626700"
                                },
                                {
                                    "order_year": "2014",
                                    "order_quarter": "3",
                                    "market_segment": "Corporate",
                                    "region": "East",
                                    "category": "Furniture",
                                    "sub_category": "Tables",
                                    "total_sales": "547.01",
                                    "previous_quarter_sales": "991.76",
                                    "previous_year_sales": "NULL",
                                    "YoY_growth": "NULL",
                                    "QoQ_growth": "-44.844500"
                                },
                                {
                                    "order_year": "2014",
                                    "order_quarter": "4",
                                    "market_segment": "Corporate",
                                    "region": "East",
                                    "category": "Furniture",
                                    "sub_category": "Tables",
                                    "total_sales": "1998.74",
                                    "previous_quarter_sales": "547.01",
                                    "previous_year_sales": "NULL",
                                    "YoY_growth": "NULL",
                                    "QoQ_growth": "265.393600"
                                },
                                {
                                    "order_year": "2015",
                                    "order_quarter": "1",
                                    "market_segment": "Corporate",
                                    "region": "East",
                                    "category": "Furniture",
                                    "sub_category": "Tables",
                                    "total_sales": "493.92",
                                    "previous_quarter_sales": "1998.74",
                                    "previous_year_sales": "3265.24",
                                    "YoY_growth": "-84.873300",
                                    "QoQ_growth": "-75.288400"
                                },
                                {
                                    "order_year": "2015",
                                    "order_quarter": "3",
                                    "market_segment": "Corporate",
                                    "region": "East",
                                    "category": "Furniture",
                                    "sub_category": "Tables",
                                    "total_sales": "965.38",
                                    "previous_quarter_sales": "493.92",
                                    "previous_year_sales": "991.76",
                                    "YoY_growth": "-2.659900",
                                    "QoQ_growth": "95.452700"
                                },
                                {
                                    "order_year": "2015",
                                    "order_quarter": "4",
                                    "market_segment": "Corporate",
                                    "region": "East",
                                    "category": "Furniture",
                                    "sub_category": "Tables",
                                    "total_sales": "1548.99",
                                    "previous_quarter_sales": "965.38",
                                    "previous_year_sales": "547.01",
                                    "YoY_growth": "183.173900",
                                    "QoQ_growth": "60.453900"
                                },
                                {
                                    "order_year": "2016",
                                    "order_quarter": "1",
                                    "market_segment": "Corporate",
                                    "region": "East",
                                    "category": "Furniture",
                                    "sub_category": "Tables",
                                    "total_sales": "313.72",
                                    "previous_quarter_sales": "1548.99",
                                    "previous_year_sales": "1998.74",
                                    "YoY_growth": "-84.304100",
                                    "QoQ_growth": "-79.746800"
                                },
                                {
                                    "order_year": "2016",
                                    "order_quarter": "2",
                                    "market_segment": "Corporate",
                                    "region": "East",
                                    "category": "Furniture",
                                    "sub_category": "Tables",
                                    "total_sales": "714.05",
                                    "previous_quarter_sales": "313.72",
                                    "previous_year_sales": "493.92",
                                    "YoY_growth": "44.567900",
                                    "QoQ_growth": "127.607400"
                                },
                                {
                                    "order_year": "2016",
                                    "order_quarter": "3",
                                    "market_segment": "Corporate",
                                    "region": "East",
                                    "category": "Furniture",
                                    "sub_category": "Tables",
                                    "total_sales": "241.92",
                                    "previous_quarter_sales": "714.05",
                                    "previous_year_sales": "965.38",
                                    "YoY_growth": "-74.940400",
                                    "QoQ_growth": "-66.120000"
                                },
                                {
                                    "order_year": "2016",
                                    "order_quarter": "4",
                                    "market_segment": "Corporate",
                                    "region": "East",
                                    "category": "Furniture",
                                    "sub_category": "Tables",
                                    "total_sales": "1758.31",
                                    "previous_quarter_sales": "241.92",
                                    "previous_year_sales": "1548.99",
                                    "YoY_growth": "13.513300",
                                    "QoQ_growth": "626.814600"
                                },
                                {
                                    "order_year": "2017",
                                    "order_quarter": "2",
                                    "market_segment": "Corporate",
                                    "region": "East",
                                    "category": "Furniture",
                                    "sub_category": "Tables",
                                    "total_sales": "1806.59",
                                    "previous_quarter_sales": "1758.31",
                                    "previous_year_sales": "313.72",
                                    "YoY_growth": "475.860600",
                                    "QoQ_growth": "2.745800"
                                },
                                {
                                    "order_year": "2017",
                                    "order_quarter": "3",
                                    "market_segment": "Corporate",
                                    "region": "East",
                                    "category": "Furniture",
                                    "sub_category": "Tables",
                                    "total_sales": "1742.95",
                                    "previous_quarter_sales": "1806.59",
                                    "previous_year_sales": "714.05",
                                    "YoY_growth": "144.093500",
                                    "QoQ_growth": "-3.522600"
                                },
                                {
                                    "order_year": "2017",
                                    "order_quarter": "4",
                                    "market_segment": "Corporate",
                                    "region": "East",
                                    "category": "Furniture",
                                    "sub_category": "Tables",
                                    "total_sales": "1163.00",
                                    "previous_quarter_sales": "1742.95",
                                    "previous_year_sales": "241.92",
                                    "YoY_growth": "380.737400",
                                    "QoQ_growth": "-33.274000"
                                },
                                {
                                    "order_year": "2015",
                                    "order_quarter": "3",
                                    "market_segment": "Corporate",
                                    "region": "South",
                                    "category": "Furniture",
                                    "sub_category": "Bookcases",
                                    "total_sales": "231.92",
                                    "previous_quarter_sales": "NULL",
                                    "previous_year_sales": "NULL",
                                    "YoY_growth": "NULL",
                                    "QoQ_growth": "NULL"
                                },
                                {
                                    "order_year": "2015",
                                    "order_quarter": "4",
                                    "market_segment": "Corporate",
                                    "region": "South",
                                    "category": "Furniture",
                                    "sub_category": "Bookcases",
                                    "total_sales": "131.10",
                                    "previous_quarter_sales": "231.92",
                                    "previous_year_sales": "NULL",
                                    "YoY_growth": "NULL",
                                    "QoQ_growth": "-43.471800"
                                },
                                {
                                    "order_year": "2016",
                                    "order_quarter": "4",
                                    "market_segment": "Corporate",
                                    "region": "South",
                                    "category": "Furniture",
                                    "sub_category": "Bookcases",
                                    "total_sales": "289.57",
                                    "previous_quarter_sales": "131.10",
                                    "previous_year_sales": "NULL",
                                    "YoY_growth": "NULL",
                                    "QoQ_growth": "120.877100"
                                },
                                {
                                    "order_year": "2017",
                                    "order_quarter": "2",
                                    "market_segment": "Corporate",
                                    "region": "South",
                                    "category": "Furniture",
                                    "sub_category": "Bookcases",
                                    "total_sales": "501.21",
                                    "previous_quarter_sales": "289.57",
                                    "previous_year_sales": "NULL",
                                    "YoY_growth": "NULL",
                                    "QoQ_growth": "73.087600"
                                },
                                {
                                    "order_year": "2014",
                                    "order_quarter": "2",
                                    "market_segment": "Corporate",
                                    "region": "South",
                                    "category": "Furniture",
                                    "sub_category": "Chairs",
                                    "total_sales": "731.93",
                                    "previous_quarter_sales": "NULL",
                                    "previous_year_sales": "NULL",
                                    "YoY_growth": "NULL",
                                    "QoQ_growth": "NULL"
                                },
                                {
                                    "order_year": "2014",
                                    "order_quarter": "3",
                                    "market_segment": "Corporate",
                                    "region": "South",
                                    "category": "Furniture",
                                    "sub_category": "Chairs",
                                    "total_sales": "500.24",
                                    "previous_quarter_sales": "731.93",
                                    "previous_year_sales": "NULL",
                                    "YoY_growth": "NULL",
                                    "QoQ_growth": "-31.654600"
                                },
                                {
                                    "order_year": "2014",
                                    "order_quarter": "4",
                                    "market_segment": "Corporate",
                                    "region": "South",
                                    "category": "Furniture",
                                    "sub_category": "Chairs",
                                    "total_sales": "2165.05",
                                    "previous_quarter_sales": "500.24",
                                    "previous_year_sales": "NULL",
                                    "YoY_growth": "NULL",
                                    "QoQ_growth": "332.802200"
                                },
                                {
                                    "order_year": "2015",
                                    "order_quarter": "2",
                                    "market_segment": "Corporate",
                                    "region": "South",
                                    "category": "Furniture",
                                    "sub_category": "Chairs",
                                    "total_sales": "1767.06",
                                    "previous_quarter_sales": "2165.05",
                                    "previous_year_sales": "NULL",
                                    "YoY_growth": "NULL",
                                    "QoQ_growth": "-18.382400"
                                },
                                {
                                    "order_year": "2015",
                                    "order_quarter": "4",
                                    "market_segment": "Corporate",
                                    "region": "South",
                                    "category": "Furniture",
                                    "sub_category": "Chairs",
                                    "total_sales": "1367.42",
                                    "previous_quarter_sales": "1767.06",
                                    "previous_year_sales": "731.93",
                                    "YoY_growth": "86.823800",
                                    "QoQ_growth": "-22.616000"
                                },
                                {
                                    "order_year": "2016",
                                    "order_quarter": "2",
                                    "market_segment": "Corporate",
                                    "region": "South",
                                    "category": "Furniture",
                                    "sub_category": "Chairs",
                                    "total_sales": "390.27",
                                    "previous_quarter_sales": "1367.42",
                                    "previous_year_sales": "500.24",
                                    "YoY_growth": "-21.983400",
                                    "QoQ_growth": "-71.459300"
                                },
                                {
                                    "order_year": "2016",
                                    "order_quarter": "3",
                                    "market_segment": "Corporate",
                                    "region": "South",
                                    "category": "Furniture",
                                    "sub_category": "Chairs",
                                    "total_sales": "1298.32",
                                    "previous_quarter_sales": "390.27",
                                    "previous_year_sales": "2165.05",
                                    "YoY_growth": "-40.032700",
                                    "QoQ_growth": "232.672200"
                                },
                                {
                                    "order_year": "2016",
                                    "order_quarter": "4",
                                    "market_segment": "Corporate",
                                    "region": "South",
                                    "category": "Furniture",
                                    "sub_category": "Chairs",
                                    "total_sales": "390.65",
                                    "previous_quarter_sales": "1298.32",
                                    "previous_year_sales": "1767.06",
                                    "YoY_growth": "-77.892600",
                                    "QoQ_growth": "-69.911100"
                                },
                                {
                                    "order_year": "2017",
                                    "order_quarter": "2",
                                    "market_segment": "Corporate",
                                    "region": "South",
                                    "category": "Furniture",
                                    "sub_category": "Chairs",
                                    "total_sales": "1013.25",
                                    "previous_quarter_sales": "390.65",
                                    "previous_year_sales": "1367.42",
                                    "YoY_growth": "-25.900600",
                                    "QoQ_growth": "159.375300"
                                },
                                {
                                    "order_year": "2017",
                                    "order_quarter": "4",
                                    "market_segment": "Corporate",
                                    "region": "South",
                                    "category": "Furniture",
                                    "sub_category": "Chairs",
                                    "total_sales": "1742.66",
                                    "previous_quarter_sales": "1013.25",
                                    "previous_year_sales": "390.27",
                                    "YoY_growth": "346.526700",
                                    "QoQ_growth": "71.987100"
                                },
                                {
                                    "order_year": "2014",
                                    "order_quarter": "1",
                                    "market_segment": "Corporate",
                                    "region": "South",
                                    "category": "Furniture",
                                    "sub_category": "Furnishings",
                                    "total_sales": "76.95",
                                    "previous_quarter_sales": "NULL",
                                    "previous_year_sales": "NULL",
                                    "YoY_growth": "NULL",
                                    "QoQ_growth": "NULL"
                                },
                                {
                                    "order_year": "2014",
                                    "order_quarter": "2",
                                    "market_segment": "Corporate",
                                    "region": "South",
                                    "category": "Furniture",
                                    "sub_category": "Furnishings",
                                    "total_sales": "488.56",
                                    "previous_quarter_sales": "76.95",
                                    "previous_year_sales": "NULL",
                                    "YoY_growth": "NULL",
                                    "QoQ_growth": "534.905700"
                                },
                                {
                                    "order_year": "2014",
                                    "order_quarter": "3",
                                    "market_segment": "Corporate",
                                    "region": "South",
                                    "category": "Furniture",
                                    "sub_category": "Furnishings",
                                    "total_sales": "305.99",
                                    "previous_quarter_sales": "488.56",
                                    "previous_year_sales": "NULL",
                                    "YoY_growth": "NULL",
                                    "QoQ_growth": "-37.369000"
                                },
                                {
                                    "order_year": "2014",
                                    "order_quarter": "4",
                                    "market_segment": "Corporate",
                                    "region": "South",
                                    "category": "Furniture",
                                    "sub_category": "Furnishings",
                                    "total_sales": "536.44",
                                    "previous_quarter_sales": "305.99",
                                    "previous_year_sales": "NULL",
                                    "YoY_growth": "NULL",
                                    "QoQ_growth": "75.312900"
                                },
                                {
                                    "order_year": "2015",
                                    "order_quarter": "1",
                                    "market_segment": "Corporate",
                                    "region": "South",
                                    "category": "Furniture",
                                    "sub_category": "Furnishings",
                                    "total_sales": "229.51",
                                    "previous_quarter_sales": "536.44",
                                    "previous_year_sales": "76.95",
                                    "YoY_growth": "198.258600",
                                    "QoQ_growth": "-57.216000"
                                },
                                {
                                    "order_year": "2015",
                                    "order_quarter": "2",
                                    "market_segment": "Corporate",
                                    "region": "South",
                                    "category": "Furniture",
                                    "sub_category": "Furnishings",
                                    "total_sales": "908.23",
                                    "previous_quarter_sales": "229.51",
                                    "previous_year_sales": "488.56",
                                    "YoY_growth": "85.899300",
                                    "QoQ_growth": "295.725600"
                                },
                                {
                                    "order_year": "2015",
                                    "order_quarter": "3",
                                    "market_segment": "Corporate",
                                    "region": "South",
                                    "category": "Furniture",
                                    "sub_category": "Furnishings",
                                    "total_sales": "262.74",
                                    "previous_quarter_sales": "908.23",
                                    "previous_year_sales": "305.99",
                                    "YoY_growth": "-14.134400",
                                    "QoQ_growth": "-71.071200"
                                },
                                {
                                    "order_year": "2015",
                                    "order_quarter": "4",
                                    "market_segment": "Corporate",
                                    "region": "South",
                                    "category": "Furniture",
                                    "sub_category": "Furnishings",
                                    "total_sales": "794.10",
                                    "previous_quarter_sales": "262.74",
                                    "previous_year_sales": "536.44",
                                    "YoY_growth": "48.031400",
                                    "QoQ_growth": "202.237900"
                                },
                                {
                                    "order_year": "2016",
                                    "order_quarter": "1",
                                    "market_segment": "Corporate",
                                    "region": "South",
                                    "category": "Furniture",
                                    "sub_category": "Furnishings",
                                    "total_sales": "278.83",
                                    "previous_quarter_sales": "794.10",
                                    "previous_year_sales": "229.51",
                                    "YoY_growth": "21.489200",
                                    "QoQ_growth": "-64.887200"
                                },
                                {
                                    "order_year": "2016",
                                    "order_quarter": "2",
                                    "market_segment": "Corporate",
                                    "region": "South",
                                    "category": "Furniture",
                                    "sub_category": "Furnishings",
                                    "total_sales": "109.31",
                                    "previous_quarter_sales": "278.83",
                                    "previous_year_sales": "908.23",
                                    "YoY_growth": "-87.964500",
                                    "QoQ_growth": "-60.796900"
                                },
                                {
                                    "order_year": "2016",
                                    "order_quarter": "3",
                                    "market_segment": "Corporate",
                                    "region": "South",
                                    "category": "Furniture",
                                    "sub_category": "Furnishings",
                                    "total_sales": "17.09",
                                    "previous_quarter_sales": "109.31",
                                    "previous_year_sales": "262.74",
                                    "YoY_growth": "-93.495400",
                                    "QoQ_growth": "-84.365500"
                                },
                                {
                                    "order_year": "2016",
                                    "order_quarter": "4",
                                    "market_segment": "Corporate",
                                    "region": "South",
                                    "category": "Furniture",
                                    "sub_category": "Furnishings",
                                    "total_sales": "97.64",
                                    "previous_quarter_sales": "17.09",
                                    "previous_year_sales": "794.10",
                                    "YoY_growth": "-87.704300",
                                    "QoQ_growth": "471.328200"
                                },
                                {
                                    "order_year": "2017",
                                    "order_quarter": "2",
                                    "market_segment": "Corporate",
                                    "region": "South",
                                    "category": "Furniture",
                                    "sub_category": "Furnishings",
                                    "total_sales": "338.07",
                                    "previous_quarter_sales": "97.64",
                                    "previous_year_sales": "278.83",
                                    "YoY_growth": "21.245900",
                                    "QoQ_growth": "246.241200"
                                },
                                {
                                    "order_year": "2017",
                                    "order_quarter": "3",
                                    "market_segment": "Corporate",
                                    "region": "South",
                                    "category": "Furniture",
                                    "sub_category": "Furnishings",
                                    "total_sales": "20.32",
                                    "previous_quarter_sales": "338.07",
                                    "previous_year_sales": "109.31",
                                    "YoY_growth": "-81.410600",
                                    "QoQ_growth": "-93.989400"
                                },
                                {
                                    "order_year": "2017",
                                    "order_quarter": "4",
                                    "market_segment": "Corporate",
                                    "region": "South",
                                    "category": "Furniture",
                                    "sub_category": "Furnishings",
                                    "total_sales": "40.91",
                                    "previous_quarter_sales": "20.32",
                                    "previous_year_sales": "17.09",
                                    "YoY_growth": "139.379700",
                                    "QoQ_growth": "101.328700"
                                },
                                {
                                    "order_year": "2014",
                                    "order_quarter": "2",
                                    "market_segment": "Corporate",
                                    "region": "South",
                                    "category": "Furniture",
                                    "sub_category": "Tables",
                                    "total_sales": "1215.92",
                                    "previous_quarter_sales": "NULL",
                                    "previous_year_sales": "NULL",
                                    "YoY_growth": "NULL",
                                    "QoQ_growth": "NULL"
                                },
                                {
                                    "order_year": "2014",
                                    "order_quarter": "3",
                                    "market_segment": "Corporate",
                                    "region": "South",
                                    "category": "Furniture",
                                    "sub_category": "Tables",
                                    "total_sales": "1202.94",
                                    "previous_quarter_sales": "1215.92",
                                    "previous_year_sales": "NULL",
                                    "YoY_growth": "NULL",
                                    "QoQ_growth": "-1.067500"
                                },
                                {
                                    "order_year": "2014",
                                    "order_quarter": "4",
                                    "market_segment": "Corporate",
                                    "region": "South",
                                    "category": "Furniture",
                                    "sub_category": "Tables",
                                    "total_sales": "919.91",
                                    "previous_quarter_sales": "1202.94",
                                    "previous_year_sales": "NULL",
                                    "YoY_growth": "NULL",
                                    "QoQ_growth": "-23.528100"
                                },
                                {
                                    "order_year": "2015",
                                    "order_quarter": "3",
                                    "market_segment": "Corporate",
                                    "region": "South",
                                    "category": "Furniture",
                                    "sub_category": "Tables",
                                    "total_sales": "358.58",
                                    "previous_quarter_sales": "919.91",
                                    "previous_year_sales": "NULL",
                                    "YoY_growth": "NULL",
                                    "QoQ_growth": "-61.020000"
                                },
                                {
                                    "order_year": "2016",
                                    "order_quarter": "2",
                                    "market_segment": "Corporate",
                                    "region": "South",
                                    "category": "Furniture",
                                    "sub_category": "Tables",
                                    "total_sales": "2275.50",
                                    "previous_quarter_sales": "358.58",
                                    "previous_year_sales": "1215.92",
                                    "YoY_growth": "87.142200",
                                    "QoQ_growth": "534.586400"
                                },
                                {
                                    "order_year": "2016",
                                    "order_quarter": "3",
                                    "market_segment": "Corporate",
                                    "region": "South",
                                    "category": "Furniture",
                                    "sub_category": "Tables",
                                    "total_sales": "945.73",
                                    "previous_quarter_sales": "2275.50",
                                    "previous_year_sales": "1202.94",
                                    "YoY_growth": "-21.381700",
                                    "QoQ_growth": "-58.438500"
                                },
                                {
                                    "order_year": "2016",
                                    "order_quarter": "4",
                                    "market_segment": "Corporate",
                                    "region": "South",
                                    "category": "Furniture",
                                    "sub_category": "Tables",
                                    "total_sales": "1586.29",
                                    "previous_quarter_sales": "945.73",
                                    "previous_year_sales": "919.91",
                                    "YoY_growth": "72.439600",
                                    "QoQ_growth": "67.731800"
                                },
                                {
                                    "order_year": "2017",
                                    "order_quarter": "2",
                                    "market_segment": "Corporate",
                                    "region": "South",
                                    "category": "Furniture",
                                    "sub_category": "Tables",
                                    "total_sales": "120.96",
                                    "previous_quarter_sales": "1586.29",
                                    "previous_year_sales": "358.58",
                                    "YoY_growth": "-66.266900",
                                    "QoQ_growth": "-92.374600"
                                },
                                {
                                    "order_year": "2017",
                                    "order_quarter": "3",
                                    "market_segment": "Corporate",
                                    "region": "South",
                                    "category": "Furniture",
                                    "sub_category": "Tables",
                                    "total_sales": "872.94",
                                    "previous_quarter_sales": "120.96",
                                    "previous_year_sales": "2275.50",
                                    "YoY_growth": "-61.637400",
                                    "QoQ_growth": "621.676500"
                                },
                                {
                                    "order_year": "2017",
                                    "order_quarter": "4",
                                    "market_segment": "Corporate",
                                    "region": "South",
                                    "category": "Furniture",
                                    "sub_category": "Tables",
                                    "total_sales": "3120.90",
                                    "previous_quarter_sales": "872.94",
                                    "previous_year_sales": "945.73",
                                    "YoY_growth": "229.999000",
                                    "QoQ_growth": "257.515900"
                                },
                                {
                                    "order_year": "2014",
                                    "order_quarter": "2",
                                    "market_segment": "Corporate",
                                    "region": "West",
                                    "category": "Furniture",
                                    "sub_category": "Bookcases",
                                    "total_sales": "599.17",
                                    "previous_quarter_sales": "NULL",
                                    "previous_year_sales": "NULL",
                                    "YoY_growth": "NULL",
                                    "QoQ_growth": "NULL"
                                },
                                {
                                    "order_year": "2014",
                                    "order_quarter": "3",
                                    "market_segment": "Corporate",
                                    "region": "West",
                                    "category": "Furniture",
                                    "sub_category": "Bookcases",
                                    "total_sales": "1803.84",
                                    "previous_quarter_sales": "599.17",
                                    "previous_year_sales": "NULL",
                                    "YoY_growth": "NULL",
                                    "QoQ_growth": "201.056400"
                                },
                                {
                                    "order_year": "2014",
                                    "order_quarter": "4",
                                    "market_segment": "Corporate",
                                    "region": "West",
                                    "category": "Furniture",
                                    "sub_category": "Bookcases",
                                    "total_sales": "922.97",
                                    "previous_quarter_sales": "1803.84",
                                    "previous_year_sales": "NULL",
                                    "YoY_growth": "NULL",
                                    "QoQ_growth": "-48.833000"
                                },
                                {
                                    "order_year": "2015",
                                    "order_quarter": "2",
                                    "market_segment": "Corporate",
                                    "region": "West",
                                    "category": "Furniture",
                                    "sub_category": "Bookcases",
                                    "total_sales": "509.96",
                                    "previous_quarter_sales": "922.97",
                                    "previous_year_sales": "NULL",
                                    "YoY_growth": "NULL",
                                    "QoQ_growth": "-44.747900"
                                },
                                {
                                    "order_year": "2015",
                                    "order_quarter": "3",
                                    "market_segment": "Corporate",
                                    "region": "West",
                                    "category": "Furniture",
                                    "sub_category": "Bookcases",
                                    "total_sales": "2139.23",
                                    "previous_quarter_sales": "509.96",
                                    "previous_year_sales": "599.17",
                                    "YoY_growth": "257.032200",
                                    "QoQ_growth": "319.489700"
                                },
                                {
                                    "order_year": "2016",
                                    "order_quarter": "3",
                                    "market_segment": "Corporate",
                                    "region": "West",
                                    "category": "Furniture",
                                    "sub_category": "Bookcases",
                                    "total_sales": "1176.30",
                                    "previous_quarter_sales": "2139.23",
                                    "previous_year_sales": "1803.84",
                                    "YoY_growth": "-34.789100",
                                    "QoQ_growth": "-45.012900"
                                },
                                {
                                    "order_year": "2016",
                                    "order_quarter": "4",
                                    "market_segment": "Corporate",
                                    "region": "West",
                                    "category": "Furniture",
                                    "sub_category": "Bookcases",
                                    "total_sales": "90.88",
                                    "previous_quarter_sales": "1176.30",
                                    "previous_year_sales": "922.97",
                                    "YoY_growth": "-90.153500",
                                    "QoQ_growth": "-92.274000"
                                },
                                {
                                    "order_year": "2017",
                                    "order_quarter": "2",
                                    "market_segment": "Corporate",
                                    "region": "West",
                                    "category": "Furniture",
                                    "sub_category": "Bookcases",
                                    "total_sales": "692.64",
                                    "previous_quarter_sales": "90.88",
                                    "previous_year_sales": "509.96",
                                    "YoY_growth": "35.822400",
                                    "QoQ_growth": "662.147800"
                                },
                                {
                                    "order_year": "2017",
                                    "order_quarter": "3",
                                    "market_segment": "Corporate",
                                    "region": "West",
                                    "category": "Furniture",
                                    "sub_category": "Bookcases",
                                    "total_sales": "2559.69",
                                    "previous_quarter_sales": "692.64",
                                    "previous_year_sales": "2139.23",
                                    "YoY_growth": "19.654700",
                                    "QoQ_growth": "269.555600"
                                },
                                {
                                    "order_year": "2017",
                                    "order_quarter": "4",
                                    "market_segment": "Corporate",
                                    "region": "West",
                                    "category": "Furniture",
                                    "sub_category": "Bookcases",
                                    "total_sales": "799.01",
                                    "previous_quarter_sales": "2559.69",
                                    "previous_year_sales": "1176.30",
                                    "YoY_growth": "-32.074300",
                                    "QoQ_growth": "-68.784800"
                                },
                                {
                                    "order_year": "2014",
                                    "order_quarter": "1",
                                    "market_segment": "Corporate",
                                    "region": "West",
                                    "category": "Furniture",
                                    "sub_category": "Chairs",
                                    "total_sales": "1232.62",
                                    "previous_quarter_sales": "NULL",
                                    "previous_year_sales": "NULL",
                                    "YoY_growth": "NULL",
                                    "QoQ_growth": "NULL"
                                },
                                {
                                    "order_year": "2014",
                                    "order_quarter": "2",
                                    "market_segment": "Corporate",
                                    "region": "West",
                                    "category": "Furniture",
                                    "sub_category": "Chairs",
                                    "total_sales": "742.62",
                                    "previous_quarter_sales": "1232.62",
                                    "previous_year_sales": "NULL",
                                    "YoY_growth": "NULL",
                                    "QoQ_growth": "-39.752700"
                                },
                                {
                                    "order_year": "2014",
                                    "order_quarter": "3",
                                    "market_segment": "Corporate",
                                    "region": "West",
                                    "category": "Furniture",
                                    "sub_category": "Chairs",
                                    "total_sales": "801.57",
                                    "previous_quarter_sales": "742.62",
                                    "previous_year_sales": "NULL",
                                    "YoY_growth": "NULL",
                                    "QoQ_growth": "7.938100"
                                },
                                {
                                    "order_year": "2014",
                                    "order_quarter": "4",
                                    "market_segment": "Corporate",
                                    "region": "West",
                                    "category": "Furniture",
                                    "sub_category": "Chairs",
                                    "total_sales": "2533.59",
                                    "previous_quarter_sales": "801.57",
                                    "previous_year_sales": "NULL",
                                    "YoY_growth": "NULL",
                                    "QoQ_growth": "216.078400"
                                },
                                {
                                    "order_year": "2015",
                                    "order_quarter": "1",
                                    "market_segment": "Corporate",
                                    "region": "West",
                                    "category": "Furniture",
                                    "sub_category": "Chairs",
                                    "total_sales": "184.75",
                                    "previous_quarter_sales": "2533.59",
                                    "previous_year_sales": "1232.62",
                                    "YoY_growth": "-85.011600",
                                    "QoQ_growth": "-92.707900"
                                },
                                {
                                    "order_year": "2015",
                                    "order_quarter": "2",
                                    "market_segment": "Corporate",
                                    "region": "West",
                                    "category": "Furniture",
                                    "sub_category": "Chairs",
                                    "total_sales": "1776.08",
                                    "previous_quarter_sales": "184.75",
                                    "previous_year_sales": "742.62",
                                    "YoY_growth": "139.164000",
                                    "QoQ_growth": "861.342300"
                                },
                                {
                                    "order_year": "2015",
                                    "order_quarter": "3",
                                    "market_segment": "Corporate",
                                    "region": "West",
                                    "category": "Furniture",
                                    "sub_category": "Chairs",
                                    "total_sales": "3340.06",
                                    "previous_quarter_sales": "1776.08",
                                    "previous_year_sales": "801.57",
                                    "YoY_growth": "316.689700",
                                    "QoQ_growth": "88.057900"
                                },
                                {
                                    "order_year": "2015",
                                    "order_quarter": "4",
                                    "market_segment": "Corporate",
                                    "region": "West",
                                    "category": "Furniture",
                                    "sub_category": "Chairs",
                                    "total_sales": "2019.04",
                                    "previous_quarter_sales": "3340.06",
                                    "previous_year_sales": "2533.59",
                                    "YoY_growth": "-20.309100",
                                    "QoQ_growth": "-39.550700"
                                },
                                {
                                    "order_year": "2016",
                                    "order_quarter": "1",
                                    "market_segment": "Corporate",
                                    "region": "West",
                                    "category": "Furniture",
                                    "sub_category": "Chairs",
                                    "total_sales": "2319.16",
                                    "previous_quarter_sales": "2019.04",
                                    "previous_year_sales": "184.75",
                                    "YoY_growth": "1155.296300",
                                    "QoQ_growth": "14.864400"
                                },
                                {
                                    "order_year": "2016",
                                    "order_quarter": "2",
                                    "market_segment": "Corporate",
                                    "region": "West",
                                    "category": "Furniture",
                                    "sub_category": "Chairs",
                                    "total_sales": "843.14",
                                    "previous_quarter_sales": "2319.16",
                                    "previous_year_sales": "1776.08",
                                    "YoY_growth": "-52.528000",
                                    "QoQ_growth": "-63.644500"
                                },
                                {
                                    "order_year": "2016",
                                    "order_quarter": "3",
                                    "market_segment": "Corporate",
                                    "region": "West",
                                    "category": "Furniture",
                                    "sub_category": "Chairs",
                                    "total_sales": "6328.82",
                                    "previous_quarter_sales": "843.14",
                                    "previous_year_sales": "3340.06",
                                    "YoY_growth": "89.482200",
                                    "QoQ_growth": "650.625000"
                                },
                                {
                                    "order_year": "2016",
                                    "order_quarter": "4",
                                    "market_segment": "Corporate",
                                    "region": "West",
                                    "category": "Furniture",
                                    "sub_category": "Chairs",
                                    "total_sales": "4627.46",
                                    "previous_quarter_sales": "6328.82",
                                    "previous_year_sales": "2019.04",
                                    "YoY_growth": "129.191100",
                                    "QoQ_growth": "-26.882700"
                                },
                                {
                                    "order_year": "2017",
                                    "order_quarter": "1",
                                    "market_segment": "Corporate",
                                    "region": "West",
                                    "category": "Furniture",
                                    "sub_category": "Chairs",
                                    "total_sales": "963.14",
                                    "previous_quarter_sales": "4627.46",
                                    "previous_year_sales": "2319.16",
                                    "YoY_growth": "-58.470300",
                                    "QoQ_growth": "-79.186400"
                                },
                                {
                                    "order_year": "2017",
                                    "order_quarter": "2",
                                    "market_segment": "Corporate",
                                    "region": "West",
                                    "category": "Furniture",
                                    "sub_category": "Chairs",
                                    "total_sales": "436.70",
                                    "previous_quarter_sales": "963.14",
                                    "previous_year_sales": "843.14",
                                    "YoY_growth": "-48.205500",
                                    "QoQ_growth": "-54.658700"
                                },
                                {
                                    "order_year": "2017",
                                    "order_quarter": "3",
                                    "market_segment": "Corporate",
                                    "region": "West",
                                    "category": "Furniture",
                                    "sub_category": "Chairs",
                                    "total_sales": "1913.25",
                                    "previous_quarter_sales": "436.70",
                                    "previous_year_sales": "6328.82",
                                    "YoY_growth": "-69.769200",
                                    "QoQ_growth": "338.115400"
                                },
                                {
                                    "order_year": "2017",
                                    "order_quarter": "4",
                                    "market_segment": "Corporate",
                                    "region": "West",
                                    "category": "Furniture",
                                    "sub_category": "Chairs",
                                    "total_sales": "6217.21",
                                    "previous_quarter_sales": "1913.25",
                                    "previous_year_sales": "4627.46",
                                    "YoY_growth": "34.354600",
                                    "QoQ_growth": "224.955400"
                                },
                                {
                                    "order_year": "2014",
                                    "order_quarter": "2",
                                    "market_segment": "Corporate",
                                    "region": "West",
                                    "category": "Furniture",
                                    "sub_category": "Furnishings",
                                    "total_sales": "174.65",
                                    "previous_quarter_sales": "NULL",
                                    "previous_year_sales": "NULL",
                                    "YoY_growth": "NULL",
                                    "QoQ_growth": "NULL"
                                },
                                {
                                    "order_year": "2014",
                                    "order_quarter": "3",
                                    "market_segment": "Corporate",
                                    "region": "West",
                                    "category": "Furniture",
                                    "sub_category": "Furnishings",
                                    "total_sales": "337.40",
                                    "previous_quarter_sales": "174.65",
                                    "previous_year_sales": "NULL",
                                    "YoY_growth": "NULL",
                                    "QoQ_growth": "93.186300"
                                },
                                {
                                    "order_year": "2014",
                                    "order_quarter": "4",
                                    "market_segment": "Corporate",
                                    "region": "West",
                                    "category": "Furniture",
                                    "sub_category": "Furnishings",
                                    "total_sales": "982.93",
                                    "previous_quarter_sales": "337.40",
                                    "previous_year_sales": "NULL",
                                    "YoY_growth": "NULL",
                                    "QoQ_growth": "191.324800"
                                },
                                {
                                    "order_year": "2015",
                                    "order_quarter": "1",
                                    "market_segment": "Corporate",
                                    "region": "West",
                                    "category": "Furniture",
                                    "sub_category": "Furnishings",
                                    "total_sales": "318.91",
                                    "previous_quarter_sales": "982.93",
                                    "previous_year_sales": "NULL",
                                    "YoY_growth": "NULL",
                                    "QoQ_growth": "-67.555100"
                                },
                                {
                                    "order_year": "2015",
                                    "order_quarter": "2",
                                    "market_segment": "Corporate",
                                    "region": "West",
                                    "category": "Furniture",
                                    "sub_category": "Furnishings",
                                    "total_sales": "1039.99",
                                    "previous_quarter_sales": "318.91",
                                    "previous_year_sales": "174.65",
                                    "YoY_growth": "495.470900",
                                    "QoQ_growth": "226.107600"
                                },
                                {
                                    "order_year": "2015",
                                    "order_quarter": "3",
                                    "market_segment": "Corporate",
                                    "region": "West",
                                    "category": "Furniture",
                                    "sub_category": "Furnishings",
                                    "total_sales": "792.68",
                                    "previous_quarter_sales": "1039.99",
                                    "previous_year_sales": "337.40",
                                    "YoY_growth": "134.937700",
                                    "QoQ_growth": "-23.780000"
                                },
                                {
                                    "order_year": "2015",
                                    "order_quarter": "4",
                                    "market_segment": "Corporate",
                                    "region": "West",
                                    "category": "Furniture",
                                    "sub_category": "Furnishings",
                                    "total_sales": "112.37",
                                    "previous_quarter_sales": "792.68",
                                    "previous_year_sales": "982.93",
                                    "YoY_growth": "-88.567800",
                                    "QoQ_growth": "-85.824000"
                                },
                                {
                                    "order_year": "2016",
                                    "order_quarter": "1",
                                    "market_segment": "Corporate",
                                    "region": "West",
                                    "category": "Furniture",
                                    "sub_category": "Furnishings",
                                    "total_sales": "253.38",
                                    "previous_quarter_sales": "112.37",
                                    "previous_year_sales": "318.91",
                                    "YoY_growth": "-20.548100",
                                    "QoQ_growth": "125.487200"
                                },
                                {
                                    "order_year": "2016",
                                    "order_quarter": "2",
                                    "market_segment": "Corporate",
                                    "region": "West",
                                    "category": "Furniture",
                                    "sub_category": "Furnishings",
                                    "total_sales": "279.73",
                                    "previous_quarter_sales": "253.38",
                                    "previous_year_sales": "1039.99",
                                    "YoY_growth": "-73.102600",
                                    "QoQ_growth": "10.399400"
                                },
                                {
                                    "order_year": "2016",
                                    "order_quarter": "3",
                                    "market_segment": "Corporate",
                                    "region": "West",
                                    "category": "Furniture",
                                    "sub_category": "Furnishings",
                                    "total_sales": "162.00",
                                    "previous_quarter_sales": "279.73",
                                    "previous_year_sales": "792.68",
                                    "YoY_growth": "-79.563000",
                                    "QoQ_growth": "-42.087000"
                                },
                                {
                                    "order_year": "2016",
                                    "order_quarter": "4",
                                    "market_segment": "Corporate",
                                    "region": "West",
                                    "category": "Furniture",
                                    "sub_category": "Furnishings",
                                    "total_sales": "494.78",
                                    "previous_quarter_sales": "162.00",
                                    "previous_year_sales": "112.37",
                                    "YoY_growth": "340.313200",
                                    "QoQ_growth": "205.419700"
                                },
                                {
                                    "order_year": "2017",
                                    "order_quarter": "1",
                                    "market_segment": "Corporate",
                                    "region": "West",
                                    "category": "Furniture",
                                    "sub_category": "Furnishings",
                                    "total_sales": "329.89",
                                    "previous_quarter_sales": "494.78",
                                    "previous_year_sales": "253.38",
                                    "YoY_growth": "30.195700",
                                    "QoQ_growth": "-33.325900"
                                },
                                {
                                    "order_year": "2017",
                                    "order_quarter": "2",
                                    "market_segment": "Corporate",
                                    "region": "West",
                                    "category": "Furniture",
                                    "sub_category": "Furnishings",
                                    "total_sales": "387.71",
                                    "previous_quarter_sales": "329.89",
                                    "previous_year_sales": "279.73",
                                    "YoY_growth": "38.601500",
                                    "QoQ_growth": "17.527000"
                                },
                                {
                                    "order_year": "2017",
                                    "order_quarter": "3",
                                    "market_segment": "Corporate",
                                    "region": "West",
                                    "category": "Furniture",
                                    "sub_category": "Furnishings",
                                    "total_sales": "860.21",
                                    "previous_quarter_sales": "387.71",
                                    "previous_year_sales": "162.00",
                                    "YoY_growth": "430.993800",
                                    "QoQ_growth": "121.869400"
                                },
                                {
                                    "order_year": "2017",
                                    "order_quarter": "4",
                                    "market_segment": "Corporate",
                                    "region": "West",
                                    "category": "Furniture",
                                    "sub_category": "Furnishings",
                                    "total_sales": "842.68",
                                    "previous_quarter_sales": "860.21",
                                    "previous_year_sales": "494.78",
                                    "YoY_growth": "70.314000",
                                    "QoQ_growth": "-2.037800"
                                },
                                {
                                    "order_year": "2014",
                                    "order_quarter": "2",
                                    "market_segment": "Corporate",
                                    "region": "West",
                                    "category": "Furniture",
                                    "sub_category": "Tables",
                                    "total_sales": "1668.51",
                                    "previous_quarter_sales": "NULL",
                                    "previous_year_sales": "NULL",
                                    "YoY_growth": "NULL",
                                    "QoQ_growth": "NULL"
                                },
                                {
                                    "order_year": "2014",
                                    "order_quarter": "3",
                                    "market_segment": "Corporate",
                                    "region": "West",
                                    "category": "Furniture",
                                    "sub_category": "Tables",
                                    "total_sales": "1898.83",
                                    "previous_quarter_sales": "1668.51",
                                    "previous_year_sales": "NULL",
                                    "YoY_growth": "NULL",
                                    "QoQ_growth": "13.803900"
                                },
                                {
                                    "order_year": "2014",
                                    "order_quarter": "4",
                                    "market_segment": "Corporate",
                                    "region": "West",
                                    "category": "Furniture",
                                    "sub_category": "Tables",
                                    "total_sales": "873.63",
                                    "previous_quarter_sales": "1898.83",
                                    "previous_year_sales": "NULL",
                                    "YoY_growth": "NULL",
                                    "QoQ_growth": "-53.991100"
                                },
                                {
                                    "order_year": "2015",
                                    "order_quarter": "1",
                                    "market_segment": "Corporate",
                                    "region": "West",
                                    "category": "Furniture",
                                    "sub_category": "Tables",
                                    "total_sales": "3393.68",
                                    "previous_quarter_sales": "873.63",
                                    "previous_year_sales": "NULL",
                                    "YoY_growth": "NULL",
                                    "QoQ_growth": "288.457300"
                                },
                                {
                                    "order_year": "2015",
                                    "order_quarter": "3",
                                    "market_segment": "Corporate",
                                    "region": "West",
                                    "category": "Furniture",
                                    "sub_category": "Tables",
                                    "total_sales": "170.14",
                                    "previous_quarter_sales": "3393.68",
                                    "previous_year_sales": "1668.51",
                                    "YoY_growth": "-89.802800",
                                    "QoQ_growth": "-94.986500"
                                },
                                {
                                    "order_year": "2015",
                                    "order_quarter": "4",
                                    "market_segment": "Corporate",
                                    "region": "West",
                                    "category": "Furniture",
                                    "sub_category": "Tables",
                                    "total_sales": "969.99",
                                    "previous_quarter_sales": "170.14",
                                    "previous_year_sales": "1898.83",
                                    "YoY_growth": "-48.916400",
                                    "QoQ_growth": "470.112800"
                                },
                                {
                                    "order_year": "2016",
                                    "order_quarter": "2",
                                    "market_segment": "Corporate",
                                    "region": "West",
                                    "category": "Furniture",
                                    "sub_category": "Tables",
                                    "total_sales": "4165.63",
                                    "previous_quarter_sales": "969.99",
                                    "previous_year_sales": "873.63",
                                    "YoY_growth": "376.818500",
                                    "QoQ_growth": "329.450800"
                                },
                                {
                                    "order_year": "2016",
                                    "order_quarter": "3",
                                    "market_segment": "Corporate",
                                    "region": "West",
                                    "category": "Furniture",
                                    "sub_category": "Tables",
                                    "total_sales": "5176.32",
                                    "previous_quarter_sales": "4165.63",
                                    "previous_year_sales": "3393.68",
                                    "YoY_growth": "52.528200",
                                    "QoQ_growth": "24.262500"
                                },
                                {
                                    "order_year": "2016",
                                    "order_quarter": "4",
                                    "market_segment": "Corporate",
                                    "region": "West",
                                    "category": "Furniture",
                                    "sub_category": "Tables",
                                    "total_sales": "4657.51",
                                    "previous_quarter_sales": "5176.32",
                                    "previous_year_sales": "170.14",
                                    "YoY_growth": "2637.457300",
                                    "QoQ_growth": "-10.022700"
                                },
                                {
                                    "order_year": "2017",
                                    "order_quarter": "1",
                                    "market_segment": "Corporate",
                                    "region": "West",
                                    "category": "Furniture",
                                    "sub_category": "Tables",
                                    "total_sales": "1692.32",
                                    "previous_quarter_sales": "4657.51",
                                    "previous_year_sales": "969.99",
                                    "YoY_growth": "74.467700",
                                    "QoQ_growth": "-63.664700"
                                },
                                {
                                    "order_year": "2017",
                                    "order_quarter": "2",
                                    "market_segment": "Corporate",
                                    "region": "West",
                                    "category": "Furniture",
                                    "sub_category": "Tables",
                                    "total_sales": "586.38",
                                    "previous_quarter_sales": "1692.32",
                                    "previous_year_sales": "4165.63",
                                    "YoY_growth": "-85.923300",
                                    "QoQ_growth": "-65.350500"
                                },
                                {
                                    "order_year": "2017",
                                    "order_quarter": "3",
                                    "market_segment": "Corporate",
                                    "region": "West",
                                    "category": "Furniture",
                                    "sub_category": "Tables",
                                    "total_sales": "1605.91",
                                    "previous_quarter_sales": "586.38",
                                    "previous_year_sales": "5176.32",
                                    "YoY_growth": "-68.975800",
                                    "QoQ_growth": "173.868400"
                                },
                                {
                                    "order_year": "2017",
                                    "order_quarter": "4",
                                    "market_segment": "Corporate",
                                    "region": "West",
                                    "category": "Furniture",
                                    "sub_category": "Tables",
                                    "total_sales": "1279.05",
                                    "previous_quarter_sales": "1605.91",
                                    "previous_year_sales": "4657.51",
                                    "YoY_growth": "-72.537900",
                                    "QoQ_growth": "-20.353500"
                                },
                                {
                                    "order_year": "2014",
                                    "order_quarter": "2",
                                    "market_segment": "Home Office",
                                    "region": "Central",
                                    "category": "Furniture",
                                    "sub_category": "Bookcases",
                                    "total_sales": "212.94",
                                    "previous_quarter_sales": "NULL",
                                    "previous_year_sales": "NULL",
                                    "YoY_growth": "NULL",
                                    "QoQ_growth": "NULL"
                                },
                                {
                                    "order_year": "2014",
                                    "order_quarter": "3",
                                    "market_segment": "Home Office",
                                    "region": "Central",
                                    "category": "Furniture",
                                    "sub_category": "Bookcases",
                                    "total_sales": "300.53",
                                    "previous_quarter_sales": "212.94",
                                    "previous_year_sales": "NULL",
                                    "YoY_growth": "NULL",
                                    "QoQ_growth": "41.133600"
                                },
                                {
                                    "order_year": "2015",
                                    "order_quarter": "1",
                                    "market_segment": "Home Office",
                                    "region": "Central",
                                    "category": "Furniture",
                                    "sub_category": "Bookcases",
                                    "total_sales": "742.53",
                                    "previous_quarter_sales": "300.53",
                                    "previous_year_sales": "NULL",
                                    "YoY_growth": "NULL",
                                    "QoQ_growth": "147.073500"
                                },
                                {
                                    "order_year": "2015",
                                    "order_quarter": "3",
                                    "market_segment": "Home Office",
                                    "region": "Central",
                                    "category": "Furniture",
                                    "sub_category": "Bookcases",
                                    "total_sales": "687.40",
                                    "previous_quarter_sales": "742.53",
                                    "previous_year_sales": "NULL",
                                    "YoY_growth": "NULL",
                                    "QoQ_growth": "-7.424600"
                                },
                                {
                                    "order_year": "2015",
                                    "order_quarter": "4",
                                    "market_segment": "Home Office",
                                    "region": "Central",
                                    "category": "Furniture",
                                    "sub_category": "Bookcases",
                                    "total_sales": "532.40",
                                    "previous_quarter_sales": "687.40",
                                    "previous_year_sales": "212.94",
                                    "YoY_growth": "150.023400",
                                    "QoQ_growth": "-22.548700"
                                },
                                {
                                    "order_year": "2017",
                                    "order_quarter": "1",
                                    "market_segment": "Home Office",
                                    "region": "Central",
                                    "category": "Furniture",
                                    "sub_category": "Bookcases",
                                    "total_sales": "89.07",
                                    "previous_quarter_sales": "532.40",
                                    "previous_year_sales": "300.53",
                                    "YoY_growth": "-70.362300",
                                    "QoQ_growth": "-83.270000"
                                },
                                {
                                    "order_year": "2017",
                                    "order_quarter": "3",
                                    "market_segment": "Home Office",
                                    "region": "Central",
                                    "category": "Furniture",
                                    "sub_category": "Bookcases",
                                    "total_sales": "241.96",
                                    "previous_quarter_sales": "89.07",
                                    "previous_year_sales": "742.53",
                                    "YoY_growth": "-67.414100",
                                    "QoQ_growth": "171.651500"
                                },
                                {
                                    "order_year": "2014",
                                    "order_quarter": "1",
                                    "market_segment": "Home Office",
                                    "region": "Central",
                                    "category": "Furniture",
                                    "sub_category": "Chairs",
                                    "total_sales": "761.42",
                                    "previous_quarter_sales": "NULL",
                                    "previous_year_sales": "NULL",
                                    "YoY_growth": "NULL",
                                    "QoQ_growth": "NULL"
                                },
                                {
                                    "order_year": "2014",
                                    "order_quarter": "2",
                                    "market_segment": "Home Office",
                                    "region": "Central",
                                    "category": "Furniture",
                                    "sub_category": "Chairs",
                                    "total_sales": "2001.86",
                                    "previous_quarter_sales": "761.42",
                                    "previous_year_sales": "NULL",
                                    "YoY_growth": "NULL",
                                    "QoQ_growth": "162.911400"
                                },
                                {
                                    "order_year": "2014",
                                    "order_quarter": "3",
                                    "market_segment": "Home Office",
                                    "region": "Central",
                                    "category": "Furniture",
                                    "sub_category": "Chairs",
                                    "total_sales": "1995.81",
                                    "previous_quarter_sales": "2001.86",
                                    "previous_year_sales": "NULL",
                                    "YoY_growth": "NULL",
                                    "QoQ_growth": "-0.302200"
                                },
                                {
                                    "order_year": "2014",
                                    "order_quarter": "4",
                                    "market_segment": "Home Office",
                                    "region": "Central",
                                    "category": "Furniture",
                                    "sub_category": "Chairs",
                                    "total_sales": "1080.46",
                                    "previous_quarter_sales": "1995.81",
                                    "previous_year_sales": "NULL",
                                    "YoY_growth": "NULL",
                                    "QoQ_growth": "-45.863500"
                                },
                                {
                                    "order_year": "2015",
                                    "order_quarter": "1",
                                    "market_segment": "Home Office",
                                    "region": "Central",
                                    "category": "Furniture",
                                    "sub_category": "Chairs",
                                    "total_sales": "366.74",
                                    "previous_quarter_sales": "1080.46",
                                    "previous_year_sales": "761.42",
                                    "YoY_growth": "-51.834700",
                                    "QoQ_growth": "-66.057000"
                                },
                                {
                                    "order_year": "2015",
                                    "order_quarter": "2",
                                    "market_segment": "Home Office",
                                    "region": "Central",
                                    "category": "Furniture",
                                    "sub_category": "Chairs",
                                    "total_sales": "213.12",
                                    "previous_quarter_sales": "366.74",
                                    "previous_year_sales": "2001.86",
                                    "YoY_growth": "-89.353900",
                                    "QoQ_growth": "-41.887900"
                                },
                                {
                                    "order_year": "2015",
                                    "order_quarter": "3",
                                    "market_segment": "Home Office",
                                    "region": "Central",
                                    "category": "Furniture",
                                    "sub_category": "Chairs",
                                    "total_sales": "1563.98",
                                    "previous_quarter_sales": "213.12",
                                    "previous_year_sales": "1995.81",
                                    "YoY_growth": "-21.636800",
                                    "QoQ_growth": "633.849400"
                                },
                                {
                                    "order_year": "2015",
                                    "order_quarter": "4",
                                    "market_segment": "Home Office",
                                    "region": "Central",
                                    "category": "Furniture",
                                    "sub_category": "Chairs",
                                    "total_sales": "487.12",
                                    "previous_quarter_sales": "1563.98",
                                    "previous_year_sales": "1080.46",
                                    "YoY_growth": "-54.915400",
                                    "QoQ_growth": "-68.853800"
                                },
                                {
                                    "order_year": "2016",
                                    "order_quarter": "1",
                                    "market_segment": "Home Office",
                                    "region": "Central",
                                    "category": "Furniture",
                                    "sub_category": "Chairs",
                                    "total_sales": "844.12",
                                    "previous_quarter_sales": "487.12",
                                    "previous_year_sales": "366.74",
                                    "YoY_growth": "130.168500",
                                    "QoQ_growth": "73.287800"
                                },
                                {
                                    "order_year": "2016",
                                    "order_quarter": "2",
                                    "market_segment": "Home Office",
                                    "region": "Central",
                                    "category": "Furniture",
                                    "sub_category": "Chairs",
                                    "total_sales": "379.37",
                                    "previous_quarter_sales": "844.12",
                                    "previous_year_sales": "213.12",
                                    "YoY_growth": "78.007600",
                                    "QoQ_growth": "-55.057300"
                                },
                                {
                                    "order_year": "2016",
                                    "order_quarter": "3",
                                    "market_segment": "Home Office",
                                    "region": "Central",
                                    "category": "Furniture",
                                    "sub_category": "Chairs",
                                    "total_sales": "701.37",
                                    "previous_quarter_sales": "379.37",
                                    "previous_year_sales": "1563.98",
                                    "YoY_growth": "-55.154700",
                                    "QoQ_growth": "84.877500"
                                },
                                {
                                    "order_year": "2016",
                                    "order_quarter": "4",
                                    "market_segment": "Home Office",
                                    "region": "Central",
                                    "category": "Furniture",
                                    "sub_category": "Chairs",
                                    "total_sales": "819.05",
                                    "previous_quarter_sales": "701.37",
                                    "previous_year_sales": "487.12",
                                    "YoY_growth": "68.141300",
                                    "QoQ_growth": "16.778500"
                                },
                                {
                                    "order_year": "2017",
                                    "order_quarter": "1",
                                    "market_segment": "Home Office",
                                    "region": "Central",
                                    "category": "Furniture",
                                    "sub_category": "Chairs",
                                    "total_sales": "89.77",
                                    "previous_quarter_sales": "819.05",
                                    "previous_year_sales": "844.12",
                                    "YoY_growth": "-89.365200",
                                    "QoQ_growth": "-89.039700"
                                },
                                {
                                    "order_year": "2017",
                                    "order_quarter": "2",
                                    "market_segment": "Home Office",
                                    "region": "Central",
                                    "category": "Furniture",
                                    "sub_category": "Chairs",
                                    "total_sales": "1527.32",
                                    "previous_quarter_sales": "89.77",
                                    "previous_year_sales": "379.37",
                                    "YoY_growth": "302.593700",
                                    "QoQ_growth": "1601.370100"
                                },
                                {
                                    "order_year": "2017",
                                    "order_quarter": "3",
                                    "market_segment": "Home Office",
                                    "region": "Central",
                                    "category": "Furniture",
                                    "sub_category": "Chairs",
                                    "total_sales": "393.02",
                                    "previous_quarter_sales": "1527.32",
                                    "previous_year_sales": "701.37",
                                    "YoY_growth": "-43.963900",
                                    "QoQ_growth": "-74.267300"
                                },
                                {
                                    "order_year": "2017",
                                    "order_quarter": "4",
                                    "market_segment": "Home Office",
                                    "region": "Central",
                                    "category": "Furniture",
                                    "sub_category": "Chairs",
                                    "total_sales": "1083.20",
                                    "previous_quarter_sales": "393.02",
                                    "previous_year_sales": "819.05",
                                    "YoY_growth": "32.250700",
                                    "QoQ_growth": "175.609300"
                                },
                                {
                                    "order_year": "2014",
                                    "order_quarter": "3",
                                    "market_segment": "Home Office",
                                    "region": "Central",
                                    "category": "Furniture",
                                    "sub_category": "Furnishings",
                                    "total_sales": "119.72",
                                    "previous_quarter_sales": "NULL",
                                    "previous_year_sales": "NULL",
                                    "YoY_growth": "NULL",
                                    "QoQ_growth": "NULL"
                                },
                                {
                                    "order_year": "2014",
                                    "order_quarter": "4",
                                    "market_segment": "Home Office",
                                    "region": "Central",
                                    "category": "Furniture",
                                    "sub_category": "Furnishings",
                                    "total_sales": "8.74",
                                    "previous_quarter_sales": "119.72",
                                    "previous_year_sales": "NULL",
                                    "YoY_growth": "NULL",
                                    "QoQ_growth": "-92.699600"
                                },
                                {
                                    "order_year": "2015",
                                    "order_quarter": "1",
                                    "market_segment": "Home Office",
                                    "region": "Central",
                                    "category": "Furniture",
                                    "sub_category": "Furnishings",
                                    "total_sales": "254.74",
                                    "previous_quarter_sales": "8.74",
                                    "previous_year_sales": "NULL",
                                    "YoY_growth": "NULL",
                                    "QoQ_growth": "2814.645300"
                                },
                                {
                                    "order_year": "2015",
                                    "order_quarter": "2",
                                    "market_segment": "Home Office",
                                    "region": "Central",
                                    "category": "Furniture",
                                    "sub_category": "Furnishings",
                                    "total_sales": "75.33",
                                    "previous_quarter_sales": "254.74",
                                    "previous_year_sales": "NULL",
                                    "YoY_growth": "NULL",
                                    "QoQ_growth": "-70.428600"
                                },
                                {
                                    "order_year": "2015",
                                    "order_quarter": "4",
                                    "market_segment": "Home Office",
                                    "region": "Central",
                                    "category": "Furniture",
                                    "sub_category": "Furnishings",
                                    "total_sales": "266.56",
                                    "previous_quarter_sales": "75.33",
                                    "previous_year_sales": "119.72",
                                    "YoY_growth": "122.652800",
                                    "QoQ_growth": "253.856300"
                                },
                                {
                                    "order_year": "2016",
                                    "order_quarter": "2",
                                    "market_segment": "Home Office",
                                    "region": "Central",
                                    "category": "Furniture",
                                    "sub_category": "Furnishings",
                                    "total_sales": "163.61",
                                    "previous_quarter_sales": "266.56",
                                    "previous_year_sales": "8.74",
                                    "YoY_growth": "1771.967900",
                                    "QoQ_growth": "-38.621600"
                                },
                                {
                                    "order_year": "2016",
                                    "order_quarter": "3",
                                    "market_segment": "Home Office",
                                    "region": "Central",
                                    "category": "Furniture",
                                    "sub_category": "Furnishings",
                                    "total_sales": "548.15",
                                    "previous_quarter_sales": "163.61",
                                    "previous_year_sales": "254.74",
                                    "YoY_growth": "115.180100",
                                    "QoQ_growth": "235.034500"
                                },
                                {
                                    "order_year": "2016",
                                    "order_quarter": "4",
                                    "market_segment": "Home Office",
                                    "region": "Central",
                                    "category": "Furniture",
                                    "sub_category": "Furnishings",
                                    "total_sales": "307.06",
                                    "previous_quarter_sales": "548.15",
                                    "previous_year_sales": "75.33",
                                    "YoY_growth": "307.619800",
                                    "QoQ_growth": "-43.982400"
                                },
                                {
                                    "order_year": "2017",
                                    "order_quarter": "1",
                                    "market_segment": "Home Office",
                                    "region": "Central",
                                    "category": "Furniture",
                                    "sub_category": "Furnishings",
                                    "total_sales": "144.66",
                                    "previous_quarter_sales": "307.06",
                                    "previous_year_sales": "266.56",
                                    "YoY_growth": "-45.730700",
                                    "QoQ_growth": "-52.888600"
                                },
                                {
                                    "order_year": "2017",
                                    "order_quarter": "2",
                                    "market_segment": "Home Office",
                                    "region": "Central",
                                    "category": "Furniture",
                                    "sub_category": "Furnishings",
                                    "total_sales": "90.60",
                                    "previous_quarter_sales": "144.66",
                                    "previous_year_sales": "163.61",
                                    "YoY_growth": "-44.624400",
                                    "QoQ_growth": "-37.370300"
                                },
                                {
                                    "order_year": "2017",
                                    "order_quarter": "3",
                                    "market_segment": "Home Office",
                                    "region": "Central",
                                    "category": "Furniture",
                                    "sub_category": "Furnishings",
                                    "total_sales": "543.23",
                                    "previous_quarter_sales": "90.60",
                                    "previous_year_sales": "548.15",
                                    "YoY_growth": "-0.897500",
                                    "QoQ_growth": "499.591600"
                                },
                                {
                                    "order_year": "2017",
                                    "order_quarter": "4",
                                    "market_segment": "Home Office",
                                    "region": "Central",
                                    "category": "Furniture",
                                    "sub_category": "Furnishings",
                                    "total_sales": "88.02",
                                    "previous_quarter_sales": "543.23",
                                    "previous_year_sales": "307.06",
                                    "YoY_growth": "-71.334500",
                                    "QoQ_growth": "-83.796900"
                                },
                                {
                                    "order_year": "2014",
                                    "order_quarter": "3",
                                    "market_segment": "Home Office",
                                    "region": "Central",
                                    "category": "Furniture",
                                    "sub_category": "Tables",
                                    "total_sales": "630.69",
                                    "previous_quarter_sales": "NULL",
                                    "previous_year_sales": "NULL",
                                    "YoY_growth": "NULL",
                                    "QoQ_growth": "NULL"
                                },
                                {
                                    "order_year": "2015",
                                    "order_quarter": "2",
                                    "market_segment": "Home Office",
                                    "region": "Central",
                                    "category": "Furniture",
                                    "sub_category": "Tables",
                                    "total_sales": "796.42",
                                    "previous_quarter_sales": "630.69",
                                    "previous_year_sales": "NULL",
                                    "YoY_growth": "NULL",
                                    "QoQ_growth": "26.277500"
                                },
                                {
                                    "order_year": "2015",
                                    "order_quarter": "4",
                                    "market_segment": "Home Office",
                                    "region": "Central",
                                    "category": "Furniture",
                                    "sub_category": "Tables",
                                    "total_sales": "1074.62",
                                    "previous_quarter_sales": "796.42",
                                    "previous_year_sales": "NULL",
                                    "YoY_growth": "NULL",
                                    "QoQ_growth": "34.931300"
                                },
                                {
                                    "order_year": "2016",
                                    "order_quarter": "1",
                                    "market_segment": "Home Office",
                                    "region": "Central",
                                    "category": "Furniture",
                                    "sub_category": "Tables",
                                    "total_sales": "697.16",
                                    "previous_quarter_sales": "1074.62",
                                    "previous_year_sales": "NULL",
                                    "YoY_growth": "NULL",
                                    "QoQ_growth": "-35.124900"
                                },
                                {
                                    "order_year": "2016",
                                    "order_quarter": "2",
                                    "market_segment": "Home Office",
                                    "region": "Central",
                                    "category": "Furniture",
                                    "sub_category": "Tables",
                                    "total_sales": "692.94",
                                    "previous_quarter_sales": "697.16",
                                    "previous_year_sales": "630.69",
                                    "YoY_growth": "9.870100",
                                    "QoQ_growth": "-0.605300"
                                },
                                {
                                    "order_year": "2017",
                                    "order_quarter": "1",
                                    "market_segment": "Home Office",
                                    "region": "Central",
                                    "category": "Furniture",
                                    "sub_category": "Tables",
                                    "total_sales": "480.96",
                                    "previous_quarter_sales": "692.94",
                                    "previous_year_sales": "796.42",
                                    "YoY_growth": "-39.609700",
                                    "QoQ_growth": "-30.591300"
                                },
                                {
                                    "order_year": "2017",
                                    "order_quarter": "2",
                                    "market_segment": "Home Office",
                                    "region": "Central",
                                    "category": "Furniture",
                                    "sub_category": "Tables",
                                    "total_sales": "566.41",
                                    "previous_quarter_sales": "480.96",
                                    "previous_year_sales": "1074.62",
                                    "YoY_growth": "-47.292000",
                                    "QoQ_growth": "17.766500"
                                },
                                {
                                    "order_year": "2017",
                                    "order_quarter": "3",
                                    "market_segment": "Home Office",
                                    "region": "Central",
                                    "category": "Furniture",
                                    "sub_category": "Tables",
                                    "total_sales": "298.12",
                                    "previous_quarter_sales": "566.41",
                                    "previous_year_sales": "697.16",
                                    "YoY_growth": "-57.237900",
                                    "QoQ_growth": "-47.366700"
                                },
                                {
                                    "order_year": "2017",
                                    "order_quarter": "4",
                                    "market_segment": "Home Office",
                                    "region": "Central",
                                    "category": "Furniture",
                                    "sub_category": "Tables",
                                    "total_sales": "520.05",
                                    "previous_quarter_sales": "298.12",
                                    "previous_year_sales": "692.94",
                                    "YoY_growth": "-24.950200",
                                    "QoQ_growth": "74.443100"
                                },
                                {
                                    "order_year": "2014",
                                    "order_quarter": "4",
                                    "market_segment": "Home Office",
                                    "region": "East",
                                    "category": "Furniture",
                                    "sub_category": "Bookcases",
                                    "total_sales": "617.91",
                                    "previous_quarter_sales": "NULL",
                                    "previous_year_sales": "NULL",
                                    "YoY_growth": "NULL",
                                    "QoQ_growth": "NULL"
                                },
                                {
                                    "order_year": "2015",
                                    "order_quarter": "2",
                                    "market_segment": "Home Office",
                                    "region": "East",
                                    "category": "Furniture",
                                    "sub_category": "Bookcases",
                                    "total_sales": "352.45",
                                    "previous_quarter_sales": "617.91",
                                    "previous_year_sales": "NULL",
                                    "YoY_growth": "NULL",
                                    "QoQ_growth": "-42.960900"
                                },
                                {
                                    "order_year": "2015",
                                    "order_quarter": "3",
                                    "market_segment": "Home Office",
                                    "region": "East",
                                    "category": "Furniture",
                                    "sub_category": "Bookcases",
                                    "total_sales": "301.96",
                                    "previous_quarter_sales": "352.45",
                                    "previous_year_sales": "NULL",
                                    "YoY_growth": "NULL",
                                    "QoQ_growth": "-14.325400"
                                },
                                {
                                    "order_year": "2015",
                                    "order_quarter": "4",
                                    "market_segment": "Home Office",
                                    "region": "East",
                                    "category": "Furniture",
                                    "sub_category": "Bookcases",
                                    "total_sales": "1696.47",
                                    "previous_quarter_sales": "301.96",
                                    "previous_year_sales": "NULL",
                                    "YoY_growth": "NULL",
                                    "QoQ_growth": "461.819400"
                                },
                                {
                                    "order_year": "2016",
                                    "order_quarter": "3",
                                    "market_segment": "Home Office",
                                    "region": "East",
                                    "category": "Furniture",
                                    "sub_category": "Bookcases",
                                    "total_sales": "173.94",
                                    "previous_quarter_sales": "1696.47",
                                    "previous_year_sales": "617.91",
                                    "YoY_growth": "-71.850200",
                                    "QoQ_growth": "-89.746900"
                                },
                                {
                                    "order_year": "2016",
                                    "order_quarter": "4",
                                    "market_segment": "Home Office",
                                    "region": "East",
                                    "category": "Furniture",
                                    "sub_category": "Bookcases",
                                    "total_sales": "200.54",
                                    "previous_quarter_sales": "173.94",
                                    "previous_year_sales": "352.45",
                                    "YoY_growth": "-43.101100",
                                    "QoQ_growth": "15.292600"
                                },
                                {
                                    "order_year": "2014",
                                    "order_quarter": "2",
                                    "market_segment": "Home Office",
                                    "region": "East",
                                    "category": "Furniture",
                                    "sub_category": "Chairs",
                                    "total_sales": "562.74",
                                    "previous_quarter_sales": "NULL",
                                    "previous_year_sales": "NULL",
                                    "YoY_growth": "NULL",
                                    "QoQ_growth": "NULL"
                                },
                                {
                                    "order_year": "2014",
                                    "order_quarter": "3",
                                    "market_segment": "Home Office",
                                    "region": "East",
                                    "category": "Furniture",
                                    "sub_category": "Chairs",
                                    "total_sales": "172.76",
                                    "previous_quarter_sales": "562.74",
                                    "previous_year_sales": "NULL",
                                    "YoY_growth": "NULL",
                                    "QoQ_growth": "-69.300200"
                                },
                                {
                                    "order_year": "2014",
                                    "order_quarter": "4",
                                    "market_segment": "Home Office",
                                    "region": "East",
                                    "category": "Furniture",
                                    "sub_category": "Chairs",
                                    "total_sales": "1578.23",
                                    "previous_quarter_sales": "172.76",
                                    "previous_year_sales": "NULL",
                                    "YoY_growth": "NULL",
                                    "QoQ_growth": "813.539000"
                                },
                                {
                                    "order_year": "2015",
                                    "order_quarter": "3",
                                    "market_segment": "Home Office",
                                    "region": "East",
                                    "category": "Furniture",
                                    "sub_category": "Chairs",
                                    "total_sales": "1137.40",
                                    "previous_quarter_sales": "1578.23",
                                    "previous_year_sales": "NULL",
                                    "YoY_growth": "NULL",
                                    "QoQ_growth": "-27.931900"
                                },
                                {
                                    "order_year": "2015",
                                    "order_quarter": "4",
                                    "market_segment": "Home Office",
                                    "region": "East",
                                    "category": "Furniture",
                                    "sub_category": "Chairs",
                                    "total_sales": "2965.69",
                                    "previous_quarter_sales": "1137.40",
                                    "previous_year_sales": "562.74",
                                    "YoY_growth": "427.008900",
                                    "QoQ_growth": "160.742900"
                                },
                                {
                                    "order_year": "2016",
                                    "order_quarter": "2",
                                    "market_segment": "Home Office",
                                    "region": "East",
                                    "category": "Furniture",
                                    "sub_category": "Chairs",
                                    "total_sales": "434.65",
                                    "previous_quarter_sales": "2965.69",
                                    "previous_year_sales": "172.76",
                                    "YoY_growth": "151.591800",
                                    "QoQ_growth": "-85.344000"
                                },
                                {
                                    "order_year": "2016",
                                    "order_quarter": "3",
                                    "market_segment": "Home Office",
                                    "region": "East",
                                    "category": "Furniture",
                                    "sub_category": "Chairs",
                                    "total_sales": "1018.08",
                                    "previous_quarter_sales": "434.65",
                                    "previous_year_sales": "1578.23",
                                    "YoY_growth": "-35.492200",
                                    "QoQ_growth": "134.229800"
                                },
                                {
                                    "order_year": "2016",
                                    "order_quarter": "4",
                                    "market_segment": "Home Office",
                                    "region": "East",
                                    "category": "Furniture",
                                    "sub_category": "Chairs",
                                    "total_sales": "470.15",
                                    "previous_quarter_sales": "1018.08",
                                    "previous_year_sales": "1137.40",
                                    "YoY_growth": "-58.664400",
                                    "QoQ_growth": "-53.819900"
                                },
                                {
                                    "order_year": "2017",
                                    "order_quarter": "1",
                                    "market_segment": "Home Office",
                                    "region": "East",
                                    "category": "Furniture",
                                    "sub_category": "Chairs",
                                    "total_sales": "899.43",
                                    "previous_quarter_sales": "470.15",
                                    "previous_year_sales": "2965.69",
                                    "YoY_growth": "-69.672100",
                                    "QoQ_growth": "91.307000"
                                },
                                {
                                    "order_year": "2017",
                                    "order_quarter": "2",
                                    "market_segment": "Home Office",
                                    "region": "East",
                                    "category": "Furniture",
                                    "sub_category": "Chairs",
                                    "total_sales": "650.08",
                                    "previous_quarter_sales": "899.43",
                                    "previous_year_sales": "434.65",
                                    "YoY_growth": "49.564000",
                                    "QoQ_growth": "-27.723100"
                                },
                                {
                                    "order_year": "2017",
                                    "order_quarter": "3",
                                    "market_segment": "Home Office",
                                    "region": "East",
                                    "category": "Furniture",
                                    "sub_category": "Chairs",
                                    "total_sales": "925.66",
                                    "previous_quarter_sales": "650.08",
                                    "previous_year_sales": "1018.08",
                                    "YoY_growth": "-9.077800",
                                    "QoQ_growth": "42.391700"
                                },
                                {
                                    "order_year": "2017",
                                    "order_quarter": "4",
                                    "market_segment": "Home Office",
                                    "region": "East",
                                    "category": "Furniture",
                                    "sub_category": "Chairs",
                                    "total_sales": "2295.42",
                                    "previous_quarter_sales": "925.66",
                                    "previous_year_sales": "470.15",
                                    "YoY_growth": "388.231400",
                                    "QoQ_growth": "147.976500"
                                },
                                {
                                    "order_year": "2014",
                                    "order_quarter": "2",
                                    "market_segment": "Home Office",
                                    "region": "East",
                                    "category": "Furniture",
                                    "sub_category": "Furnishings",
                                    "total_sales": "22.34",
                                    "previous_quarter_sales": "NULL",
                                    "previous_year_sales": "NULL",
                                    "YoY_growth": "NULL",
                                    "QoQ_growth": "NULL"
                                },
                                {
                                    "order_year": "2014",
                                    "order_quarter": "3",
                                    "market_segment": "Home Office",
                                    "region": "East",
                                    "category": "Furniture",
                                    "sub_category": "Furnishings",
                                    "total_sales": "60.67",
                                    "previous_quarter_sales": "22.34",
                                    "previous_year_sales": "NULL",
                                    "YoY_growth": "NULL",
                                    "QoQ_growth": "171.575600"
                                },
                                {
                                    "order_year": "2014",
                                    "order_quarter": "4",
                                    "market_segment": "Home Office",
                                    "region": "East",
                                    "category": "Furniture",
                                    "sub_category": "Furnishings",
                                    "total_sales": "343.53",
                                    "previous_quarter_sales": "60.67",
                                    "previous_year_sales": "NULL",
                                    "YoY_growth": "NULL",
                                    "QoQ_growth": "466.227100"
                                },
                                {
                                    "order_year": "2015",
                                    "order_quarter": "2",
                                    "market_segment": "Home Office",
                                    "region": "East",
                                    "category": "Furniture",
                                    "sub_category": "Furnishings",
                                    "total_sales": "771.67",
                                    "previous_quarter_sales": "343.53",
                                    "previous_year_sales": "NULL",
                                    "YoY_growth": "NULL",
                                    "QoQ_growth": "124.629500"
                                },
                                {
                                    "order_year": "2015",
                                    "order_quarter": "3",
                                    "market_segment": "Home Office",
                                    "region": "East",
                                    "category": "Furniture",
                                    "sub_category": "Furnishings",
                                    "total_sales": "347.40",
                                    "previous_quarter_sales": "771.67",
                                    "previous_year_sales": "22.34",
                                    "YoY_growth": "1455.058100",
                                    "QoQ_growth": "-54.980700"
                                },
                                {
                                    "order_year": "2015",
                                    "order_quarter": "4",
                                    "market_segment": "Home Office",
                                    "region": "East",
                                    "category": "Furniture",
                                    "sub_category": "Furnishings",
                                    "total_sales": "103.91",
                                    "previous_quarter_sales": "347.40",
                                    "previous_year_sales": "60.67",
                                    "YoY_growth": "71.270800",
                                    "QoQ_growth": "-70.089200"
                                },
                                {
                                    "order_year": "2016",
                                    "order_quarter": "1",
                                    "market_segment": "Home Office",
                                    "region": "East",
                                    "category": "Furniture",
                                    "sub_category": "Furnishings",
                                    "total_sales": "407.92",
                                    "previous_quarter_sales": "103.91",
                                    "previous_year_sales": "343.53",
                                    "YoY_growth": "18.743600",
                                    "QoQ_growth": "292.570400"
                                },
                                {
                                    "order_year": "2016",
                                    "order_quarter": "2",
                                    "market_segment": "Home Office",
                                    "region": "East",
                                    "category": "Furniture",
                                    "sub_category": "Furnishings",
                                    "total_sales": "137.35",
                                    "previous_quarter_sales": "407.92",
                                    "previous_year_sales": "771.67",
                                    "YoY_growth": "-82.200900",
                                    "QoQ_growth": "-66.329100"
                                },
                                {
                                    "order_year": "2016",
                                    "order_quarter": "3",
                                    "market_segment": "Home Office",
                                    "region": "East",
                                    "category": "Furniture",
                                    "sub_category": "Furnishings",
                                    "total_sales": "53.63",
                                    "previous_quarter_sales": "137.35",
                                    "previous_year_sales": "347.40",
                                    "YoY_growth": "-84.562400",
                                    "QoQ_growth": "-60.953700"
                                },
                                {
                                    "order_year": "2016",
                                    "order_quarter": "4",
                                    "market_segment": "Home Office",
                                    "region": "East",
                                    "category": "Furniture",
                                    "sub_category": "Furnishings",
                                    "total_sales": "220.71",
                                    "previous_quarter_sales": "53.63",
                                    "previous_year_sales": "103.91",
                                    "YoY_growth": "112.404900",
                                    "QoQ_growth": "311.542000"
                                },
                                {
                                    "order_year": "2017",
                                    "order_quarter": "1",
                                    "market_segment": "Home Office",
                                    "region": "East",
                                    "category": "Furniture",
                                    "sub_category": "Furnishings",
                                    "total_sales": "145.11",
                                    "previous_quarter_sales": "220.71",
                                    "previous_year_sales": "407.92",
                                    "YoY_growth": "-64.426800",
                                    "QoQ_growth": "-34.253000"
                                },
                                {
                                    "order_year": "2017",
                                    "order_quarter": "2",
                                    "market_segment": "Home Office",
                                    "region": "East",
                                    "category": "Furniture",
                                    "sub_category": "Furnishings",
                                    "total_sales": "254.35",
                                    "previous_quarter_sales": "145.11",
                                    "previous_year_sales": "137.35",
                                    "YoY_growth": "85.183800",
                                    "QoQ_growth": "75.280800"
                                },
                                {
                                    "order_year": "2017",
                                    "order_quarter": "3",
                                    "market_segment": "Home Office",
                                    "region": "East",
                                    "category": "Furniture",
                                    "sub_category": "Furnishings",
                                    "total_sales": "212.97",
                                    "previous_quarter_sales": "254.35",
                                    "previous_year_sales": "53.63",
                                    "YoY_growth": "297.109800",
                                    "QoQ_growth": "-16.268900"
                                },
                                {
                                    "order_year": "2017",
                                    "order_quarter": "4",
                                    "market_segment": "Home Office",
                                    "region": "East",
                                    "category": "Furniture",
                                    "sub_category": "Furnishings",
                                    "total_sales": "2829.42",
                                    "previous_quarter_sales": "212.97",
                                    "previous_year_sales": "220.71",
                                    "YoY_growth": "1181.962700",
                                    "QoQ_growth": "1228.553300"
                                },
                                {
                                    "order_year": "2014",
                                    "order_quarter": "1",
                                    "market_segment": "Home Office",
                                    "region": "East",
                                    "category": "Furniture",
                                    "sub_category": "Tables",
                                    "total_sales": "330.59",
                                    "previous_quarter_sales": "NULL",
                                    "previous_year_sales": "NULL",
                                    "YoY_growth": "NULL",
                                    "QoQ_growth": "NULL"
                                },
                                {
                                    "order_year": "2014",
                                    "order_quarter": "2",
                                    "market_segment": "Home Office",
                                    "region": "East",
                                    "category": "Furniture",
                                    "sub_category": "Tables",
                                    "total_sales": "154.76",
                                    "previous_quarter_sales": "330.59",
                                    "previous_year_sales": "NULL",
                                    "YoY_growth": "NULL",
                                    "QoQ_growth": "-53.186700"
                                },
                                {
                                    "order_year": "2015",
                                    "order_quarter": "3",
                                    "market_segment": "Home Office",
                                    "region": "East",
                                    "category": "Furniture",
                                    "sub_category": "Tables",
                                    "total_sales": "344.22",
                                    "previous_quarter_sales": "154.76",
                                    "previous_year_sales": "NULL",
                                    "YoY_growth": "NULL",
                                    "QoQ_growth": "122.421800"
                                },
                                {
                                    "order_year": "2015",
                                    "order_quarter": "4",
                                    "market_segment": "Home Office",
                                    "region": "East",
                                    "category": "Furniture",
                                    "sub_category": "Tables",
                                    "total_sales": "1499.23",
                                    "previous_quarter_sales": "344.22",
                                    "previous_year_sales": "NULL",
                                    "YoY_growth": "NULL",
                                    "QoQ_growth": "335.544100"
                                },
                                {
                                    "order_year": "2016",
                                    "order_quarter": "2",
                                    "market_segment": "Home Office",
                                    "region": "East",
                                    "category": "Furniture",
                                    "sub_category": "Tables",
                                    "total_sales": "205.18",
                                    "previous_quarter_sales": "1499.23",
                                    "previous_year_sales": "330.59",
                                    "YoY_growth": "-37.935200",
                                    "QoQ_growth": "-86.314300"
                                },
                                {
                                    "order_year": "2016",
                                    "order_quarter": "3",
                                    "market_segment": "Home Office",
                                    "region": "East",
                                    "category": "Furniture",
                                    "sub_category": "Tables",
                                    "total_sales": "815.29",
                                    "previous_quarter_sales": "205.18",
                                    "previous_year_sales": "154.76",
                                    "YoY_growth": "426.809200",
                                    "QoQ_growth": "297.353500"
                                },
                                {
                                    "order_year": "2017",
                                    "order_quarter": "1",
                                    "market_segment": "Home Office",
                                    "region": "East",
                                    "category": "Furniture",
                                    "sub_category": "Tables",
                                    "total_sales": "610.73",
                                    "previous_quarter_sales": "815.29",
                                    "previous_year_sales": "344.22",
                                    "YoY_growth": "77.424300",
                                    "QoQ_growth": "-25.090400"
                                },
                                {
                                    "order_year": "2017",
                                    "order_quarter": "3",
                                    "market_segment": "Home Office",
                                    "region": "East",
                                    "category": "Furniture",
                                    "sub_category": "Tables",
                                    "total_sales": "873.90",
                                    "previous_quarter_sales": "610.73",
                                    "previous_year_sales": "1499.23",
                                    "YoY_growth": "-41.710000",
                                    "QoQ_growth": "43.091000"
                                },
                                {
                                    "order_year": "2017",
                                    "order_quarter": "4",
                                    "market_segment": "Home Office",
                                    "region": "East",
                                    "category": "Furniture",
                                    "sub_category": "Tables",
                                    "total_sales": "2671.87",
                                    "previous_quarter_sales": "873.90",
                                    "previous_year_sales": "205.18",
                                    "YoY_growth": "1202.207800",
                                    "QoQ_growth": "205.740900"
                                },
                                {
                                    "order_year": "2015",
                                    "order_quarter": "3",
                                    "market_segment": "Home Office",
                                    "region": "South",
                                    "category": "Furniture",
                                    "sub_category": "Bookcases",
                                    "total_sales": "61.96",
                                    "previous_quarter_sales": "NULL",
                                    "previous_year_sales": "NULL",
                                    "YoY_growth": "NULL",
                                    "QoQ_growth": "NULL"
                                },
                                {
                                    "order_year": "2016",
                                    "order_quarter": "1",
                                    "market_segment": "Home Office",
                                    "region": "South",
                                    "category": "Furniture",
                                    "sub_category": "Bookcases",
                                    "total_sales": "239.98",
                                    "previous_quarter_sales": "61.96",
                                    "previous_year_sales": "NULL",
                                    "YoY_growth": "NULL",
                                    "QoQ_growth": "287.314300"
                                },
                                {
                                    "order_year": "2016",
                                    "order_quarter": "4",
                                    "market_segment": "Home Office",
                                    "region": "South",
                                    "category": "Furniture",
                                    "sub_category": "Bookcases",
                                    "total_sales": "339.92",
                                    "previous_quarter_sales": "239.98",
                                    "previous_year_sales": "NULL",
                                    "YoY_growth": "NULL",
                                    "QoQ_growth": "41.645100"
                                },
                                {
                                    "order_year": "2017",
                                    "order_quarter": "2",
                                    "market_segment": "Home Office",
                                    "region": "South",
                                    "category": "Furniture",
                                    "sub_category": "Bookcases",
                                    "total_sales": "387.14",
                                    "previous_quarter_sales": "339.92",
                                    "previous_year_sales": "NULL",
                                    "YoY_growth": "NULL",
                                    "QoQ_growth": "13.891500"
                                },
                                {
                                    "order_year": "2014",
                                    "order_quarter": "1",
                                    "market_segment": "Home Office",
                                    "region": "South",
                                    "category": "Furniture",
                                    "sub_category": "Chairs",
                                    "total_sales": "3713.74",
                                    "previous_quarter_sales": "NULL",
                                    "previous_year_sales": "NULL",
                                    "YoY_growth": "NULL",
                                    "QoQ_growth": "NULL"
                                },
                                {
                                    "order_year": "2015",
                                    "order_quarter": "1",
                                    "market_segment": "Home Office",
                                    "region": "South",
                                    "category": "Furniture",
                                    "sub_category": "Chairs",
                                    "total_sales": "1166.92",
                                    "previous_quarter_sales": "3713.74",
                                    "previous_year_sales": "NULL",
                                    "YoY_growth": "NULL",
                                    "QoQ_growth": "-68.578300"
                                },
                                {
                                    "order_year": "2016",
                                    "order_quarter": "3",
                                    "market_segment": "Home Office",
                                    "region": "South",
                                    "category": "Furniture",
                                    "sub_category": "Chairs",
                                    "total_sales": "121.78",
                                    "previous_quarter_sales": "1166.92",
                                    "previous_year_sales": "NULL",
                                    "YoY_growth": "NULL",
                                    "QoQ_growth": "-89.563900"
                                },
                                {
                                    "order_year": "2017",
                                    "order_quarter": "3",
                                    "market_segment": "Home Office",
                                    "region": "South",
                                    "category": "Furniture",
                                    "sub_category": "Chairs",
                                    "total_sales": "1143.06",
                                    "previous_quarter_sales": "121.78",
                                    "previous_year_sales": "NULL",
                                    "YoY_growth": "NULL",
                                    "QoQ_growth": "838.627000"
                                },
                                {
                                    "order_year": "2017",
                                    "order_quarter": "4",
                                    "market_segment": "Home Office",
                                    "region": "South",
                                    "category": "Furniture",
                                    "sub_category": "Chairs",
                                    "total_sales": "859.85",
                                    "previous_quarter_sales": "1143.06",
                                    "previous_year_sales": "3713.74",
                                    "YoY_growth": "-76.846700",
                                    "QoQ_growth": "-24.776400"
                                },
                                {
                                    "order_year": "2014",
                                    "order_quarter": "1",
                                    "market_segment": "Home Office",
                                    "region": "South",
                                    "category": "Furniture",
                                    "sub_category": "Furnishings",
                                    "total_sales": "228.36",
                                    "previous_quarter_sales": "NULL",
                                    "previous_year_sales": "NULL",
                                    "YoY_growth": "NULL",
                                    "QoQ_growth": "NULL"
                                },
                                {
                                    "order_year": "2014",
                                    "order_quarter": "4",
                                    "market_segment": "Home Office",
                                    "region": "South",
                                    "category": "Furniture",
                                    "sub_category": "Furnishings",
                                    "total_sales": "111.15",
                                    "previous_quarter_sales": "228.36",
                                    "previous_year_sales": "NULL",
                                    "YoY_growth": "NULL",
                                    "QoQ_growth": "-51.326800"
                                },
                                {
                                    "order_year": "2015",
                                    "order_quarter": "3",
                                    "market_segment": "Home Office",
                                    "region": "South",
                                    "category": "Furniture",
                                    "sub_category": "Furnishings",
                                    "total_sales": "136.88",
                                    "previous_quarter_sales": "111.15",
                                    "previous_year_sales": "NULL",
                                    "YoY_growth": "NULL",
                                    "QoQ_growth": "23.148800"
                                },
                                {
                                    "order_year": "2015",
                                    "order_quarter": "4",
                                    "market_segment": "Home Office",
                                    "region": "South",
                                    "category": "Furniture",
                                    "sub_category": "Furnishings",
                                    "total_sales": "39.96",
                                    "previous_quarter_sales": "136.88",
                                    "previous_year_sales": "NULL",
                                    "YoY_growth": "NULL",
                                    "QoQ_growth": "-70.806500"
                                },
                                {
                                    "order_year": "2016",
                                    "order_quarter": "1",
                                    "market_segment": "Home Office",
                                    "region": "South",
                                    "category": "Furniture",
                                    "sub_category": "Furnishings",
                                    "total_sales": "223.64",
                                    "previous_quarter_sales": "39.96",
                                    "previous_year_sales": "228.36",
                                    "YoY_growth": "-2.066900",
                                    "QoQ_growth": "459.659600"
                                },
                                {
                                    "order_year": "2016",
                                    "order_quarter": "2",
                                    "market_segment": "Home Office",
                                    "region": "South",
                                    "category": "Furniture",
                                    "sub_category": "Furnishings",
                                    "total_sales": "210.54",
                                    "previous_quarter_sales": "223.64",
                                    "previous_year_sales": "111.15",
                                    "YoY_growth": "89.419700",
                                    "QoQ_growth": "-5.857600"
                                },
                                {
                                    "order_year": "2016",
                                    "order_quarter": "3",
                                    "market_segment": "Home Office",
                                    "region": "South",
                                    "category": "Furniture",
                                    "sub_category": "Furnishings",
                                    "total_sales": "123.08",
                                    "previous_quarter_sales": "210.54",
                                    "previous_year_sales": "136.88",
                                    "YoY_growth": "-10.081800",
                                    "QoQ_growth": "-41.540700"
                                },
                                {
                                    "order_year": "2016",
                                    "order_quarter": "4",
                                    "market_segment": "Home Office",
                                    "region": "South",
                                    "category": "Furniture",
                                    "sub_category": "Furnishings",
                                    "total_sales": "125.59",
                                    "previous_quarter_sales": "123.08",
                                    "previous_year_sales": "39.96",
                                    "YoY_growth": "214.289200",
                                    "QoQ_growth": "2.039300"
                                },
                                {
                                    "order_year": "2017",
                                    "order_quarter": "1",
                                    "market_segment": "Home Office",
                                    "region": "South",
                                    "category": "Furniture",
                                    "sub_category": "Furnishings",
                                    "total_sales": "61.00",
                                    "previous_quarter_sales": "125.59",
                                    "previous_year_sales": "223.64",
                                    "YoY_growth": "-72.724000",
                                    "QoQ_growth": "-51.429200"
                                },
                                {
                                    "order_year": "2017",
                                    "order_quarter": "2",
                                    "market_segment": "Home Office",
                                    "region": "South",
                                    "category": "Furniture",
                                    "sub_category": "Furnishings",
                                    "total_sales": "556.72",
                                    "previous_quarter_sales": "61.00",
                                    "previous_year_sales": "210.54",
                                    "YoY_growth": "164.424800",
                                    "QoQ_growth": "812.655700"
                                },
                                {
                                    "order_year": "2017",
                                    "order_quarter": "4",
                                    "market_segment": "Home Office",
                                    "region": "South",
                                    "category": "Furniture",
                                    "sub_category": "Furnishings",
                                    "total_sales": "114.51",
                                    "previous_quarter_sales": "556.72",
                                    "previous_year_sales": "123.08",
                                    "YoY_growth": "-6.962900",
                                    "QoQ_growth": "-79.431300"
                                },
                                {
                                    "order_year": "2014",
                                    "order_quarter": "4",
                                    "market_segment": "Home Office",
                                    "region": "South",
                                    "category": "Furniture",
                                    "sub_category": "Tables",
                                    "total_sales": "2699.58",
                                    "previous_quarter_sales": "NULL",
                                    "previous_year_sales": "NULL",
                                    "YoY_growth": "NULL",
                                    "QoQ_growth": "NULL"
                                },
                                {
                                    "order_year": "2017",
                                    "order_quarter": "2",
                                    "market_segment": "Home Office",
                                    "region": "South",
                                    "category": "Furniture",
                                    "sub_category": "Tables",
                                    "total_sales": "1719.21",
                                    "previous_quarter_sales": "2699.58",
                                    "previous_year_sales": "NULL",
                                    "YoY_growth": "NULL",
                                    "QoQ_growth": "-36.315600"
                                },
                                {
                                    "order_year": "2017",
                                    "order_quarter": "4",
                                    "market_segment": "Home Office",
                                    "region": "South",
                                    "category": "Furniture",
                                    "sub_category": "Tables",
                                    "total_sales": "2468.88",
                                    "previous_quarter_sales": "1719.21",
                                    "previous_year_sales": "NULL",
                                    "YoY_growth": "NULL",
                                    "QoQ_growth": "43.605400"
                                },
                                {
                                    "order_year": "2014",
                                    "order_quarter": "1",
                                    "market_segment": "Home Office",
                                    "region": "West",
                                    "category": "Furniture",
                                    "sub_category": "Bookcases",
                                    "total_sales": "1198.33",
                                    "previous_quarter_sales": "NULL",
                                    "previous_year_sales": "NULL",
                                    "YoY_growth": "NULL",
                                    "QoQ_growth": "NULL"
                                },
                                {
                                    "order_year": "2014",
                                    "order_quarter": "3",
                                    "market_segment": "Home Office",
                                    "region": "West",
                                    "category": "Furniture",
                                    "sub_category": "Bookcases",
                                    "total_sales": "119.83",
                                    "previous_quarter_sales": "1198.33",
                                    "previous_year_sales": "NULL",
                                    "YoY_growth": "NULL",
                                    "QoQ_growth": "-90.000200"
                                },
                                {
                                    "order_year": "2014",
                                    "order_quarter": "4",
                                    "market_segment": "Home Office",
                                    "region": "West",
                                    "category": "Furniture",
                                    "sub_category": "Bookcases",
                                    "total_sales": "411.33",
                                    "previous_quarter_sales": "119.83",
                                    "previous_year_sales": "NULL",
                                    "YoY_growth": "NULL",
                                    "QoQ_growth": "243.261200"
                                },
                                {
                                    "order_year": "2016",
                                    "order_quarter": "2",
                                    "market_segment": "Home Office",
                                    "region": "West",
                                    "category": "Furniture",
                                    "sub_category": "Bookcases",
                                    "total_sales": "599.16",
                                    "previous_quarter_sales": "411.33",
                                    "previous_year_sales": "NULL",
                                    "YoY_growth": "NULL",
                                    "QoQ_growth": "45.664000"
                                },
                                {
                                    "order_year": "2016",
                                    "order_quarter": "3",
                                    "market_segment": "Home Office",
                                    "region": "West",
                                    "category": "Furniture",
                                    "sub_category": "Bookcases",
                                    "total_sales": "163.88",
                                    "previous_quarter_sales": "599.16",
                                    "previous_year_sales": "1198.33",
                                    "YoY_growth": "-86.324300",
                                    "QoQ_growth": "-72.648300"
                                },
                                {
                                    "order_year": "2016",
                                    "order_quarter": "4",
                                    "market_segment": "Home Office",
                                    "region": "West",
                                    "category": "Furniture",
                                    "sub_category": "Bookcases",
                                    "total_sales": "120.67",
                                    "previous_quarter_sales": "163.88",
                                    "previous_year_sales": "119.83",
                                    "YoY_growth": "0.700900",
                                    "QoQ_growth": "-26.366800"
                                },
                                {
                                    "order_year": "2017",
                                    "order_quarter": "1",
                                    "market_segment": "Home Office",
                                    "region": "West",
                                    "category": "Furniture",
                                    "sub_category": "Bookcases",
                                    "total_sales": "288.96",
                                    "previous_quarter_sales": "120.67",
                                    "previous_year_sales": "411.33",
                                    "YoY_growth": "-29.749800",
                                    "QoQ_growth": "139.462900"
                                },
                                {
                                    "order_year": "2017",
                                    "order_quarter": "2",
                                    "market_segment": "Home Office",
                                    "region": "West",
                                    "category": "Furniture",
                                    "sub_category": "Bookcases",
                                    "total_sales": "2011.83",
                                    "previous_quarter_sales": "288.96",
                                    "previous_year_sales": "599.16",
                                    "YoY_growth": "235.775000",
                                    "QoQ_growth": "596.231300"
                                },
                                {
                                    "order_year": "2017",
                                    "order_quarter": "4",
                                    "market_segment": "Home Office",
                                    "region": "West",
                                    "category": "Furniture",
                                    "sub_category": "Bookcases",
                                    "total_sales": "148.26",
                                    "previous_quarter_sales": "2011.83",
                                    "previous_year_sales": "163.88",
                                    "YoY_growth": "-9.531300",
                                    "QoQ_growth": "-92.630500"
                                },
                                {
                                    "order_year": "2014",
                                    "order_quarter": "2",
                                    "market_segment": "Home Office",
                                    "region": "West",
                                    "category": "Furniture",
                                    "sub_category": "Chairs",
                                    "total_sales": "1487.04",
                                    "previous_quarter_sales": "NULL",
                                    "previous_year_sales": "NULL",
                                    "YoY_growth": "NULL",
                                    "QoQ_growth": "NULL"
                                },
                                {
                                    "order_year": "2014",
                                    "order_quarter": "3",
                                    "market_segment": "Home Office",
                                    "region": "West",
                                    "category": "Furniture",
                                    "sub_category": "Chairs",
                                    "total_sales": "1323.17",
                                    "previous_quarter_sales": "1487.04",
                                    "previous_year_sales": "NULL",
                                    "YoY_growth": "NULL",
                                    "QoQ_growth": "-11.019800"
                                },
                                {
                                    "order_year": "2014",
                                    "order_quarter": "4",
                                    "market_segment": "Home Office",
                                    "region": "West",
                                    "category": "Furniture",
                                    "sub_category": "Chairs",
                                    "total_sales": "363.92",
                                    "previous_quarter_sales": "1323.17",
                                    "previous_year_sales": "NULL",
                                    "YoY_growth": "NULL",
                                    "QoQ_growth": "-72.496300"
                                },
                                {
                                    "order_year": "2015",
                                    "order_quarter": "1",
                                    "market_segment": "Home Office",
                                    "region": "West",
                                    "category": "Furniture",
                                    "sub_category": "Chairs",
                                    "total_sales": "976.72",
                                    "previous_quarter_sales": "363.92",
                                    "previous_year_sales": "NULL",
                                    "YoY_growth": "NULL",
                                    "QoQ_growth": "168.388600"
                                },
                                {
                                    "order_year": "2015",
                                    "order_quarter": "2",
                                    "market_segment": "Home Office",
                                    "region": "West",
                                    "category": "Furniture",
                                    "sub_category": "Chairs",
                                    "total_sales": "191.97",
                                    "previous_quarter_sales": "976.72",
                                    "previous_year_sales": "1487.04",
                                    "YoY_growth": "-87.090400",
                                    "QoQ_growth": "-80.345400"
                                },
                                {
                                    "order_year": "2015",
                                    "order_quarter": "3",
                                    "market_segment": "Home Office",
                                    "region": "West",
                                    "category": "Furniture",
                                    "sub_category": "Chairs",
                                    "total_sales": "1315.90",
                                    "previous_quarter_sales": "191.97",
                                    "previous_year_sales": "1323.17",
                                    "YoY_growth": "-0.549400",
                                    "QoQ_growth": "585.471600"
                                },
                                {
                                    "order_year": "2015",
                                    "order_quarter": "4",
                                    "market_segment": "Home Office",
                                    "region": "West",
                                    "category": "Furniture",
                                    "sub_category": "Chairs",
                                    "total_sales": "5134.86",
                                    "previous_quarter_sales": "1315.90",
                                    "previous_year_sales": "363.92",
                                    "YoY_growth": "1310.985900",
                                    "QoQ_growth": "290.216500"
                                },
                                {
                                    "order_year": "2016",
                                    "order_quarter": "2",
                                    "market_segment": "Home Office",
                                    "region": "West",
                                    "category": "Furniture",
                                    "sub_category": "Chairs",
                                    "total_sales": "1325.76",
                                    "previous_quarter_sales": "5134.86",
                                    "previous_year_sales": "976.72",
                                    "YoY_growth": "35.735900",
                                    "QoQ_growth": "-74.181100"
                                },
                                {
                                    "order_year": "2016",
                                    "order_quarter": "3",
                                    "market_segment": "Home Office",
                                    "region": "West",
                                    "category": "Furniture",
                                    "sub_category": "Chairs",
                                    "total_sales": "197.03",
                                    "previous_quarter_sales": "1325.76",
                                    "previous_year_sales": "191.97",
                                    "YoY_growth": "2.635800",
                                    "QoQ_growth": "-85.138300"
                                },
                                {
                                    "order_year": "2016",
                                    "order_quarter": "4",
                                    "market_segment": "Home Office",
                                    "region": "West",
                                    "category": "Furniture",
                                    "sub_category": "Chairs",
                                    "total_sales": "3003.62",
                                    "previous_quarter_sales": "197.03",
                                    "previous_year_sales": "1315.90",
                                    "YoY_growth": "128.255900",
                                    "QoQ_growth": "1424.448000"
                                },
                                {
                                    "order_year": "2017",
                                    "order_quarter": "1",
                                    "market_segment": "Home Office",
                                    "region": "West",
                                    "category": "Furniture",
                                    "sub_category": "Chairs",
                                    "total_sales": "1013.00",
                                    "previous_quarter_sales": "3003.62",
                                    "previous_year_sales": "5134.86",
                                    "YoY_growth": "-80.272100",
                                    "QoQ_growth": "-66.274000"
                                },
                                {
                                    "order_year": "2017",
                                    "order_quarter": "2",
                                    "market_segment": "Home Office",
                                    "region": "West",
                                    "category": "Furniture",
                                    "sub_category": "Chairs",
                                    "total_sales": "1771.61",
                                    "previous_quarter_sales": "1013.00",
                                    "previous_year_sales": "1325.76",
                                    "YoY_growth": "33.629700",
                                    "QoQ_growth": "74.887400"
                                },
                                {
                                    "order_year": "2017",
                                    "order_quarter": "3",
                                    "market_segment": "Home Office",
                                    "region": "West",
                                    "category": "Furniture",
                                    "sub_category": "Chairs",
                                    "total_sales": "2270.25",
                                    "previous_quarter_sales": "1771.61",
                                    "previous_year_sales": "197.03",
                                    "YoY_growth": "1052.235700",
                                    "QoQ_growth": "28.146100"
                                },
                                {
                                    "order_year": "2017",
                                    "order_quarter": "4",
                                    "market_segment": "Home Office",
                                    "region": "West",
                                    "category": "Furniture",
                                    "sub_category": "Chairs",
                                    "total_sales": "1647.26",
                                    "previous_quarter_sales": "2270.25",
                                    "previous_year_sales": "3003.62",
                                    "YoY_growth": "-45.157500",
                                    "QoQ_growth": "-27.441400"
                                },
                                {
                                    "order_year": "2014",
                                    "order_quarter": "1",
                                    "market_segment": "Home Office",
                                    "region": "West",
                                    "category": "Furniture",
                                    "sub_category": "Furnishings",
                                    "total_sales": "125.56",
                                    "previous_quarter_sales": "NULL",
                                    "previous_year_sales": "NULL",
                                    "YoY_growth": "NULL",
                                    "QoQ_growth": "NULL"
                                },
                                {
                                    "order_year": "2014",
                                    "order_quarter": "2",
                                    "market_segment": "Home Office",
                                    "region": "West",
                                    "category": "Furniture",
                                    "sub_category": "Furnishings",
                                    "total_sales": "640.47",
                                    "previous_quarter_sales": "125.56",
                                    "previous_year_sales": "NULL",
                                    "YoY_growth": "NULL",
                                    "QoQ_growth": "410.090700"
                                },
                                {
                                    "order_year": "2014",
                                    "order_quarter": "3",
                                    "market_segment": "Home Office",
                                    "region": "West",
                                    "category": "Furniture",
                                    "sub_category": "Furnishings",
                                    "total_sales": "6.16",
                                    "previous_quarter_sales": "640.47",
                                    "previous_year_sales": "NULL",
                                    "YoY_growth": "NULL",
                                    "QoQ_growth": "-99.038200"
                                },
                                {
                                    "order_year": "2014",
                                    "order_quarter": "4",
                                    "market_segment": "Home Office",
                                    "region": "West",
                                    "category": "Furniture",
                                    "sub_category": "Furnishings",
                                    "total_sales": "198.83",
                                    "previous_quarter_sales": "6.16",
                                    "previous_year_sales": "NULL",
                                    "YoY_growth": "NULL",
                                    "QoQ_growth": "3127.759700"
                                },
                                {
                                    "order_year": "2015",
                                    "order_quarter": "1",
                                    "market_segment": "Home Office",
                                    "region": "West",
                                    "category": "Furniture",
                                    "sub_category": "Furnishings",
                                    "total_sales": "327.76",
                                    "previous_quarter_sales": "198.83",
                                    "previous_year_sales": "125.56",
                                    "YoY_growth": "161.038500",
                                    "QoQ_growth": "64.844300"
                                },
                                {
                                    "order_year": "2015",
                                    "order_quarter": "2",
                                    "market_segment": "Home Office",
                                    "region": "West",
                                    "category": "Furniture",
                                    "sub_category": "Furnishings",
                                    "total_sales": "755.97",
                                    "previous_quarter_sales": "327.76",
                                    "previous_year_sales": "640.47",
                                    "YoY_growth": "18.033600",
                                    "QoQ_growth": "130.647400"
                                },
                                {
                                    "order_year": "2015",
                                    "order_quarter": "3",
                                    "market_segment": "Home Office",
                                    "region": "West",
                                    "category": "Furniture",
                                    "sub_category": "Furnishings",
                                    "total_sales": "252.66",
                                    "previous_quarter_sales": "755.97",
                                    "previous_year_sales": "6.16",
                                    "YoY_growth": "4001.623300",
                                    "QoQ_growth": "-66.578000"
                                },
                                {
                                    "order_year": "2015",
                                    "order_quarter": "4",
                                    "market_segment": "Home Office",
                                    "region": "West",
                                    "category": "Furniture",
                                    "sub_category": "Furnishings",
                                    "total_sales": "285.92",
                                    "previous_quarter_sales": "252.66",
                                    "previous_year_sales": "198.83",
                                    "YoY_growth": "43.801200",
                                    "QoQ_growth": "13.163900"
                                },
                                {
                                    "order_year": "2016",
                                    "order_quarter": "2",
                                    "market_segment": "Home Office",
                                    "region": "West",
                                    "category": "Furniture",
                                    "sub_category": "Furnishings",
                                    "total_sales": "1081.49",
                                    "previous_quarter_sales": "285.92",
                                    "previous_year_sales": "327.76",
                                    "YoY_growth": "229.963900",
                                    "QoQ_growth": "278.249100"
                                },
                                {
                                    "order_year": "2016",
                                    "order_quarter": "3",
                                    "market_segment": "Home Office",
                                    "region": "West",
                                    "category": "Furniture",
                                    "sub_category": "Furnishings",
                                    "total_sales": "145.17",
                                    "previous_quarter_sales": "1081.49",
                                    "previous_year_sales": "755.97",
                                    "YoY_growth": "-80.796800",
                                    "QoQ_growth": "-86.576800"
                                },
                                {
                                    "order_year": "2016",
                                    "order_quarter": "4",
                                    "market_segment": "Home Office",
                                    "region": "West",
                                    "category": "Furniture",
                                    "sub_category": "Furnishings",
                                    "total_sales": "565.99",
                                    "previous_quarter_sales": "145.17",
                                    "previous_year_sales": "252.66",
                                    "YoY_growth": "124.012500",
                                    "QoQ_growth": "289.880800"
                                },
                                {
                                    "order_year": "2017",
                                    "order_quarter": "1",
                                    "market_segment": "Home Office",
                                    "region": "West",
                                    "category": "Furniture",
                                    "sub_category": "Furnishings",
                                    "total_sales": "385.09",
                                    "previous_quarter_sales": "565.99",
                                    "previous_year_sales": "285.92",
                                    "YoY_growth": "34.684500",
                                    "QoQ_growth": "-31.961600"
                                },
                                {
                                    "order_year": "2017",
                                    "order_quarter": "2",
                                    "market_segment": "Home Office",
                                    "region": "West",
                                    "category": "Furniture",
                                    "sub_category": "Furnishings",
                                    "total_sales": "25.52",
                                    "previous_quarter_sales": "385.09",
                                    "previous_year_sales": "1081.49",
                                    "YoY_growth": "-97.640200",
                                    "QoQ_growth": "-93.372900"
                                },
                                {
                                    "order_year": "2017",
                                    "order_quarter": "3",
                                    "market_segment": "Home Office",
                                    "region": "West",
                                    "category": "Furniture",
                                    "sub_category": "Furnishings",
                                    "total_sales": "706.02",
                                    "previous_quarter_sales": "25.52",
                                    "previous_year_sales": "145.17",
                                    "YoY_growth": "386.340100",
                                    "QoQ_growth": "2666.536000"
                                },
                                {
                                    "order_year": "2017",
                                    "order_quarter": "4",
                                    "market_segment": "Home Office",
                                    "region": "West",
                                    "category": "Furniture",
                                    "sub_category": "Furnishings",
                                    "total_sales": "1128.40",
                                    "previous_quarter_sales": "706.02",
                                    "previous_year_sales": "565.99",
                                    "YoY_growth": "99.367400",
                                    "QoQ_growth": "59.825500"
                                },
                                {
                                    "order_year": "2014",
                                    "order_quarter": "2",
                                    "market_segment": "Home Office",
                                    "region": "West",
                                    "category": "Furniture",
                                    "sub_category": "Tables",
                                    "total_sales": "99.59",
                                    "previous_quarter_sales": "NULL",
                                    "previous_year_sales": "NULL",
                                    "YoY_growth": "NULL",
                                    "QoQ_growth": "NULL"
                                },
                                {
                                    "order_year": "2014",
                                    "order_quarter": "3",
                                    "market_segment": "Home Office",
                                    "region": "West",
                                    "category": "Furniture",
                                    "sub_category": "Tables",
                                    "total_sales": "2348.82",
                                    "previous_quarter_sales": "99.59",
                                    "previous_year_sales": "NULL",
                                    "YoY_growth": "NULL",
                                    "QoQ_growth": "2258.489800"
                                },
                                {
                                    "order_year": "2015",
                                    "order_quarter": "3",
                                    "market_segment": "Home Office",
                                    "region": "West",
                                    "category": "Furniture",
                                    "sub_category": "Tables",
                                    "total_sales": "1004.98",
                                    "previous_quarter_sales": "2348.82",
                                    "previous_year_sales": "NULL",
                                    "YoY_growth": "NULL",
                                    "QoQ_growth": "-57.213400"
                                },
                                {
                                    "order_year": "2015",
                                    "order_quarter": "4",
                                    "market_segment": "Home Office",
                                    "region": "West",
                                    "category": "Furniture",
                                    "sub_category": "Tables",
                                    "total_sales": "1913.40",
                                    "previous_quarter_sales": "1004.98",
                                    "previous_year_sales": "NULL",
                                    "YoY_growth": "NULL",
                                    "QoQ_growth": "90.391800"
                                },
                                {
                                    "order_year": "2016",
                                    "order_quarter": "2",
                                    "market_segment": "Home Office",
                                    "region": "West",
                                    "category": "Furniture",
                                    "sub_category": "Tables",
                                    "total_sales": "1272.63",
                                    "previous_quarter_sales": "1913.40",
                                    "previous_year_sales": "99.59",
                                    "YoY_growth": "1177.869200",
                                    "QoQ_growth": "-33.488500"
                                },
                                {
                                    "order_year": "2016",
                                    "order_quarter": "3",
                                    "market_segment": "Home Office",
                                    "region": "West",
                                    "category": "Furniture",
                                    "sub_category": "Tables",
                                    "total_sales": "513.02",
                                    "previous_quarter_sales": "1272.63",
                                    "previous_year_sales": "2348.82",
                                    "YoY_growth": "-78.158300",
                                    "QoQ_growth": "-59.688200"
                                },
                                {
                                    "order_year": "2016",
                                    "order_quarter": "4",
                                    "market_segment": "Home Office",
                                    "region": "West",
                                    "category": "Furniture",
                                    "sub_category": "Tables",
                                    "total_sales": "1616.00",
                                    "previous_quarter_sales": "513.02",
                                    "previous_year_sales": "1004.98",
                                    "YoY_growth": "60.799200",
                                    "QoQ_growth": "214.997400"
                                },
                                {
                                    "order_year": "2017",
                                    "order_quarter": "1",
                                    "market_segment": "Home Office",
                                    "region": "West",
                                    "category": "Furniture",
                                    "sub_category": "Tables",
                                    "total_sales": "386.91",
                                    "previous_quarter_sales": "1616.00",
                                    "previous_year_sales": "1913.40",
                                    "YoY_growth": "-79.778900",
                                    "QoQ_growth": "-76.057500"
                                },
                                {
                                    "order_year": "2017",
                                    "order_quarter": "2",
                                    "market_segment": "Home Office",
                                    "region": "West",
                                    "category": "Furniture",
                                    "sub_category": "Tables",
                                    "total_sales": "286.85",
                                    "previous_quarter_sales": "386.91",
                                    "previous_year_sales": "1272.63",
                                    "YoY_growth": "-77.460000",
                                    "QoQ_growth": "-25.861300"
                                },
                                {
                                    "order_year": "2017",
                                    "order_quarter": "3",
                                    "market_segment": "Home Office",
                                    "region": "West",
                                    "category": "Furniture",
                                    "sub_category": "Tables",
                                    "total_sales": "1438.65",
                                    "previous_quarter_sales": "286.85",
                                    "previous_year_sales": "513.02",
                                    "YoY_growth": "180.427600",
                                    "QoQ_growth": "401.533900"
                                },
                                {
                                    "order_year": "2017",
                                    "order_quarter": "4",
                                    "market_segment": "Home Office",
                                    "region": "West",
                                    "category": "Furniture",
                                    "sub_category": "Tables",
                                    "total_sales": "5128.33",
                                    "previous_quarter_sales": "1438.65",
                                    "previous_year_sales": "1616.00",
                                    "YoY_growth": "217.347100",
                                    "QoQ_growth": "256.468200"
                                }
                            ]
                        },
                        "text/html": [
                            "<table>",
                            "<tr><th>order_year</th><th>order_quarter</th><th>market_segment</th><th>region</th><th>category</th><th>sub_category</th><th>total_sales</th><th>previous_quarter_sales</th><th>previous_year_sales</th><th>YoY_growth</th><th>QoQ_growth</th></tr>",
                            "<tr><td>2014</td><td>2</td><td>Consumer</td><td>Central</td><td>Furniture</td><td>Bookcases</td><td>193.07</td><td>NULL</td><td>NULL</td><td>NULL</td><td>NULL</td></tr>",
                            "<tr><td>2014</td><td>3</td><td>Consumer</td><td>Central</td><td>Furniture</td><td>Bookcases</td><td>493.43</td><td>193.07</td><td>NULL</td><td>NULL</td><td>155.570500</td></tr>",
                            "<tr><td>2014</td><td>4</td><td>Consumer</td><td>Central</td><td>Furniture</td><td>Bookcases</td><td>424.12</td><td>493.43</td><td>NULL</td><td>NULL</td><td>-14.046500</td></tr>",
                            "<tr><td>2015</td><td>1</td><td>Consumer</td><td>Central</td><td>Furniture</td><td>Bookcases</td><td>1865.34</td><td>424.12</td><td>NULL</td><td>NULL</td><td>339.814200</td></tr>",
                            "<tr><td>2015</td><td>3</td><td>Consumer</td><td>Central</td><td>Furniture</td><td>Bookcases</td><td>1298.37</td><td>1865.34</td><td>193.07</td><td>572.486600</td><td>-30.394900</td></tr>",
                            "<tr><td>2015</td><td>4</td><td>Consumer</td><td>Central</td><td>Furniture</td><td>Bookcases</td><td>973.06</td><td>1298.37</td><td>493.43</td><td>97.203200</td><td>-25.055200</td></tr>",
                            "<tr><td>2016</td><td>1</td><td>Consumer</td><td>Central</td><td>Furniture</td><td>Bookcases</td><td>241.33</td><td>973.06</td><td>424.12</td><td>-43.098600</td><td>-75.198800</td></tr>",
                            "<tr><td>2016</td><td>3</td><td>Consumer</td><td>Central</td><td>Furniture</td><td>Bookcases</td><td>2751.38</td><td>241.33</td><td>1865.34</td><td>47.500100</td><td>1040.090300</td></tr>",
                            "<tr><td>2016</td><td>4</td><td>Consumer</td><td>Central</td><td>Furniture</td><td>Bookcases</td><td>1704.48</td><td>2751.38</td><td>1298.37</td><td>31.278400</td><td>-38.049900</td></tr>",
                            "<tr><td>2017</td><td>1</td><td>Consumer</td><td>Central</td><td>Furniture</td><td>Bookcases</td><td>1023.33</td><td>1704.48</td><td>973.06</td><td>5.166100</td><td>-39.962300</td></tr>",
                            "<tr><td>2017</td><td>2</td><td>Consumer</td><td>Central</td><td>Furniture</td><td>Bookcases</td><td>614.67</td><td>1023.33</td><td>241.33</td><td>154.701000</td><td>-39.934300</td></tr>",
                            "<tr><td>2017</td><td>3</td><td>Consumer</td><td>Central</td><td>Furniture</td><td>Bookcases</td><td>183.37</td><td>614.67</td><td>2751.38</td><td>-93.335300</td><td>-70.167700</td></tr>",
                            "<tr><td>2017</td><td>4</td><td>Consumer</td><td>Central</td><td>Furniture</td><td>Bookcases</td><td>1194.90</td><td>183.37</td><td>1704.48</td><td>-29.896500</td><td>551.633300</td></tr>",
                            "<tr><td>2014</td><td>1</td><td>Consumer</td><td>Central</td><td>Furniture</td><td>Chairs</td><td>423.14</td><td>NULL</td><td>NULL</td><td>NULL</td><td>NULL</td></tr>",
                            "<tr><td>2014</td><td>2</td><td>Consumer</td><td>Central</td><td>Furniture</td><td>Chairs</td><td>1560.31</td><td>423.14</td><td>NULL</td><td>NULL</td><td>268.745500</td></tr>",
                            "<tr><td>2014</td><td>3</td><td>Consumer</td><td>Central</td><td>Furniture</td><td>Chairs</td><td>3128.13</td><td>1560.31</td><td>NULL</td><td>NULL</td><td>100.481300</td></tr>",
                            "<tr><td>2014</td><td>4</td><td>Consumer</td><td>Central</td><td>Furniture</td><td>Chairs</td><td>5911.72</td><td>3128.13</td><td>NULL</td><td>NULL</td><td>88.985700</td></tr>",
                            "<tr><td>2015</td><td>1</td><td>Consumer</td><td>Central</td><td>Furniture</td><td>Chairs</td><td>1168.00</td><td>5911.72</td><td>423.14</td><td>176.031500</td><td>-80.242600</td></tr>",
                            "<tr><td>2015</td><td>2</td><td>Consumer</td><td>Central</td><td>Furniture</td><td>Chairs</td><td>4204.95</td><td>1168.00</td><td>1560.31</td><td>169.494500</td><td>260.012800</td></tr>",
                            "<tr><td>2015</td><td>3</td><td>Consumer</td><td>Central</td><td>Furniture</td><td>Chairs</td><td>2907.94</td><td>4204.95</td><td>3128.13</td><td>-7.039000</td><td>-30.844800</td></tr>",
                            "<tr><td>2015</td><td>4</td><td>Consumer</td><td>Central</td><td>Furniture</td><td>Chairs</td><td>5159.26</td><td>2907.94</td><td>5911.72</td><td>-12.728200</td><td>77.419700</td></tr>",
                            "<tr><td>2016</td><td>1</td><td>Consumer</td><td>Central</td><td>Furniture</td><td>Chairs</td><td>528.43</td><td>5159.26</td><td>1168.00</td><td>-54.757700</td><td>-89.757600</td></tr>",
                            "<tr><td>2016</td><td>2</td><td>Consumer</td><td>Central</td><td>Furniture</td><td>Chairs</td><td>1127.48</td><td>528.43</td><td>4204.95</td><td>-73.186800</td><td>113.364100</td></tr>",
                            "<tr><td>2016</td><td>3</td><td>Consumer</td><td>Central</td><td>Furniture</td><td>Chairs</td><td>990.50</td><td>1127.48</td><td>2907.94</td><td>-65.938000</td><td>-12.149200</td></tr>",
                            "<tr><td>2016</td><td>4</td><td>Consumer</td><td>Central</td><td>Furniture</td><td>Chairs</td><td>3971.64</td><td>990.50</td><td>5159.26</td><td>-23.019100</td><td>300.973200</td></tr>",
                            "<tr><td>2017</td><td>1</td><td>Consumer</td><td>Central</td><td>Furniture</td><td>Chairs</td><td>4012.64</td><td>3971.64</td><td>528.43</td><td>659.351200</td><td>1.032300</td></tr>",
                            "<tr><td>2017</td><td>2</td><td>Consumer</td><td>Central</td><td>Furniture</td><td>Chairs</td><td>1398.48</td><td>4012.64</td><td>1127.48</td><td>24.035900</td><td>-65.148100</td></tr>",
                            "<tr><td>2017</td><td>3</td><td>Consumer</td><td>Central</td><td>Furniture</td><td>Chairs</td><td>2117.70</td><td>1398.48</td><td>990.50</td><td>113.801100</td><td>51.428600</td></tr>",
                            "<tr><td>2017</td><td>4</td><td>Consumer</td><td>Central</td><td>Furniture</td><td>Chairs</td><td>4323.07</td><td>2117.70</td><td>3971.64</td><td>8.848400</td><td>104.139800</td></tr>",
                            "<tr><td>2014</td><td>1</td><td>Consumer</td><td>Central</td><td>Furniture</td><td>Furnishings</td><td>786.05</td><td>NULL</td><td>NULL</td><td>NULL</td><td>NULL</td></tr>",
                            "<tr><td>2014</td><td>2</td><td>Consumer</td><td>Central</td><td>Furniture</td><td>Furnishings</td><td>197.23</td><td>786.05</td><td>NULL</td><td>NULL</td><td>-74.908700</td></tr>",
                            "<tr><td>2014</td><td>3</td><td>Consumer</td><td>Central</td><td>Furniture</td><td>Furnishings</td><td>897.07</td><td>197.23</td><td>NULL</td><td>NULL</td><td>354.834400</td></tr>",
                            "<tr><td>2014</td><td>4</td><td>Consumer</td><td>Central</td><td>Furniture</td><td>Furnishings</td><td>272.92</td><td>897.07</td><td>NULL</td><td>NULL</td><td>-69.576500</td></tr>",
                            "<tr><td>2015</td><td>1</td><td>Consumer</td><td>Central</td><td>Furniture</td><td>Furnishings</td><td>459.53</td><td>272.92</td><td>786.05</td><td>-41.539300</td><td>68.375300</td></tr>",
                            "<tr><td>2015</td><td>2</td><td>Consumer</td><td>Central</td><td>Furniture</td><td>Furnishings</td><td>227.47</td><td>459.53</td><td>197.23</td><td>15.332300</td><td>-50.499400</td></tr>",
                            "<tr><td>2015</td><td>3</td><td>Consumer</td><td>Central</td><td>Furniture</td><td>Furnishings</td><td>272.97</td><td>227.47</td><td>897.07</td><td>-69.570900</td><td>20.002600</td></tr>",
                            "<tr><td>2015</td><td>4</td><td>Consumer</td><td>Central</td><td>Furniture</td><td>Furnishings</td><td>658.07</td><td>272.97</td><td>272.92</td><td>141.121900</td><td>141.077700</td></tr>",
                            "<tr><td>2016</td><td>1</td><td>Consumer</td><td>Central</td><td>Furniture</td><td>Furnishings</td><td>198.31</td><td>658.07</td><td>459.53</td><td>-56.845000</td><td>-69.864900</td></tr>",
                            "<tr><td>2016</td><td>2</td><td>Consumer</td><td>Central</td><td>Furniture</td><td>Furnishings</td><td>681.95</td><td>198.31</td><td>227.47</td><td>199.797700</td><td>243.880700</td></tr>",
                            "<tr><td>2016</td><td>3</td><td>Consumer</td><td>Central</td><td>Furniture</td><td>Furnishings</td><td>1763.69</td><td>681.95</td><td>272.97</td><td>546.111200</td><td>158.624500</td></tr>",
                            "<tr><td>2016</td><td>4</td><td>Consumer</td><td>Central</td><td>Furniture</td><td>Furnishings</td><td>474.92</td><td>1763.69</td><td>658.07</td><td>-27.831300</td><td>-73.072300</td></tr>",
                            "<tr><td>2017</td><td>1</td><td>Consumer</td><td>Central</td><td>Furniture</td><td>Furnishings</td><td>253.43</td><td>474.92</td><td>198.31</td><td>27.794800</td><td>-46.637300</td></tr>",
                            "<tr><td>2017</td><td>2</td><td>Consumer</td><td>Central</td><td>Furniture</td><td>Furnishings</td><td>1131.16</td><td>253.43</td><td>681.95</td><td>65.871300</td><td>346.340200</td></tr>",
                            "<tr><td>2017</td><td>3</td><td>Consumer</td><td>Central</td><td>Furniture</td><td>Furnishings</td><td>438.75</td><td>1131.16</td><td>1763.69</td><td>-75.123100</td><td>-61.212300</td></tr>",
                            "<tr><td>2017</td><td>4</td><td>Consumer</td><td>Central</td><td>Furniture</td><td>Furnishings</td><td>786.46</td><td>438.75</td><td>474.92</td><td>65.598400</td><td>79.250100</td></tr>",
                            "<tr><td>2014</td><td>1</td><td>Consumer</td><td>Central</td><td>Furniture</td><td>Tables</td><td>2452.07</td><td>NULL</td><td>NULL</td><td>NULL</td><td>NULL</td></tr>",
                            "<tr><td>2014</td><td>2</td><td>Consumer</td><td>Central</td><td>Furniture</td><td>Tables</td><td>1770.08</td><td>2452.07</td><td>NULL</td><td>NULL</td><td>-27.812800</td></tr>",
                            "<tr><td>2014</td><td>3</td><td>Consumer</td><td>Central</td><td>Furniture</td><td>Tables</td><td>1106.93</td><td>1770.08</td><td>NULL</td><td>NULL</td><td>-37.464400</td></tr>",
                            "<tr><td>2014</td><td>4</td><td>Consumer</td><td>Central</td><td>Furniture</td><td>Tables</td><td>507.05</td><td>1106.93</td><td>NULL</td><td>NULL</td><td>-54.193100</td></tr>",
                            "<tr><td>2015</td><td>1</td><td>Consumer</td><td>Central</td><td>Furniture</td><td>Tables</td><td>102.44</td><td>507.05</td><td>2452.07</td><td>-95.822300</td><td>-79.796800</td></tr>",
                            "<tr><td>2015</td><td>2</td><td>Consumer</td><td>Central</td><td>Furniture</td><td>Tables</td><td>1065.36</td><td>102.44</td><td>1770.08</td><td>-39.812800</td><td>939.984300</td></tr>",
                            "<tr><td>2015</td><td>3</td><td>Consumer</td><td>Central</td><td>Furniture</td><td>Tables</td><td>918.78</td><td>1065.36</td><td>1106.93</td><td>-16.997400</td><td>-13.758700</td></tr>",
                            "<tr><td>2015</td><td>4</td><td>Consumer</td><td>Central</td><td>Furniture</td><td>Tables</td><td>1024.38</td><td>918.78</td><td>507.05</td><td>102.027400</td><td>11.493500</td></tr>",
                            "<tr><td>2016</td><td>1</td><td>Consumer</td><td>Central</td><td>Furniture</td><td>Tables</td><td>1967.57</td><td>1024.38</td><td>102.44</td><td>1820.704800</td><td>92.074200</td></tr>",
                            "<tr><td>2016</td><td>2</td><td>Consumer</td><td>Central</td><td>Furniture</td><td>Tables</td><td>177.22</td><td>1967.57</td><td>1065.36</td><td>-83.365200</td><td>-90.992900</td></tr>",
                            "<tr><td>2016</td><td>3</td><td>Consumer</td><td>Central</td><td>Furniture</td><td>Tables</td><td>1350.24</td><td>177.22</td><td>918.78</td><td>46.960000</td><td>661.900400</td></tr>",
                            "<tr><td>2016</td><td>4</td><td>Consumer</td><td>Central</td><td>Furniture</td><td>Tables</td><td>1445.09</td><td>1350.24</td><td>1024.38</td><td>41.069700</td><td>7.024600</td></tr>",
                            "<tr><td>2017</td><td>1</td><td>Consumer</td><td>Central</td><td>Furniture</td><td>Tables</td><td>1916.22</td><td>1445.09</td><td>1967.57</td><td>-2.609800</td><td>32.602100</td></tr>",
                            "<tr><td>2017</td><td>2</td><td>Consumer</td><td>Central</td><td>Furniture</td><td>Tables</td><td>307.31</td><td>1916.22</td><td>177.22</td><td>73.405900</td><td>-83.962600</td></tr>",
                            "<tr><td>2017</td><td>3</td><td>Consumer</td><td>Central</td><td>Furniture</td><td>Tables</td><td>1402.22</td><td>307.31</td><td>1350.24</td><td>3.849600</td><td>356.288400</td></tr>",
                            "<tr><td>2017</td><td>4</td><td>Consumer</td><td>Central</td><td>Furniture</td><td>Tables</td><td>3322.05</td><td>1402.22</td><td>1445.09</td><td>129.885300</td><td>136.913600</td></tr>",
                            "<tr><td>2014</td><td>2</td><td>Consumer</td><td>East</td><td>Furniture</td><td>Bookcases</td><td>703.53</td><td>NULL</td><td>NULL</td><td>NULL</td><td>NULL</td></tr>",
                            "<tr><td>2014</td><td>3</td><td>Consumer</td><td>East</td><td>Furniture</td><td>Bookcases</td><td>1164.51</td><td>703.53</td><td>NULL</td><td>NULL</td><td>65.523800</td></tr>",
                            "<tr><td>2014</td><td>4</td><td>Consumer</td><td>East</td><td>Furniture</td><td>Bookcases</td><td>4891.76</td><td>1164.51</td><td>NULL</td><td>NULL</td><td>320.070200</td></tr>",
                            "<tr><td>2015</td><td>1</td><td>Consumer</td><td>East</td><td>Furniture</td><td>Bookcases</td><td>283.92</td><td>4891.76</td><td>NULL</td><td>NULL</td><td>-94.195900</td></tr>",
                            "<tr><td>2015</td><td>3</td><td>Consumer</td><td>East</td><td>Furniture</td><td>Bookcases</td><td>9617.52</td><td>283.92</td><td>703.53</td><td>1267.037600</td><td>3287.404900</td></tr>",
                            "<tr><td>2015</td><td>4</td><td>Consumer</td><td>East</td><td>Furniture</td><td>Bookcases</td><td>1466.44</td><td>9617.52</td><td>1164.51</td><td>25.927600</td><td>-84.752400</td></tr>",
                            "<tr><td>2016</td><td>1</td><td>Consumer</td><td>East</td><td>Furniture</td><td>Bookcases</td><td>778.23</td><td>1466.44</td><td>4891.76</td><td>-84.091000</td><td>-46.930600</td></tr>",
                            "<tr><td>2016</td><td>2</td><td>Consumer</td><td>East</td><td>Furniture</td><td>Bookcases</td><td>879.05</td><td>778.23</td><td>283.92</td><td>209.611800</td><td>12.955000</td></tr>",
                            "<tr><td>2016</td><td>3</td><td>Consumer</td><td>East</td><td>Furniture</td><td>Bookcases</td><td>1768.66</td><td>879.05</td><td>9617.52</td><td>-81.610000</td><td>101.201200</td></tr>",
                            "<tr><td>2016</td><td>4</td><td>Consumer</td><td>East</td><td>Furniture</td><td>Bookcases</td><td>120.98</td><td>1768.66</td><td>1466.44</td><td>-91.750000</td><td>-93.159700</td></tr>",
                            "<tr><td>2017</td><td>1</td><td>Consumer</td><td>East</td><td>Furniture</td><td>Bookcases</td><td>498.35</td><td>120.98</td><td>778.23</td><td>-35.963600</td><td>311.927500</td></tr>",
                            "<tr><td>2017</td><td>2</td><td>Consumer</td><td>East</td><td>Furniture</td><td>Bookcases</td><td>643.13</td><td>498.35</td><td>879.05</td><td>-26.838000</td><td>29.051800</td></tr>",
                            "<tr><td>2017</td><td>3</td><td>Consumer</td><td>East</td><td>Furniture</td><td>Bookcases</td><td>1001.13</td><td>643.13</td><td>1768.66</td><td>-43.396100</td><td>55.665200</td></tr>",
                            "<tr><td>2017</td><td>4</td><td>Consumer</td><td>East</td><td>Furniture</td><td>Bookcases</td><td>3489.91</td><td>1001.13</td><td>120.98</td><td>2784.699900</td><td>248.597000</td></tr>",
                            "<tr><td>2014</td><td>1</td><td>Consumer</td><td>East</td><td>Furniture</td><td>Chairs</td><td>366.79</td><td>NULL</td><td>NULL</td><td>NULL</td><td>NULL</td></tr>",
                            "<tr><td>2014</td><td>2</td><td>Consumer</td><td>East</td><td>Furniture</td><td>Chairs</td><td>3124.77</td><td>366.79</td><td>NULL</td><td>NULL</td><td>751.923400</td></tr>",
                            "<tr><td>2014</td><td>3</td><td>Consumer</td><td>East</td><td>Furniture</td><td>Chairs</td><td>5232.67</td><td>3124.77</td><td>NULL</td><td>NULL</td><td>67.457700</td></tr>",
                            "<tr><td>2014</td><td>4</td><td>Consumer</td><td>East</td><td>Furniture</td><td>Chairs</td><td>5574.15</td><td>5232.67</td><td>NULL</td><td>NULL</td><td>6.525900</td></tr>",
                            "<tr><td>2015</td><td>1</td><td>Consumer</td><td>East</td><td>Furniture</td><td>Chairs</td><td>1834.42</td><td>5574.15</td><td>366.79</td><td>400.128100</td><td>-67.090500</td></tr>",
                            "<tr><td>2015</td><td>2</td><td>Consumer</td><td>East</td><td>Furniture</td><td>Chairs</td><td>2357.29</td><td>1834.42</td><td>3124.77</td><td>-24.561100</td><td>28.503200</td></tr>",
                            "<tr><td>2015</td><td>3</td><td>Consumer</td><td>East</td><td>Furniture</td><td>Chairs</td><td>2574.87</td><td>2357.29</td><td>5232.67</td><td>-50.792400</td><td>9.230000</td></tr>",
                            "<tr><td>2015</td><td>4</td><td>Consumer</td><td>East</td><td>Furniture</td><td>Chairs</td><td>3100.16</td><td>2574.87</td><td>5574.15</td><td>-44.383200</td><td>20.400600</td></tr>",
                            "<tr><td>2016</td><td>1</td><td>Consumer</td><td>East</td><td>Furniture</td><td>Chairs</td><td>1237.51</td><td>3100.16</td><td>1834.42</td><td>-32.539400</td><td>-60.082300</td></tr>",
                            "<tr><td>2016</td><td>2</td><td>Consumer</td><td>East</td><td>Furniture</td><td>Chairs</td><td>2201.62</td><td>1237.51</td><td>2357.29</td><td>-6.603700</td><td>77.907200</td></tr>",
                            "<tr><td>2016</td><td>3</td><td>Consumer</td><td>East</td><td>Furniture</td><td>Chairs</td><td>3290.20</td><td>2201.62</td><td>2574.87</td><td>27.781200</td><td>49.444400</td></tr>",
                            "<tr><td>2016</td><td>4</td><td>Consumer</td><td>East</td><td>Furniture</td><td>Chairs</td><td>10097.54</td><td>3290.20</td><td>3100.16</td><td>225.710200</td><td>206.897400</td></tr>",
                            "<tr><td>2017</td><td>1</td><td>Consumer</td><td>East</td><td>Furniture</td><td>Chairs</td><td>1159.03</td><td>10097.54</td><td>1237.51</td><td>-6.341700</td><td>-88.521600</td></tr>",
                            "<tr><td>2017</td><td>2</td><td>Consumer</td><td>East</td><td>Furniture</td><td>Chairs</td><td>1987.81</td><td>1159.03</td><td>2201.62</td><td>-9.711400</td><td>71.506300</td></tr>",
                            "<tr><td>2017</td><td>3</td><td>Consumer</td><td>East</td><td>Furniture</td><td>Chairs</td><td>11448.63</td><td>1987.81</td><td>3290.20</td><td>247.961500</td><td>475.941800</td></tr>",
                            "<tr><td>2017</td><td>4</td><td>Consumer</td><td>East</td><td>Furniture</td><td>Chairs</td><td>4057.63</td><td>11448.63</td><td>10097.54</td><td>-59.815600</td><td>-64.557900</td></tr>",
                            "<tr><td>2014</td><td>1</td><td>Consumer</td><td>East</td><td>Furniture</td><td>Furnishings</td><td>145.36</td><td>NULL</td><td>NULL</td><td>NULL</td><td>NULL</td></tr>",
                            "<tr><td>2014</td><td>2</td><td>Consumer</td><td>East</td><td>Furniture</td><td>Furnishings</td><td>269.05</td><td>145.36</td><td>NULL</td><td>NULL</td><td>85.092100</td></tr>",
                            "<tr><td>2014</td><td>3</td><td>Consumer</td><td>East</td><td>Furniture</td><td>Furnishings</td><td>848.33</td><td>269.05</td><td>NULL</td><td>NULL</td><td>215.305700</td></tr>",
                            "<tr><td>2014</td><td>4</td><td>Consumer</td><td>East</td><td>Furniture</td><td>Furnishings</td><td>1042.81</td><td>848.33</td><td>NULL</td><td>NULL</td><td>22.925000</td></tr>",
                            "<tr><td>2015</td><td>2</td><td>Consumer</td><td>East</td><td>Furniture</td><td>Furnishings</td><td>142.84</td><td>1042.81</td><td>145.36</td><td>-1.733600</td><td>-86.302300</td></tr>",
                            "<tr><td>2015</td><td>3</td><td>Consumer</td><td>East</td><td>Furniture</td><td>Furnishings</td><td>696.79</td><td>142.84</td><td>269.05</td><td>158.981600</td><td>387.811500</td></tr>",
                            "<tr><td>2015</td><td>4</td><td>Consumer</td><td>East</td><td>Furniture</td><td>Furnishings</td><td>1271.29</td><td>696.79</td><td>848.33</td><td>49.857900</td><td>82.449500</td></tr>",
                            "<tr><td>2016</td><td>1</td><td>Consumer</td><td>East</td><td>Furniture</td><td>Furnishings</td><td>1611.30</td><td>1271.29</td><td>1042.81</td><td>54.515200</td><td>26.745200</td></tr>",
                            "<tr><td>2016</td><td>2</td><td>Consumer</td><td>East</td><td>Furniture</td><td>Furnishings</td><td>1142.44</td><td>1611.30</td><td>142.84</td><td>699.803900</td><td>-29.098200</td></tr>",
                            "<tr><td>2016</td><td>3</td><td>Consumer</td><td>East</td><td>Furniture</td><td>Furnishings</td><td>672.42</td><td>1142.44</td><td>696.79</td><td>-3.497400</td><td>-41.141700</td></tr>",
                            "<tr><td>2016</td><td>4</td><td>Consumer</td><td>East</td><td>Furniture</td><td>Furnishings</td><td>1911.99</td><td>672.42</td><td>1271.29</td><td>50.397600</td><td>184.344600</td></tr>",
                            "<tr><td>2017</td><td>1</td><td>Consumer</td><td>East</td><td>Furniture</td><td>Furnishings</td><td>396.46</td><td>1911.99</td><td>1611.30</td><td>-75.395000</td><td>-79.264500</td></tr>",
                            "<tr><td>2017</td><td>2</td><td>Consumer</td><td>East</td><td>Furniture</td><td>Furnishings</td><td>515.54</td><td>396.46</td><td>1142.44</td><td>-54.873700</td><td>30.035800</td></tr>",
                            "<tr><td>2017</td><td>3</td><td>Consumer</td><td>East</td><td>Furniture</td><td>Furnishings</td><td>1118.93</td><td>515.54</td><td>672.42</td><td>66.403400</td><td>117.040300</td></tr>",
                            "<tr><td>2017</td><td>4</td><td>Consumer</td><td>East</td><td>Furniture</td><td>Furnishings</td><td>1391.51</td><td>1118.93</td><td>1911.99</td><td>-27.221800</td><td>24.360700</td></tr>",
                            "<tr><td>2014</td><td>2</td><td>Consumer</td><td>East</td><td>Furniture</td><td>Tables</td><td>1066.42</td><td>NULL</td><td>NULL</td><td>NULL</td><td>NULL</td></tr>",
                            "<tr><td>2014</td><td>3</td><td>Consumer</td><td>East</td><td>Furniture</td><td>Tables</td><td>1317.38</td><td>1066.42</td><td>NULL</td><td>NULL</td><td>23.532900</td></tr>",
                            "<tr><td>2014</td><td>4</td><td>Consumer</td><td>East</td><td>Furniture</td><td>Tables</td><td>931.81</td><td>1317.38</td><td>NULL</td><td>NULL</td><td>-29.267900</td></tr>",
                            "<tr><td>2015</td><td>1</td><td>Consumer</td><td>East</td><td>Furniture</td><td>Tables</td><td>1018.10</td><td>931.81</td><td>NULL</td><td>NULL</td><td>9.260400</td></tr>",
                            "<tr><td>2015</td><td>3</td><td>Consumer</td><td>East</td><td>Furniture</td><td>Tables</td><td>1501.00</td><td>1018.10</td><td>1066.42</td><td>40.751200</td><td>47.431400</td></tr>",
                            "<tr><td>2015</td><td>4</td><td>Consumer</td><td>East</td><td>Furniture</td><td>Tables</td><td>1513.96</td><td>1501.00</td><td>1317.38</td><td>14.922000</td><td>0.863400</td></tr>",
                            "<tr><td>2016</td><td>1</td><td>Consumer</td><td>East</td><td>Furniture</td><td>Tables</td><td>1812.83</td><td>1513.96</td><td>931.81</td><td>94.549300</td><td>19.740900</td></tr>",
                            "<tr><td>2016</td><td>2</td><td>Consumer</td><td>East</td><td>Furniture</td><td>Tables</td><td>174.29</td><td>1812.83</td><td>1018.10</td><td>-82.880800</td><td>-90.385700</td></tr>",
                            "<tr><td>2016</td><td>3</td><td>Consumer</td><td>East</td><td>Furniture</td><td>Tables</td><td>453.77</td><td>174.29</td><td>1501.00</td><td>-69.768800</td><td>160.353400</td></tr>",
                            "<tr><td>2016</td><td>4</td><td>Consumer</td><td>East</td><td>Furniture</td><td>Tables</td><td>1336.00</td><td>453.77</td><td>1513.96</td><td>-11.754600</td><td>194.422200</td></tr>",
                            "<tr><td>2017</td><td>2</td><td>Consumer</td><td>East</td><td>Furniture</td><td>Tables</td><td>1044.63</td><td>1336.00</td><td>1812.83</td><td>-42.375700</td><td>-21.809100</td></tr>",
                            "<tr><td>2017</td><td>3</td><td>Consumer</td><td>East</td><td>Furniture</td><td>Tables</td><td>449.03</td><td>1044.63</td><td>174.29</td><td>157.633800</td><td>-57.015400</td></tr>",
                            "<tr><td>2017</td><td>4</td><td>Consumer</td><td>East</td><td>Furniture</td><td>Tables</td><td>1463.25</td><td>449.03</td><td>453.77</td><td>222.465100</td><td>225.869000</td></tr>",
                            "<tr><td>2014</td><td>3</td><td>Consumer</td><td>South</td><td>Furniture</td><td>Bookcases</td><td>794.28</td><td>NULL</td><td>NULL</td><td>NULL</td><td>NULL</td></tr>",
                            "<tr><td>2015</td><td>2</td><td>Consumer</td><td>South</td><td>Furniture</td><td>Bookcases</td><td>523.26</td><td>794.28</td><td>NULL</td><td>NULL</td><td>-34.121400</td></tr>",
                            "<tr><td>2015</td><td>4</td><td>Consumer</td><td>South</td><td>Furniture</td><td>Bookcases</td><td>290.35</td><td>523.26</td><td>NULL</td><td>NULL</td><td>-44.511300</td></tr>",
                            "<tr><td>2016</td><td>1</td><td>Consumer</td><td>South</td><td>Furniture</td><td>Bookcases</td><td>451.14</td><td>290.35</td><td>NULL</td><td>NULL</td><td>55.377900</td></tr>",
                            "<tr><td>2016</td><td>2</td><td>Consumer</td><td>South</td><td>Furniture</td><td>Bookcases</td><td>1621.76</td><td>451.14</td><td>794.28</td><td>104.179800</td><td>259.480400</td></tr>",
                            "<tr><td>2016</td><td>3</td><td>Consumer</td><td>South</td><td>Furniture</td><td>Bookcases</td><td>504.90</td><td>1621.76</td><td>523.26</td><td>-3.508700</td><td>-68.867100</td></tr>",
                            "<tr><td>2016</td><td>4</td><td>Consumer</td><td>South</td><td>Furniture</td><td>Bookcases</td><td>261.96</td><td>504.90</td><td>290.35</td><td>-9.777800</td><td>-48.116400</td></tr>",
                            "<tr><td>2017</td><td>1</td><td>Consumer</td><td>South</td><td>Furniture</td><td>Bookcases</td><td>591.89</td><td>261.96</td><td>451.14</td><td>31.198700</td><td>125.946700</td></tr>",
                            "<tr><td>2017</td><td>2</td><td>Consumer</td><td>South</td><td>Furniture</td><td>Bookcases</td><td>2504.43</td><td>591.89</td><td>1621.76</td><td>54.426600</td><td>323.124200</td></tr>",
                            "<tr><td>2017</td><td>3</td><td>Consumer</td><td>South</td><td>Furniture</td><td>Bookcases</td><td>448.68</td><td>2504.43</td><td>504.90</td><td>-11.134800</td><td>-82.084500</td></tr>",
                            "<tr><td>2017</td><td>4</td><td>Consumer</td><td>South</td><td>Furniture</td><td>Bookcases</td><td>723.92</td><td>448.68</td><td>261.96</td><td>176.347500</td><td>61.344300</td></tr>",
                            "<tr><td>2014</td><td>1</td><td>Consumer</td><td>South</td><td>Furniture</td><td>Chairs</td><td>2957.75</td><td>NULL</td><td>NULL</td><td>NULL</td><td>NULL</td></tr>",
                            "<tr><td>2014</td><td>2</td><td>Consumer</td><td>South</td><td>Furniture</td><td>Chairs</td><td>51.96</td><td>2957.75</td><td>NULL</td><td>NULL</td><td>-98.243200</td></tr>",
                            "<tr><td>2014</td><td>3</td><td>Consumer</td><td>South</td><td>Furniture</td><td>Chairs</td><td>67.88</td><td>51.96</td><td>NULL</td><td>NULL</td><td>30.638900</td></tr>",
                            "<tr><td>2014</td><td>4</td><td>Consumer</td><td>South</td><td>Furniture</td><td>Chairs</td><td>2883.72</td><td>67.88</td><td>NULL</td><td>NULL</td><td>4148.261600</td></tr>",
                            "<tr><td>2015</td><td>1</td><td>Consumer</td><td>South</td><td>Furniture</td><td>Chairs</td><td>551.27</td><td>2883.72</td><td>2957.75</td><td>-81.361800</td><td>-80.883300</td></tr>",
                            "<tr><td>2015</td><td>2</td><td>Consumer</td><td>South</td><td>Furniture</td><td>Chairs</td><td>1356.84</td><td>551.27</td><td>51.96</td><td>2511.316300</td><td>146.129800</td></tr>",
                            "<tr><td>2015</td><td>3</td><td>Consumer</td><td>South</td><td>Furniture</td><td>Chairs</td><td>3335.38</td><td>1356.84</td><td>67.88</td><td>4813.641700</td><td>145.819600</td></tr>",
                            "<tr><td>2015</td><td>4</td><td>Consumer</td><td>South</td><td>Furniture</td><td>Chairs</td><td>571.86</td><td>3335.38</td><td>2883.72</td><td>-80.169300</td><td>-82.854700</td></tr>",
                            "<tr><td>2016</td><td>1</td><td>Consumer</td><td>South</td><td>Furniture</td><td>Chairs</td><td>866.40</td><td>571.86</td><td>551.27</td><td>57.164300</td><td>51.505600</td></tr>",
                            "<tr><td>2016</td><td>2</td><td>Consumer</td><td>South</td><td>Furniture</td><td>Chairs</td><td>829.02</td><td>866.40</td><td>1356.84</td><td>-38.900600</td><td>-4.314400</td></tr>",
                            "<tr><td>2016</td><td>3</td><td>Consumer</td><td>South</td><td>Furniture</td><td>Chairs</td><td>1309.17</td><td>829.02</td><td>3335.38</td><td>-60.749000</td><td>57.917700</td></tr>",
                            "<tr><td>2016</td><td>4</td><td>Consumer</td><td>South</td><td>Furniture</td><td>Chairs</td><td>1125.51</td><td>1309.17</td><td>571.86</td><td>96.815600</td><td>-14.028700</td></tr>",
                            "<tr><td>2017</td><td>1</td><td>Consumer</td><td>South</td><td>Furniture</td><td>Chairs</td><td>615.92</td><td>1125.51</td><td>866.40</td><td>-28.910400</td><td>-45.276300</td></tr>",
                            "<tr><td>2017</td><td>2</td><td>Consumer</td><td>South</td><td>Furniture</td><td>Chairs</td><td>4106.19</td><td>615.92</td><td>829.02</td><td>395.306500</td><td>566.675800</td></tr>",
                            "<tr><td>2017</td><td>3</td><td>Consumer</td><td>South</td><td>Furniture</td><td>Chairs</td><td>2063.67</td><td>4106.19</td><td>1309.17</td><td>57.631900</td><td>-49.742400</td></tr>",
                            "<tr><td>2017</td><td>4</td><td>Consumer</td><td>South</td><td>Furniture</td><td>Chairs</td><td>4111.70</td><td>2063.67</td><td>1125.51</td><td>265.318800</td><td>99.242100</td></tr>",
                            "<tr><td>2014</td><td>1</td><td>Consumer</td><td>South</td><td>Furniture</td><td>Furnishings</td><td>142.50</td><td>NULL</td><td>NULL</td><td>NULL</td><td>NULL</td></tr>",
                            "<tr><td>2014</td><td>2</td><td>Consumer</td><td>South</td><td>Furniture</td><td>Furnishings</td><td>135.17</td><td>142.50</td><td>NULL</td><td>NULL</td><td>-5.143800</td></tr>",
                            "<tr><td>2014</td><td>3</td><td>Consumer</td><td>South</td><td>Furniture</td><td>Furnishings</td><td>680.20</td><td>135.17</td><td>NULL</td><td>NULL</td><td>403.218100</td></tr>",
                            "<tr><td>2014</td><td>4</td><td>Consumer</td><td>South</td><td>Furniture</td><td>Furnishings</td><td>455.19</td><td>680.20</td><td>NULL</td><td>NULL</td><td>-33.079900</td></tr>",
                            "<tr><td>2015</td><td>2</td><td>Consumer</td><td>South</td><td>Furniture</td><td>Furnishings</td><td>1878.81</td><td>455.19</td><td>142.50</td><td>1218.463100</td><td>312.752900</td></tr>",
                            "<tr><td>2015</td><td>3</td><td>Consumer</td><td>South</td><td>Furniture</td><td>Furnishings</td><td>176.08</td><td>1878.81</td><td>135.17</td><td>30.265500</td><td>-90.628100</td></tr>",
                            "<tr><td>2015</td><td>4</td><td>Consumer</td><td>South</td><td>Furniture</td><td>Furnishings</td><td>951.50</td><td>176.08</td><td>680.20</td><td>39.885300</td><td>440.379300</td></tr>",
                            "<tr><td>2016</td><td>1</td><td>Consumer</td><td>South</td><td>Furniture</td><td>Furnishings</td><td>769.18</td><td>951.50</td><td>455.19</td><td>68.979900</td><td>-19.161300</td></tr>",
                            "<tr><td>2016</td><td>2</td><td>Consumer</td><td>South</td><td>Furniture</td><td>Furnishings</td><td>61.48</td><td>769.18</td><td>1878.81</td><td>-96.727700</td><td>-92.007000</td></tr>",
                            "<tr><td>2016</td><td>3</td><td>Consumer</td><td>South</td><td>Furniture</td><td>Furnishings</td><td>466.47</td><td>61.48</td><td>176.08</td><td>164.919300</td><td>658.734500</td></tr>",
                            "<tr><td>2016</td><td>4</td><td>Consumer</td><td>South</td><td>Furniture</td><td>Furnishings</td><td>2899.94</td><td>466.47</td><td>951.50</td><td>204.775600</td><td>521.677700</td></tr>",
                            "<tr><td>2017</td><td>1</td><td>Consumer</td><td>South</td><td>Furniture</td><td>Furnishings</td><td>62.72</td><td>2899.94</td><td>769.18</td><td>-91.845800</td><td>-97.837100</td></tr>",
                            "<tr><td>2017</td><td>2</td><td>Consumer</td><td>South</td><td>Furniture</td><td>Furnishings</td><td>25.10</td><td>62.72</td><td>61.48</td><td>-59.173700</td><td>-59.980800</td></tr>",
                            "<tr><td>2017</td><td>3</td><td>Consumer</td><td>South</td><td>Furniture</td><td>Furnishings</td><td>249.36</td><td>25.10</td><td>466.47</td><td>-46.543100</td><td>893.466100</td></tr>",
                            "<tr><td>2017</td><td>4</td><td>Consumer</td><td>South</td><td>Furniture</td><td>Furnishings</td><td>1916.86</td><td>249.36</td><td>2899.94</td><td>-33.900000</td><td>668.711900</td></tr>",
                            "<tr><td>2014</td><td>1</td><td>Consumer</td><td>South</td><td>Furniture</td><td>Tables</td><td>1256.22</td><td>NULL</td><td>NULL</td><td>NULL</td><td>NULL</td></tr>",
                            "<tr><td>2014</td><td>2</td><td>Consumer</td><td>South</td><td>Furniture</td><td>Tables</td><td>1527.28</td><td>1256.22</td><td>NULL</td><td>NULL</td><td>21.577400</td></tr>",
                            "<tr><td>2014</td><td>3</td><td>Consumer</td><td>South</td><td>Furniture</td><td>Tables</td><td>174.06</td><td>1527.28</td><td>NULL</td><td>NULL</td><td>-88.603200</td></tr>",
                            "<tr><td>2014</td><td>4</td><td>Consumer</td><td>South</td><td>Furniture</td><td>Tables</td><td>945.04</td><td>174.06</td><td>NULL</td><td>NULL</td><td>442.939200</td></tr>",
                            "<tr><td>2015</td><td>1</td><td>Consumer</td><td>South</td><td>Furniture</td><td>Tables</td><td>4297.64</td><td>945.04</td><td>1256.22</td><td>242.108800</td><td>354.757400</td></tr>",
                            "<tr><td>2015</td><td>2</td><td>Consumer</td><td>South</td><td>Furniture</td><td>Tables</td><td>191.52</td><td>4297.64</td><td>1527.28</td><td>-87.460000</td><td>-95.543600</td></tr>",
                            "<tr><td>2015</td><td>3</td><td>Consumer</td><td>South</td><td>Furniture</td><td>Tables</td><td>887.94</td><td>191.52</td><td>174.06</td><td>410.134400</td><td>363.627800</td></tr>",
                            "<tr><td>2015</td><td>4</td><td>Consumer</td><td>South</td><td>Furniture</td><td>Tables</td><td>1635.00</td><td>887.94</td><td>945.04</td><td>73.008500</td><td>84.134000</td></tr>",
                            "<tr><td>2016</td><td>1</td><td>Consumer</td><td>South</td><td>Furniture</td><td>Tables</td><td>189.88</td><td>1635.00</td><td>4297.64</td><td>-95.581700</td><td>-88.386500</td></tr>",
                            "<tr><td>2016</td><td>2</td><td>Consumer</td><td>South</td><td>Furniture</td><td>Tables</td><td>714.54</td><td>189.88</td><td>191.52</td><td>273.088900</td><td>276.311300</td></tr>",
                            "<tr><td>2016</td><td>3</td><td>Consumer</td><td>South</td><td>Furniture</td><td>Tables</td><td>4555.54</td><td>714.54</td><td>887.94</td><td>413.045900</td><td>537.548600</td></tr>",
                            "<tr><td>2016</td><td>4</td><td>Consumer</td><td>South</td><td>Furniture</td><td>Tables</td><td>2230.82</td><td>4555.54</td><td>1635.00</td><td>36.441500</td><td>-51.030600</td></tr>",
                            "<tr><td>2017</td><td>1</td><td>Consumer</td><td>South</td><td>Furniture</td><td>Tables</td><td>292.10</td><td>2230.82</td><td>189.88</td><td>53.834000</td><td>-86.906100</td></tr>",
                            "<tr><td>2017</td><td>2</td><td>Consumer</td><td>South</td><td>Furniture</td><td>Tables</td><td>933.26</td><td>292.10</td><td>714.54</td><td>30.609900</td><td>219.500100</td></tr>",
                            "<tr><td>2017</td><td>4</td><td>Consumer</td><td>South</td><td>Furniture</td><td>Tables</td><td>4578.01</td><td>933.26</td><td>4555.54</td><td>0.493200</td><td>390.539600</td></tr>",
                            "<tr><td>2014</td><td>1</td><td>Consumer</td><td>West</td><td>Furniture</td><td>Bookcases</td><td>1011.81</td><td>NULL</td><td>NULL</td><td>NULL</td><td>NULL</td></tr>",
                            "<tr><td>2014</td><td>4</td><td>Consumer</td><td>West</td><td>Furniture</td><td>Bookcases</td><td>477.64</td><td>1011.81</td><td>NULL</td><td>NULL</td><td>-52.793500</td></tr>",
                            "<tr><td>2015</td><td>1</td><td>Consumer</td><td>West</td><td>Furniture</td><td>Bookcases</td><td>141.96</td><td>477.64</td><td>NULL</td><td>NULL</td><td>-70.278800</td></tr>",
                            "<tr><td>2015</td><td>2</td><td>Consumer</td><td>West</td><td>Furniture</td><td>Bookcases</td><td>1406.86</td><td>141.96</td><td>NULL</td><td>NULL</td><td>891.025600</td></tr>",
                            "<tr><td>2015</td><td>3</td><td>Consumer</td><td>West</td><td>Furniture</td><td>Bookcases</td><td>2040.33</td><td>1406.86</td><td>1011.81</td><td>101.651400</td><td>45.027200</td></tr>",
                            "<tr><td>2015</td><td>4</td><td>Consumer</td><td>West</td><td>Furniture</td><td>Bookcases</td><td>3115.48</td><td>2040.33</td><td>477.64</td><td>552.265300</td><td>52.694900</td></tr>",
                            "<tr><td>2016</td><td>1</td><td>Consumer</td><td>West</td><td>Furniture</td><td>Bookcases</td><td>120.87</td><td>3115.48</td><td>141.96</td><td>-14.856200</td><td>-96.120300</td></tr>",
                            "<tr><td>2016</td><td>2</td><td>Consumer</td><td>West</td><td>Furniture</td><td>Bookcases</td><td>1053.83</td><td>120.87</td><td>1406.86</td><td>-25.093400</td><td>771.870600</td></tr>",
                            "<tr><td>2016</td><td>3</td><td>Consumer</td><td>West</td><td>Furniture</td><td>Bookcases</td><td>1279.16</td><td>1053.83</td><td>2040.33</td><td>-37.306200</td><td>21.382000</td></tr>",
                            "<tr><td>2016</td><td>4</td><td>Consumer</td><td>West</td><td>Furniture</td><td>Bookcases</td><td>3612.33</td><td>1279.16</td><td>3115.48</td><td>15.947700</td><td>182.398600</td></tr>",
                            "<tr><td>2017</td><td>2</td><td>Consumer</td><td>West</td><td>Furniture</td><td>Bookcases</td><td>2066.14</td><td>3612.33</td><td>120.87</td><td>1609.390200</td><td>-42.803100</td></tr>",
                            "<tr><td>2017</td><td>3</td><td>Consumer</td><td>West</td><td>Furniture</td><td>Bookcases</td><td>536.22</td><td>2066.14</td><td>1053.83</td><td>-49.117000</td><td>-74.047200</td></tr>",
                            "<tr><td>2017</td><td>4</td><td>Consumer</td><td>West</td><td>Furniture</td><td>Bookcases</td><td>2785.55</td><td>536.22</td><td>1279.16</td><td>117.764000</td><td>419.478900</td></tr>",
                            "<tr><td>2014</td><td>1</td><td>Consumer</td><td>West</td><td>Furniture</td><td>Chairs</td><td>635.85</td><td>NULL</td><td>NULL</td><td>NULL</td><td>NULL</td></tr>",
                            "<tr><td>2014</td><td>2</td><td>Consumer</td><td>West</td><td>Furniture</td><td>Chairs</td><td>1067.63</td><td>635.85</td><td>NULL</td><td>NULL</td><td>67.905900</td></tr>",
                            "<tr><td>2014</td><td>3</td><td>Consumer</td><td>West</td><td>Furniture</td><td>Chairs</td><td>5262.94</td><td>1067.63</td><td>NULL</td><td>NULL</td><td>392.955400</td></tr>",
                            "<tr><td>2014</td><td>4</td><td>Consumer</td><td>West</td><td>Furniture</td><td>Chairs</td><td>5956.02</td><td>5262.94</td><td>NULL</td><td>NULL</td><td>13.169000</td></tr>",
                            "<tr><td>2015</td><td>1</td><td>Consumer</td><td>West</td><td>Furniture</td><td>Chairs</td><td>3007.84</td><td>5956.02</td><td>635.85</td><td>373.042300</td><td>-49.499100</td></tr>",
                            "<tr><td>2015</td><td>3</td><td>Consumer</td><td>West</td><td>Furniture</td><td>Chairs</td><td>1318.62</td><td>3007.84</td><td>1067.63</td><td>23.509000</td><td>-56.160500</td></tr>",
                            "<tr><td>2015</td><td>4</td><td>Consumer</td><td>West</td><td>Furniture</td><td>Chairs</td><td>4434.18</td><td>1318.62</td><td>5262.94</td><td>-15.747000</td><td>236.274200</td></tr>",
                            "<tr><td>2016</td><td>1</td><td>Consumer</td><td>West</td><td>Furniture</td><td>Chairs</td><td>1770.12</td><td>4434.18</td><td>5956.02</td><td>-70.280100</td><td>-60.080100</td></tr>",
                            "<tr><td>2016</td><td>2</td><td>Consumer</td><td>West</td><td>Furniture</td><td>Chairs</td><td>4523.31</td><td>1770.12</td><td>3007.84</td><td>50.383900</td><td>155.536900</td></tr>",
                            "<tr><td>2016</td><td>3</td><td>Consumer</td><td>West</td><td>Furniture</td><td>Chairs</td><td>2424.24</td><td>4523.31</td><td>1318.62</td><td>83.846700</td><td>-46.405600</td></tr>",
                            "<tr><td>2016</td><td>4</td><td>Consumer</td><td>West</td><td>Furniture</td><td>Chairs</td><td>3864.78</td><td>2424.24</td><td>4434.18</td><td>-12.841100</td><td>59.422300</td></tr>",
                            "<tr><td>2017</td><td>1</td><td>Consumer</td><td>West</td><td>Furniture</td><td>Chairs</td><td>170.35</td><td>3864.78</td><td>1770.12</td><td>-90.376300</td><td>-95.592200</td></tr>",
                            "<tr><td>2017</td><td>2</td><td>Consumer</td><td>West</td><td>Furniture</td><td>Chairs</td><td>1694.89</td><td>170.35</td><td>4523.31</td><td>-62.529800</td><td>894.945700</td></tr>",
                            "<tr><td>2017</td><td>3</td><td>Consumer</td><td>West</td><td>Furniture</td><td>Chairs</td><td>2681.93</td><td>1694.89</td><td>2424.24</td><td>10.629700</td><td>58.236200</td></tr>",
                            "<tr><td>2017</td><td>4</td><td>Consumer</td><td>West</td><td>Furniture</td><td>Chairs</td><td>4667.34</td><td>2681.93</td><td>3864.78</td><td>20.765900</td><td>74.029100</td></tr>",
                            "<tr><td>2014</td><td>1</td><td>Consumer</td><td>West</td><td>Furniture</td><td>Furnishings</td><td>59.78</td><td>NULL</td><td>NULL</td><td>NULL</td><td>NULL</td></tr>",
                            "<tr><td>2014</td><td>2</td><td>Consumer</td><td>West</td><td>Furniture</td><td>Furnishings</td><td>119.29</td><td>59.78</td><td>NULL</td><td>NULL</td><td>99.548300</td></tr>",
                            "<tr><td>2014</td><td>3</td><td>Consumer</td><td>West</td><td>Furniture</td><td>Furnishings</td><td>1188.18</td><td>119.29</td><td>NULL</td><td>NULL</td><td>896.043200</td></tr>",
                            "<tr><td>2014</td><td>4</td><td>Consumer</td><td>West</td><td>Furniture</td><td>Furnishings</td><td>539.07</td><td>1188.18</td><td>NULL</td><td>NULL</td><td>-54.630600</td></tr>",
                            "<tr><td>2015</td><td>1</td><td>Consumer</td><td>West</td><td>Furniture</td><td>Furnishings</td><td>1224.99</td><td>539.07</td><td>59.78</td><td>1949.163500</td><td>127.241300</td></tr>",
                            "<tr><td>2015</td><td>2</td><td>Consumer</td><td>West</td><td>Furniture</td><td>Furnishings</td><td>997.97</td><td>1224.99</td><td>119.29</td><td>736.591400</td><td>-18.532300</td></tr>",
                            "<tr><td>2015</td><td>3</td><td>Consumer</td><td>West</td><td>Furniture</td><td>Furnishings</td><td>349.83</td><td>997.97</td><td>1188.18</td><td>-70.557400</td><td>-64.945800</td></tr>",
                            "<tr><td>2015</td><td>4</td><td>Consumer</td><td>West</td><td>Furniture</td><td>Furnishings</td><td>1454.38</td><td>349.83</td><td>539.07</td><td>169.794200</td><td>315.739000</td></tr>",
                            "<tr><td>2016</td><td>1</td><td>Consumer</td><td>West</td><td>Furniture</td><td>Furnishings</td><td>99.21</td><td>1454.38</td><td>1224.99</td><td>-91.901100</td><td>-93.178500</td></tr>",
                            "<tr><td>2016</td><td>2</td><td>Consumer</td><td>West</td><td>Furniture</td><td>Furnishings</td><td>706.24</td><td>99.21</td><td>997.97</td><td>-29.232300</td><td>611.863700</td></tr>",
                            "<tr><td>2016</td><td>3</td><td>Consumer</td><td>West</td><td>Furniture</td><td>Furnishings</td><td>1155.23</td><td>706.24</td><td>349.83</td><td>230.226100</td><td>63.574700</td></tr>",
                            "<tr><td>2016</td><td>4</td><td>Consumer</td><td>West</td><td>Furniture</td><td>Furnishings</td><td>2845.29</td><td>1155.23</td><td>1454.38</td><td>95.635900</td><td>146.296400</td></tr>",
                            "<tr><td>2017</td><td>1</td><td>Consumer</td><td>West</td><td>Furniture</td><td>Furnishings</td><td>885.31</td><td>2845.29</td><td>99.21</td><td>792.359600</td><td>-68.885000</td></tr>",
                            "<tr><td>2017</td><td>2</td><td>Consumer</td><td>West</td><td>Furniture</td><td>Furnishings</td><td>746.54</td><td>885.31</td><td>706.24</td><td>5.706200</td><td>-15.674700</td></tr>",
                            "<tr><td>2017</td><td>3</td><td>Consumer</td><td>West</td><td>Furniture</td><td>Furnishings</td><td>2739.18</td><td>746.54</td><td>1155.23</td><td>137.111200</td><td>266.916700</td></tr>",
                            "<tr><td>2017</td><td>4</td><td>Consumer</td><td>West</td><td>Furniture</td><td>Furnishings</td><td>961.92</td><td>2739.18</td><td>2845.29</td><td>-66.192500</td><td>-64.882900</td></tr>",
                            "<tr><td>2014</td><td>1</td><td>Consumer</td><td>West</td><td>Furniture</td><td>Tables</td><td>959.35</td><td>NULL</td><td>NULL</td><td>NULL</td><td>NULL</td></tr>",
                            "<tr><td>2014</td><td>2</td><td>Consumer</td><td>West</td><td>Furniture</td><td>Tables</td><td>2222.06</td><td>959.35</td><td>NULL</td><td>NULL</td><td>131.621400</td></tr>",
                            "<tr><td>2014</td><td>3</td><td>Consumer</td><td>West</td><td>Furniture</td><td>Tables</td><td>389.10</td><td>2222.06</td><td>NULL</td><td>NULL</td><td>-82.489200</td></tr>",
                            "<tr><td>2014</td><td>4</td><td>Consumer</td><td>West</td><td>Furniture</td><td>Tables</td><td>7298.35</td><td>389.10</td><td>NULL</td><td>NULL</td><td>1775.700300</td></tr>",
                            "<tr><td>2015</td><td>1</td><td>Consumer</td><td>West</td><td>Furniture</td><td>Tables</td><td>995.03</td><td>7298.35</td><td>959.35</td><td>3.719100</td><td>-86.366300</td></tr>",
                            "<tr><td>2015</td><td>2</td><td>Consumer</td><td>West</td><td>Furniture</td><td>Tables</td><td>1322.31</td><td>995.03</td><td>2222.06</td><td>-40.491700</td><td>32.891400</td></tr>",
                            "<tr><td>2015</td><td>3</td><td>Consumer</td><td>West</td><td>Furniture</td><td>Tables</td><td>2628.05</td><td>1322.31</td><td>389.10</td><td>575.417600</td><td>98.746800</td></tr>",
                            "<tr><td>2015</td><td>4</td><td>Consumer</td><td>West</td><td>Furniture</td><td>Tables</td><td>3640.12</td><td>2628.05</td><td>7298.35</td><td>-50.124000</td><td>38.510300</td></tr>",
                            "<tr><td>2016</td><td>1</td><td>Consumer</td><td>West</td><td>Furniture</td><td>Tables</td><td>557.73</td><td>3640.12</td><td>995.03</td><td>-43.948400</td><td>-84.678200</td></tr>",
                            "<tr><td>2016</td><td>2</td><td>Consumer</td><td>West</td><td>Furniture</td><td>Tables</td><td>2608.26</td><td>557.73</td><td>1322.31</td><td>97.250200</td><td>367.656300</td></tr>",
                            "<tr><td>2016</td><td>3</td><td>Consumer</td><td>West</td><td>Furniture</td><td>Tables</td><td>1107.94</td><td>2608.26</td><td>2628.05</td><td>-57.841700</td><td>-57.521800</td></tr>",
                            "<tr><td>2016</td><td>4</td><td>Consumer</td><td>West</td><td>Furniture</td><td>Tables</td><td>4911.61</td><td>1107.94</td><td>3640.12</td><td>34.929800</td><td>343.310100</td></tr>",
                            "<tr><td>2017</td><td>1</td><td>Consumer</td><td>West</td><td>Furniture</td><td>Tables</td><td>697.16</td><td>4911.61</td><td>557.73</td><td>24.999500</td><td>-85.805800</td></tr>",
                            "<tr><td>2017</td><td>2</td><td>Consumer</td><td>West</td><td>Furniture</td><td>Tables</td><td>1042.69</td><td>697.16</td><td>2608.26</td><td>-60.023500</td><td>49.562500</td></tr>",
                            "<tr><td>2017</td><td>3</td><td>Consumer</td><td>West</td><td>Furniture</td><td>Tables</td><td>3713.44</td><td>1042.69</td><td>1107.94</td><td>235.166100</td><td>256.140300</td></tr>",
                            "<tr><td>2017</td><td>4</td><td>Consumer</td><td>West</td><td>Furniture</td><td>Tables</td><td>6514.31</td><td>3713.44</td><td>4911.61</td><td>32.630800</td><td>75.425200</td></tr>",
                            "<tr><td>2014</td><td>1</td><td>Corporate</td><td>Central</td><td>Furniture</td><td>Bookcases</td><td>141.96</td><td>NULL</td><td>NULL</td><td>NULL</td><td>NULL</td></tr>",
                            "<tr><td>2014</td><td>4</td><td>Corporate</td><td>Central</td><td>Furniture</td><td>Bookcases</td><td>67.99</td><td>141.96</td><td>NULL</td><td>NULL</td><td>-52.106200</td></tr>",
                            "<tr><td>2015</td><td>1</td><td>Corporate</td><td>Central</td><td>Furniture</td><td>Bookcases</td><td>1228.00</td><td>67.99</td><td>NULL</td><td>NULL</td><td>1706.147900</td></tr>",
                            "<tr><td>2015</td><td>3</td><td>Corporate</td><td>Central</td><td>Furniture</td><td>Bookcases</td><td>563.52</td><td>1228.00</td><td>NULL</td><td>NULL</td><td>-54.110700</td></tr>",
                            "<tr><td>2015</td><td>4</td><td>Corporate</td><td>Central</td><td>Furniture</td><td>Bookcases</td><td>407.11</td><td>563.52</td><td>141.96</td><td>186.777900</td><td>-27.755800</td></tr>",
                            "<tr><td>2016</td><td>1</td><td>Corporate</td><td>Central</td><td>Furniture</td><td>Bookcases</td><td>1565.88</td><td>407.11</td><td>67.99</td><td>2203.103300</td><td>284.633100</td></tr>",
                            "<tr><td>2016</td><td>3</td><td>Corporate</td><td>Central</td><td>Furniture</td><td>Bookcases</td><td>1198.62</td><td>1565.88</td><td>1228.00</td><td>-2.392500</td><td>-23.453900</td></tr>",
                            "<tr><td>2016</td><td>4</td><td>Corporate</td><td>Central</td><td>Furniture</td><td>Bookcases</td><td>923.23</td><td>1198.62</td><td>563.52</td><td>63.832600</td><td>-22.975500</td></tr>",
                            "<tr><td>2017</td><td>1</td><td>Corporate</td><td>Central</td><td>Furniture</td><td>Bookcases</td><td>418.27</td><td>923.23</td><td>407.11</td><td>2.741200</td><td>-54.694900</td></tr>",
                            "<tr><td>2017</td><td>2</td><td>Corporate</td><td>Central</td><td>Furniture</td><td>Bookcases</td><td>843.73</td><td>418.27</td><td>1565.88</td><td>-46.117800</td><td>101.718900</td></tr>",
                            "<tr><td>2017</td><td>3</td><td>Corporate</td><td>Central</td><td>Furniture</td><td>Bookcases</td><td>825.17</td><td>843.73</td><td>1198.62</td><td>-31.156600</td><td>-2.199700</td></tr>",
                            "<tr><td>2017</td><td>4</td><td>Corporate</td><td>Central</td><td>Furniture</td><td>Bookcases</td><td>206.00</td><td>825.17</td><td>923.23</td><td>-77.687000</td><td>-75.035400</td></tr>",
                            "<tr><td>2014</td><td>2</td><td>Corporate</td><td>Central</td><td>Furniture</td><td>Chairs</td><td>2010.90</td><td>NULL</td><td>NULL</td><td>NULL</td><td>NULL</td></tr>",
                            "<tr><td>2014</td><td>3</td><td>Corporate</td><td>Central</td><td>Furniture</td><td>Chairs</td><td>657.93</td><td>2010.90</td><td>NULL</td><td>NULL</td><td>-67.281800</td></tr>",
                            "<tr><td>2014</td><td>4</td><td>Corporate</td><td>Central</td><td>Furniture</td><td>Chairs</td><td>1222.37</td><td>657.93</td><td>NULL</td><td>NULL</td><td>85.790200</td></tr>",
                            "<tr><td>2015</td><td>2</td><td>Corporate</td><td>Central</td><td>Furniture</td><td>Chairs</td><td>56.69</td><td>1222.37</td><td>NULL</td><td>NULL</td><td>-95.362200</td></tr>",
                            "<tr><td>2015</td><td>3</td><td>Corporate</td><td>Central</td><td>Furniture</td><td>Chairs</td><td>179.89</td><td>56.69</td><td>2010.90</td><td>-91.054200</td><td>217.322200</td></tr>",
                            "<tr><td>2015</td><td>4</td><td>Corporate</td><td>Central</td><td>Furniture</td><td>Chairs</td><td>1600.83</td><td>179.89</td><td>657.93</td><td>143.313100</td><td>789.893800</td></tr>",
                            "<tr><td>2016</td><td>1</td><td>Corporate</td><td>Central</td><td>Furniture</td><td>Chairs</td><td>1396.32</td><td>1600.83</td><td>1222.37</td><td>14.230500</td><td>-12.775200</td></tr>",
                            "<tr><td>2016</td><td>2</td><td>Corporate</td><td>Central</td><td>Furniture</td><td>Chairs</td><td>5843.83</td><td>1396.32</td><td>56.69</td><td>10208.396500</td><td>318.516500</td></tr>",
                            "<tr><td>2016</td><td>3</td><td>Corporate</td><td>Central</td><td>Furniture</td><td>Chairs</td><td>3214.80</td><td>5843.83</td><td>179.89</td><td>1687.092100</td><td>-44.988100</td></tr>",
                            "<tr><td>2016</td><td>4</td><td>Corporate</td><td>Central</td><td>Furniture</td><td>Chairs</td><td>3532.72</td><td>3214.80</td><td>1600.83</td><td>120.680500</td><td>9.889200</td></tr>",
                            "<tr><td>2017</td><td>1</td><td>Corporate</td><td>Central</td><td>Furniture</td><td>Chairs</td><td>1986.52</td><td>3532.72</td><td>1396.32</td><td>42.268200</td><td>-43.767900</td></tr>",
                            "<tr><td>2017</td><td>2</td><td>Corporate</td><td>Central</td><td>Furniture</td><td>Chairs</td><td>3994.84</td><td>1986.52</td><td>5843.83</td><td>-31.640000</td><td>101.097300</td></tr>",
                            "<tr><td>2017</td><td>3</td><td>Corporate</td><td>Central</td><td>Furniture</td><td>Chairs</td><td>1000.29</td><td>3994.84</td><td>3214.80</td><td>-68.884800</td><td>-74.960400</td></tr>",
                            "<tr><td>2017</td><td>4</td><td>Corporate</td><td>Central</td><td>Furniture</td><td>Chairs</td><td>1291.62</td><td>1000.29</td><td>3532.72</td><td>-63.438300</td><td>29.124500</td></tr>",
                            "<tr><td>2014</td><td>1</td><td>Corporate</td><td>Central</td><td>Furniture</td><td>Furnishings</td><td>20.32</td><td>NULL</td><td>NULL</td><td>NULL</td><td>NULL</td></tr>",
                            "<tr><td>2014</td><td>2</td><td>Corporate</td><td>Central</td><td>Furniture</td><td>Furnishings</td><td>10.33</td><td>20.32</td><td>NULL</td><td>NULL</td><td>-49.163300</td></tr>",
                            "<tr><td>2014</td><td>3</td><td>Corporate</td><td>Central</td><td>Furniture</td><td>Furnishings</td><td>9.96</td><td>10.33</td><td>NULL</td><td>NULL</td><td>-3.581800</td></tr>",
                            "<tr><td>2014</td><td>4</td><td>Corporate</td><td>Central</td><td>Furniture</td><td>Furnishings</td><td>213.76</td><td>9.96</td><td>NULL</td><td>NULL</td><td>2046.184700</td></tr>",
                            "<tr><td>2015</td><td>1</td><td>Corporate</td><td>Central</td><td>Furniture</td><td>Furnishings</td><td>63.16</td><td>213.76</td><td>20.32</td><td>210.826700</td><td>-70.452800</td></tr>",
                            "<tr><td>2015</td><td>2</td><td>Corporate</td><td>Central</td><td>Furniture</td><td>Furnishings</td><td>73.85</td><td>63.16</td><td>10.33</td><td>614.908000</td><td>16.925200</td></tr>",
                            "<tr><td>2015</td><td>3</td><td>Corporate</td><td>Central</td><td>Furniture</td><td>Furnishings</td><td>47.79</td><td>73.85</td><td>9.96</td><td>379.819200</td><td>-35.287700</td></tr>",
                            "<tr><td>2015</td><td>4</td><td>Corporate</td><td>Central</td><td>Furniture</td><td>Furnishings</td><td>129.09</td><td>47.79</td><td>213.76</td><td>-39.609800</td><td>170.119200</td></tr>",
                            "<tr><td>2016</td><td>1</td><td>Corporate</td><td>Central</td><td>Furniture</td><td>Furnishings</td><td>90.52</td><td>129.09</td><td>63.16</td><td>43.318500</td><td>-29.878300</td></tr>",
                            "<tr><td>2016</td><td>2</td><td>Corporate</td><td>Central</td><td>Furniture</td><td>Furnishings</td><td>198.11</td><td>90.52</td><td>73.85</td><td>168.259900</td><td>118.857700</td></tr>",
                            "<tr><td>2016</td><td>3</td><td>Corporate</td><td>Central</td><td>Furniture</td><td>Furnishings</td><td>273.84</td><td>198.11</td><td>47.79</td><td>473.006900</td><td>38.226200</td></tr>",
                            "<tr><td>2016</td><td>4</td><td>Corporate</td><td>Central</td><td>Furniture</td><td>Furnishings</td><td>415.52</td><td>273.84</td><td>129.09</td><td>221.883900</td><td>51.738200</td></tr>",
                            "<tr><td>2017</td><td>1</td><td>Corporate</td><td>Central</td><td>Furniture</td><td>Furnishings</td><td>95.42</td><td>415.52</td><td>90.52</td><td>5.413100</td><td>-77.036000</td></tr>",
                            "<tr><td>2017</td><td>2</td><td>Corporate</td><td>Central</td><td>Furniture</td><td>Furnishings</td><td>605.36</td><td>95.42</td><td>198.11</td><td>205.567600</td><td>534.416200</td></tr>",
                            "<tr><td>2017</td><td>3</td><td>Corporate</td><td>Central</td><td>Furniture</td><td>Furnishings</td><td>353.21</td><td>605.36</td><td>273.84</td><td>28.984000</td><td>-41.652900</td></tr>",
                            "<tr><td>2017</td><td>4</td><td>Corporate</td><td>Central</td><td>Furniture</td><td>Furnishings</td><td>543.71</td><td>353.21</td><td>415.52</td><td>30.850500</td><td>53.933900</td></tr>",
                            "<tr><td>2014</td><td>2</td><td>Corporate</td><td>Central</td><td>Furniture</td><td>Tables</td><td>99.92</td><td>NULL</td><td>NULL</td><td>NULL</td><td>NULL</td></tr>",
                            "<tr><td>2014</td><td>4</td><td>Corporate</td><td>Central</td><td>Furniture</td><td>Tables</td><td>1218.73</td><td>99.92</td><td>NULL</td><td>NULL</td><td>1119.705700</td></tr>",
                            "<tr><td>2015</td><td>3</td><td>Corporate</td><td>Central</td><td>Furniture</td><td>Tables</td><td>725.93</td><td>1218.73</td><td>NULL</td><td>NULL</td><td>-40.435500</td></tr>",
                            "<tr><td>2015</td><td>4</td><td>Corporate</td><td>Central</td><td>Furniture</td><td>Tables</td><td>1149.32</td><td>725.93</td><td>NULL</td><td>NULL</td><td>58.323800</td></tr>",
                            "<tr><td>2016</td><td>1</td><td>Corporate</td><td>Central</td><td>Furniture</td><td>Tables</td><td>1692.22</td><td>1149.32</td><td>99.92</td><td>1593.574800</td><td>47.236600</td></tr>",
                            "<tr><td>2016</td><td>4</td><td>Corporate</td><td>Central</td><td>Furniture</td><td>Tables</td><td>5900.49</td><td>1692.22</td><td>1218.73</td><td>384.150700</td><td>248.683300</td></tr>",
                            "<tr><td>2017</td><td>1</td><td>Corporate</td><td>Central</td><td>Furniture</td><td>Tables</td><td>210.98</td><td>5900.49</td><td>725.93</td><td>-70.936500</td><td>-96.424300</td></tr>",
                            "<tr><td>2017</td><td>4</td><td>Corporate</td><td>Central</td><td>Furniture</td><td>Tables</td><td>1564.99</td><td>210.98</td><td>1149.32</td><td>36.166600</td><td>641.771700</td></tr>",
                            "<tr><td>2014</td><td>1</td><td>Corporate</td><td>East</td><td>Furniture</td><td>Bookcases</td><td>364.41</td><td>NULL</td><td>NULL</td><td>NULL</td><td>NULL</td></tr>",
                            "<tr><td>2014</td><td>4</td><td>Corporate</td><td>East</td><td>Furniture</td><td>Bookcases</td><td>3121.33</td><td>364.41</td><td>NULL</td><td>NULL</td><td>756.543400</td></tr>",
                            "<tr><td>2015</td><td>1</td><td>Corporate</td><td>East</td><td>Furniture</td><td>Bookcases</td><td>452.45</td><td>3121.33</td><td>NULL</td><td>NULL</td><td>-85.504500</td></tr>",
                            "<tr><td>2015</td><td>2</td><td>Corporate</td><td>East</td><td>Furniture</td><td>Bookcases</td><td>482.94</td><td>452.45</td><td>NULL</td><td>NULL</td><td>6.738800</td></tr>",
                            "<tr><td>2015</td><td>3</td><td>Corporate</td><td>East</td><td>Furniture</td><td>Bookcases</td><td>408.34</td><td>482.94</td><td>364.41</td><td>12.055100</td><td>-15.447000</td></tr>",
                            "<tr><td>2015</td><td>4</td><td>Corporate</td><td>East</td><td>Furniture</td><td>Bookcases</td><td>4590.95</td><td>408.34</td><td>3121.33</td><td>47.083100</td><td>1024.295900</td></tr>",
                            "<tr><td>2016</td><td>1</td><td>Corporate</td><td>East</td><td>Furniture</td><td>Bookcases</td><td>173.94</td><td>4590.95</td><td>452.45</td><td>-61.555900</td><td>-96.211200</td></tr>",
                            "<tr><td>2016</td><td>3</td><td>Corporate</td><td>East</td><td>Furniture</td><td>Bookcases</td><td>743.02</td><td>173.94</td><td>482.94</td><td>53.853400</td><td>327.170200</td></tr>",
                            "<tr><td>2016</td><td>4</td><td>Corporate</td><td>East</td><td>Furniture</td><td>Bookcases</td><td>1125.86</td><td>743.02</td><td>408.34</td><td>175.716300</td><td>51.524800</td></tr>",
                            "<tr><td>2017</td><td>1</td><td>Corporate</td><td>East</td><td>Furniture</td><td>Bookcases</td><td>441.96</td><td>1125.86</td><td>4590.95</td><td>-90.373200</td><td>-60.744600</td></tr>",
                            "<tr><td>2017</td><td>2</td><td>Corporate</td><td>East</td><td>Furniture</td><td>Bookcases</td><td>754.78</td><td>441.96</td><td>173.94</td><td>333.931200</td><td>70.780100</td></tr>",
                            "<tr><td>2017</td><td>4</td><td>Corporate</td><td>East</td><td>Furniture</td><td>Bookcases</td><td>508.96</td><td>754.78</td><td>743.02</td><td>-31.501100</td><td>-32.568400</td></tr>",
                            "<tr><td>2014</td><td>3</td><td>Corporate</td><td>East</td><td>Furniture</td><td>Chairs</td><td>3661.27</td><td>NULL</td><td>NULL</td><td>NULL</td><td>NULL</td></tr>",
                            "<tr><td>2014</td><td>4</td><td>Corporate</td><td>East</td><td>Furniture</td><td>Chairs</td><td>1734.87</td><td>3661.27</td><td>NULL</td><td>NULL</td><td>-52.615600</td></tr>",
                            "<tr><td>2015</td><td>1</td><td>Corporate</td><td>East</td><td>Furniture</td><td>Chairs</td><td>190.25</td><td>1734.87</td><td>NULL</td><td>NULL</td><td>-89.033700</td></tr>",
                            "<tr><td>2015</td><td>2</td><td>Corporate</td><td>East</td><td>Furniture</td><td>Chairs</td><td>1967.46</td><td>190.25</td><td>NULL</td><td>NULL</td><td>934.144500</td></tr>",
                            "<tr><td>2015</td><td>3</td><td>Corporate</td><td>East</td><td>Furniture</td><td>Chairs</td><td>598.46</td><td>1967.46</td><td>3661.27</td><td>-83.654300</td><td>-69.582100</td></tr>",
                            "<tr><td>2015</td><td>4</td><td>Corporate</td><td>East</td><td>Furniture</td><td>Chairs</td><td>3283.25</td><td>598.46</td><td>1734.87</td><td>89.250400</td><td>448.616400</td></tr>",
                            "<tr><td>2016</td><td>1</td><td>Corporate</td><td>East</td><td>Furniture</td><td>Chairs</td><td>386.68</td><td>3283.25</td><td>190.25</td><td>103.248300</td><td>-88.222600</td></tr>",
                            "<tr><td>2016</td><td>2</td><td>Corporate</td><td>East</td><td>Furniture</td><td>Chairs</td><td>1080.81</td><td>386.68</td><td>1967.46</td><td>-45.065700</td><td>179.510100</td></tr>",
                            "<tr><td>2016</td><td>3</td><td>Corporate</td><td>East</td><td>Furniture</td><td>Chairs</td><td>661.77</td><td>1080.81</td><td>598.46</td><td>10.578800</td><td>-38.770900</td></tr>",
                            "<tr><td>2016</td><td>4</td><td>Corporate</td><td>East</td><td>Furniture</td><td>Chairs</td><td>2131.47</td><td>661.77</td><td>3283.25</td><td>-35.080400</td><td>222.086200</td></tr>",
                            "<tr><td>2017</td><td>1</td><td>Corporate</td><td>East</td><td>Furniture</td><td>Chairs</td><td>415.70</td><td>2131.47</td><td>386.68</td><td>7.504900</td><td>-80.497000</td></tr>",
                            "<tr><td>2017</td><td>2</td><td>Corporate</td><td>East</td><td>Furniture</td><td>Chairs</td><td>1150.14</td><td>415.70</td><td>1080.81</td><td>6.414600</td><td>176.675400</td></tr>",
                            "<tr><td>2017</td><td>3</td><td>Corporate</td><td>East</td><td>Furniture</td><td>Chairs</td><td>4342.96</td><td>1150.14</td><td>661.77</td><td>556.264200</td><td>277.602700</td></tr>",
                            "<tr><td>2017</td><td>4</td><td>Corporate</td><td>East</td><td>Furniture</td><td>Chairs</td><td>1900.15</td><td>4342.96</td><td>2131.47</td><td>-10.852600</td><td>-56.247500</td></tr>",
                            "<tr><td>2014</td><td>2</td><td>Corporate</td><td>East</td><td>Furniture</td><td>Furnishings</td><td>139.86</td><td>NULL</td><td>NULL</td><td>NULL</td><td>NULL</td></tr>",
                            "<tr><td>2014</td><td>3</td><td>Corporate</td><td>East</td><td>Furniture</td><td>Furnishings</td><td>407.66</td><td>139.86</td><td>NULL</td><td>NULL</td><td>191.477100</td></tr>",
                            "<tr><td>2014</td><td>4</td><td>Corporate</td><td>East</td><td>Furniture</td><td>Furnishings</td><td>477.70</td><td>407.66</td><td>NULL</td><td>NULL</td><td>17.180900</td></tr>",
                            "<tr><td>2015</td><td>1</td><td>Corporate</td><td>East</td><td>Furniture</td><td>Furnishings</td><td>33.57</td><td>477.70</td><td>NULL</td><td>NULL</td><td>-92.972500</td></tr>",
                            "<tr><td>2015</td><td>2</td><td>Corporate</td><td>East</td><td>Furniture</td><td>Furnishings</td><td>150.18</td><td>33.57</td><td>139.86</td><td>7.378800</td><td>347.363700</td></tr>",
                            "<tr><td>2015</td><td>3</td><td>Corporate</td><td>East</td><td>Furniture</td><td>Furnishings</td><td>1122.16</td><td>150.18</td><td>407.66</td><td>175.268600</td><td>647.210000</td></tr>",
                            "<tr><td>2015</td><td>4</td><td>Corporate</td><td>East</td><td>Furniture</td><td>Furnishings</td><td>630.08</td><td>1122.16</td><td>477.70</td><td>31.898600</td><td>-43.851100</td></tr>",
                            "<tr><td>2016</td><td>1</td><td>Corporate</td><td>East</td><td>Furniture</td><td>Furnishings</td><td>265.90</td><td>630.08</td><td>33.57</td><td>692.076200</td><td>-57.799000</td></tr>",
                            "<tr><td>2016</td><td>2</td><td>Corporate</td><td>East</td><td>Furniture</td><td>Furnishings</td><td>496.94</td><td>265.90</td><td>150.18</td><td>230.896200</td><td>86.889800</td></tr>",
                            "<tr><td>2016</td><td>3</td><td>Corporate</td><td>East</td><td>Furniture</td><td>Furnishings</td><td>958.16</td><td>496.94</td><td>1122.16</td><td>-14.614600</td><td>92.812000</td></tr>",
                            "<tr><td>2016</td><td>4</td><td>Corporate</td><td>East</td><td>Furniture</td><td>Furnishings</td><td>1708.38</td><td>958.16</td><td>630.08</td><td>171.136900</td><td>78.297900</td></tr>",
                            "<tr><td>2017</td><td>2</td><td>Corporate</td><td>East</td><td>Furniture</td><td>Furnishings</td><td>1190.10</td><td>1708.38</td><td>265.90</td><td>347.574200</td><td>-30.337500</td></tr>",
                            "<tr><td>2017</td><td>3</td><td>Corporate</td><td>East</td><td>Furniture</td><td>Furnishings</td><td>547.11</td><td>1190.10</td><td>496.94</td><td>10.095700</td><td>-54.028200</td></tr>",
                            "<tr><td>2017</td><td>4</td><td>Corporate</td><td>East</td><td>Furniture</td><td>Furnishings</td><td>1855.52</td><td>547.11</td><td>958.16</td><td>93.654500</td><td>239.149300</td></tr>",
                            "<tr><td>2014</td><td>1</td><td>Corporate</td><td>East</td><td>Furniture</td><td>Tables</td><td>3265.24</td><td>NULL</td><td>NULL</td><td>NULL</td><td>NULL</td></tr>",
                            "<tr><td>2014</td><td>2</td><td>Corporate</td><td>East</td><td>Furniture</td><td>Tables</td><td>991.76</td><td>3265.24</td><td>NULL</td><td>NULL</td><td>-69.626700</td></tr>",
                            "<tr><td>2014</td><td>3</td><td>Corporate</td><td>East</td><td>Furniture</td><td>Tables</td><td>547.01</td><td>991.76</td><td>NULL</td><td>NULL</td><td>-44.844500</td></tr>",
                            "<tr><td>2014</td><td>4</td><td>Corporate</td><td>East</td><td>Furniture</td><td>Tables</td><td>1998.74</td><td>547.01</td><td>NULL</td><td>NULL</td><td>265.393600</td></tr>",
                            "<tr><td>2015</td><td>1</td><td>Corporate</td><td>East</td><td>Furniture</td><td>Tables</td><td>493.92</td><td>1998.74</td><td>3265.24</td><td>-84.873300</td><td>-75.288400</td></tr>",
                            "<tr><td>2015</td><td>3</td><td>Corporate</td><td>East</td><td>Furniture</td><td>Tables</td><td>965.38</td><td>493.92</td><td>991.76</td><td>-2.659900</td><td>95.452700</td></tr>",
                            "<tr><td>2015</td><td>4</td><td>Corporate</td><td>East</td><td>Furniture</td><td>Tables</td><td>1548.99</td><td>965.38</td><td>547.01</td><td>183.173900</td><td>60.453900</td></tr>",
                            "<tr><td>2016</td><td>1</td><td>Corporate</td><td>East</td><td>Furniture</td><td>Tables</td><td>313.72</td><td>1548.99</td><td>1998.74</td><td>-84.304100</td><td>-79.746800</td></tr>",
                            "<tr><td>2016</td><td>2</td><td>Corporate</td><td>East</td><td>Furniture</td><td>Tables</td><td>714.05</td><td>313.72</td><td>493.92</td><td>44.567900</td><td>127.607400</td></tr>",
                            "<tr><td>2016</td><td>3</td><td>Corporate</td><td>East</td><td>Furniture</td><td>Tables</td><td>241.92</td><td>714.05</td><td>965.38</td><td>-74.940400</td><td>-66.120000</td></tr>",
                            "<tr><td>2016</td><td>4</td><td>Corporate</td><td>East</td><td>Furniture</td><td>Tables</td><td>1758.31</td><td>241.92</td><td>1548.99</td><td>13.513300</td><td>626.814600</td></tr>",
                            "<tr><td>2017</td><td>2</td><td>Corporate</td><td>East</td><td>Furniture</td><td>Tables</td><td>1806.59</td><td>1758.31</td><td>313.72</td><td>475.860600</td><td>2.745800</td></tr>",
                            "<tr><td>2017</td><td>3</td><td>Corporate</td><td>East</td><td>Furniture</td><td>Tables</td><td>1742.95</td><td>1806.59</td><td>714.05</td><td>144.093500</td><td>-3.522600</td></tr>",
                            "<tr><td>2017</td><td>4</td><td>Corporate</td><td>East</td><td>Furniture</td><td>Tables</td><td>1163.00</td><td>1742.95</td><td>241.92</td><td>380.737400</td><td>-33.274000</td></tr>",
                            "<tr><td>2015</td><td>3</td><td>Corporate</td><td>South</td><td>Furniture</td><td>Bookcases</td><td>231.92</td><td>NULL</td><td>NULL</td><td>NULL</td><td>NULL</td></tr>",
                            "<tr><td>2015</td><td>4</td><td>Corporate</td><td>South</td><td>Furniture</td><td>Bookcases</td><td>131.10</td><td>231.92</td><td>NULL</td><td>NULL</td><td>-43.471800</td></tr>",
                            "<tr><td>2016</td><td>4</td><td>Corporate</td><td>South</td><td>Furniture</td><td>Bookcases</td><td>289.57</td><td>131.10</td><td>NULL</td><td>NULL</td><td>120.877100</td></tr>",
                            "<tr><td>2017</td><td>2</td><td>Corporate</td><td>South</td><td>Furniture</td><td>Bookcases</td><td>501.21</td><td>289.57</td><td>NULL</td><td>NULL</td><td>73.087600</td></tr>",
                            "<tr><td>2014</td><td>2</td><td>Corporate</td><td>South</td><td>Furniture</td><td>Chairs</td><td>731.93</td><td>NULL</td><td>NULL</td><td>NULL</td><td>NULL</td></tr>",
                            "<tr><td>2014</td><td>3</td><td>Corporate</td><td>South</td><td>Furniture</td><td>Chairs</td><td>500.24</td><td>731.93</td><td>NULL</td><td>NULL</td><td>-31.654600</td></tr>",
                            "<tr><td>2014</td><td>4</td><td>Corporate</td><td>South</td><td>Furniture</td><td>Chairs</td><td>2165.05</td><td>500.24</td><td>NULL</td><td>NULL</td><td>332.802200</td></tr>",
                            "<tr><td>2015</td><td>2</td><td>Corporate</td><td>South</td><td>Furniture</td><td>Chairs</td><td>1767.06</td><td>2165.05</td><td>NULL</td><td>NULL</td><td>-18.382400</td></tr>",
                            "<tr><td>2015</td><td>4</td><td>Corporate</td><td>South</td><td>Furniture</td><td>Chairs</td><td>1367.42</td><td>1767.06</td><td>731.93</td><td>86.823800</td><td>-22.616000</td></tr>",
                            "<tr><td>2016</td><td>2</td><td>Corporate</td><td>South</td><td>Furniture</td><td>Chairs</td><td>390.27</td><td>1367.42</td><td>500.24</td><td>-21.983400</td><td>-71.459300</td></tr>",
                            "<tr><td>2016</td><td>3</td><td>Corporate</td><td>South</td><td>Furniture</td><td>Chairs</td><td>1298.32</td><td>390.27</td><td>2165.05</td><td>-40.032700</td><td>232.672200</td></tr>",
                            "<tr><td>2016</td><td>4</td><td>Corporate</td><td>South</td><td>Furniture</td><td>Chairs</td><td>390.65</td><td>1298.32</td><td>1767.06</td><td>-77.892600</td><td>-69.911100</td></tr>",
                            "<tr><td>2017</td><td>2</td><td>Corporate</td><td>South</td><td>Furniture</td><td>Chairs</td><td>1013.25</td><td>390.65</td><td>1367.42</td><td>-25.900600</td><td>159.375300</td></tr>",
                            "<tr><td>2017</td><td>4</td><td>Corporate</td><td>South</td><td>Furniture</td><td>Chairs</td><td>1742.66</td><td>1013.25</td><td>390.27</td><td>346.526700</td><td>71.987100</td></tr>",
                            "<tr><td>2014</td><td>1</td><td>Corporate</td><td>South</td><td>Furniture</td><td>Furnishings</td><td>76.95</td><td>NULL</td><td>NULL</td><td>NULL</td><td>NULL</td></tr>",
                            "<tr><td>2014</td><td>2</td><td>Corporate</td><td>South</td><td>Furniture</td><td>Furnishings</td><td>488.56</td><td>76.95</td><td>NULL</td><td>NULL</td><td>534.905700</td></tr>",
                            "<tr><td>2014</td><td>3</td><td>Corporate</td><td>South</td><td>Furniture</td><td>Furnishings</td><td>305.99</td><td>488.56</td><td>NULL</td><td>NULL</td><td>-37.369000</td></tr>",
                            "<tr><td>2014</td><td>4</td><td>Corporate</td><td>South</td><td>Furniture</td><td>Furnishings</td><td>536.44</td><td>305.99</td><td>NULL</td><td>NULL</td><td>75.312900</td></tr>",
                            "<tr><td>2015</td><td>1</td><td>Corporate</td><td>South</td><td>Furniture</td><td>Furnishings</td><td>229.51</td><td>536.44</td><td>76.95</td><td>198.258600</td><td>-57.216000</td></tr>",
                            "<tr><td>2015</td><td>2</td><td>Corporate</td><td>South</td><td>Furniture</td><td>Furnishings</td><td>908.23</td><td>229.51</td><td>488.56</td><td>85.899300</td><td>295.725600</td></tr>",
                            "<tr><td>2015</td><td>3</td><td>Corporate</td><td>South</td><td>Furniture</td><td>Furnishings</td><td>262.74</td><td>908.23</td><td>305.99</td><td>-14.134400</td><td>-71.071200</td></tr>",
                            "<tr><td>2015</td><td>4</td><td>Corporate</td><td>South</td><td>Furniture</td><td>Furnishings</td><td>794.10</td><td>262.74</td><td>536.44</td><td>48.031400</td><td>202.237900</td></tr>",
                            "<tr><td>2016</td><td>1</td><td>Corporate</td><td>South</td><td>Furniture</td><td>Furnishings</td><td>278.83</td><td>794.10</td><td>229.51</td><td>21.489200</td><td>-64.887200</td></tr>",
                            "<tr><td>2016</td><td>2</td><td>Corporate</td><td>South</td><td>Furniture</td><td>Furnishings</td><td>109.31</td><td>278.83</td><td>908.23</td><td>-87.964500</td><td>-60.796900</td></tr>",
                            "<tr><td>2016</td><td>3</td><td>Corporate</td><td>South</td><td>Furniture</td><td>Furnishings</td><td>17.09</td><td>109.31</td><td>262.74</td><td>-93.495400</td><td>-84.365500</td></tr>",
                            "<tr><td>2016</td><td>4</td><td>Corporate</td><td>South</td><td>Furniture</td><td>Furnishings</td><td>97.64</td><td>17.09</td><td>794.10</td><td>-87.704300</td><td>471.328200</td></tr>",
                            "<tr><td>2017</td><td>2</td><td>Corporate</td><td>South</td><td>Furniture</td><td>Furnishings</td><td>338.07</td><td>97.64</td><td>278.83</td><td>21.245900</td><td>246.241200</td></tr>",
                            "<tr><td>2017</td><td>3</td><td>Corporate</td><td>South</td><td>Furniture</td><td>Furnishings</td><td>20.32</td><td>338.07</td><td>109.31</td><td>-81.410600</td><td>-93.989400</td></tr>",
                            "<tr><td>2017</td><td>4</td><td>Corporate</td><td>South</td><td>Furniture</td><td>Furnishings</td><td>40.91</td><td>20.32</td><td>17.09</td><td>139.379700</td><td>101.328700</td></tr>",
                            "<tr><td>2014</td><td>2</td><td>Corporate</td><td>South</td><td>Furniture</td><td>Tables</td><td>1215.92</td><td>NULL</td><td>NULL</td><td>NULL</td><td>NULL</td></tr>",
                            "<tr><td>2014</td><td>3</td><td>Corporate</td><td>South</td><td>Furniture</td><td>Tables</td><td>1202.94</td><td>1215.92</td><td>NULL</td><td>NULL</td><td>-1.067500</td></tr>",
                            "<tr><td>2014</td><td>4</td><td>Corporate</td><td>South</td><td>Furniture</td><td>Tables</td><td>919.91</td><td>1202.94</td><td>NULL</td><td>NULL</td><td>-23.528100</td></tr>",
                            "<tr><td>2015</td><td>3</td><td>Corporate</td><td>South</td><td>Furniture</td><td>Tables</td><td>358.58</td><td>919.91</td><td>NULL</td><td>NULL</td><td>-61.020000</td></tr>",
                            "<tr><td>2016</td><td>2</td><td>Corporate</td><td>South</td><td>Furniture</td><td>Tables</td><td>2275.50</td><td>358.58</td><td>1215.92</td><td>87.142200</td><td>534.586400</td></tr>",
                            "<tr><td>2016</td><td>3</td><td>Corporate</td><td>South</td><td>Furniture</td><td>Tables</td><td>945.73</td><td>2275.50</td><td>1202.94</td><td>-21.381700</td><td>-58.438500</td></tr>",
                            "<tr><td>2016</td><td>4</td><td>Corporate</td><td>South</td><td>Furniture</td><td>Tables</td><td>1586.29</td><td>945.73</td><td>919.91</td><td>72.439600</td><td>67.731800</td></tr>",
                            "<tr><td>2017</td><td>2</td><td>Corporate</td><td>South</td><td>Furniture</td><td>Tables</td><td>120.96</td><td>1586.29</td><td>358.58</td><td>-66.266900</td><td>-92.374600</td></tr>",
                            "<tr><td>2017</td><td>3</td><td>Corporate</td><td>South</td><td>Furniture</td><td>Tables</td><td>872.94</td><td>120.96</td><td>2275.50</td><td>-61.637400</td><td>621.676500</td></tr>",
                            "<tr><td>2017</td><td>4</td><td>Corporate</td><td>South</td><td>Furniture</td><td>Tables</td><td>3120.90</td><td>872.94</td><td>945.73</td><td>229.999000</td><td>257.515900</td></tr>",
                            "<tr><td>2014</td><td>2</td><td>Corporate</td><td>West</td><td>Furniture</td><td>Bookcases</td><td>599.17</td><td>NULL</td><td>NULL</td><td>NULL</td><td>NULL</td></tr>",
                            "<tr><td>2014</td><td>3</td><td>Corporate</td><td>West</td><td>Furniture</td><td>Bookcases</td><td>1803.84</td><td>599.17</td><td>NULL</td><td>NULL</td><td>201.056400</td></tr>",
                            "<tr><td>2014</td><td>4</td><td>Corporate</td><td>West</td><td>Furniture</td><td>Bookcases</td><td>922.97</td><td>1803.84</td><td>NULL</td><td>NULL</td><td>-48.833000</td></tr>",
                            "<tr><td>2015</td><td>2</td><td>Corporate</td><td>West</td><td>Furniture</td><td>Bookcases</td><td>509.96</td><td>922.97</td><td>NULL</td><td>NULL</td><td>-44.747900</td></tr>",
                            "<tr><td>2015</td><td>3</td><td>Corporate</td><td>West</td><td>Furniture</td><td>Bookcases</td><td>2139.23</td><td>509.96</td><td>599.17</td><td>257.032200</td><td>319.489700</td></tr>",
                            "<tr><td>2016</td><td>3</td><td>Corporate</td><td>West</td><td>Furniture</td><td>Bookcases</td><td>1176.30</td><td>2139.23</td><td>1803.84</td><td>-34.789100</td><td>-45.012900</td></tr>",
                            "<tr><td>2016</td><td>4</td><td>Corporate</td><td>West</td><td>Furniture</td><td>Bookcases</td><td>90.88</td><td>1176.30</td><td>922.97</td><td>-90.153500</td><td>-92.274000</td></tr>",
                            "<tr><td>2017</td><td>2</td><td>Corporate</td><td>West</td><td>Furniture</td><td>Bookcases</td><td>692.64</td><td>90.88</td><td>509.96</td><td>35.822400</td><td>662.147800</td></tr>",
                            "<tr><td>2017</td><td>3</td><td>Corporate</td><td>West</td><td>Furniture</td><td>Bookcases</td><td>2559.69</td><td>692.64</td><td>2139.23</td><td>19.654700</td><td>269.555600</td></tr>",
                            "<tr><td>2017</td><td>4</td><td>Corporate</td><td>West</td><td>Furniture</td><td>Bookcases</td><td>799.01</td><td>2559.69</td><td>1176.30</td><td>-32.074300</td><td>-68.784800</td></tr>",
                            "<tr><td>2014</td><td>1</td><td>Corporate</td><td>West</td><td>Furniture</td><td>Chairs</td><td>1232.62</td><td>NULL</td><td>NULL</td><td>NULL</td><td>NULL</td></tr>",
                            "<tr><td>2014</td><td>2</td><td>Corporate</td><td>West</td><td>Furniture</td><td>Chairs</td><td>742.62</td><td>1232.62</td><td>NULL</td><td>NULL</td><td>-39.752700</td></tr>",
                            "<tr><td>2014</td><td>3</td><td>Corporate</td><td>West</td><td>Furniture</td><td>Chairs</td><td>801.57</td><td>742.62</td><td>NULL</td><td>NULL</td><td>7.938100</td></tr>",
                            "<tr><td>2014</td><td>4</td><td>Corporate</td><td>West</td><td>Furniture</td><td>Chairs</td><td>2533.59</td><td>801.57</td><td>NULL</td><td>NULL</td><td>216.078400</td></tr>",
                            "<tr><td>2015</td><td>1</td><td>Corporate</td><td>West</td><td>Furniture</td><td>Chairs</td><td>184.75</td><td>2533.59</td><td>1232.62</td><td>-85.011600</td><td>-92.707900</td></tr>",
                            "<tr><td>2015</td><td>2</td><td>Corporate</td><td>West</td><td>Furniture</td><td>Chairs</td><td>1776.08</td><td>184.75</td><td>742.62</td><td>139.164000</td><td>861.342300</td></tr>",
                            "<tr><td>2015</td><td>3</td><td>Corporate</td><td>West</td><td>Furniture</td><td>Chairs</td><td>3340.06</td><td>1776.08</td><td>801.57</td><td>316.689700</td><td>88.057900</td></tr>",
                            "<tr><td>2015</td><td>4</td><td>Corporate</td><td>West</td><td>Furniture</td><td>Chairs</td><td>2019.04</td><td>3340.06</td><td>2533.59</td><td>-20.309100</td><td>-39.550700</td></tr>",
                            "<tr><td>2016</td><td>1</td><td>Corporate</td><td>West</td><td>Furniture</td><td>Chairs</td><td>2319.16</td><td>2019.04</td><td>184.75</td><td>1155.296300</td><td>14.864400</td></tr>",
                            "<tr><td>2016</td><td>2</td><td>Corporate</td><td>West</td><td>Furniture</td><td>Chairs</td><td>843.14</td><td>2319.16</td><td>1776.08</td><td>-52.528000</td><td>-63.644500</td></tr>",
                            "<tr><td>2016</td><td>3</td><td>Corporate</td><td>West</td><td>Furniture</td><td>Chairs</td><td>6328.82</td><td>843.14</td><td>3340.06</td><td>89.482200</td><td>650.625000</td></tr>",
                            "<tr><td>2016</td><td>4</td><td>Corporate</td><td>West</td><td>Furniture</td><td>Chairs</td><td>4627.46</td><td>6328.82</td><td>2019.04</td><td>129.191100</td><td>-26.882700</td></tr>",
                            "<tr><td>2017</td><td>1</td><td>Corporate</td><td>West</td><td>Furniture</td><td>Chairs</td><td>963.14</td><td>4627.46</td><td>2319.16</td><td>-58.470300</td><td>-79.186400</td></tr>",
                            "<tr><td>2017</td><td>2</td><td>Corporate</td><td>West</td><td>Furniture</td><td>Chairs</td><td>436.70</td><td>963.14</td><td>843.14</td><td>-48.205500</td><td>-54.658700</td></tr>",
                            "<tr><td>2017</td><td>3</td><td>Corporate</td><td>West</td><td>Furniture</td><td>Chairs</td><td>1913.25</td><td>436.70</td><td>6328.82</td><td>-69.769200</td><td>338.115400</td></tr>",
                            "<tr><td>2017</td><td>4</td><td>Corporate</td><td>West</td><td>Furniture</td><td>Chairs</td><td>6217.21</td><td>1913.25</td><td>4627.46</td><td>34.354600</td><td>224.955400</td></tr>",
                            "<tr><td>2014</td><td>2</td><td>Corporate</td><td>West</td><td>Furniture</td><td>Furnishings</td><td>174.65</td><td>NULL</td><td>NULL</td><td>NULL</td><td>NULL</td></tr>",
                            "<tr><td>2014</td><td>3</td><td>Corporate</td><td>West</td><td>Furniture</td><td>Furnishings</td><td>337.40</td><td>174.65</td><td>NULL</td><td>NULL</td><td>93.186300</td></tr>",
                            "<tr><td>2014</td><td>4</td><td>Corporate</td><td>West</td><td>Furniture</td><td>Furnishings</td><td>982.93</td><td>337.40</td><td>NULL</td><td>NULL</td><td>191.324800</td></tr>",
                            "<tr><td>2015</td><td>1</td><td>Corporate</td><td>West</td><td>Furniture</td><td>Furnishings</td><td>318.91</td><td>982.93</td><td>NULL</td><td>NULL</td><td>-67.555100</td></tr>",
                            "<tr><td>2015</td><td>2</td><td>Corporate</td><td>West</td><td>Furniture</td><td>Furnishings</td><td>1039.99</td><td>318.91</td><td>174.65</td><td>495.470900</td><td>226.107600</td></tr>",
                            "<tr><td>2015</td><td>3</td><td>Corporate</td><td>West</td><td>Furniture</td><td>Furnishings</td><td>792.68</td><td>1039.99</td><td>337.40</td><td>134.937700</td><td>-23.780000</td></tr>",
                            "<tr><td>2015</td><td>4</td><td>Corporate</td><td>West</td><td>Furniture</td><td>Furnishings</td><td>112.37</td><td>792.68</td><td>982.93</td><td>-88.567800</td><td>-85.824000</td></tr>",
                            "<tr><td>2016</td><td>1</td><td>Corporate</td><td>West</td><td>Furniture</td><td>Furnishings</td><td>253.38</td><td>112.37</td><td>318.91</td><td>-20.548100</td><td>125.487200</td></tr>",
                            "<tr><td>2016</td><td>2</td><td>Corporate</td><td>West</td><td>Furniture</td><td>Furnishings</td><td>279.73</td><td>253.38</td><td>1039.99</td><td>-73.102600</td><td>10.399400</td></tr>",
                            "<tr><td>2016</td><td>3</td><td>Corporate</td><td>West</td><td>Furniture</td><td>Furnishings</td><td>162.00</td><td>279.73</td><td>792.68</td><td>-79.563000</td><td>-42.087000</td></tr>",
                            "<tr><td>2016</td><td>4</td><td>Corporate</td><td>West</td><td>Furniture</td><td>Furnishings</td><td>494.78</td><td>162.00</td><td>112.37</td><td>340.313200</td><td>205.419700</td></tr>",
                            "<tr><td>2017</td><td>1</td><td>Corporate</td><td>West</td><td>Furniture</td><td>Furnishings</td><td>329.89</td><td>494.78</td><td>253.38</td><td>30.195700</td><td>-33.325900</td></tr>",
                            "<tr><td>2017</td><td>2</td><td>Corporate</td><td>West</td><td>Furniture</td><td>Furnishings</td><td>387.71</td><td>329.89</td><td>279.73</td><td>38.601500</td><td>17.527000</td></tr>",
                            "<tr><td>2017</td><td>3</td><td>Corporate</td><td>West</td><td>Furniture</td><td>Furnishings</td><td>860.21</td><td>387.71</td><td>162.00</td><td>430.993800</td><td>121.869400</td></tr>",
                            "<tr><td>2017</td><td>4</td><td>Corporate</td><td>West</td><td>Furniture</td><td>Furnishings</td><td>842.68</td><td>860.21</td><td>494.78</td><td>70.314000</td><td>-2.037800</td></tr>",
                            "<tr><td>2014</td><td>2</td><td>Corporate</td><td>West</td><td>Furniture</td><td>Tables</td><td>1668.51</td><td>NULL</td><td>NULL</td><td>NULL</td><td>NULL</td></tr>",
                            "<tr><td>2014</td><td>3</td><td>Corporate</td><td>West</td><td>Furniture</td><td>Tables</td><td>1898.83</td><td>1668.51</td><td>NULL</td><td>NULL</td><td>13.803900</td></tr>",
                            "<tr><td>2014</td><td>4</td><td>Corporate</td><td>West</td><td>Furniture</td><td>Tables</td><td>873.63</td><td>1898.83</td><td>NULL</td><td>NULL</td><td>-53.991100</td></tr>",
                            "<tr><td>2015</td><td>1</td><td>Corporate</td><td>West</td><td>Furniture</td><td>Tables</td><td>3393.68</td><td>873.63</td><td>NULL</td><td>NULL</td><td>288.457300</td></tr>",
                            "<tr><td>2015</td><td>3</td><td>Corporate</td><td>West</td><td>Furniture</td><td>Tables</td><td>170.14</td><td>3393.68</td><td>1668.51</td><td>-89.802800</td><td>-94.986500</td></tr>",
                            "<tr><td>2015</td><td>4</td><td>Corporate</td><td>West</td><td>Furniture</td><td>Tables</td><td>969.99</td><td>170.14</td><td>1898.83</td><td>-48.916400</td><td>470.112800</td></tr>",
                            "<tr><td>2016</td><td>2</td><td>Corporate</td><td>West</td><td>Furniture</td><td>Tables</td><td>4165.63</td><td>969.99</td><td>873.63</td><td>376.818500</td><td>329.450800</td></tr>",
                            "<tr><td>2016</td><td>3</td><td>Corporate</td><td>West</td><td>Furniture</td><td>Tables</td><td>5176.32</td><td>4165.63</td><td>3393.68</td><td>52.528200</td><td>24.262500</td></tr>",
                            "<tr><td>2016</td><td>4</td><td>Corporate</td><td>West</td><td>Furniture</td><td>Tables</td><td>4657.51</td><td>5176.32</td><td>170.14</td><td>2637.457300</td><td>-10.022700</td></tr>",
                            "<tr><td>2017</td><td>1</td><td>Corporate</td><td>West</td><td>Furniture</td><td>Tables</td><td>1692.32</td><td>4657.51</td><td>969.99</td><td>74.467700</td><td>-63.664700</td></tr>",
                            "<tr><td>2017</td><td>2</td><td>Corporate</td><td>West</td><td>Furniture</td><td>Tables</td><td>586.38</td><td>1692.32</td><td>4165.63</td><td>-85.923300</td><td>-65.350500</td></tr>",
                            "<tr><td>2017</td><td>3</td><td>Corporate</td><td>West</td><td>Furniture</td><td>Tables</td><td>1605.91</td><td>586.38</td><td>5176.32</td><td>-68.975800</td><td>173.868400</td></tr>",
                            "<tr><td>2017</td><td>4</td><td>Corporate</td><td>West</td><td>Furniture</td><td>Tables</td><td>1279.05</td><td>1605.91</td><td>4657.51</td><td>-72.537900</td><td>-20.353500</td></tr>",
                            "<tr><td>2014</td><td>2</td><td>Home Office</td><td>Central</td><td>Furniture</td><td>Bookcases</td><td>212.94</td><td>NULL</td><td>NULL</td><td>NULL</td><td>NULL</td></tr>",
                            "<tr><td>2014</td><td>3</td><td>Home Office</td><td>Central</td><td>Furniture</td><td>Bookcases</td><td>300.53</td><td>212.94</td><td>NULL</td><td>NULL</td><td>41.133600</td></tr>",
                            "<tr><td>2015</td><td>1</td><td>Home Office</td><td>Central</td><td>Furniture</td><td>Bookcases</td><td>742.53</td><td>300.53</td><td>NULL</td><td>NULL</td><td>147.073500</td></tr>",
                            "<tr><td>2015</td><td>3</td><td>Home Office</td><td>Central</td><td>Furniture</td><td>Bookcases</td><td>687.40</td><td>742.53</td><td>NULL</td><td>NULL</td><td>-7.424600</td></tr>",
                            "<tr><td>2015</td><td>4</td><td>Home Office</td><td>Central</td><td>Furniture</td><td>Bookcases</td><td>532.40</td><td>687.40</td><td>212.94</td><td>150.023400</td><td>-22.548700</td></tr>",
                            "<tr><td>2017</td><td>1</td><td>Home Office</td><td>Central</td><td>Furniture</td><td>Bookcases</td><td>89.07</td><td>532.40</td><td>300.53</td><td>-70.362300</td><td>-83.270000</td></tr>",
                            "<tr><td>2017</td><td>3</td><td>Home Office</td><td>Central</td><td>Furniture</td><td>Bookcases</td><td>241.96</td><td>89.07</td><td>742.53</td><td>-67.414100</td><td>171.651500</td></tr>",
                            "<tr><td>2014</td><td>1</td><td>Home Office</td><td>Central</td><td>Furniture</td><td>Chairs</td><td>761.42</td><td>NULL</td><td>NULL</td><td>NULL</td><td>NULL</td></tr>",
                            "<tr><td>2014</td><td>2</td><td>Home Office</td><td>Central</td><td>Furniture</td><td>Chairs</td><td>2001.86</td><td>761.42</td><td>NULL</td><td>NULL</td><td>162.911400</td></tr>",
                            "<tr><td>2014</td><td>3</td><td>Home Office</td><td>Central</td><td>Furniture</td><td>Chairs</td><td>1995.81</td><td>2001.86</td><td>NULL</td><td>NULL</td><td>-0.302200</td></tr>",
                            "<tr><td>2014</td><td>4</td><td>Home Office</td><td>Central</td><td>Furniture</td><td>Chairs</td><td>1080.46</td><td>1995.81</td><td>NULL</td><td>NULL</td><td>-45.863500</td></tr>",
                            "<tr><td>2015</td><td>1</td><td>Home Office</td><td>Central</td><td>Furniture</td><td>Chairs</td><td>366.74</td><td>1080.46</td><td>761.42</td><td>-51.834700</td><td>-66.057000</td></tr>",
                            "<tr><td>2015</td><td>2</td><td>Home Office</td><td>Central</td><td>Furniture</td><td>Chairs</td><td>213.12</td><td>366.74</td><td>2001.86</td><td>-89.353900</td><td>-41.887900</td></tr>",
                            "<tr><td>2015</td><td>3</td><td>Home Office</td><td>Central</td><td>Furniture</td><td>Chairs</td><td>1563.98</td><td>213.12</td><td>1995.81</td><td>-21.636800</td><td>633.849400</td></tr>",
                            "<tr><td>2015</td><td>4</td><td>Home Office</td><td>Central</td><td>Furniture</td><td>Chairs</td><td>487.12</td><td>1563.98</td><td>1080.46</td><td>-54.915400</td><td>-68.853800</td></tr>",
                            "<tr><td>2016</td><td>1</td><td>Home Office</td><td>Central</td><td>Furniture</td><td>Chairs</td><td>844.12</td><td>487.12</td><td>366.74</td><td>130.168500</td><td>73.287800</td></tr>",
                            "<tr><td>2016</td><td>2</td><td>Home Office</td><td>Central</td><td>Furniture</td><td>Chairs</td><td>379.37</td><td>844.12</td><td>213.12</td><td>78.007600</td><td>-55.057300</td></tr>",
                            "<tr><td>2016</td><td>3</td><td>Home Office</td><td>Central</td><td>Furniture</td><td>Chairs</td><td>701.37</td><td>379.37</td><td>1563.98</td><td>-55.154700</td><td>84.877500</td></tr>",
                            "<tr><td>2016</td><td>4</td><td>Home Office</td><td>Central</td><td>Furniture</td><td>Chairs</td><td>819.05</td><td>701.37</td><td>487.12</td><td>68.141300</td><td>16.778500</td></tr>",
                            "<tr><td>2017</td><td>1</td><td>Home Office</td><td>Central</td><td>Furniture</td><td>Chairs</td><td>89.77</td><td>819.05</td><td>844.12</td><td>-89.365200</td><td>-89.039700</td></tr>",
                            "<tr><td>2017</td><td>2</td><td>Home Office</td><td>Central</td><td>Furniture</td><td>Chairs</td><td>1527.32</td><td>89.77</td><td>379.37</td><td>302.593700</td><td>1601.370100</td></tr>",
                            "<tr><td>2017</td><td>3</td><td>Home Office</td><td>Central</td><td>Furniture</td><td>Chairs</td><td>393.02</td><td>1527.32</td><td>701.37</td><td>-43.963900</td><td>-74.267300</td></tr>",
                            "<tr><td>2017</td><td>4</td><td>Home Office</td><td>Central</td><td>Furniture</td><td>Chairs</td><td>1083.20</td><td>393.02</td><td>819.05</td><td>32.250700</td><td>175.609300</td></tr>",
                            "<tr><td>2014</td><td>3</td><td>Home Office</td><td>Central</td><td>Furniture</td><td>Furnishings</td><td>119.72</td><td>NULL</td><td>NULL</td><td>NULL</td><td>NULL</td></tr>",
                            "<tr><td>2014</td><td>4</td><td>Home Office</td><td>Central</td><td>Furniture</td><td>Furnishings</td><td>8.74</td><td>119.72</td><td>NULL</td><td>NULL</td><td>-92.699600</td></tr>",
                            "<tr><td>2015</td><td>1</td><td>Home Office</td><td>Central</td><td>Furniture</td><td>Furnishings</td><td>254.74</td><td>8.74</td><td>NULL</td><td>NULL</td><td>2814.645300</td></tr>",
                            "<tr><td>2015</td><td>2</td><td>Home Office</td><td>Central</td><td>Furniture</td><td>Furnishings</td><td>75.33</td><td>254.74</td><td>NULL</td><td>NULL</td><td>-70.428600</td></tr>",
                            "<tr><td>2015</td><td>4</td><td>Home Office</td><td>Central</td><td>Furniture</td><td>Furnishings</td><td>266.56</td><td>75.33</td><td>119.72</td><td>122.652800</td><td>253.856300</td></tr>",
                            "<tr><td>2016</td><td>2</td><td>Home Office</td><td>Central</td><td>Furniture</td><td>Furnishings</td><td>163.61</td><td>266.56</td><td>8.74</td><td>1771.967900</td><td>-38.621600</td></tr>",
                            "<tr><td>2016</td><td>3</td><td>Home Office</td><td>Central</td><td>Furniture</td><td>Furnishings</td><td>548.15</td><td>163.61</td><td>254.74</td><td>115.180100</td><td>235.034500</td></tr>",
                            "<tr><td>2016</td><td>4</td><td>Home Office</td><td>Central</td><td>Furniture</td><td>Furnishings</td><td>307.06</td><td>548.15</td><td>75.33</td><td>307.619800</td><td>-43.982400</td></tr>",
                            "<tr><td>2017</td><td>1</td><td>Home Office</td><td>Central</td><td>Furniture</td><td>Furnishings</td><td>144.66</td><td>307.06</td><td>266.56</td><td>-45.730700</td><td>-52.888600</td></tr>",
                            "<tr><td>2017</td><td>2</td><td>Home Office</td><td>Central</td><td>Furniture</td><td>Furnishings</td><td>90.60</td><td>144.66</td><td>163.61</td><td>-44.624400</td><td>-37.370300</td></tr>",
                            "<tr><td>2017</td><td>3</td><td>Home Office</td><td>Central</td><td>Furniture</td><td>Furnishings</td><td>543.23</td><td>90.60</td><td>548.15</td><td>-0.897500</td><td>499.591600</td></tr>",
                            "<tr><td>2017</td><td>4</td><td>Home Office</td><td>Central</td><td>Furniture</td><td>Furnishings</td><td>88.02</td><td>543.23</td><td>307.06</td><td>-71.334500</td><td>-83.796900</td></tr>",
                            "<tr><td>2014</td><td>3</td><td>Home Office</td><td>Central</td><td>Furniture</td><td>Tables</td><td>630.69</td><td>NULL</td><td>NULL</td><td>NULL</td><td>NULL</td></tr>",
                            "<tr><td>2015</td><td>2</td><td>Home Office</td><td>Central</td><td>Furniture</td><td>Tables</td><td>796.42</td><td>630.69</td><td>NULL</td><td>NULL</td><td>26.277500</td></tr>",
                            "<tr><td>2015</td><td>4</td><td>Home Office</td><td>Central</td><td>Furniture</td><td>Tables</td><td>1074.62</td><td>796.42</td><td>NULL</td><td>NULL</td><td>34.931300</td></tr>",
                            "<tr><td>2016</td><td>1</td><td>Home Office</td><td>Central</td><td>Furniture</td><td>Tables</td><td>697.16</td><td>1074.62</td><td>NULL</td><td>NULL</td><td>-35.124900</td></tr>",
                            "<tr><td>2016</td><td>2</td><td>Home Office</td><td>Central</td><td>Furniture</td><td>Tables</td><td>692.94</td><td>697.16</td><td>630.69</td><td>9.870100</td><td>-0.605300</td></tr>",
                            "<tr><td>2017</td><td>1</td><td>Home Office</td><td>Central</td><td>Furniture</td><td>Tables</td><td>480.96</td><td>692.94</td><td>796.42</td><td>-39.609700</td><td>-30.591300</td></tr>",
                            "<tr><td>2017</td><td>2</td><td>Home Office</td><td>Central</td><td>Furniture</td><td>Tables</td><td>566.41</td><td>480.96</td><td>1074.62</td><td>-47.292000</td><td>17.766500</td></tr>",
                            "<tr><td>2017</td><td>3</td><td>Home Office</td><td>Central</td><td>Furniture</td><td>Tables</td><td>298.12</td><td>566.41</td><td>697.16</td><td>-57.237900</td><td>-47.366700</td></tr>",
                            "<tr><td>2017</td><td>4</td><td>Home Office</td><td>Central</td><td>Furniture</td><td>Tables</td><td>520.05</td><td>298.12</td><td>692.94</td><td>-24.950200</td><td>74.443100</td></tr>",
                            "<tr><td>2014</td><td>4</td><td>Home Office</td><td>East</td><td>Furniture</td><td>Bookcases</td><td>617.91</td><td>NULL</td><td>NULL</td><td>NULL</td><td>NULL</td></tr>",
                            "<tr><td>2015</td><td>2</td><td>Home Office</td><td>East</td><td>Furniture</td><td>Bookcases</td><td>352.45</td><td>617.91</td><td>NULL</td><td>NULL</td><td>-42.960900</td></tr>",
                            "<tr><td>2015</td><td>3</td><td>Home Office</td><td>East</td><td>Furniture</td><td>Bookcases</td><td>301.96</td><td>352.45</td><td>NULL</td><td>NULL</td><td>-14.325400</td></tr>",
                            "<tr><td>2015</td><td>4</td><td>Home Office</td><td>East</td><td>Furniture</td><td>Bookcases</td><td>1696.47</td><td>301.96</td><td>NULL</td><td>NULL</td><td>461.819400</td></tr>",
                            "<tr><td>2016</td><td>3</td><td>Home Office</td><td>East</td><td>Furniture</td><td>Bookcases</td><td>173.94</td><td>1696.47</td><td>617.91</td><td>-71.850200</td><td>-89.746900</td></tr>",
                            "<tr><td>2016</td><td>4</td><td>Home Office</td><td>East</td><td>Furniture</td><td>Bookcases</td><td>200.54</td><td>173.94</td><td>352.45</td><td>-43.101100</td><td>15.292600</td></tr>",
                            "<tr><td>2014</td><td>2</td><td>Home Office</td><td>East</td><td>Furniture</td><td>Chairs</td><td>562.74</td><td>NULL</td><td>NULL</td><td>NULL</td><td>NULL</td></tr>",
                            "<tr><td>2014</td><td>3</td><td>Home Office</td><td>East</td><td>Furniture</td><td>Chairs</td><td>172.76</td><td>562.74</td><td>NULL</td><td>NULL</td><td>-69.300200</td></tr>",
                            "<tr><td>2014</td><td>4</td><td>Home Office</td><td>East</td><td>Furniture</td><td>Chairs</td><td>1578.23</td><td>172.76</td><td>NULL</td><td>NULL</td><td>813.539000</td></tr>",
                            "<tr><td>2015</td><td>3</td><td>Home Office</td><td>East</td><td>Furniture</td><td>Chairs</td><td>1137.40</td><td>1578.23</td><td>NULL</td><td>NULL</td><td>-27.931900</td></tr>",
                            "<tr><td>2015</td><td>4</td><td>Home Office</td><td>East</td><td>Furniture</td><td>Chairs</td><td>2965.69</td><td>1137.40</td><td>562.74</td><td>427.008900</td><td>160.742900</td></tr>",
                            "<tr><td>2016</td><td>2</td><td>Home Office</td><td>East</td><td>Furniture</td><td>Chairs</td><td>434.65</td><td>2965.69</td><td>172.76</td><td>151.591800</td><td>-85.344000</td></tr>",
                            "<tr><td>2016</td><td>3</td><td>Home Office</td><td>East</td><td>Furniture</td><td>Chairs</td><td>1018.08</td><td>434.65</td><td>1578.23</td><td>-35.492200</td><td>134.229800</td></tr>",
                            "<tr><td>2016</td><td>4</td><td>Home Office</td><td>East</td><td>Furniture</td><td>Chairs</td><td>470.15</td><td>1018.08</td><td>1137.40</td><td>-58.664400</td><td>-53.819900</td></tr>",
                            "<tr><td>2017</td><td>1</td><td>Home Office</td><td>East</td><td>Furniture</td><td>Chairs</td><td>899.43</td><td>470.15</td><td>2965.69</td><td>-69.672100</td><td>91.307000</td></tr>",
                            "<tr><td>2017</td><td>2</td><td>Home Office</td><td>East</td><td>Furniture</td><td>Chairs</td><td>650.08</td><td>899.43</td><td>434.65</td><td>49.564000</td><td>-27.723100</td></tr>",
                            "<tr><td>2017</td><td>3</td><td>Home Office</td><td>East</td><td>Furniture</td><td>Chairs</td><td>925.66</td><td>650.08</td><td>1018.08</td><td>-9.077800</td><td>42.391700</td></tr>",
                            "<tr><td>2017</td><td>4</td><td>Home Office</td><td>East</td><td>Furniture</td><td>Chairs</td><td>2295.42</td><td>925.66</td><td>470.15</td><td>388.231400</td><td>147.976500</td></tr>",
                            "<tr><td>2014</td><td>2</td><td>Home Office</td><td>East</td><td>Furniture</td><td>Furnishings</td><td>22.34</td><td>NULL</td><td>NULL</td><td>NULL</td><td>NULL</td></tr>",
                            "<tr><td>2014</td><td>3</td><td>Home Office</td><td>East</td><td>Furniture</td><td>Furnishings</td><td>60.67</td><td>22.34</td><td>NULL</td><td>NULL</td><td>171.575600</td></tr>",
                            "<tr><td>2014</td><td>4</td><td>Home Office</td><td>East</td><td>Furniture</td><td>Furnishings</td><td>343.53</td><td>60.67</td><td>NULL</td><td>NULL</td><td>466.227100</td></tr>",
                            "<tr><td>2015</td><td>2</td><td>Home Office</td><td>East</td><td>Furniture</td><td>Furnishings</td><td>771.67</td><td>343.53</td><td>NULL</td><td>NULL</td><td>124.629500</td></tr>",
                            "<tr><td>2015</td><td>3</td><td>Home Office</td><td>East</td><td>Furniture</td><td>Furnishings</td><td>347.40</td><td>771.67</td><td>22.34</td><td>1455.058100</td><td>-54.980700</td></tr>",
                            "<tr><td>2015</td><td>4</td><td>Home Office</td><td>East</td><td>Furniture</td><td>Furnishings</td><td>103.91</td><td>347.40</td><td>60.67</td><td>71.270800</td><td>-70.089200</td></tr>",
                            "<tr><td>2016</td><td>1</td><td>Home Office</td><td>East</td><td>Furniture</td><td>Furnishings</td><td>407.92</td><td>103.91</td><td>343.53</td><td>18.743600</td><td>292.570400</td></tr>",
                            "<tr><td>2016</td><td>2</td><td>Home Office</td><td>East</td><td>Furniture</td><td>Furnishings</td><td>137.35</td><td>407.92</td><td>771.67</td><td>-82.200900</td><td>-66.329100</td></tr>",
                            "<tr><td>2016</td><td>3</td><td>Home Office</td><td>East</td><td>Furniture</td><td>Furnishings</td><td>53.63</td><td>137.35</td><td>347.40</td><td>-84.562400</td><td>-60.953700</td></tr>",
                            "<tr><td>2016</td><td>4</td><td>Home Office</td><td>East</td><td>Furniture</td><td>Furnishings</td><td>220.71</td><td>53.63</td><td>103.91</td><td>112.404900</td><td>311.542000</td></tr>",
                            "<tr><td>2017</td><td>1</td><td>Home Office</td><td>East</td><td>Furniture</td><td>Furnishings</td><td>145.11</td><td>220.71</td><td>407.92</td><td>-64.426800</td><td>-34.253000</td></tr>",
                            "<tr><td>2017</td><td>2</td><td>Home Office</td><td>East</td><td>Furniture</td><td>Furnishings</td><td>254.35</td><td>145.11</td><td>137.35</td><td>85.183800</td><td>75.280800</td></tr>",
                            "<tr><td>2017</td><td>3</td><td>Home Office</td><td>East</td><td>Furniture</td><td>Furnishings</td><td>212.97</td><td>254.35</td><td>53.63</td><td>297.109800</td><td>-16.268900</td></tr>",
                            "<tr><td>2017</td><td>4</td><td>Home Office</td><td>East</td><td>Furniture</td><td>Furnishings</td><td>2829.42</td><td>212.97</td><td>220.71</td><td>1181.962700</td><td>1228.553300</td></tr>",
                            "<tr><td>2014</td><td>1</td><td>Home Office</td><td>East</td><td>Furniture</td><td>Tables</td><td>330.59</td><td>NULL</td><td>NULL</td><td>NULL</td><td>NULL</td></tr>",
                            "<tr><td>2014</td><td>2</td><td>Home Office</td><td>East</td><td>Furniture</td><td>Tables</td><td>154.76</td><td>330.59</td><td>NULL</td><td>NULL</td><td>-53.186700</td></tr>",
                            "<tr><td>2015</td><td>3</td><td>Home Office</td><td>East</td><td>Furniture</td><td>Tables</td><td>344.22</td><td>154.76</td><td>NULL</td><td>NULL</td><td>122.421800</td></tr>",
                            "<tr><td>2015</td><td>4</td><td>Home Office</td><td>East</td><td>Furniture</td><td>Tables</td><td>1499.23</td><td>344.22</td><td>NULL</td><td>NULL</td><td>335.544100</td></tr>",
                            "<tr><td>2016</td><td>2</td><td>Home Office</td><td>East</td><td>Furniture</td><td>Tables</td><td>205.18</td><td>1499.23</td><td>330.59</td><td>-37.935200</td><td>-86.314300</td></tr>",
                            "<tr><td>2016</td><td>3</td><td>Home Office</td><td>East</td><td>Furniture</td><td>Tables</td><td>815.29</td><td>205.18</td><td>154.76</td><td>426.809200</td><td>297.353500</td></tr>",
                            "<tr><td>2017</td><td>1</td><td>Home Office</td><td>East</td><td>Furniture</td><td>Tables</td><td>610.73</td><td>815.29</td><td>344.22</td><td>77.424300</td><td>-25.090400</td></tr>",
                            "<tr><td>2017</td><td>3</td><td>Home Office</td><td>East</td><td>Furniture</td><td>Tables</td><td>873.90</td><td>610.73</td><td>1499.23</td><td>-41.710000</td><td>43.091000</td></tr>",
                            "<tr><td>2017</td><td>4</td><td>Home Office</td><td>East</td><td>Furniture</td><td>Tables</td><td>2671.87</td><td>873.90</td><td>205.18</td><td>1202.207800</td><td>205.740900</td></tr>",
                            "<tr><td>2015</td><td>3</td><td>Home Office</td><td>South</td><td>Furniture</td><td>Bookcases</td><td>61.96</td><td>NULL</td><td>NULL</td><td>NULL</td><td>NULL</td></tr>",
                            "<tr><td>2016</td><td>1</td><td>Home Office</td><td>South</td><td>Furniture</td><td>Bookcases</td><td>239.98</td><td>61.96</td><td>NULL</td><td>NULL</td><td>287.314300</td></tr>",
                            "<tr><td>2016</td><td>4</td><td>Home Office</td><td>South</td><td>Furniture</td><td>Bookcases</td><td>339.92</td><td>239.98</td><td>NULL</td><td>NULL</td><td>41.645100</td></tr>",
                            "<tr><td>2017</td><td>2</td><td>Home Office</td><td>South</td><td>Furniture</td><td>Bookcases</td><td>387.14</td><td>339.92</td><td>NULL</td><td>NULL</td><td>13.891500</td></tr>",
                            "<tr><td>2014</td><td>1</td><td>Home Office</td><td>South</td><td>Furniture</td><td>Chairs</td><td>3713.74</td><td>NULL</td><td>NULL</td><td>NULL</td><td>NULL</td></tr>",
                            "<tr><td>2015</td><td>1</td><td>Home Office</td><td>South</td><td>Furniture</td><td>Chairs</td><td>1166.92</td><td>3713.74</td><td>NULL</td><td>NULL</td><td>-68.578300</td></tr>",
                            "<tr><td>2016</td><td>3</td><td>Home Office</td><td>South</td><td>Furniture</td><td>Chairs</td><td>121.78</td><td>1166.92</td><td>NULL</td><td>NULL</td><td>-89.563900</td></tr>",
                            "<tr><td>2017</td><td>3</td><td>Home Office</td><td>South</td><td>Furniture</td><td>Chairs</td><td>1143.06</td><td>121.78</td><td>NULL</td><td>NULL</td><td>838.627000</td></tr>",
                            "<tr><td>2017</td><td>4</td><td>Home Office</td><td>South</td><td>Furniture</td><td>Chairs</td><td>859.85</td><td>1143.06</td><td>3713.74</td><td>-76.846700</td><td>-24.776400</td></tr>",
                            "<tr><td>2014</td><td>1</td><td>Home Office</td><td>South</td><td>Furniture</td><td>Furnishings</td><td>228.36</td><td>NULL</td><td>NULL</td><td>NULL</td><td>NULL</td></tr>",
                            "<tr><td>2014</td><td>4</td><td>Home Office</td><td>South</td><td>Furniture</td><td>Furnishings</td><td>111.15</td><td>228.36</td><td>NULL</td><td>NULL</td><td>-51.326800</td></tr>",
                            "<tr><td>2015</td><td>3</td><td>Home Office</td><td>South</td><td>Furniture</td><td>Furnishings</td><td>136.88</td><td>111.15</td><td>NULL</td><td>NULL</td><td>23.148800</td></tr>",
                            "<tr><td>2015</td><td>4</td><td>Home Office</td><td>South</td><td>Furniture</td><td>Furnishings</td><td>39.96</td><td>136.88</td><td>NULL</td><td>NULL</td><td>-70.806500</td></tr>",
                            "<tr><td>2016</td><td>1</td><td>Home Office</td><td>South</td><td>Furniture</td><td>Furnishings</td><td>223.64</td><td>39.96</td><td>228.36</td><td>-2.066900</td><td>459.659600</td></tr>",
                            "<tr><td>2016</td><td>2</td><td>Home Office</td><td>South</td><td>Furniture</td><td>Furnishings</td><td>210.54</td><td>223.64</td><td>111.15</td><td>89.419700</td><td>-5.857600</td></tr>",
                            "<tr><td>2016</td><td>3</td><td>Home Office</td><td>South</td><td>Furniture</td><td>Furnishings</td><td>123.08</td><td>210.54</td><td>136.88</td><td>-10.081800</td><td>-41.540700</td></tr>",
                            "<tr><td>2016</td><td>4</td><td>Home Office</td><td>South</td><td>Furniture</td><td>Furnishings</td><td>125.59</td><td>123.08</td><td>39.96</td><td>214.289200</td><td>2.039300</td></tr>",
                            "<tr><td>2017</td><td>1</td><td>Home Office</td><td>South</td><td>Furniture</td><td>Furnishings</td><td>61.00</td><td>125.59</td><td>223.64</td><td>-72.724000</td><td>-51.429200</td></tr>",
                            "<tr><td>2017</td><td>2</td><td>Home Office</td><td>South</td><td>Furniture</td><td>Furnishings</td><td>556.72</td><td>61.00</td><td>210.54</td><td>164.424800</td><td>812.655700</td></tr>",
                            "<tr><td>2017</td><td>4</td><td>Home Office</td><td>South</td><td>Furniture</td><td>Furnishings</td><td>114.51</td><td>556.72</td><td>123.08</td><td>-6.962900</td><td>-79.431300</td></tr>",
                            "<tr><td>2014</td><td>4</td><td>Home Office</td><td>South</td><td>Furniture</td><td>Tables</td><td>2699.58</td><td>NULL</td><td>NULL</td><td>NULL</td><td>NULL</td></tr>",
                            "<tr><td>2017</td><td>2</td><td>Home Office</td><td>South</td><td>Furniture</td><td>Tables</td><td>1719.21</td><td>2699.58</td><td>NULL</td><td>NULL</td><td>-36.315600</td></tr>",
                            "<tr><td>2017</td><td>4</td><td>Home Office</td><td>South</td><td>Furniture</td><td>Tables</td><td>2468.88</td><td>1719.21</td><td>NULL</td><td>NULL</td><td>43.605400</td></tr>",
                            "<tr><td>2014</td><td>1</td><td>Home Office</td><td>West</td><td>Furniture</td><td>Bookcases</td><td>1198.33</td><td>NULL</td><td>NULL</td><td>NULL</td><td>NULL</td></tr>",
                            "<tr><td>2014</td><td>3</td><td>Home Office</td><td>West</td><td>Furniture</td><td>Bookcases</td><td>119.83</td><td>1198.33</td><td>NULL</td><td>NULL</td><td>-90.000200</td></tr>",
                            "<tr><td>2014</td><td>4</td><td>Home Office</td><td>West</td><td>Furniture</td><td>Bookcases</td><td>411.33</td><td>119.83</td><td>NULL</td><td>NULL</td><td>243.261200</td></tr>",
                            "<tr><td>2016</td><td>2</td><td>Home Office</td><td>West</td><td>Furniture</td><td>Bookcases</td><td>599.16</td><td>411.33</td><td>NULL</td><td>NULL</td><td>45.664000</td></tr>",
                            "<tr><td>2016</td><td>3</td><td>Home Office</td><td>West</td><td>Furniture</td><td>Bookcases</td><td>163.88</td><td>599.16</td><td>1198.33</td><td>-86.324300</td><td>-72.648300</td></tr>",
                            "<tr><td>2016</td><td>4</td><td>Home Office</td><td>West</td><td>Furniture</td><td>Bookcases</td><td>120.67</td><td>163.88</td><td>119.83</td><td>0.700900</td><td>-26.366800</td></tr>",
                            "<tr><td>2017</td><td>1</td><td>Home Office</td><td>West</td><td>Furniture</td><td>Bookcases</td><td>288.96</td><td>120.67</td><td>411.33</td><td>-29.749800</td><td>139.462900</td></tr>",
                            "<tr><td>2017</td><td>2</td><td>Home Office</td><td>West</td><td>Furniture</td><td>Bookcases</td><td>2011.83</td><td>288.96</td><td>599.16</td><td>235.775000</td><td>596.231300</td></tr>",
                            "<tr><td>2017</td><td>4</td><td>Home Office</td><td>West</td><td>Furniture</td><td>Bookcases</td><td>148.26</td><td>2011.83</td><td>163.88</td><td>-9.531300</td><td>-92.630500</td></tr>",
                            "<tr><td>2014</td><td>2</td><td>Home Office</td><td>West</td><td>Furniture</td><td>Chairs</td><td>1487.04</td><td>NULL</td><td>NULL</td><td>NULL</td><td>NULL</td></tr>",
                            "<tr><td>2014</td><td>3</td><td>Home Office</td><td>West</td><td>Furniture</td><td>Chairs</td><td>1323.17</td><td>1487.04</td><td>NULL</td><td>NULL</td><td>-11.019800</td></tr>",
                            "<tr><td>2014</td><td>4</td><td>Home Office</td><td>West</td><td>Furniture</td><td>Chairs</td><td>363.92</td><td>1323.17</td><td>NULL</td><td>NULL</td><td>-72.496300</td></tr>",
                            "<tr><td>2015</td><td>1</td><td>Home Office</td><td>West</td><td>Furniture</td><td>Chairs</td><td>976.72</td><td>363.92</td><td>NULL</td><td>NULL</td><td>168.388600</td></tr>",
                            "<tr><td>2015</td><td>2</td><td>Home Office</td><td>West</td><td>Furniture</td><td>Chairs</td><td>191.97</td><td>976.72</td><td>1487.04</td><td>-87.090400</td><td>-80.345400</td></tr>",
                            "<tr><td>2015</td><td>3</td><td>Home Office</td><td>West</td><td>Furniture</td><td>Chairs</td><td>1315.90</td><td>191.97</td><td>1323.17</td><td>-0.549400</td><td>585.471600</td></tr>",
                            "<tr><td>2015</td><td>4</td><td>Home Office</td><td>West</td><td>Furniture</td><td>Chairs</td><td>5134.86</td><td>1315.90</td><td>363.92</td><td>1310.985900</td><td>290.216500</td></tr>",
                            "<tr><td>2016</td><td>2</td><td>Home Office</td><td>West</td><td>Furniture</td><td>Chairs</td><td>1325.76</td><td>5134.86</td><td>976.72</td><td>35.735900</td><td>-74.181100</td></tr>",
                            "<tr><td>2016</td><td>3</td><td>Home Office</td><td>West</td><td>Furniture</td><td>Chairs</td><td>197.03</td><td>1325.76</td><td>191.97</td><td>2.635800</td><td>-85.138300</td></tr>",
                            "<tr><td>2016</td><td>4</td><td>Home Office</td><td>West</td><td>Furniture</td><td>Chairs</td><td>3003.62</td><td>197.03</td><td>1315.90</td><td>128.255900</td><td>1424.448000</td></tr>",
                            "<tr><td>2017</td><td>1</td><td>Home Office</td><td>West</td><td>Furniture</td><td>Chairs</td><td>1013.00</td><td>3003.62</td><td>5134.86</td><td>-80.272100</td><td>-66.274000</td></tr>",
                            "<tr><td>2017</td><td>2</td><td>Home Office</td><td>West</td><td>Furniture</td><td>Chairs</td><td>1771.61</td><td>1013.00</td><td>1325.76</td><td>33.629700</td><td>74.887400</td></tr>",
                            "<tr><td>2017</td><td>3</td><td>Home Office</td><td>West</td><td>Furniture</td><td>Chairs</td><td>2270.25</td><td>1771.61</td><td>197.03</td><td>1052.235700</td><td>28.146100</td></tr>",
                            "<tr><td>2017</td><td>4</td><td>Home Office</td><td>West</td><td>Furniture</td><td>Chairs</td><td>1647.26</td><td>2270.25</td><td>3003.62</td><td>-45.157500</td><td>-27.441400</td></tr>",
                            "<tr><td>2014</td><td>1</td><td>Home Office</td><td>West</td><td>Furniture</td><td>Furnishings</td><td>125.56</td><td>NULL</td><td>NULL</td><td>NULL</td><td>NULL</td></tr>",
                            "<tr><td>2014</td><td>2</td><td>Home Office</td><td>West</td><td>Furniture</td><td>Furnishings</td><td>640.47</td><td>125.56</td><td>NULL</td><td>NULL</td><td>410.090700</td></tr>",
                            "<tr><td>2014</td><td>3</td><td>Home Office</td><td>West</td><td>Furniture</td><td>Furnishings</td><td>6.16</td><td>640.47</td><td>NULL</td><td>NULL</td><td>-99.038200</td></tr>",
                            "<tr><td>2014</td><td>4</td><td>Home Office</td><td>West</td><td>Furniture</td><td>Furnishings</td><td>198.83</td><td>6.16</td><td>NULL</td><td>NULL</td><td>3127.759700</td></tr>",
                            "<tr><td>2015</td><td>1</td><td>Home Office</td><td>West</td><td>Furniture</td><td>Furnishings</td><td>327.76</td><td>198.83</td><td>125.56</td><td>161.038500</td><td>64.844300</td></tr>",
                            "<tr><td>2015</td><td>2</td><td>Home Office</td><td>West</td><td>Furniture</td><td>Furnishings</td><td>755.97</td><td>327.76</td><td>640.47</td><td>18.033600</td><td>130.647400</td></tr>",
                            "<tr><td>2015</td><td>3</td><td>Home Office</td><td>West</td><td>Furniture</td><td>Furnishings</td><td>252.66</td><td>755.97</td><td>6.16</td><td>4001.623300</td><td>-66.578000</td></tr>",
                            "<tr><td>2015</td><td>4</td><td>Home Office</td><td>West</td><td>Furniture</td><td>Furnishings</td><td>285.92</td><td>252.66</td><td>198.83</td><td>43.801200</td><td>13.163900</td></tr>",
                            "<tr><td>2016</td><td>2</td><td>Home Office</td><td>West</td><td>Furniture</td><td>Furnishings</td><td>1081.49</td><td>285.92</td><td>327.76</td><td>229.963900</td><td>278.249100</td></tr>",
                            "<tr><td>2016</td><td>3</td><td>Home Office</td><td>West</td><td>Furniture</td><td>Furnishings</td><td>145.17</td><td>1081.49</td><td>755.97</td><td>-80.796800</td><td>-86.576800</td></tr>",
                            "<tr><td>2016</td><td>4</td><td>Home Office</td><td>West</td><td>Furniture</td><td>Furnishings</td><td>565.99</td><td>145.17</td><td>252.66</td><td>124.012500</td><td>289.880800</td></tr>",
                            "<tr><td>2017</td><td>1</td><td>Home Office</td><td>West</td><td>Furniture</td><td>Furnishings</td><td>385.09</td><td>565.99</td><td>285.92</td><td>34.684500</td><td>-31.961600</td></tr>",
                            "<tr><td>2017</td><td>2</td><td>Home Office</td><td>West</td><td>Furniture</td><td>Furnishings</td><td>25.52</td><td>385.09</td><td>1081.49</td><td>-97.640200</td><td>-93.372900</td></tr>",
                            "<tr><td>2017</td><td>3</td><td>Home Office</td><td>West</td><td>Furniture</td><td>Furnishings</td><td>706.02</td><td>25.52</td><td>145.17</td><td>386.340100</td><td>2666.536000</td></tr>",
                            "<tr><td>2017</td><td>4</td><td>Home Office</td><td>West</td><td>Furniture</td><td>Furnishings</td><td>1128.40</td><td>706.02</td><td>565.99</td><td>99.367400</td><td>59.825500</td></tr>",
                            "<tr><td>2014</td><td>2</td><td>Home Office</td><td>West</td><td>Furniture</td><td>Tables</td><td>99.59</td><td>NULL</td><td>NULL</td><td>NULL</td><td>NULL</td></tr>",
                            "<tr><td>2014</td><td>3</td><td>Home Office</td><td>West</td><td>Furniture</td><td>Tables</td><td>2348.82</td><td>99.59</td><td>NULL</td><td>NULL</td><td>2258.489800</td></tr>",
                            "<tr><td>2015</td><td>3</td><td>Home Office</td><td>West</td><td>Furniture</td><td>Tables</td><td>1004.98</td><td>2348.82</td><td>NULL</td><td>NULL</td><td>-57.213400</td></tr>",
                            "<tr><td>2015</td><td>4</td><td>Home Office</td><td>West</td><td>Furniture</td><td>Tables</td><td>1913.40</td><td>1004.98</td><td>NULL</td><td>NULL</td><td>90.391800</td></tr>",
                            "<tr><td>2016</td><td>2</td><td>Home Office</td><td>West</td><td>Furniture</td><td>Tables</td><td>1272.63</td><td>1913.40</td><td>99.59</td><td>1177.869200</td><td>-33.488500</td></tr>",
                            "<tr><td>2016</td><td>3</td><td>Home Office</td><td>West</td><td>Furniture</td><td>Tables</td><td>513.02</td><td>1272.63</td><td>2348.82</td><td>-78.158300</td><td>-59.688200</td></tr>",
                            "<tr><td>2016</td><td>4</td><td>Home Office</td><td>West</td><td>Furniture</td><td>Tables</td><td>1616.00</td><td>513.02</td><td>1004.98</td><td>60.799200</td><td>214.997400</td></tr>",
                            "<tr><td>2017</td><td>1</td><td>Home Office</td><td>West</td><td>Furniture</td><td>Tables</td><td>386.91</td><td>1616.00</td><td>1913.40</td><td>-79.778900</td><td>-76.057500</td></tr>",
                            "<tr><td>2017</td><td>2</td><td>Home Office</td><td>West</td><td>Furniture</td><td>Tables</td><td>286.85</td><td>386.91</td><td>1272.63</td><td>-77.460000</td><td>-25.861300</td></tr>",
                            "<tr><td>2017</td><td>3</td><td>Home Office</td><td>West</td><td>Furniture</td><td>Tables</td><td>1438.65</td><td>286.85</td><td>513.02</td><td>180.427600</td><td>401.533900</td></tr>",
                            "<tr><td>2017</td><td>4</td><td>Home Office</td><td>West</td><td>Furniture</td><td>Tables</td><td>5128.33</td><td>1438.65</td><td>1616.00</td><td>217.347100</td><td>256.468200</td></tr>",
                            "</table>"
                        ]
                    }
                }
            ],
            "execution_count": 14
        }
    ]
}